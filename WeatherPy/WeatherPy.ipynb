{
 "cells": [
  {
   "cell_type": "code",
   "execution_count": 120,
   "metadata": {},
   "outputs": [
    {
     "name": "stdout",
     "output_type": "stream",
     "text": [
      "The lab_black extension is already loaded. To reload it, use:\n",
      "  %reload_ext lab_black\n"
     ]
    }
   ],
   "source": [
    "%load_ext lab_black\n",
    "import pandas as pd\n",
    "import json\n",
    "import requests\n",
    "import numpy as np\n",
    "from config import weather_api_key\n",
    "from config import g_key\n",
    "from citipy import citipy\n",
    "import matplotlib.pyplot as plt\n",
    "from sklearn.linear_model import LinearRegression"
   ]
  },
  {
   "cell_type": "markdown",
   "metadata": {},
   "source": [
    "# Part I : WeatherPy\n",
    "----\n"
   ]
  },
  {
   "cell_type": "markdown",
   "metadata": {},
   "source": [
    "## Generate Cities List"
   ]
  },
  {
   "cell_type": "code",
   "execution_count": 2,
   "metadata": {},
   "outputs": [],
   "source": [
    "lat_range = (90, -90)\n",
    "lon_range = (180, -180)\n",
    "\n",
    "# Blank list to hold latitude and longitude values\n",
    "lat_lon = []\n",
    "\n",
    "# Using numpy to generate random latitude and longitude values\n",
    "lat = np.random.uniform(high=90, low =-90, size= 1400)\n",
    "lon = np.random.uniform(high=180, low =-180, size= 1400)\n",
    "lat_lon = list(zip(lat, lon))\n",
    "\n",
    "# Using \"for\" loop to generate city list.\n",
    "city_list = []\n",
    "\n",
    "for lat_lon in lat_lon:\n",
    "    city = citipy.nearest_city(lat_lon[0], lat_lon[1]).city_name\n",
    "\n",
    "# Appending only non-duplicated names to the city list.\n",
    "    if city not in city_list:\n",
    "        city_list.append(city)"
   ]
  },
  {
   "cell_type": "code",
   "execution_count": 3,
   "metadata": {},
   "outputs": [
    {
     "data": {
      "text/plain": [
       "587"
      ]
     },
     "execution_count": 3,
     "metadata": {},
     "output_type": "execute_result"
    }
   ],
   "source": [
    "len(city_list)"
   ]
  },
  {
   "cell_type": "markdown",
   "metadata": {},
   "source": [
    "### Perform API Calls\n",
    "* Perform a weather check on each city using a series of successive API calls.\n",
    "* Include a print log of each city as it'sbeing processed (with the city number and city name).\n"
   ]
  },
  {
   "cell_type": "markdown",
   "metadata": {},
   "source": [
    "url = \"http://api.openweathermap.org/data/2.5/weather\"\n",
    "units = \"imperial\"\n",
    "parameters = {\n",
    "    \"q\": city_list,\n",
    "    \"appid\": weather_api_key\n",
    "}"
   ]
  },
  {
   "cell_type": "code",
   "execution_count": 4,
   "metadata": {},
   "outputs": [],
   "source": [
    "r = requests.get(\"http://api.openweathermap.org/data/2.5/weather\", params={\n",
    "        \"q\": city_list[50],\n",
    "        \"appid\": weather_api_key})"
   ]
  },
  {
   "cell_type": "code",
   "execution_count": 5,
   "metadata": {},
   "outputs": [
    {
     "data": {
      "text/plain": [
       "{'coord': {'lon': -45.96, 'lat': -2.04},\n",
       " 'weather': [{'id': 804,\n",
       "   'main': 'Clouds',\n",
       "   'description': 'overcast clouds',\n",
       "   'icon': '04d'}],\n",
       " 'base': 'stations',\n",
       " 'main': {'temp': 299.13,\n",
       "  'feels_like': 303.01,\n",
       "  'temp_min': 299.13,\n",
       "  'temp_max': 299.13,\n",
       "  'pressure': 1011,\n",
       "  'humidity': 84,\n",
       "  'sea_level': 1011,\n",
       "  'grnd_level': 1007},\n",
       " 'visibility': 10000,\n",
       " 'wind': {'speed': 2, 'deg': 63},\n",
       " 'clouds': {'all': 96},\n",
       " 'dt': 1600721957,\n",
       " 'sys': {'country': 'BR', 'sunrise': 1600678412, 'sunset': 1600722003},\n",
       " 'timezone': -10800,\n",
       " 'id': 3395497,\n",
       " 'name': 'Maracaçumé',\n",
       " 'cod': 200}"
      ]
     },
     "execution_count": 5,
     "metadata": {},
     "output_type": "execute_result"
    }
   ],
   "source": [
    "data = r.json()\n",
    "data"
   ]
  },
  {
   "cell_type": "code",
   "execution_count": 6,
   "metadata": {},
   "outputs": [],
   "source": [
    "def extract_data(data):\n",
    "    return {\n",
    "        \"City\": data[\"name\"],\n",
    "        \"Lat\": data[\"coord\"][\"lat\"],\n",
    "        \"Lon\": data[\"coord\"][\"lon\"],\n",
    "        \"Max Temp\": data [\"main\"][\"temp_max\"],\n",
    "        \"Humidity\": data [\"main\"][\"humidity\"],\n",
    "        \"Cloudiness\": data [\"clouds\"][\"all\"],\n",
    "        \"Wind Speed\": data [\"wind\"][\"speed\"],\n",
    "        \"Country\": data[\"sys\"][\"country\"],\n",
    "        \"Date\": data[\"dt\"]\n",
    "    }\n",
    "    "
   ]
  },
  {
   "cell_type": "code",
   "execution_count": 7,
   "metadata": {},
   "outputs": [],
   "source": [
    "city_results = []"
   ]
  },
  {
   "cell_type": "code",
   "execution_count": 8,
   "metadata": {},
   "outputs": [
    {
     "name": "stdout",
     "output_type": "stream",
     "text": [
      "Beginning Data Retrieval\n",
      "----------------------------------------\n",
      "Processing Record {processing_record} | {city}\n",
      "Processing Record {processing_record} | {city}\n",
      "Processing Record {processing_record} | {city}\n",
      "Processing Record {processing_record} | {city}\n",
      "Processing Record {processing_record} | {city}\n",
      "Processing Record {processing_record} | {city}\n",
      "Processing Record {processing_record} | {city}\n",
      "Processing Record {processing_record} | {city}\n",
      "Processing Record {processing_record} | {city}\n",
      "Processing Record {processing_record} | {city}\n",
      "Processing Record {processing_record} | {city}\n",
      "Processing Record {processing_record} | {city}\n",
      "Processing Record {processing_record} | {city}\n",
      "Processing Record {processing_record} | {city}\n",
      "Processing Record {processing_record} | {city}\n",
      "Processing Record {processing_record} | {city}\n",
      "Processing Record {processing_record} | {city}\n",
      "Processing Record {processing_record} | {city}\n",
      "Processing Record {processing_record} | {city}\n",
      "Processing Record {processing_record} | {city}\n",
      "Processing Record {processing_record} | {city}\n",
      "Processing Record {processing_record} | {city}\n",
      "Processing Record {processing_record} | {city}\n",
      "Processing Record {processing_record} | {city}\n",
      "Processing Record {processing_record} | {city}\n",
      "Processing Record {processing_record} | {city}\n",
      "Processing Record {processing_record} | {city}\n",
      "Processing Record {processing_record} | {city}\n",
      "Processing Record {processing_record} | {city}\n",
      "City not found. Skipping...\n",
      "Processing Record {processing_record} | {city}\n",
      "Processing Record {processing_record} | {city}\n",
      "Processing Record {processing_record} | {city}\n",
      "Processing Record {processing_record} | {city}\n",
      "City not found. Skipping...\n",
      "Processing Record {processing_record} | {city}\n",
      "Processing Record {processing_record} | {city}\n",
      "Processing Record {processing_record} | {city}\n",
      "Processing Record {processing_record} | {city}\n",
      "Processing Record {processing_record} | {city}\n",
      "Processing Record {processing_record} | {city}\n",
      "Processing Record {processing_record} | {city}\n",
      "Processing Record {processing_record} | {city}\n",
      "City not found. Skipping...\n",
      "Processing Record {processing_record} | {city}\n",
      "Processing Record {processing_record} | {city}\n",
      "Processing Record {processing_record} | {city}\n",
      "Processing Record {processing_record} | {city}\n",
      "Processing Record {processing_record} | {city}\n",
      "Processing Record {processing_record} | {city}\n",
      "Processing Record {processing_record} | {city}\n",
      "Processing Record {processing_record} | {city}\n",
      "Processing Record {processing_record} | {city}\n",
      "Processing Record {processing_record} | {city}\n",
      "Processing Record {processing_record} | {city}\n",
      "City not found. Skipping...\n",
      "Processing Record {processing_record} | {city}\n",
      "Processing Record {processing_record} | {city}\n",
      "Processing Record {processing_record} | {city}\n",
      "Processing Record {processing_record} | {city}\n",
      "Processing Record {processing_record} | {city}\n",
      "Processing Record {processing_record} | {city}\n",
      "Processing Record {processing_record} | {city}\n",
      "Processing Record {processing_record} | {city}\n",
      "Processing Record {processing_record} | {city}\n",
      "Processing Record {processing_record} | {city}\n",
      "Processing Record {processing_record} | {city}\n",
      "Processing Record {processing_record} | {city}\n",
      "Processing Record {processing_record} | {city}\n",
      "Processing Record {processing_record} | {city}\n",
      "Processing Record {processing_record} | {city}\n",
      "Processing Record {processing_record} | {city}\n",
      "Processing Record {processing_record} | {city}\n",
      "Processing Record {processing_record} | {city}\n",
      "Processing Record {processing_record} | {city}\n",
      "City not found. Skipping...\n",
      "Processing Record {processing_record} | {city}\n",
      "City not found. Skipping...\n",
      "Processing Record {processing_record} | {city}\n",
      "City not found. Skipping...\n",
      "Processing Record {processing_record} | {city}\n",
      "Processing Record {processing_record} | {city}\n",
      "Processing Record {processing_record} | {city}\n",
      "Processing Record {processing_record} | {city}\n",
      "Processing Record {processing_record} | {city}\n",
      "Processing Record {processing_record} | {city}\n",
      "Processing Record {processing_record} | {city}\n",
      "City not found. Skipping...\n",
      "Processing Record {processing_record} | {city}\n",
      "Processing Record {processing_record} | {city}\n",
      "Processing Record {processing_record} | {city}\n",
      "Processing Record {processing_record} | {city}\n",
      "Processing Record {processing_record} | {city}\n",
      "Processing Record {processing_record} | {city}\n",
      "Processing Record {processing_record} | {city}\n",
      "Processing Record {processing_record} | {city}\n",
      "City not found. Skipping...\n",
      "Processing Record {processing_record} | {city}\n",
      "City not found. Skipping...\n",
      "Processing Record {processing_record} | {city}\n",
      "Processing Record {processing_record} | {city}\n",
      "Processing Record {processing_record} | {city}\n",
      "City not found. Skipping...\n",
      "Processing Record {processing_record} | {city}\n",
      "Processing Record {processing_record} | {city}\n",
      "Processing Record {processing_record} | {city}\n",
      "Processing Record {processing_record} | {city}\n",
      "Processing Record {processing_record} | {city}\n",
      "Processing Record {processing_record} | {city}\n",
      "Processing Record {processing_record} | {city}\n",
      "Processing Record {processing_record} | {city}\n",
      "Processing Record {processing_record} | {city}\n",
      "City not found. Skipping...\n",
      "Processing Record {processing_record} | {city}\n",
      "Processing Record {processing_record} | {city}\n",
      "Processing Record {processing_record} | {city}\n",
      "Processing Record {processing_record} | {city}\n",
      "Processing Record {processing_record} | {city}\n",
      "Processing Record {processing_record} | {city}\n",
      "Processing Record {processing_record} | {city}\n",
      "Processing Record {processing_record} | {city}\n",
      "Processing Record {processing_record} | {city}\n",
      "Processing Record {processing_record} | {city}\n",
      "Processing Record {processing_record} | {city}\n",
      "Processing Record {processing_record} | {city}\n",
      "Processing Record {processing_record} | {city}\n",
      "Processing Record {processing_record} | {city}\n",
      "City not found. Skipping...\n",
      "Processing Record {processing_record} | {city}\n",
      "City not found. Skipping...\n",
      "Processing Record {processing_record} | {city}\n",
      "City not found. Skipping...\n",
      "Processing Record {processing_record} | {city}\n",
      "Processing Record {processing_record} | {city}\n",
      "City not found. Skipping...\n",
      "Processing Record {processing_record} | {city}\n",
      "Processing Record {processing_record} | {city}\n",
      "Processing Record {processing_record} | {city}\n",
      "Processing Record {processing_record} | {city}\n",
      "Processing Record {processing_record} | {city}\n",
      "Processing Record {processing_record} | {city}\n",
      "Processing Record {processing_record} | {city}\n",
      "Processing Record {processing_record} | {city}\n",
      "Processing Record {processing_record} | {city}\n",
      "City not found. Skipping...\n",
      "Processing Record {processing_record} | {city}\n",
      "Processing Record {processing_record} | {city}\n",
      "Processing Record {processing_record} | {city}\n",
      "Processing Record {processing_record} | {city}\n",
      "Processing Record {processing_record} | {city}\n",
      "Processing Record {processing_record} | {city}\n",
      "Processing Record {processing_record} | {city}\n",
      "Processing Record {processing_record} | {city}\n",
      "Processing Record {processing_record} | {city}\n",
      "Processing Record {processing_record} | {city}\n",
      "Processing Record {processing_record} | {city}\n",
      "Processing Record {processing_record} | {city}\n",
      "Processing Record {processing_record} | {city}\n",
      "Processing Record {processing_record} | {city}\n",
      "Processing Record {processing_record} | {city}\n",
      "Processing Record {processing_record} | {city}\n",
      "Processing Record {processing_record} | {city}\n",
      "Processing Record {processing_record} | {city}\n",
      "Processing Record {processing_record} | {city}\n",
      "Processing Record {processing_record} | {city}\n",
      "Processing Record {processing_record} | {city}\n",
      "Processing Record {processing_record} | {city}\n",
      "Processing Record {processing_record} | {city}\n",
      "Processing Record {processing_record} | {city}\n",
      "Processing Record {processing_record} | {city}\n",
      "Processing Record {processing_record} | {city}\n",
      "Processing Record {processing_record} | {city}\n",
      "Processing Record {processing_record} | {city}\n",
      "Processing Record {processing_record} | {city}\n",
      "Processing Record {processing_record} | {city}\n",
      "Processing Record {processing_record} | {city}\n",
      "Processing Record {processing_record} | {city}\n",
      "Processing Record {processing_record} | {city}\n",
      "Processing Record {processing_record} | {city}\n",
      "Processing Record {processing_record} | {city}\n",
      "Processing Record {processing_record} | {city}\n",
      "City not found. Skipping...\n",
      "Processing Record {processing_record} | {city}\n",
      "Processing Record {processing_record} | {city}\n",
      "Processing Record {processing_record} | {city}\n",
      "Processing Record {processing_record} | {city}\n",
      "Processing Record {processing_record} | {city}\n",
      "Processing Record {processing_record} | {city}\n",
      "Processing Record {processing_record} | {city}\n",
      "Processing Record {processing_record} | {city}\n",
      "Processing Record {processing_record} | {city}\n",
      "Processing Record {processing_record} | {city}\n",
      "Processing Record {processing_record} | {city}\n",
      "Processing Record {processing_record} | {city}\n",
      "Processing Record {processing_record} | {city}\n",
      "Processing Record {processing_record} | {city}\n",
      "Processing Record {processing_record} | {city}\n",
      "Processing Record {processing_record} | {city}\n",
      "Processing Record {processing_record} | {city}\n",
      "Processing Record {processing_record} | {city}\n",
      "Processing Record {processing_record} | {city}\n",
      "Processing Record {processing_record} | {city}\n",
      "City not found. Skipping...\n",
      "City not found. Skipping...\n",
      "Processing Record {processing_record} | {city}\n",
      "Processing Record {processing_record} | {city}\n",
      "Processing Record {processing_record} | {city}\n",
      "City not found. Skipping...\n",
      "Processing Record {processing_record} | {city}\n",
      "Processing Record {processing_record} | {city}\n",
      "Processing Record {processing_record} | {city}\n",
      "Processing Record {processing_record} | {city}\n",
      "Processing Record {processing_record} | {city}\n",
      "Processing Record {processing_record} | {city}\n",
      "Processing Record {processing_record} | {city}\n",
      "Processing Record {processing_record} | {city}\n",
      "Processing Record {processing_record} | {city}\n",
      "Processing Record {processing_record} | {city}\n",
      "City not found. Skipping...\n",
      "Processing Record {processing_record} | {city}\n",
      "Processing Record {processing_record} | {city}\n",
      "Processing Record {processing_record} | {city}\n",
      "Processing Record {processing_record} | {city}\n",
      "Processing Record {processing_record} | {city}\n",
      "Processing Record {processing_record} | {city}\n",
      "Processing Record {processing_record} | {city}\n",
      "City not found. Skipping...\n",
      "Processing Record {processing_record} | {city}\n",
      "Processing Record {processing_record} | {city}\n",
      "Processing Record {processing_record} | {city}\n",
      "Processing Record {processing_record} | {city}\n",
      "Processing Record {processing_record} | {city}\n",
      "Processing Record {processing_record} | {city}\n",
      "Processing Record {processing_record} | {city}\n",
      "Processing Record {processing_record} | {city}\n",
      "Processing Record {processing_record} | {city}\n",
      "Processing Record {processing_record} | {city}\n",
      "Processing Record {processing_record} | {city}\n",
      "Processing Record {processing_record} | {city}\n",
      "Processing Record {processing_record} | {city}\n",
      "Processing Record {processing_record} | {city}\n",
      "Processing Record {processing_record} | {city}\n",
      "Processing Record {processing_record} | {city}\n",
      "Processing Record {processing_record} | {city}\n",
      "Processing Record {processing_record} | {city}\n",
      "Processing Record {processing_record} | {city}\n",
      "Processing Record {processing_record} | {city}\n",
      "Processing Record {processing_record} | {city}\n",
      "Processing Record {processing_record} | {city}\n",
      "City not found. Skipping...\n",
      "Processing Record {processing_record} | {city}\n",
      "Processing Record {processing_record} | {city}\n",
      "Processing Record {processing_record} | {city}\n",
      "Processing Record {processing_record} | {city}\n",
      "Processing Record {processing_record} | {city}\n",
      "Processing Record {processing_record} | {city}\n",
      "Processing Record {processing_record} | {city}\n",
      "Processing Record {processing_record} | {city}\n",
      "Processing Record {processing_record} | {city}\n",
      "Processing Record {processing_record} | {city}\n",
      "Processing Record {processing_record} | {city}\n",
      "Processing Record {processing_record} | {city}\n",
      "Processing Record {processing_record} | {city}\n",
      "Processing Record {processing_record} | {city}\n",
      "Processing Record {processing_record} | {city}\n",
      "Processing Record {processing_record} | {city}\n",
      "City not found. Skipping...\n",
      "Processing Record {processing_record} | {city}\n",
      "Processing Record {processing_record} | {city}\n",
      "Processing Record {processing_record} | {city}\n",
      "Processing Record {processing_record} | {city}\n",
      "Processing Record {processing_record} | {city}\n",
      "Processing Record {processing_record} | {city}\n",
      "Processing Record {processing_record} | {city}\n",
      "Processing Record {processing_record} | {city}\n",
      "Processing Record {processing_record} | {city}\n",
      "Processing Record {processing_record} | {city}\n",
      "Processing Record {processing_record} | {city}\n",
      "Processing Record {processing_record} | {city}\n",
      "Processing Record {processing_record} | {city}\n",
      "Processing Record {processing_record} | {city}\n",
      "Processing Record {processing_record} | {city}\n",
      "Processing Record {processing_record} | {city}\n",
      "Processing Record {processing_record} | {city}\n",
      "Processing Record {processing_record} | {city}\n",
      "City not found. Skipping...\n",
      "Processing Record {processing_record} | {city}\n",
      "Processing Record {processing_record} | {city}\n",
      "Processing Record {processing_record} | {city}\n",
      "Processing Record {processing_record} | {city}\n",
      "Processing Record {processing_record} | {city}\n",
      "Processing Record {processing_record} | {city}\n",
      "Processing Record {processing_record} | {city}\n",
      "Processing Record {processing_record} | {city}\n",
      "Processing Record {processing_record} | {city}\n",
      "Processing Record {processing_record} | {city}\n",
      "Processing Record {processing_record} | {city}\n",
      "Processing Record {processing_record} | {city}\n",
      "Processing Record {processing_record} | {city}\n",
      "Processing Record {processing_record} | {city}\n",
      "Processing Record {processing_record} | {city}\n",
      "Processing Record {processing_record} | {city}\n",
      "Processing Record {processing_record} | {city}\n",
      "Processing Record {processing_record} | {city}\n",
      "Processing Record {processing_record} | {city}\n",
      "Processing Record {processing_record} | {city}\n",
      "Processing Record {processing_record} | {city}\n",
      "Processing Record {processing_record} | {city}\n",
      "Processing Record {processing_record} | {city}\n",
      "Processing Record {processing_record} | {city}\n",
      "Processing Record {processing_record} | {city}\n",
      "Processing Record {processing_record} | {city}\n",
      "Processing Record {processing_record} | {city}\n",
      "Processing Record {processing_record} | {city}\n",
      "Processing Record {processing_record} | {city}\n",
      "Processing Record {processing_record} | {city}\n",
      "Processing Record {processing_record} | {city}\n",
      "Processing Record {processing_record} | {city}\n",
      "Processing Record {processing_record} | {city}\n",
      "Processing Record {processing_record} | {city}\n",
      "Processing Record {processing_record} | {city}\n",
      "City not found. Skipping...\n",
      "Processing Record {processing_record} | {city}\n",
      "Processing Record {processing_record} | {city}\n",
      "Processing Record {processing_record} | {city}\n",
      "Processing Record {processing_record} | {city}\n",
      "Processing Record {processing_record} | {city}\n",
      "Processing Record {processing_record} | {city}\n",
      "Processing Record {processing_record} | {city}\n",
      "Processing Record {processing_record} | {city}\n",
      "Processing Record {processing_record} | {city}\n",
      "Processing Record {processing_record} | {city}\n",
      "Processing Record {processing_record} | {city}\n",
      "Processing Record {processing_record} | {city}\n",
      "Processing Record {processing_record} | {city}\n",
      "Processing Record {processing_record} | {city}\n",
      "Processing Record {processing_record} | {city}\n",
      "Processing Record {processing_record} | {city}\n",
      "Processing Record {processing_record} | {city}\n",
      "Processing Record {processing_record} | {city}\n",
      "Processing Record {processing_record} | {city}\n",
      "Processing Record {processing_record} | {city}\n",
      "Processing Record {processing_record} | {city}\n",
      "Processing Record {processing_record} | {city}\n",
      "Processing Record {processing_record} | {city}\n",
      "Processing Record {processing_record} | {city}\n",
      "Processing Record {processing_record} | {city}\n",
      "Processing Record {processing_record} | {city}\n",
      "Processing Record {processing_record} | {city}\n",
      "Processing Record {processing_record} | {city}\n",
      "City not found. Skipping...\n",
      "Processing Record {processing_record} | {city}\n",
      "Processing Record {processing_record} | {city}\n",
      "Processing Record {processing_record} | {city}\n",
      "Processing Record {processing_record} | {city}\n",
      "Processing Record {processing_record} | {city}\n",
      "Processing Record {processing_record} | {city}\n",
      "Processing Record {processing_record} | {city}\n",
      "Processing Record {processing_record} | {city}\n",
      "Processing Record {processing_record} | {city}\n",
      "Processing Record {processing_record} | {city}\n",
      "Processing Record {processing_record} | {city}\n",
      "Processing Record {processing_record} | {city}\n",
      "Processing Record {processing_record} | {city}\n",
      "Processing Record {processing_record} | {city}\n",
      "Processing Record {processing_record} | {city}\n",
      "Processing Record {processing_record} | {city}\n",
      "Processing Record {processing_record} | {city}\n",
      "Processing Record {processing_record} | {city}\n",
      "Processing Record {processing_record} | {city}\n",
      "Processing Record {processing_record} | {city}\n",
      "Processing Record {processing_record} | {city}\n",
      "City not found. Skipping...\n",
      "Processing Record {processing_record} | {city}\n",
      "Processing Record {processing_record} | {city}\n",
      "Processing Record {processing_record} | {city}\n",
      "Processing Record {processing_record} | {city}\n",
      "Processing Record {processing_record} | {city}\n",
      "Processing Record {processing_record} | {city}\n",
      "Processing Record {processing_record} | {city}\n",
      "Processing Record {processing_record} | {city}\n",
      "Processing Record {processing_record} | {city}\n",
      "Processing Record {processing_record} | {city}\n",
      "Processing Record {processing_record} | {city}\n",
      "Processing Record {processing_record} | {city}\n",
      "Processing Record {processing_record} | {city}\n",
      "Processing Record {processing_record} | {city}\n",
      "Processing Record {processing_record} | {city}\n",
      "Processing Record {processing_record} | {city}\n",
      "Processing Record {processing_record} | {city}\n",
      "Processing Record {processing_record} | {city}\n",
      "Processing Record {processing_record} | {city}\n",
      "Processing Record {processing_record} | {city}\n",
      "Processing Record {processing_record} | {city}\n",
      "Processing Record {processing_record} | {city}\n",
      "Processing Record {processing_record} | {city}\n",
      "Processing Record {processing_record} | {city}\n",
      "Processing Record {processing_record} | {city}\n",
      "Processing Record {processing_record} | {city}\n",
      "Processing Record {processing_record} | {city}\n",
      "Processing Record {processing_record} | {city}\n",
      "Processing Record {processing_record} | {city}\n",
      "Processing Record {processing_record} | {city}\n",
      "Processing Record {processing_record} | {city}\n",
      "Processing Record {processing_record} | {city}\n",
      "Processing Record {processing_record} | {city}\n",
      "Processing Record {processing_record} | {city}\n",
      "Processing Record {processing_record} | {city}\n",
      "Processing Record {processing_record} | {city}\n",
      "Processing Record {processing_record} | {city}\n",
      "Processing Record {processing_record} | {city}\n",
      "Processing Record {processing_record} | {city}\n",
      "Processing Record {processing_record} | {city}\n",
      "Processing Record {processing_record} | {city}\n",
      "Processing Record {processing_record} | {city}\n",
      "Processing Record {processing_record} | {city}\n",
      "Processing Record {processing_record} | {city}\n",
      "Processing Record {processing_record} | {city}\n",
      "Processing Record {processing_record} | {city}\n",
      "Processing Record {processing_record} | {city}\n",
      "Processing Record {processing_record} | {city}\n",
      "Processing Record {processing_record} | {city}\n",
      "Processing Record {processing_record} | {city}\n",
      "Processing Record {processing_record} | {city}\n",
      "Processing Record {processing_record} | {city}\n",
      "Processing Record {processing_record} | {city}\n",
      "Processing Record {processing_record} | {city}\n",
      "Processing Record {processing_record} | {city}\n",
      "Processing Record {processing_record} | {city}\n",
      "Processing Record {processing_record} | {city}\n",
      "Processing Record {processing_record} | {city}\n",
      "Processing Record {processing_record} | {city}\n",
      "Processing Record {processing_record} | {city}\n",
      "Processing Record {processing_record} | {city}\n",
      "City not found. Skipping...\n",
      "Processing Record {processing_record} | {city}\n",
      "Processing Record {processing_record} | {city}\n",
      "Processing Record {processing_record} | {city}\n",
      "Processing Record {processing_record} | {city}\n",
      "Processing Record {processing_record} | {city}\n",
      "Processing Record {processing_record} | {city}\n",
      "Processing Record {processing_record} | {city}\n",
      "Processing Record {processing_record} | {city}\n",
      "City not found. Skipping...\n",
      "Processing Record {processing_record} | {city}\n",
      "City not found. Skipping...\n",
      "Processing Record {processing_record} | {city}\n",
      "Processing Record {processing_record} | {city}\n",
      "Processing Record {processing_record} | {city}\n",
      "Processing Record {processing_record} | {city}\n",
      "Processing Record {processing_record} | {city}\n",
      "Processing Record {processing_record} | {city}\n",
      "City not found. Skipping...\n",
      "Processing Record {processing_record} | {city}\n",
      "Processing Record {processing_record} | {city}\n",
      "Processing Record {processing_record} | {city}\n",
      "Processing Record {processing_record} | {city}\n",
      "Processing Record {processing_record} | {city}\n",
      "Processing Record {processing_record} | {city}\n",
      "Processing Record {processing_record} | {city}\n",
      "Processing Record {processing_record} | {city}\n",
      "Processing Record {processing_record} | {city}\n",
      "City not found. Skipping...\n",
      "Processing Record {processing_record} | {city}\n",
      "Processing Record {processing_record} | {city}\n",
      "Processing Record {processing_record} | {city}\n",
      "Processing Record {processing_record} | {city}\n",
      "Processing Record {processing_record} | {city}\n",
      "Processing Record {processing_record} | {city}\n",
      "Processing Record {processing_record} | {city}\n",
      "City not found. Skipping...\n",
      "Processing Record {processing_record} | {city}\n",
      "Processing Record {processing_record} | {city}\n",
      "Processing Record {processing_record} | {city}\n",
      "Processing Record {processing_record} | {city}\n",
      "Processing Record {processing_record} | {city}\n",
      "Processing Record {processing_record} | {city}\n",
      "Processing Record {processing_record} | {city}\n",
      "Processing Record {processing_record} | {city}\n",
      "Processing Record {processing_record} | {city}\n",
      "Processing Record {processing_record} | {city}\n",
      "Processing Record {processing_record} | {city}\n",
      "Processing Record {processing_record} | {city}\n",
      "Processing Record {processing_record} | {city}\n",
      "Processing Record {processing_record} | {city}\n",
      "Processing Record {processing_record} | {city}\n",
      "Processing Record {processing_record} | {city}\n",
      "Processing Record {processing_record} | {city}\n",
      "Processing Record {processing_record} | {city}\n",
      "Processing Record {processing_record} | {city}\n",
      "Processing Record {processing_record} | {city}\n",
      "Processing Record {processing_record} | {city}\n",
      "Processing Record {processing_record} | {city}\n",
      "Processing Record {processing_record} | {city}\n",
      "Processing Record {processing_record} | {city}\n",
      "Processing Record {processing_record} | {city}\n",
      "Processing Record {processing_record} | {city}\n",
      "Processing Record {processing_record} | {city}\n",
      "Processing Record {processing_record} | {city}\n",
      "Processing Record {processing_record} | {city}\n",
      "Processing Record {processing_record} | {city}\n",
      "Processing Record {processing_record} | {city}\n",
      "Processing Record {processing_record} | {city}\n",
      "Processing Record {processing_record} | {city}\n",
      "Processing Record {processing_record} | {city}\n",
      "Processing Record {processing_record} | {city}\n",
      "Processing Record {processing_record} | {city}\n",
      "Processing Record {processing_record} | {city}\n",
      "City not found. Skipping...\n",
      "Processing Record {processing_record} | {city}\n",
      "Processing Record {processing_record} | {city}\n",
      "Processing Record {processing_record} | {city}\n",
      "Processing Record {processing_record} | {city}\n",
      "Processing Record {processing_record} | {city}\n",
      "Processing Record {processing_record} | {city}\n",
      "Processing Record {processing_record} | {city}\n",
      "Processing Record {processing_record} | {city}\n",
      "Processing Record {processing_record} | {city}\n",
      "Processing Record {processing_record} | {city}\n",
      "Processing Record {processing_record} | {city}\n",
      "Processing Record {processing_record} | {city}\n",
      "Processing Record {processing_record} | {city}\n",
      "City not found. Skipping...\n",
      "Processing Record {processing_record} | {city}\n",
      "Processing Record {processing_record} | {city}\n",
      "Processing Record {processing_record} | {city}\n",
      "Processing Record {processing_record} | {city}\n",
      "Processing Record {processing_record} | {city}\n",
      "Processing Record {processing_record} | {city}\n",
      "Processing Record {processing_record} | {city}\n",
      "Processing Record {processing_record} | {city}\n",
      "Processing Record {processing_record} | {city}\n",
      "Processing Record {processing_record} | {city}\n",
      "Processing Record {processing_record} | {city}\n",
      "City not found. Skipping...\n",
      "City not found. Skipping...\n",
      "Processing Record {processing_record} | {city}\n",
      "Processing Record {processing_record} | {city}\n",
      "Processing Record {processing_record} | {city}\n",
      "Processing Record {processing_record} | {city}\n",
      "Processing Record {processing_record} | {city}\n",
      "Processing Record {processing_record} | {city}\n",
      "Processing Record {processing_record} | {city}\n",
      "Processing Record {processing_record} | {city}\n",
      "Processing Record {processing_record} | {city}\n",
      "Processing Record {processing_record} | {city}\n",
      "Processing Record {processing_record} | {city}\n",
      "Processing Record {processing_record} | {city}\n",
      "Processing Record {processing_record} | {city}\n",
      "City not found. Skipping...\n",
      "Processing Record {processing_record} | {city}\n",
      "City not found. Skipping...\n",
      "Processing Record {processing_record} | {city}\n",
      "Processing Record {processing_record} | {city}\n",
      "Processing Record {processing_record} | {city}\n",
      "Processing Record {processing_record} | {city}\n",
      "Processing Record {processing_record} | {city}\n",
      "Processing Record {processing_record} | {city}\n",
      "Processing Record {processing_record} | {city}\n",
      "Processing Record {processing_record} | {city}\n",
      "Processing Record {processing_record} | {city}\n",
      "City not found. Skipping...\n",
      "Processing Record {processing_record} | {city}\n",
      "Processing Record {processing_record} | {city}\n",
      "Processing Record {processing_record} | {city}\n",
      "City not found. Skipping...\n",
      "Processing Record {processing_record} | {city}\n",
      "Processing Record {processing_record} | {city}\n",
      "Processing Record {processing_record} | {city}\n",
      "Processing Record {processing_record} | {city}\n",
      "Processing Record {processing_record} | {city}\n",
      "Processing Record {processing_record} | {city}\n",
      "Processing Record {processing_record} | {city}\n",
      "Processing Record {processing_record} | {city}\n",
      "Processing Record {processing_record} | {city}\n",
      "Processing Record {processing_record} | {city}\n",
      "Processing Record {processing_record} | {city}\n",
      "Processing Record {processing_record} | {city}\n",
      "City not found. Skipping...\n",
      "Processing Record {processing_record} | {city}\n",
      "Processing Record {processing_record} | {city}\n",
      "Processing Record {processing_record} | {city}\n",
      "Processing Record {processing_record} | {city}\n",
      "City not found. Skipping...\n",
      "Processing Record {processing_record} | {city}\n",
      "Processing Record {processing_record} | {city}\n",
      "Processing Record {processing_record} | {city}\n",
      "----------------------------------------\n",
      "Data Retrieval Complete\n",
      "----------------------------------------\n"
     ]
    }
   ],
   "source": [
    "# Record counter starts at 1\n",
    "processing_record = 1\n",
    "\n",
    "print(\"Beginning Data Retrieval\")\n",
    "print(\"----------------------------------------\")\n",
    "\n",
    "for city in city_list:\n",
    "      \n",
    "    try:\n",
    "        data = requests.get(\"http://api.openweathermap.org/data/2.5/weather\", params={\n",
    "        \"q\": city,\n",
    "        \"appid\": weather_api_key, \n",
    "        \"units\": \"imperial\"\n",
    "        }).json()\n",
    "        \n",
    "        city_result = extract_data(data)\n",
    "        city_results.append(city_result)\n",
    "        \n",
    "        processing_record += 1\n",
    "    \n",
    "        print(\"Processing Record {processing_record} | {city}\")\n",
    "                            \n",
    "    except:\n",
    "        print(\"City not found. Skipping...\")\n",
    "    continue\n",
    "    \n",
    "print(\"----------------------------------------\")\n",
    "print(\"Data Retrieval Complete\")\n",
    "print(\"----------------------------------------\")\n",
    "    "
   ]
  },
  {
   "cell_type": "code",
   "execution_count": 9,
   "metadata": {},
   "outputs": [
    {
     "data": {
      "text/html": [
       "<div>\n",
       "<style scoped>\n",
       "    .dataframe tbody tr th:only-of-type {\n",
       "        vertical-align: middle;\n",
       "    }\n",
       "\n",
       "    .dataframe tbody tr th {\n",
       "        vertical-align: top;\n",
       "    }\n",
       "\n",
       "    .dataframe thead th {\n",
       "        text-align: right;\n",
       "    }\n",
       "</style>\n",
       "<table border=\"1\" class=\"dataframe\">\n",
       "  <thead>\n",
       "    <tr style=\"text-align: right;\">\n",
       "      <th></th>\n",
       "      <th>City</th>\n",
       "      <th>Lat</th>\n",
       "      <th>Lon</th>\n",
       "      <th>Max Temp</th>\n",
       "      <th>Humidity</th>\n",
       "      <th>Cloudiness</th>\n",
       "      <th>Wind Speed</th>\n",
       "      <th>Country</th>\n",
       "      <th>Date</th>\n",
       "    </tr>\n",
       "  </thead>\n",
       "  <tbody>\n",
       "    <tr>\n",
       "      <th>0</th>\n",
       "      <td>Ushuaia</td>\n",
       "      <td>-54.8</td>\n",
       "      <td>-68.30</td>\n",
       "      <td>50.00</td>\n",
       "      <td>57</td>\n",
       "      <td>75</td>\n",
       "      <td>3.56</td>\n",
       "      <td>AR</td>\n",
       "      <td>1600721730</td>\n",
       "    </tr>\n",
       "    <tr>\n",
       "      <th>1</th>\n",
       "      <td>Kutum</td>\n",
       "      <td>14.2</td>\n",
       "      <td>24.67</td>\n",
       "      <td>84.76</td>\n",
       "      <td>26</td>\n",
       "      <td>86</td>\n",
       "      <td>12.06</td>\n",
       "      <td>SD</td>\n",
       "      <td>1600721958</td>\n",
       "    </tr>\n",
       "  </tbody>\n",
       "</table>\n",
       "</div>"
      ],
      "text/plain": [
       "      City   Lat    Lon  Max Temp  Humidity  Cloudiness  Wind Speed Country  \\\n",
       "0  Ushuaia -54.8 -68.30     50.00        57          75        3.56      AR   \n",
       "1    Kutum  14.2  24.67     84.76        26          86       12.06      SD   \n",
       "\n",
       "         Date  \n",
       "0  1600721730  \n",
       "1  1600721958  "
      ]
     },
     "execution_count": 9,
     "metadata": {},
     "output_type": "execute_result"
    }
   ],
   "source": [
    "df = pd.DataFrame(city_results)\n",
    "df.head(2)"
   ]
  },
  {
   "cell_type": "markdown",
   "metadata": {},
   "source": [
    "### Creating Scatter Plot to showcase the relation ship between Max Temperature and Latitude"
   ]
  },
  {
   "cell_type": "code",
   "execution_count": 10,
   "metadata": {},
   "outputs": [],
   "source": [
    "# Converting data in DataFrame so that it can be used to define the X and y value needed for the scatter plot.\n",
    "X = df[\"Lat\"].values\n",
    "y = df[\"Max Temp\"].values"
   ]
  },
  {
   "cell_type": "code",
   "execution_count": 11,
   "metadata": {},
   "outputs": [
    {
     "data": {
      "text/plain": [
       "<function matplotlib.pyplot.show(close=None, block=None)>"
      ]
     },
     "execution_count": 11,
     "metadata": {},
     "output_type": "execute_result"
    },
    {
     "data": {
      "image/png": "[encoded data removed]",
      "text/plain": [
       "<Figure size 432x288 with 1 Axes>"
      ]
     },
     "metadata": {
      "needs_background": "light"
     },
     "output_type": "display_data"
    }
   ],
   "source": [
    "plt.title(\"City Latitude vs. Max Temperature (09/21/2020)\")\n",
    "plt.xlabel(\"Latitude\")\n",
    "plt.ylabel(\"Max Temperature (F)\")\n",
    "plt.grid()\n",
    "plt.scatter(X,y)\n",
    "plt.show"
   ]
  },
  {
   "cell_type": "markdown",
   "metadata": {},
   "source": [
    "Here we are examining the relationship between a city's latitude and it's maximum temperature. As you can see, as a city's latitude has a clear relationship to it's max temperature as we would expect. Temperatures appear to be higher the closer they are to the equator, (0) degrees latitude."
   ]
  },
  {
   "cell_type": "markdown",
   "metadata": {},
   "source": [
    "### Creating Scatter Plot to showcase the relationship between Humidity and Latitude "
   ]
  },
  {
   "cell_type": "code",
   "execution_count": 12,
   "metadata": {},
   "outputs": [],
   "source": [
    "X = df[\"Lat\"].values\n",
    "y = df[\"Humidity\"].values"
   ]
  },
  {
   "cell_type": "code",
   "execution_count": 13,
   "metadata": {},
   "outputs": [
    {
     "data": {
      "text/plain": [
       "<function matplotlib.pyplot.show(close=None, block=None)>"
      ]
     },
     "execution_count": 13,
     "metadata": {},
     "output_type": "execute_result"
    },
    {
     "data": {
      "image/png": "[encoded data removed]",
      "text/plain": [
       "<Figure size 432x288 with 1 Axes>"
      ]
     },
     "metadata": {
      "needs_background": "light"
     },
     "output_type": "display_data"
    }
   ],
   "source": [
    "plt.title(\"City Latitude vs. Humidity (09/21/2020)\")\n",
    "plt.xlabel(\"Latitude\")\n",
    "plt.ylabel(\"Humidity (%)\")\n",
    "plt.grid()\n",
    "plt.scatter(X,y)\n",
    "plt.show"
   ]
  },
  {
   "cell_type": "markdown",
   "metadata": {},
   "source": [
    "This scatter plot is displaying the relationship between a city's latitude and it's humidity levels. There does not appear to be a clear relationship between cities with higher humidities and their latitude based on the plot. However, there does appear to be an indication that many cities that lie between around -30 degrees and 35 degrees latitude have lower humidity levels. There are basically no cities outside of that range that have humidity levels below 20%."
   ]
  },
  {
   "cell_type": "code",
   "execution_count": 14,
   "metadata": {},
   "outputs": [],
   "source": [
    "X = df[\"Lat\"].values\n",
    "y = df[\"Cloudiness\"].values"
   ]
  },
  {
   "cell_type": "code",
   "execution_count": 15,
   "metadata": {},
   "outputs": [
    {
     "data": {
      "text/plain": [
       "<function matplotlib.pyplot.show(close=None, block=None)>"
      ]
     },
     "execution_count": 15,
     "metadata": {},
     "output_type": "execute_result"
    },
    {
     "data": {
      "image/png": "[encoded data removed]",
      "text/plain": [
       "<Figure size 432x288 with 1 Axes>"
      ]
     },
     "metadata": {
      "needs_background": "light"
     },
     "output_type": "display_data"
    }
   ],
   "source": [
    "plt.title(\"City Latitude vs. Cloudiness (09/21/2020)\")\n",
    "plt.xlabel(\"Latitude\")\n",
    "plt.ylabel(\"Cloudiness (%)\")\n",
    "plt.grid()\n",
    "plt.scatter(X,y)\n",
    "plt.show"
   ]
  },
  {
   "cell_type": "markdown",
   "metadata": {},
   "source": [
    "This scatter plot showcases the relationship between a cities latitude and its cloud cover. Latitude does not appear to be a major impactor of a city's cloud cover. Cities with high, medium and low cloud cover appear to be evenly distributed across all latitudes."
   ]
  },
  {
   "cell_type": "code",
   "execution_count": 16,
   "metadata": {},
   "outputs": [],
   "source": [
    "X = df[\"Lat\"].values\n",
    "y = df[\"Wind Speed\"].values"
   ]
  },
  {
   "cell_type": "code",
   "execution_count": 17,
   "metadata": {},
   "outputs": [
    {
     "data": {
      "text/plain": [
       "<function matplotlib.pyplot.show(close=None, block=None)>"
      ]
     },
     "execution_count": 17,
     "metadata": {},
     "output_type": "execute_result"
    },
    {
     "data": {
      "image/png": "[encoded data removed]",
      "text/plain": [
       "<Figure size 432x288 with 1 Axes>"
      ]
     },
     "metadata": {
      "needs_background": "light"
     },
     "output_type": "display_data"
    }
   ],
   "source": [
    "plt.title(\"City Latitude vs. Wind Speed (09/21/2020)\")\n",
    "plt.xlabel(\"Latitude\")\n",
    "plt.ylabel(\"Wind Speed (mph)\")\n",
    "plt.grid()\n",
    "plt.scatter(X,y)\n",
    "plt.show"
   ]
  },
  {
   "cell_type": "markdown",
   "metadata": {},
   "source": [
    "With this plot, we can see that there is perhaps a small relationship between a city's latitude and it wind speed. Although wind speed does appear to be rather equally distibuted, we do see that cities further away from the equator have the potential for higher wind speeds. If you'll notice, there are a slightly higher number of cities with latitudes further away from the equator reporting higher windspeeds."
   ]
  },
  {
   "cell_type": "markdown",
   "metadata": {},
   "source": [
    "## Linear Regression"
   ]
  },
  {
   "cell_type": "markdown",
   "metadata": {},
   "source": [
    "### Temperature (F) vs. Latitude (Northern and Southern Hemisphere)"
   ]
  },
  {
   "cell_type": "markdown",
   "metadata": {},
   "source": [
    "#### (Northern Hemisphere)"
   ]
  },
  {
   "cell_type": "code",
   "execution_count": 18,
   "metadata": {},
   "outputs": [],
   "source": [
    "# Created dataframe to display only those cities located in the Northern Hemisphere\n",
    "NH_df = df[df.Lat > 0]"
   ]
  },
  {
   "cell_type": "code",
   "execution_count": 19,
   "metadata": {},
   "outputs": [],
   "source": [
    "# Converting the NH_df data so that it can be used to create scatter plots andn perform linear regression.\n",
    "X = NH_df[\"Lat\"].values\n",
    "X_array = [[e] for e in X]\n",
    "y = NH_df[\"Max Temp\"].values"
   ]
  },
  {
   "cell_type": "code",
   "execution_count": 20,
   "metadata": {},
   "outputs": [
    {
     "data": {
      "text/plain": [
       "LinearRegression()"
      ]
     },
     "execution_count": 20,
     "metadata": {},
     "output_type": "execute_result"
    }
   ],
   "source": [
    "#Setting up linear regression model.\n",
    "model = LinearRegression()\n",
    "model.fit(X_array, y)"
   ]
  },
  {
   "cell_type": "code",
   "execution_count": 21,
   "metadata": {},
   "outputs": [
    {
     "data": {
      "text/plain": [
       "-0.7414114027201512"
      ]
     },
     "execution_count": 21,
     "metadata": {},
     "output_type": "execute_result"
    }
   ],
   "source": [
    "slope = model.coef_[0]\n",
    "slope"
   ]
  },
  {
   "cell_type": "code",
   "execution_count": 22,
   "metadata": {},
   "outputs": [
    {
     "data": {
      "text/plain": [
       "92.56470502779814"
      ]
     },
     "execution_count": 22,
     "metadata": {},
     "output_type": "execute_result"
    }
   ],
   "source": [
    "intercept = model.intercept_\n",
    "intercept"
   ]
  },
  {
   "cell_type": "code",
   "execution_count": 23,
   "metadata": {},
   "outputs": [
    {
     "data": {
      "text/plain": [
       "0.7283760117284195"
      ]
     },
     "execution_count": 23,
     "metadata": {},
     "output_type": "execute_result"
    }
   ],
   "source": [
    "r_squared = model.score(X_array, y)\n",
    "r_squared"
   ]
  },
  {
   "cell_type": "code",
   "execution_count": 24,
   "metadata": {},
   "outputs": [],
   "source": [
    "def predict_function(max_temp):\n",
    "    return model.predict([[max_temp]])[0]"
   ]
  },
  {
   "cell_type": "code",
   "execution_count": 25,
   "metadata": {},
   "outputs": [],
   "source": [
    "max_temp_range = np.arange(min(X), max(X), 0.001)\n",
    "predict_max_temp = [predict_function(e) for e in max_temp_range]"
   ]
  },
  {
   "cell_type": "code",
   "execution_count": 26,
   "metadata": {},
   "outputs": [],
   "source": [
    "# Variables used for creating text labels on plot\n",
    "formula = f\"y = {round(intercept, 3)} + {round(slope, 3)}x\"\n",
    "r_squared_str = f\"$R^{2}$={round(r_squared, 3)}\""
   ]
  },
  {
   "cell_type": "code",
   "execution_count": 27,
   "metadata": {},
   "outputs": [
    {
     "data": {
      "text/plain": [
       "<function matplotlib.pyplot.show(close=None, block=None)>"
      ]
     },
     "execution_count": 27,
     "metadata": {},
     "output_type": "execute_result"
    },
    {
     "data": {
      "image/png": "[encoded data removed]",
      "text/plain": [
       "<Figure size 432x288 with 1 Axes>"
      ]
     },
     "metadata": {
      "needs_background": "light"
     },
     "output_type": "display_data"
    }
   ],
   "source": [
    "plt.title(\"NH City Latitude vs. Max Temperature (09/21/2020)\")\n",
    "plt.xlabel(\"Latitude\")\n",
    "plt.ylabel(\"Max Temperature (F)\")\n",
    "plt.grid()\n",
    "plt.scatter(X,y)\n",
    "plt.plot(max_temp_range, predict_max_temp, color=\"red\")\n",
    "plt.text(5,35, formula, color=\"red\")\n",
    "plt.text(5,28, r_squared_str, color=\"red\")\n",
    "plt.show"
   ]
  },
  {
   "cell_type": "markdown",
   "metadata": {},
   "source": [
    "As you can see, the r squared value for this regression anaylis is quite high. This indicates that there is a strong correlation between latitude and the maximum temperatures. This is easily seen on the plot displayed above. The further you get away from the equator (0), the lower the max temperature."
   ]
  },
  {
   "cell_type": "markdown",
   "metadata": {},
   "source": [
    "#### (Southern Hemisphere)"
   ]
  },
  {
   "cell_type": "code",
   "execution_count": 28,
   "metadata": {},
   "outputs": [],
   "source": [
    "# Created dataframe to display only those cities located in the Northern Hemisphere\n",
    "SH_df = df[df.Lat < 0]"
   ]
  },
  {
   "cell_type": "code",
   "execution_count": 29,
   "metadata": {},
   "outputs": [],
   "source": [
    "# Converting the SH_df data so that it can be used to create scatter plots andn perform linear regression.\n",
    "X = SH_df[\"Lat\"].values\n",
    "X_array = [[e] for e in X]\n",
    "y = SH_df[\"Max Temp\"].values"
   ]
  },
  {
   "cell_type": "code",
   "execution_count": 30,
   "metadata": {},
   "outputs": [
    {
     "data": {
      "text/plain": [
       "LinearRegression()"
      ]
     },
     "execution_count": 30,
     "metadata": {},
     "output_type": "execute_result"
    }
   ],
   "source": [
    "#Setting up linear regression model.\n",
    "model = LinearRegression()\n",
    "model.fit(X_array, y)"
   ]
  },
  {
   "cell_type": "code",
   "execution_count": 31,
   "metadata": {},
   "outputs": [
    {
     "data": {
      "text/plain": [
       "0.6372238522849714"
      ]
     },
     "execution_count": 31,
     "metadata": {},
     "output_type": "execute_result"
    }
   ],
   "source": [
    "slope = model.coef_[0]\n",
    "slope"
   ]
  },
  {
   "cell_type": "code",
   "execution_count": 32,
   "metadata": {},
   "outputs": [
    {
     "data": {
      "text/plain": [
       "81.61256496997254"
      ]
     },
     "execution_count": 32,
     "metadata": {},
     "output_type": "execute_result"
    }
   ],
   "source": [
    "intercept = model.intercept_\n",
    "intercept"
   ]
  },
  {
   "cell_type": "code",
   "execution_count": 33,
   "metadata": {},
   "outputs": [
    {
     "data": {
      "text/plain": [
       "0.530430161085919"
      ]
     },
     "execution_count": 33,
     "metadata": {},
     "output_type": "execute_result"
    }
   ],
   "source": [
    "r_squared = model.score(X_array, y)\n",
    "r_squared"
   ]
  },
  {
   "cell_type": "code",
   "execution_count": 34,
   "metadata": {},
   "outputs": [],
   "source": [
    "def predict_function(max_temp):\n",
    "    return model.predict([[max_temp]])[0]"
   ]
  },
  {
   "cell_type": "code",
   "execution_count": 35,
   "metadata": {},
   "outputs": [],
   "source": [
    "max_temp_range = np.arange(min(X), max(X), 0.001)\n",
    "predict_max_temp = [predict_function(e) for e in max_temp_range]"
   ]
  },
  {
   "cell_type": "code",
   "execution_count": 36,
   "metadata": {},
   "outputs": [],
   "source": [
    "# Variables used for creating text labels on plot\n",
    "formula = f\"y = {round(intercept, 3)} + {round(slope, 3)}x\"\n",
    "r_squared_str = f\"$R^{2}$={round(r_squared, 3)}\""
   ]
  },
  {
   "cell_type": "code",
   "execution_count": 37,
   "metadata": {},
   "outputs": [
    {
     "data": {
      "text/plain": [
       "<function matplotlib.pyplot.show(close=None, block=None)>"
      ]
     },
     "execution_count": 37,
     "metadata": {},
     "output_type": "execute_result"
    },
    {
     "data": {
      "image/png": "[encoded data removed]",
      "text/plain": [
       "<Figure size 432x288 with 1 Axes>"
      ]
     },
     "metadata": {
      "needs_background": "light"
     },
     "output_type": "display_data"
    }
   ],
   "source": [
    "plt.title(\"SH City Latitude vs. Max Temperature (09/21/2020)\")\n",
    "plt.xlabel(\"Latitude\")\n",
    "plt.ylabel(\"Max Temperature (F)\")\n",
    "plt.grid()\n",
    "plt.scatter(X,y)\n",
    "plt.plot(max_temp_range, predict_max_temp, color=\"red\")\n",
    "plt.text(-55,97, formula, color=\"red\")\n",
    "plt.text(-55,90, r_squared_str, color=\"red\")\n",
    "plt.show"
   ]
  },
  {
   "cell_type": "markdown",
   "metadata": {},
   "source": [
    "The r squared value for this linear regression is also quite high; although not quite as high as what was indicated in the Northern Hemisphere. Again, there is a strong correlation between latitude and maximum temperature in the Southern Hemisphere as well. This is easily explained by the fact that Earth is round, and as you get further and further away from the equator in both hemispheres, less of the sun's light makes it to the surface causing maximum temperatures to be lower. Yet another notch against the \"Flat Earthers\" out there."
   ]
  },
  {
   "cell_type": "markdown",
   "metadata": {},
   "source": [
    "### Humidity (%) vs. Latitude (Northern and Southern Hemisphere)¶"
   ]
  },
  {
   "cell_type": "markdown",
   "metadata": {},
   "source": [
    "#### (Northern Hemisphere)"
   ]
  },
  {
   "cell_type": "code",
   "execution_count": 38,
   "metadata": {},
   "outputs": [],
   "source": [
    "X = NH_df[\"Lat\"].values\n",
    "X_array = [[e] for e in X]\n",
    "y = NH_df[\"Humidity\"].values"
   ]
  },
  {
   "cell_type": "code",
   "execution_count": 39,
   "metadata": {},
   "outputs": [
    {
     "data": {
      "text/plain": [
       "LinearRegression()"
      ]
     },
     "execution_count": 39,
     "metadata": {},
     "output_type": "execute_result"
    }
   ],
   "source": [
    "model = LinearRegression()\n",
    "model.fit(X_array, y)"
   ]
  },
  {
   "cell_type": "code",
   "execution_count": 40,
   "metadata": {},
   "outputs": [
    {
     "data": {
      "text/plain": [
       "0.13979851643335645"
      ]
     },
     "execution_count": 40,
     "metadata": {},
     "output_type": "execute_result"
    }
   ],
   "source": [
    "slope = model.coef_[0]\n",
    "slope"
   ]
  },
  {
   "cell_type": "code",
   "execution_count": 41,
   "metadata": {},
   "outputs": [
    {
     "data": {
      "text/plain": [
       "66.05602294847438"
      ]
     },
     "execution_count": 41,
     "metadata": {},
     "output_type": "execute_result"
    }
   ],
   "source": [
    "intercept = model.intercept_\n",
    "intercept"
   ]
  },
  {
   "cell_type": "code",
   "execution_count": 42,
   "metadata": {},
   "outputs": [
    {
     "data": {
      "text/plain": [
       "0.018297489459965566"
      ]
     },
     "execution_count": 42,
     "metadata": {},
     "output_type": "execute_result"
    }
   ],
   "source": [
    "r_squared = model.score(X_array, y)\n",
    "r_squared"
   ]
  },
  {
   "cell_type": "code",
   "execution_count": 43,
   "metadata": {},
   "outputs": [],
   "source": [
    "def predict_function(humidity):\n",
    "    return model.predict([[humidity]])[0]"
   ]
  },
  {
   "cell_type": "code",
   "execution_count": 44,
   "metadata": {},
   "outputs": [],
   "source": [
    "humidity_range = np.arange(min(X), max(X), 0.001)\n",
    "predict_humidity = [predict_function(e) for e in humidity_range]"
   ]
  },
  {
   "cell_type": "code",
   "execution_count": 45,
   "metadata": {},
   "outputs": [],
   "source": [
    "# Variables used for creating text labels on plot\n",
    "formula = f\"y = {round(intercept, 3)} + {round(slope, 3)}x\"\n",
    "r_squared_str = f\"$R^{2}$={round(r_squared, 3)}\""
   ]
  },
  {
   "cell_type": "code",
   "execution_count": 46,
   "metadata": {},
   "outputs": [
    {
     "data": {
      "text/plain": [
       "<function matplotlib.pyplot.show(close=None, block=None)>"
      ]
     },
     "execution_count": 46,
     "metadata": {},
     "output_type": "execute_result"
    },
    {
     "data": {
      "image/png": "[encoded data removed]",
      "text/plain": [
       "<Figure size 432x288 with 1 Axes>"
      ]
     },
     "metadata": {
      "needs_background": "light"
     },
     "output_type": "display_data"
    }
   ],
   "source": [
    "plt.title(\"NH City Latitude vs. Humidity (%) (09/21/2020)\")\n",
    "plt.xlabel(\"Latitude\")\n",
    "plt.ylabel(\"Humidity %\")\n",
    "plt.grid()\n",
    "plt.scatter(X,y)\n",
    "plt.plot(humidity_range, predict_humidity, color=\"red\")\n",
    "plt.text(52,20, formula, color=\"red\")\n",
    "plt.text(52,13, r_squared_str, color=\"red\")\n",
    "plt.show"
   ]
  },
  {
   "cell_type": "markdown",
   "metadata": {},
   "source": [
    "The r squared value for this linear regression is quite low suggesting that there is little correlation between latitude and humidity levels. However, as I mentioned above, one can still see there is still something going on here. Although humidity levels due appear to be dispearsed throughout, you can still see that most of the lower humidit levels are grouped together between about 10 and 35 degrees latitude."
   ]
  },
  {
   "cell_type": "markdown",
   "metadata": {},
   "source": [
    "#### (Southern Hemisphere)"
   ]
  },
  {
   "cell_type": "code",
   "execution_count": 47,
   "metadata": {},
   "outputs": [],
   "source": [
    "X = SH_df[\"Lat\"].values\n",
    "X_array = [[e] for e in X]\n",
    "y = SH_df[\"Humidity\"].values"
   ]
  },
  {
   "cell_type": "code",
   "execution_count": 48,
   "metadata": {},
   "outputs": [
    {
     "data": {
      "text/plain": [
       "LinearRegression()"
      ]
     },
     "execution_count": 48,
     "metadata": {},
     "output_type": "execute_result"
    }
   ],
   "source": [
    "model = LinearRegression()\n",
    "model.fit(X_array, y)"
   ]
  },
  {
   "cell_type": "code",
   "execution_count": 49,
   "metadata": {},
   "outputs": [
    {
     "data": {
      "text/plain": [
       "0.32664703884703505"
      ]
     },
     "execution_count": 49,
     "metadata": {},
     "output_type": "execute_result"
    }
   ],
   "source": [
    "slope = model.coef_[0]\n",
    "slope"
   ]
  },
  {
   "cell_type": "code",
   "execution_count": 50,
   "metadata": {},
   "outputs": [
    {
     "data": {
      "text/plain": [
       "78.91964590539393"
      ]
     },
     "execution_count": 50,
     "metadata": {},
     "output_type": "execute_result"
    }
   ],
   "source": [
    "intercept = model.intercept_\n",
    "intercept"
   ]
  },
  {
   "cell_type": "code",
   "execution_count": 51,
   "metadata": {},
   "outputs": [
    {
     "data": {
      "text/plain": [
       "0.04962000272137257"
      ]
     },
     "execution_count": 51,
     "metadata": {},
     "output_type": "execute_result"
    }
   ],
   "source": [
    "r_squared = model.score(X_array, y)\n",
    "r_squared"
   ]
  },
  {
   "cell_type": "code",
   "execution_count": 52,
   "metadata": {},
   "outputs": [],
   "source": [
    "def predict_function(humidity):\n",
    "    return model.predict([[humidity]])[0]"
   ]
  },
  {
   "cell_type": "code",
   "execution_count": 53,
   "metadata": {},
   "outputs": [],
   "source": [
    "humidity_range = np.arange(min(X), max(X), 0.001)\n",
    "predict_humidity = [predict_function(e) for e in humidity_range]"
   ]
  },
  {
   "cell_type": "code",
   "execution_count": 54,
   "metadata": {},
   "outputs": [],
   "source": [
    "# Variables used for creating text labels on plot\n",
    "formula = f\"y = {round(intercept, 3)} + {round(slope, 3)}x\"\n",
    "r_squared_str = f\"$R^{2}$={round(r_squared, 3)}\""
   ]
  },
  {
   "cell_type": "code",
   "execution_count": 55,
   "metadata": {},
   "outputs": [
    {
     "data": {
      "text/plain": [
       "<function matplotlib.pyplot.show(close=None, block=None)>"
      ]
     },
     "execution_count": 55,
     "metadata": {},
     "output_type": "execute_result"
    },
    {
     "data": {
      "image/png": "[encoded data removed]",
      "text/plain": [
       "<Figure size 432x288 with 1 Axes>"
      ]
     },
     "metadata": {
      "needs_background": "light"
     },
     "output_type": "display_data"
    }
   ],
   "source": [
    "plt.title(\"SH City Latitude vs. Humidity (%) (09/21/2020)\")\n",
    "plt.xlabel(\"Latitude\")\n",
    "plt.ylabel(\"Humidity %\")\n",
    "plt.grid()\n",
    "plt.scatter(X,y)\n",
    "plt.plot(humidity_range, predict_humidity, color=\"red\")\n",
    "plt.text(-55,20, formula, color=\"red\")\n",
    "plt.text(-55,13, r_squared_str, color=\"red\")\n",
    "plt.show"
   ]
  },
  {
   "cell_type": "markdown",
   "metadata": {},
   "source": [
    "The same is true for the Southern Hemisphere. The r squared value for this linear regression is also low suggesting that there is little correlation between latitude and humidity levels. Again; however, we do see there is still something going on with lower humidity levels. Although humidity levels as whole due appear to be dispearsed throughout, you can still see that most of the lower humidit levels are grouped together between about -25 and -10 degrees latitude. One would assume that most deserts are located at this latitudal levels all over the planet."
   ]
  },
  {
   "cell_type": "markdown",
   "metadata": {},
   "source": [
    "### Cloudiness (%) vs. Latitude (Northern and Southern Hemisphere)¶"
   ]
  },
  {
   "cell_type": "markdown",
   "metadata": {},
   "source": [
    "#### (Northern Hemisphere)"
   ]
  },
  {
   "cell_type": "code",
   "execution_count": 56,
   "metadata": {},
   "outputs": [],
   "source": [
    "X = NH_df[\"Lat\"].values\n",
    "X_array = [[e] for e in X]\n",
    "y = NH_df[\"Cloudiness\"].values"
   ]
  },
  {
   "cell_type": "code",
   "execution_count": 57,
   "metadata": {},
   "outputs": [
    {
     "data": {
      "text/plain": [
       "LinearRegression()"
      ]
     },
     "execution_count": 57,
     "metadata": {},
     "output_type": "execute_result"
    }
   ],
   "source": [
    "model = LinearRegression()\n",
    "model.fit(X_array, y)"
   ]
  },
  {
   "cell_type": "code",
   "execution_count": 58,
   "metadata": {},
   "outputs": [
    {
     "data": {
      "text/plain": [
       "0.03910754533050946"
      ]
     },
     "execution_count": 58,
     "metadata": {},
     "output_type": "execute_result"
    }
   ],
   "source": [
    "slope = model.coef_[0]\n",
    "slope"
   ]
  },
  {
   "cell_type": "code",
   "execution_count": 59,
   "metadata": {},
   "outputs": [
    {
     "data": {
      "text/plain": [
       "47.478302165877196"
      ]
     },
     "execution_count": 59,
     "metadata": {},
     "output_type": "execute_result"
    }
   ],
   "source": [
    "intercept = model.intercept_\n",
    "intercept"
   ]
  },
  {
   "cell_type": "code",
   "execution_count": 60,
   "metadata": {},
   "outputs": [
    {
     "data": {
      "text/plain": [
       "0.0004067754377502508"
      ]
     },
     "execution_count": 60,
     "metadata": {},
     "output_type": "execute_result"
    }
   ],
   "source": [
    "r_squared = model.score(X_array, y)\n",
    "r_squared"
   ]
  },
  {
   "cell_type": "code",
   "execution_count": 61,
   "metadata": {},
   "outputs": [],
   "source": [
    "def predict_function(cloudiness):\n",
    "    return model.predict([[cloudiness]])[0]"
   ]
  },
  {
   "cell_type": "code",
   "execution_count": 62,
   "metadata": {},
   "outputs": [],
   "source": [
    "cloudiness_range = np.arange(min(X), max(X), 0.001)\n",
    "predict_cloudiness = [predict_function(e) for e in cloudiness_range]"
   ]
  },
  {
   "cell_type": "code",
   "execution_count": 63,
   "metadata": {},
   "outputs": [],
   "source": [
    "# Variables used for creating text labels on plot\n",
    "formula = f\"y = {round(intercept, 3)} + {round(slope, 3)}x\"\n",
    "r_squared_str = f\"$R^{2}$={round(r_squared, 3)}\""
   ]
  },
  {
   "cell_type": "code",
   "execution_count": 64,
   "metadata": {},
   "outputs": [
    {
     "data": {
      "text/plain": [
       "<function matplotlib.pyplot.show(close=None, block=None)>"
      ]
     },
     "execution_count": 64,
     "metadata": {},
     "output_type": "execute_result"
    },
    {
     "data": {
      "image/png": "[encoded data removed]",
      "text/plain": [
       "<Figure size 432x288 with 1 Axes>"
      ]
     },
     "metadata": {
      "needs_background": "light"
     },
     "output_type": "display_data"
    }
   ],
   "source": [
    "plt.title(\"NH City Latitude vs. Cloudiness (%) (09/21/2020)\")\n",
    "plt.xlabel(\"Latitude\")\n",
    "plt.ylabel(\"Cloudiness %\")\n",
    "plt.grid()\n",
    "plt.scatter(X,y)\n",
    "plt.plot(cloudiness_range, predict_cloudiness, color=\"red\")\n",
    "plt.text(85,20, formula, color=\"red\")\n",
    "plt.text(85,13, r_squared_str, color=\"red\")\n",
    "plt.show"
   ]
  },
  {
   "cell_type": "markdown",
   "metadata": {},
   "source": [
    "The R squared value for this linear regression is the lowest we've seen so far. There is apparently little to know correlation betwen cloudiness and latitude in the Northern Hemisphere."
   ]
  },
  {
   "cell_type": "markdown",
   "metadata": {},
   "source": [
    "#### (Southern Hemisphere)"
   ]
  },
  {
   "cell_type": "code",
   "execution_count": 65,
   "metadata": {},
   "outputs": [],
   "source": [
    "X = SH_df[\"Lat\"].values\n",
    "X_array = [[e] for e in X]\n",
    "y = SH_df[\"Cloudiness\"].values"
   ]
  },
  {
   "cell_type": "code",
   "execution_count": 66,
   "metadata": {},
   "outputs": [
    {
     "data": {
      "text/plain": [
       "LinearRegression()"
      ]
     },
     "execution_count": 66,
     "metadata": {},
     "output_type": "execute_result"
    }
   ],
   "source": [
    "model = LinearRegression()\n",
    "model.fit(X_array, y)"
   ]
  },
  {
   "cell_type": "code",
   "execution_count": 67,
   "metadata": {},
   "outputs": [
    {
     "data": {
      "text/plain": [
       "0.2575411499670345"
      ]
     },
     "execution_count": 67,
     "metadata": {},
     "output_type": "execute_result"
    }
   ],
   "source": [
    "slope = model.coef_[0]\n",
    "slope"
   ]
  },
  {
   "cell_type": "code",
   "execution_count": 68,
   "metadata": {},
   "outputs": [
    {
     "data": {
      "text/plain": [
       "54.49635067150396"
      ]
     },
     "execution_count": 68,
     "metadata": {},
     "output_type": "execute_result"
    }
   ],
   "source": [
    "intercept = model.intercept_\n",
    "intercept"
   ]
  },
  {
   "cell_type": "code",
   "execution_count": 69,
   "metadata": {},
   "outputs": [
    {
     "data": {
      "text/plain": [
       "0.007921102721943019"
      ]
     },
     "execution_count": 69,
     "metadata": {},
     "output_type": "execute_result"
    }
   ],
   "source": [
    "r_squared = model.score(X_array, y)\n",
    "r_squared"
   ]
  },
  {
   "cell_type": "code",
   "execution_count": 70,
   "metadata": {},
   "outputs": [],
   "source": [
    "def predict_function(cloudiness):\n",
    "    return model.predict([[cloudiness]])[0]"
   ]
  },
  {
   "cell_type": "code",
   "execution_count": 71,
   "metadata": {},
   "outputs": [],
   "source": [
    "cloudiness_range = np.arange(min(X), max(X), 0.001)\n",
    "predict_cloudiness = [predict_function(e) for e in cloudiness_range]"
   ]
  },
  {
   "cell_type": "code",
   "execution_count": 72,
   "metadata": {},
   "outputs": [],
   "source": [
    "# Variables used for creating text labels on plot\n",
    "formula = f\"y = {round(intercept, 3)} + {round(slope, 3)}x\"\n",
    "r_squared_str = f\"$R^{2}$={round(r_squared, 3)}\""
   ]
  },
  {
   "cell_type": "code",
   "execution_count": 73,
   "metadata": {},
   "outputs": [
    {
     "data": {
      "text/plain": [
       "<function matplotlib.pyplot.show(close=None, block=None)>"
      ]
     },
     "execution_count": 73,
     "metadata": {},
     "output_type": "execute_result"
    },
    {
     "data": {
      "image/png": "[encoded data removed]",
      "text/plain": [
       "<Figure size 432x288 with 1 Axes>"
      ]
     },
     "metadata": {
      "needs_background": "light"
     },
     "output_type": "display_data"
    }
   ],
   "source": [
    "plt.title(\"SH City Latitude vs. Cloudiness (%) (09/21/2020)\")\n",
    "plt.xlabel(\"Latitude\")\n",
    "plt.ylabel(\"Cloudiness %\")\n",
    "plt.grid()\n",
    "plt.scatter(X,y)\n",
    "plt.plot(cloudiness_range, predict_cloudiness, color=\"red\")\n",
    "plt.text(5,20, formula, color=\"red\")\n",
    "plt.text(5,13, r_squared_str, color=\"red\")\n",
    "plt.show"
   ]
  },
  {
   "cell_type": "markdown",
   "metadata": {},
   "source": [
    "The R squared value for this linear regression is also quite low. Again, there is apparently little to know correlation betwen cloudiness and latitude in the Southern Hemisphere as well."
   ]
  },
  {
   "cell_type": "markdown",
   "metadata": {},
   "source": [
    "### Wind Speed (mph) vs. Latitude (Northern and Southern Hemisphere)¶"
   ]
  },
  {
   "cell_type": "markdown",
   "metadata": {},
   "source": [
    "#### (Northern Hemisphere)"
   ]
  },
  {
   "cell_type": "code",
   "execution_count": 74,
   "metadata": {},
   "outputs": [],
   "source": [
    "X = NH_df[\"Lat\"].values\n",
    "X_array = [[e] for e in X]\n",
    "y = NH_df[\"Wind Speed\"].values"
   ]
  },
  {
   "cell_type": "code",
   "execution_count": 75,
   "metadata": {},
   "outputs": [
    {
     "data": {
      "text/plain": [
       "LinearRegression()"
      ]
     },
     "execution_count": 75,
     "metadata": {},
     "output_type": "execute_result"
    }
   ],
   "source": [
    "model = LinearRegression()\n",
    "model.fit(X_array, y)"
   ]
  },
  {
   "cell_type": "code",
   "execution_count": 76,
   "metadata": {},
   "outputs": [
    {
     "data": {
      "text/plain": [
       "0.056126428995853156"
      ]
     },
     "execution_count": 76,
     "metadata": {},
     "output_type": "execute_result"
    }
   ],
   "source": [
    "slope = model.coef_[0]\n",
    "slope"
   ]
  },
  {
   "cell_type": "code",
   "execution_count": 77,
   "metadata": {},
   "outputs": [
    {
     "data": {
      "text/plain": [
       "6.210558613225822"
      ]
     },
     "execution_count": 77,
     "metadata": {},
     "output_type": "execute_result"
    }
   ],
   "source": [
    "intercept = model.intercept_\n",
    "intercept"
   ]
  },
  {
   "cell_type": "code",
   "execution_count": 78,
   "metadata": {},
   "outputs": [
    {
     "data": {
      "text/plain": [
       "0.027919271742861573"
      ]
     },
     "execution_count": 78,
     "metadata": {},
     "output_type": "execute_result"
    }
   ],
   "source": [
    "r_squared = model.score(X_array, y)\n",
    "r_squared"
   ]
  },
  {
   "cell_type": "code",
   "execution_count": 79,
   "metadata": {},
   "outputs": [],
   "source": [
    "def predict_function(wind_speed):\n",
    "    return model.predict([[wind_speed]])[0]"
   ]
  },
  {
   "cell_type": "code",
   "execution_count": 80,
   "metadata": {},
   "outputs": [],
   "source": [
    "wind_speed_range = np.arange(min(X), max(X), 0.001)\n",
    "predict_wind_speed_range = [predict_function(e) for e in wind_speed_range]"
   ]
  },
  {
   "cell_type": "code",
   "execution_count": 81,
   "metadata": {},
   "outputs": [],
   "source": [
    "# Variables used for creating text labels on plot\n",
    "formula = f\"y = {round(intercept, 3)} + {round(slope, 3)}x\"\n",
    "r_squared_str = f\"$R^{2}$={round(r_squared, 3)}\""
   ]
  },
  {
   "cell_type": "code",
   "execution_count": 82,
   "metadata": {},
   "outputs": [
    {
     "data": {
      "text/plain": [
       "<function matplotlib.pyplot.show(close=None, block=None)>"
      ]
     },
     "execution_count": 82,
     "metadata": {},
     "output_type": "execute_result"
    },
    {
     "data": {
      "image/png": "[encoded data removed]",
      "text/plain": [
       "<Figure size 432x288 with 1 Axes>"
      ]
     },
     "metadata": {
      "needs_background": "light"
     },
     "output_type": "display_data"
    }
   ],
   "source": [
    "plt.title(\"NH City Latitude vs. Wind Speed (mph) (09/21/2020)\")\n",
    "plt.xlabel(\"Latitude\")\n",
    "plt.ylabel(\"Wind Speed (mph)\")\n",
    "plt.grid()\n",
    "plt.scatter(X,y)\n",
    "plt.plot(wind_speed_range, predict_wind_speed_range, color=\"red\")\n",
    "plt.text(5,48, formula, color=\"red\")\n",
    "plt.text(5,41, r_squared_str, color=\"red\")\n",
    "plt.show"
   ]
  },
  {
   "cell_type": "markdown",
   "metadata": {},
   "source": [
    "The data points here are quite spread out, and the R Squared value is low. This indicates that there is little to know correlation between latitude and wind speed. However, much like humidity, there are some data points that are of interest. You can see that there are a couple of cities located far to the north report far higher wind speeds than others in this group."
   ]
  },
  {
   "cell_type": "markdown",
   "metadata": {},
   "source": [
    "#### (Southern Hemisphere)"
   ]
  },
  {
   "cell_type": "code",
   "execution_count": 83,
   "metadata": {},
   "outputs": [],
   "source": [
    "X = SH_df[\"Lat\"].values\n",
    "X_array = [[e] for e in X]\n",
    "y = SH_df[\"Wind Speed\"].values"
   ]
  },
  {
   "cell_type": "code",
   "execution_count": 84,
   "metadata": {},
   "outputs": [
    {
     "data": {
      "text/plain": [
       "LinearRegression()"
      ]
     },
     "execution_count": 84,
     "metadata": {},
     "output_type": "execute_result"
    }
   ],
   "source": [
    "model = LinearRegression()\n",
    "model.fit(X_array, y)"
   ]
  },
  {
   "cell_type": "code",
   "execution_count": 85,
   "metadata": {},
   "outputs": [
    {
     "data": {
      "text/plain": [
       "-0.03431161457891661"
      ]
     },
     "execution_count": 85,
     "metadata": {},
     "output_type": "execute_result"
    }
   ],
   "source": [
    "slope = model.coef_[0]\n",
    "slope"
   ]
  },
  {
   "cell_type": "code",
   "execution_count": 86,
   "metadata": {},
   "outputs": [
    {
     "data": {
      "text/plain": [
       "8.229602075296285"
      ]
     },
     "execution_count": 86,
     "metadata": {},
     "output_type": "execute_result"
    }
   ],
   "source": [
    "intercept = model.intercept_\n",
    "intercept"
   ]
  },
  {
   "cell_type": "code",
   "execution_count": 87,
   "metadata": {},
   "outputs": [
    {
     "data": {
      "text/plain": [
       "0.007484415930354427"
      ]
     },
     "execution_count": 87,
     "metadata": {},
     "output_type": "execute_result"
    }
   ],
   "source": [
    "r_squared = model.score(X_array, y)\n",
    "r_squared"
   ]
  },
  {
   "cell_type": "code",
   "execution_count": 88,
   "metadata": {},
   "outputs": [],
   "source": [
    "def predict_function(wind_speed):\n",
    "    return model.predict([[wind_speed]])[0]"
   ]
  },
  {
   "cell_type": "code",
   "execution_count": 89,
   "metadata": {},
   "outputs": [],
   "source": [
    "wind_speed_range = np.arange(min(X), max(X), 0.001)\n",
    "predict_wind_speed_range = [predict_function(e) for e in wind_speed_range]"
   ]
  },
  {
   "cell_type": "code",
   "execution_count": 90,
   "metadata": {},
   "outputs": [],
   "source": [
    "# Variables used for creating text labels on plot\n",
    "formula = f\"y = {round(intercept, 3)} + {round(slope, 3)}x\"\n",
    "r_squared_str = f\"$R^{2}$={round(r_squared, 3)}\""
   ]
  },
  {
   "cell_type": "code",
   "execution_count": 92,
   "metadata": {},
   "outputs": [
    {
     "data": {
      "text/plain": [
       "<function matplotlib.pyplot.show(close=None, block=None)>"
      ]
     },
     "execution_count": 92,
     "metadata": {},
     "output_type": "execute_result"
    },
    {
     "data": {
      "image/png": "[encoded data removed]",
      "text/plain": [
       "<Figure size 432x288 with 1 Axes>"
      ]
     },
     "metadata": {
      "needs_background": "light"
     },
     "output_type": "display_data"
    }
   ],
   "source": [
    "plt.title(\"SH City Latitude vs. Wind Speed (mph) (09/21/2020)\")\n",
    "plt.xlabel(\"Latitude\")\n",
    "plt.ylabel(\"Wind Speed (mph)\")\n",
    "plt.grid()\n",
    "plt.scatter(X,y)\n",
    "plt.plot(wind_speed_range, predict_wind_speed_range, color=\"red\")\n",
    "plt.text(-55,22, formula, color=\"red\")\n",
    "plt.text(-55,20, r_squared_str, color=\"red\")\n",
    "plt.show"
   ]
  },
  {
   "cell_type": "markdown",
   "metadata": {},
   "source": [
    "Although the R Squared value is very low, one can see a small trend. you can also see that like in the Northern Hemisphere there are some data anomalies that require further analysis."
   ]
  },
  {
   "cell_type": "markdown",
   "metadata": {},
   "source": [
    "# Part II : VacationPy\n",
    "----\n"
   ]
  },
  {
   "cell_type": "code",
   "execution_count": 93,
   "metadata": {},
   "outputs": [
    {
     "data": {
      "text/html": [
       "<div>\n",
       "<style scoped>\n",
       "    .dataframe tbody tr th:only-of-type {\n",
       "        vertical-align: middle;\n",
       "    }\n",
       "\n",
       "    .dataframe tbody tr th {\n",
       "        vertical-align: top;\n",
       "    }\n",
       "\n",
       "    .dataframe thead th {\n",
       "        text-align: right;\n",
       "    }\n",
       "</style>\n",
       "<table border=\"1\" class=\"dataframe\">\n",
       "  <thead>\n",
       "    <tr style=\"text-align: right;\">\n",
       "      <th></th>\n",
       "      <th>City</th>\n",
       "      <th>Lat</th>\n",
       "      <th>Lon</th>\n",
       "      <th>Max Temp</th>\n",
       "      <th>Humidity</th>\n",
       "      <th>Cloudiness</th>\n",
       "      <th>Wind Speed</th>\n",
       "      <th>Country</th>\n",
       "      <th>Date</th>\n",
       "    </tr>\n",
       "  </thead>\n",
       "  <tbody>\n",
       "    <tr>\n",
       "      <th>0</th>\n",
       "      <td>Ushuaia</td>\n",
       "      <td>-54.8</td>\n",
       "      <td>-68.30</td>\n",
       "      <td>50.00</td>\n",
       "      <td>57</td>\n",
       "      <td>75</td>\n",
       "      <td>3.56</td>\n",
       "      <td>AR</td>\n",
       "      <td>1600721730</td>\n",
       "    </tr>\n",
       "    <tr>\n",
       "      <th>1</th>\n",
       "      <td>Kutum</td>\n",
       "      <td>14.2</td>\n",
       "      <td>24.67</td>\n",
       "      <td>84.76</td>\n",
       "      <td>26</td>\n",
       "      <td>86</td>\n",
       "      <td>12.06</td>\n",
       "      <td>SD</td>\n",
       "      <td>1600721958</td>\n",
       "    </tr>\n",
       "  </tbody>\n",
       "</table>\n",
       "</div>"
      ],
      "text/plain": [
       "      City   Lat    Lon  Max Temp  Humidity  Cloudiness  Wind Speed Country  \\\n",
       "0  Ushuaia -54.8 -68.30     50.00        57          75        3.56      AR   \n",
       "1    Kutum  14.2  24.67     84.76        26          86       12.06      SD   \n",
       "\n",
       "         Date  \n",
       "0  1600721730  \n",
       "1  1600721958  "
      ]
     },
     "execution_count": 93,
     "metadata": {},
     "output_type": "execute_result"
    }
   ],
   "source": [
    "df.head(2)"
   ]
  },
  {
   "cell_type": "code",
   "execution_count": 110,
   "metadata": {},
   "outputs": [
    {
     "data": {
      "text/html": [
       "<div>\n",
       "<style scoped>\n",
       "    .dataframe tbody tr th:only-of-type {\n",
       "        vertical-align: middle;\n",
       "    }\n",
       "\n",
       "    .dataframe tbody tr th {\n",
       "        vertical-align: top;\n",
       "    }\n",
       "\n",
       "    .dataframe thead th {\n",
       "        text-align: right;\n",
       "    }\n",
       "</style>\n",
       "<table border=\"1\" class=\"dataframe\">\n",
       "  <thead>\n",
       "    <tr style=\"text-align: right;\">\n",
       "      <th></th>\n",
       "      <th>City</th>\n",
       "      <th>Lat</th>\n",
       "      <th>Lon</th>\n",
       "      <th>Max Temp</th>\n",
       "      <th>Humidity</th>\n",
       "      <th>Cloudiness</th>\n",
       "      <th>Wind Speed</th>\n",
       "      <th>Country</th>\n",
       "      <th>Date</th>\n",
       "    </tr>\n",
       "  </thead>\n",
       "  <tbody>\n",
       "    <tr>\n",
       "      <th>2</th>\n",
       "      <td>Albany</td>\n",
       "      <td>42.60</td>\n",
       "      <td>-73.97</td>\n",
       "      <td>63.0</td>\n",
       "      <td>24</td>\n",
       "      <td>0</td>\n",
       "      <td>1.61</td>\n",
       "      <td>US</td>\n",
       "      <td>1600721958</td>\n",
       "    </tr>\n",
       "    <tr>\n",
       "      <th>7</th>\n",
       "      <td>Ponta do Sol</td>\n",
       "      <td>32.67</td>\n",
       "      <td>-17.10</td>\n",
       "      <td>73.4</td>\n",
       "      <td>73</td>\n",
       "      <td>20</td>\n",
       "      <td>6.93</td>\n",
       "      <td>PT</td>\n",
       "      <td>1600721959</td>\n",
       "    </tr>\n",
       "  </tbody>\n",
       "</table>\n",
       "</div>"
      ],
      "text/plain": [
       "           City    Lat    Lon  Max Temp  Humidity  Cloudiness  Wind Speed  \\\n",
       "2        Albany  42.60 -73.97      63.0        24           0        1.61   \n",
       "7  Ponta do Sol  32.67 -17.10      73.4        73          20        6.93   \n",
       "\n",
       "  Country        Date  \n",
       "2      US  1600721958  \n",
       "7      PT  1600721959  "
      ]
     },
     "execution_count": 110,
     "metadata": {},
     "output_type": "execute_result"
    }
   ],
   "source": [
    "perfect_weather_df = df[\n",
    "    (df[\"Max Temp\"] <= 80)\n",
    "    & (df[\"Max Temp\"] >= 60)\n",
    "    & (df[\"Wind Speed\"] <= 20)\n",
    "    & (df[\"Cloudiness\"] <= 30)\n",
    "]\n",
    "perfect_weather_df.head(2)"
   ]
  },
  {
   "cell_type": "code",
   "execution_count": 131,
   "metadata": {},
   "outputs": [],
   "source": [
    "lat = perfect_weather_df[\"Lat\"].tolist()\n",
    "lon = perfect_weather_df[\"Lat\"].tolist()\n",
    "lat_lon = list(zip(lat, lon))"
   ]
  },
  {
   "cell_type": "code",
   "execution_count": null,
   "metadata": {},
   "outputs": [],
   "source": []
  },
  {
   "cell_type": "code",
   "execution_count": 134,
   "metadata": {},
   "outputs": [
    {
     "data": {
      "text/plain": [
       "<Response [200]>"
      ]
     },
     "execution_count": 134,
     "metadata": {},
     "output_type": "execute_result"
    }
   ],
   "source": [
    "requests.get(\n",
    "    \"http://maps.googleapis.com/maps/api/place/nearbysearch/json\",\n",
    "    params={\"key\": g_key, \"input\": lat_lon[2], \"radius\": \"5000\"},\n",
    ")"
   ]
  },
  {
   "cell_type": "code",
   "execution_count": null,
   "metadata": {},
   "outputs": [],
   "source": [
    "r = requests.get(\"http://api.openweathermap.org/data/2.5/weather\", params={\n",
    "        \"q\": city_list[50],\n",
    "        \"appid\": weather_api_key})"
   ]
  }
 ],
 "metadata": {
  "environment": {
   "name": "common-cpu.m54",
   "type": "gcloud",
   "uri": "gcr.io/deeplearning-platform-release/base-cpu:m54"
  },
  "kernelspec": {
   "display_name": "Python 3",
   "language": "python",
   "name": "python3"
  },
  "language_info": {
   "codemirror_mode": {
    "name": "ipython",
    "version": 3
   },
   "file_extension": ".py",
   "mimetype": "text/x-python",
   "name": "python",
   "nbconvert_exporter": "python",
   "pygments_lexer": "ipython3",
   "version": "3.7.8"
  }
 },
 "nbformat": 4,
 "nbformat_minor": 4
}
