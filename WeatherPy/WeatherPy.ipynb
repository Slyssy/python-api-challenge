{
 "cells": [
  {
   "cell_type": "code",
   "execution_count": 16,
   "metadata": {},
   "outputs": [],
   "source": [
    "import pandas as pd\n",
    "import json\n",
    "import requests\n",
    "import numpy as np\n",
    "from config import weather_api_key\n",
    "from citipy import citipy"
   ]
  },
  {
   "cell_type": "markdown",
   "metadata": {},
   "source": [
    "# WeatherPy\n",
    "----\n",
    "\n",
    "#### Note\n",
    "* Bringing Data Files"
   ]
  },
  {
   "cell_type": "markdown",
   "metadata": {},
   "source": [
    "## Generate Cities List"
   ]
  },
  {
   "cell_type": "code",
   "execution_count": 27,
   "metadata": {},
   "outputs": [],
   "source": [
    "lat_range = (90, -90)\n",
    "lon_range = (180, -180)\n",
    "\n",
    "# Blank list to hold latitude and longitude values\n",
    "lat_lon = []\n",
    "\n",
    "# Using numpy to generate random latitude and longitude values\n",
    "lat = np.random.uniform(high=90, low =-90, size= 1200)\n",
    "lon = np.random.uniform(high=180, low =-180, size= 1200)\n",
    "lat_lon = list(zip(lat, lon))\n",
    "\n",
    "# Blank list to hold city for city list\n",
    "city_list = []\n",
    "\n",
    "for lat_lon in lat_lon:\n",
    "    city = citipy.nearest_city(lat_lon[0], lat_lon[1]).city_name\n",
    "\n",
    "    if city not in city_list:\n",
    "        city_list.append(city)"
   ]
  },
  {
   "cell_type": "code",
   "execution_count": 28,
   "metadata": {},
   "outputs": [
    {
     "data": {
      "text/plain": [
       "519"
      ]
     },
     "execution_count": 28,
     "metadata": {},
     "output_type": "execute_result"
    }
   ],
   "source": [
    "len(city_list)"
   ]
  },
  {
   "cell_type": "markdown",
   "metadata": {},
   "source": [
    "### Perform API Calls\n",
    "* Perform a weather check on each city using a series of successive API calls.\n",
    "* Include a print log of each city as it'sbeing processed (with the city number and city name).\n"
   ]
  },
  {
   "cell_type": "markdown",
   "metadata": {},
   "source": [
    "url = \"http://api.openweathermap.org/data/2.5/weather\"\n",
    "units = \"imperial\"\n",
    "parameters = {\n",
    "    \"q\": city_list,\n",
    "    \"appid\": weather_api_key\n",
    "}"
   ]
  },
  {
   "cell_type": "code",
   "execution_count": 4,
   "metadata": {},
   "outputs": [],
   "source": [
    "def extract_data(data):\n",
    "    return {\n",
    "        \"name\": data[\"name\"],\n",
    "        \"lat\": data[\"coord\"][\"lat\"],\n",
    "        \"lon\": data[\"coord\"][\"lon\"],\n",
    "        \"max temp\": data [\"main\"][\"temp_max\"],\n",
    "        \"humidity\": data [\"main\"][\"humidity\"],\n",
    "        \"cloudines\": data [\"clouds\"][\"all\"],\n",
    "        \"wind speed\": data [\"wind\"][\"speed\"],\n",
    "        \"country\": data[\"sys\"][\"country\"],\n",
    "        \"date\": data[\"dt\"]\n",
    "    }\n",
    "    "
   ]
  },
  {
   "cell_type": "code",
   "execution_count": 7,
   "metadata": {},
   "outputs": [],
   "source": [
    "city_results = []\n",
    "\n",
    "for city in city_list:\n",
    "    \n",
    "    data = requests.get(\"http://api.openweathermap.org/data/2.5/weather\", params={\n",
    "        \"q\": city,\n",
    "        \"appid\": weather_api_key\n",
    "    }).json()\n",
    "    \n",
    "    city_response = extract_data(data)\n",
    "    \n",
    "    city_results.append(city_results)"
   ]
  },
  {
   "cell_type": "code",
   "execution_count": 5,
   "metadata": {},
   "outputs": [
    {
     "ename": "NameError",
     "evalue": "name 'city' is not defined",
     "output_type": "error",
     "traceback": [
      "\u001b[0;31m---------------------------------------------------------------------------\u001b[0m",
      "\u001b[0;31mNameError\u001b[0m                                 Traceback (most recent call last)",
      "\u001b[0;32m<ipython-input-5-0342c1aa905a>\u001b[0m in \u001b[0;36m<module>\u001b[0;34m\u001b[0m\n\u001b[1;32m      3\u001b[0m \u001b[0mquery_\u001b[0m \u001b[0;34m=\u001b[0m \u001b[0;34mf\"{url}appid={weather_api_key}&units={units}&q=\"\u001b[0m\u001b[0;34m\u001b[0m\u001b[0;34m\u001b[0m\u001b[0m\n\u001b[1;32m      4\u001b[0m \u001b[0;34m\u001b[0m\u001b[0m\n\u001b[0;32m----> 5\u001b[0;31m \u001b[0mr\u001b[0m \u001b[0;34m=\u001b[0m \u001b[0mrequests\u001b[0m\u001b[0;34m.\u001b[0m\u001b[0mget\u001b[0m\u001b[0;34m(\u001b[0m\u001b[0mquery_\u001b[0m \u001b[0;34m+\u001b[0m \u001b[0mcity\u001b[0m\u001b[0;34m)\u001b[0m\u001b[0;34m.\u001b[0m\u001b[0mjson\u001b[0m\u001b[0;34m(\u001b[0m\u001b[0;34m)\u001b[0m\u001b[0;34m\u001b[0m\u001b[0;34m\u001b[0m\u001b[0m\n\u001b[0m\u001b[1;32m      6\u001b[0m \u001b[0mr\u001b[0m\u001b[0;34m\u001b[0m\u001b[0;34m\u001b[0m\u001b[0m\n",
      "\u001b[0;31mNameError\u001b[0m: name 'city' is not defined"
     ]
    }
   ],
   "source": [
    "url = \"http://api.openweathermap.org/data/2.5/weather\"\n",
    "units = \"imperial\"\n",
    "query_ = f\"{url}appid={weather_api_key}&units={units}&q=\"\n",
    "\n",
    "r = requests.get(query_ + city).json()\n",
    "r"
   ]
  },
  {
   "cell_type": "code",
   "execution_count": null,
   "metadata": {},
   "outputs": [],
   "source": []
  },
  {
   "cell_type": "code",
   "execution_count": null,
   "metadata": {},
   "outputs": [],
   "source": []
  },
  {
   "cell_type": "markdown",
   "metadata": {},
   "source": [
    "city_results"
   ]
  },
  {
   "cell_type": "code",
   "execution_count": 27,
   "metadata": {},
   "outputs": [],
   "source": [
    "r = requests.get(url=url, params=parameters)"
   ]
  },
  {
   "cell_type": "code",
   "execution_count": 28,
   "metadata": {},
   "outputs": [
    {
     "data": {
      "text/plain": [
       "431"
      ]
     },
     "execution_count": 28,
     "metadata": {},
     "output_type": "execute_result"
    }
   ],
   "source": [
    "r.status_code"
   ]
  },
  {
   "cell_type": "code",
   "execution_count": null,
   "metadata": {},
   "outputs": [],
   "source": []
  }
 ],
 "metadata": {
  "environment": {
   "name": "common-cpu.m54",
   "type": "gcloud",
   "uri": "gcr.io/deeplearning-platform-release/base-cpu:m54"
  },
  "kernelspec": {
   "display_name": "Python 3",
   "language": "python",
   "name": "python3"
  },
  "language_info": {
   "codemirror_mode": {
    "name": "ipython",
    "version": 3
   },
   "file_extension": ".py",
   "mimetype": "text/x-python",
   "name": "python",
   "nbconvert_exporter": "python",
   "pygments_lexer": "ipython3",
   "version": "3.7.8"
  }
 },
 "nbformat": 4,
 "nbformat_minor": 4
}
