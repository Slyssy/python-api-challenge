{
 "cells": [
  {
   "cell_type": "code",
   "execution_count": 1,
   "metadata": {},
   "outputs": [],
   "source": [
    "%load_ext lab_black\n",
    "import pandas as pd\n",
    "import json\n",
    "import requests\n",
    "import numpy as np\n",
    "from config import weather_api_key\n",
    "from config import g_key\n",
    "from citipy import citipy\n",
    "import matplotlib.pyplot as plt\n",
    "from sklearn.linear_model import LinearRegression"
   ]
  },
  {
   "cell_type": "markdown",
   "metadata": {},
   "source": [
    "# Part I : WeatherPy\n",
    "----\n"
   ]
  },
  {
   "cell_type": "markdown",
   "metadata": {},
   "source": [
    "## Generate Cities List"
   ]
  },
  {
   "cell_type": "code",
   "execution_count": 2,
   "metadata": {},
   "outputs": [],
   "source": [
    "lat_range = (90, -90)\n",
    "lon_range = (180, -180)\n",
    "\n",
    "# Blank list to hold latitude and longitude values\n",
    "lat_lon = []\n",
    "\n",
    "# Using numpy to generate random latitude and longitude values\n",
    "lat = np.random.uniform(high=90, low=-90, size=1400)\n",
    "lon = np.random.uniform(high=180, low=-180, size=1400)\n",
    "lat_lon = list(zip(lat, lon))\n",
    "\n",
    "# Using \"for\" loop to generate city list.\n",
    "city_list = []\n",
    "\n",
    "for lat_lon in lat_lon:\n",
    "    city = citipy.nearest_city(lat_lon[0], lat_lon[1]).city_name\n",
    "\n",
    "    # Appending only non-duplicated names to the city list.\n",
    "    if city not in city_list:\n",
    "        city_list.append(city)"
   ]
  },
  {
   "cell_type": "code",
   "execution_count": 3,
   "metadata": {},
   "outputs": [
    {
     "data": {
      "text/plain": [
       "591"
      ]
     },
     "execution_count": 3,
     "metadata": {},
     "output_type": "execute_result"
    }
   ],
   "source": [
    "len(city_list)"
   ]
  },
  {
   "cell_type": "markdown",
   "metadata": {},
   "source": [
    "### Perform API Calls\n",
    "* Perform a weather check on each city using a series of successive API calls.\n",
    "* Include a print log of each city as it'sbeing processed (with the city number and city name).\n"
   ]
  },
  {
   "cell_type": "code",
   "execution_count": 4,
   "metadata": {},
   "outputs": [],
   "source": [
    "def extract_data(data):\n",
    "    return {\n",
    "        \"City\": data[\"name\"],\n",
    "        \"Lat\": data[\"coord\"][\"lat\"],\n",
    "        \"Lon\": data[\"coord\"][\"lon\"],\n",
    "        \"Max Temp\": data[\"main\"][\"temp_max\"],\n",
    "        \"Humidity\": data[\"main\"][\"humidity\"],\n",
    "        \"Cloudiness\": data[\"clouds\"][\"all\"],\n",
    "        \"Wind Speed\": data[\"wind\"][\"speed\"],\n",
    "        \"Country\": data[\"sys\"][\"country\"],\n",
    "        \"Date\": data[\"dt\"],\n",
    "    }"
   ]
  },
  {
   "cell_type": "code",
   "execution_count": 5,
   "metadata": {},
   "outputs": [
    {
     "name": "stdout",
     "output_type": "stream",
     "text": [
      "Beginning Data Retrieval\n",
      "----------------------------------------\n",
      "Processing Record 1 | bengkulu\n",
      "Processing Record 2 | pevek\n",
      "Processing Record 3 | turayf\n",
      "Processing Record 4 | newnan\n",
      "Processing Record 5 | ponta delgada\n",
      "Processing Record 6 | saskylakh\n",
      "Processing Record 7 | punta arenas\n",
      "Processing Record 8 | hithadhoo\n",
      "Processing Record 9 | gat\n",
      "Processing Record 10 | qaanaaq\n",
      "Processing Record 11 | zhigansk\n",
      "Processing Record 12 | tasiilaq\n",
      "Processing Record 13 | poum\n",
      "Processing Record 14 | shiggaon\n",
      "Processing Record 15 | shimoda\n",
      "Processing Record 16 | vaini\n",
      "Processing Record 17 | longyearbyen\n",
      "Processing Record 18 | leningradskiy\n",
      "Processing Record 19 | kano\n",
      "Processing Record 20 | new norfolk\n",
      "Processing Record 21 | ambanja\n",
      "Processing Record 22 | thompson\n",
      "Processing Record 23 | trincomalee\n",
      "Processing Record 24 | mataura\n",
      "Processing Record 25 | albany\n",
      "Processing Record 26 | ribeira grande\n",
      "Processing Record 27 | eirunepe\n",
      "Processing Record 28 | hermanus\n",
      "Processing Record 29 | tepetzintla\n",
      "Processing Record 30 | ushuaia\n",
      "Processing Record 31 | rikitea\n",
      "Processing Record 32 | wagar\n",
      "Processing Record 33 | nikolskoye\n",
      "Processing Record 34 | tambopata\n",
      "City not found. Skipping...\n",
      "Processing Record 35 | bluff\n",
      "Processing Record 36 | kamaishi\n",
      "Processing Record 37 | khatanga\n",
      "Processing Record 38 | hofn\n",
      "City not found. Skipping...\n",
      "Processing Record 39 | bonthe\n",
      "Processing Record 40 | lubango\n",
      "Processing Record 41 | nynashamn\n",
      "Processing Record 42 | loukhi\n",
      "City not found. Skipping...\n",
      "Processing Record 43 | barrow\n",
      "Processing Record 44 | pedasi\n",
      "City not found. Skipping...\n",
      "Processing Record 45 | barabash\n",
      "Processing Record 46 | itarema\n",
      "Processing Record 47 | grindavik\n",
      "City not found. Skipping...\n",
      "Processing Record 48 | kavieng\n",
      "Processing Record 49 | sibu\n",
      "Processing Record 50 | kapaa\n",
      "Processing Record 51 | hasaki\n",
      "City not found. Skipping...\n",
      "Processing Record 52 | nargana\n",
      "Processing Record 53 | arraial do cabo\n",
      "Processing Record 54 | bathsheba\n",
      "Processing Record 55 | hilo\n",
      "Processing Record 56 | awjilah\n",
      "Processing Record 57 | coacotla\n",
      "City not found. Skipping...\n",
      "Processing Record 58 | kieta\n",
      "Processing Record 59 | puerto ayora\n",
      "Processing Record 60 | severo-kurilsk\n",
      "Processing Record 61 | whitianga\n",
      "City not found. Skipping...\n",
      "Processing Record 62 | lebu\n",
      "Processing Record 63 | jamestown\n",
      "Processing Record 64 | vestmannaeyjar\n",
      "Processing Record 65 | mercedes\n",
      "Processing Record 66 | cape town\n",
      "Processing Record 67 | maarianhamina\n",
      "Processing Record 68 | frontino\n",
      "Processing Record 69 | svetlaya\n",
      "Processing Record 70 | valparaiso\n",
      "Processing Record 71 | san pedro\n",
      "Processing Record 72 | fortuna\n",
      "Processing Record 73 | mount gambier\n",
      "Processing Record 74 | alice springs\n",
      "Processing Record 75 | katima mulilo\n",
      "Processing Record 76 | ginir\n",
      "Processing Record 77 | tonstad\n",
      "Processing Record 78 | pangody\n",
      "Processing Record 79 | upernavik\n",
      "Processing Record 80 | saint-pierre\n",
      "Processing Record 81 | sulangan\n",
      "Processing Record 82 | abnub\n",
      "City not found. Skipping...\n",
      "Processing Record 83 | gizo\n",
      "Processing Record 84 | fatehpur\n",
      "Processing Record 85 | ushtobe\n",
      "Processing Record 86 | saldanha\n",
      "Processing Record 87 | palmer\n",
      "Processing Record 88 | airai\n",
      "Processing Record 89 | abu samrah\n",
      "Processing Record 90 | saint-philippe\n",
      "Processing Record 91 | dikson\n",
      "Processing Record 92 | nicoya\n",
      "Processing Record 93 | bonavista\n",
      "Processing Record 94 | marawi\n",
      "Processing Record 95 | coquimbo\n",
      "Processing Record 96 | palora\n",
      "Processing Record 97 | nuuk\n",
      "Processing Record 98 | vila\n",
      "Processing Record 99 | cabo san lucas\n",
      "Processing Record 100 | atuona\n",
      "Processing Record 101 | chuy\n",
      "Processing Record 102 | matay\n",
      "Processing Record 103 | la ronge\n",
      "Processing Record 104 | mar del plata\n",
      "Processing Record 105 | codrington\n",
      "Processing Record 106 | pontes e lacerda\n",
      "Processing Record 107 | avarua\n",
      "Processing Record 108 | flinders\n",
      "Processing Record 109 | dauphin\n",
      "Processing Record 110 | balkhash\n",
      "Processing Record 111 | hualmay\n",
      "Processing Record 112 | acarau\n",
      "Processing Record 113 | adrar\n",
      "Processing Record 114 | saint anthony\n",
      "Processing Record 115 | port macquarie\n",
      "City not found. Skipping...\n",
      "Processing Record 116 | coihaique\n",
      "Processing Record 117 | nemuro\n",
      "Processing Record 118 | great falls\n",
      "Processing Record 119 | san quintin\n",
      "Processing Record 120 | hobart\n",
      "Processing Record 121 | ponta do sol\n",
      "Processing Record 122 | port alfred\n",
      "Processing Record 123 | butaritari\n",
      "Processing Record 124 | klaksvik\n",
      "Processing Record 125 | cidreira\n",
      "Processing Record 126 | sao joao da barra\n",
      "Processing Record 127 | barra\n",
      "City not found. Skipping...\n",
      "Processing Record 128 | bredasdorp\n",
      "Processing Record 129 | capitan bado\n",
      "Processing Record 130 | vestmanna\n",
      "Processing Record 131 | edson\n",
      "Processing Record 132 | isangel\n",
      "Processing Record 133 | bethel\n",
      "Processing Record 134 | bemidji\n",
      "Processing Record 135 | popondetta\n",
      "Processing Record 136 | busselton\n",
      "Processing Record 137 | avera\n",
      "Processing Record 138 | port hawkesbury\n",
      "Processing Record 139 | norman wells\n",
      "Processing Record 140 | riyadh\n",
      "Processing Record 141 | freising\n",
      "Processing Record 142 | baykit\n",
      "Processing Record 143 | black river\n",
      "Processing Record 144 | geraldton\n",
      "Processing Record 145 | bichura\n",
      "Processing Record 146 | itoman\n",
      "Processing Record 147 | pacific grove\n",
      "Processing Record 148 | ocampo\n",
      "Processing Record 149 | villarrica\n",
      "Processing Record 150 | labuhan\n",
      "Processing Record 151 | kavaratti\n",
      "Processing Record 152 | harper\n",
      "Processing Record 153 | presidencia roque saenz pena\n",
      "Processing Record 154 | georgetown\n",
      "Processing Record 155 | kropotkin\n",
      "Processing Record 156 | tilichiki\n",
      "Processing Record 157 | tiarei\n",
      "Processing Record 158 | yellowknife\n",
      "Processing Record 159 | srednekolymsk\n",
      "Processing Record 160 | dalnegorsk\n",
      "Processing Record 161 | erzin\n",
      "Processing Record 162 | sechura\n",
      "Processing Record 163 | dano\n",
      "Processing Record 164 | zhangjiakou\n",
      "Processing Record 165 | victoria\n",
      "Processing Record 166 | tiksi\n",
      "Processing Record 167 | sitka\n",
      "Processing Record 168 | puerto del rosario\n",
      "Processing Record 169 | atar\n",
      "Processing Record 170 | husavik\n",
      "Processing Record 171 | kirensk\n",
      "Processing Record 172 | aswan\n",
      "Processing Record 173 | hamilton\n",
      "Processing Record 174 | necochea\n",
      "Processing Record 175 | kahului\n",
      "Processing Record 176 | parry sound\n",
      "Processing Record 177 | touros\n",
      "Processing Record 178 | makakilo city\n",
      "Processing Record 179 | hovd\n",
      "City not found. Skipping...\n",
      "City not found. Skipping...\n",
      "Processing Record 180 | thurso\n",
      "Processing Record 181 | saint-augustin\n",
      "Processing Record 182 | cayambe\n",
      "Processing Record 183 | hopelchen\n",
      "Processing Record 184 | hervey bay\n",
      "City not found. Skipping...\n",
      "Processing Record 185 | charagua\n",
      "Processing Record 186 | padang\n",
      "Processing Record 187 | curaca\n",
      "Processing Record 188 | sao felix do xingu\n",
      "Processing Record 189 | yerbogachen\n",
      "Processing Record 190 | cururupu\n",
      "Processing Record 191 | lumphat\n",
      "City not found. Skipping...\n",
      "Processing Record 192 | mahebourg\n",
      "Processing Record 193 | ternate\n",
      "City not found. Skipping...\n",
      "Processing Record 194 | alamosa\n",
      "Processing Record 195 | ancud\n",
      "Processing Record 196 | naze\n",
      "Processing Record 197 | bilibino\n",
      "Processing Record 198 | delijan\n",
      "Processing Record 199 | yeppoon\n",
      "Processing Record 200 | los llanos de aridane\n",
      "Processing Record 201 | annapolis\n",
      "Processing Record 202 | torbay\n",
      "Processing Record 203 | kloulklubed\n",
      "Processing Record 204 | port blair\n",
      "Processing Record 205 | shirokiy\n",
      "City not found. Skipping...\n",
      "Processing Record 206 | gabu\n",
      "Processing Record 207 | kongolo\n",
      "Processing Record 208 | lagoa\n",
      "Processing Record 209 | rawson\n",
      "Processing Record 210 | bayir\n",
      "Processing Record 211 | gibara\n",
      "Processing Record 212 | sao jose da coroa grande\n",
      "Processing Record 213 | udimskiy\n",
      "Processing Record 214 | provideniya\n",
      "Processing Record 215 | samarai\n",
      "Processing Record 216 | antofagasta\n",
      "Processing Record 217 | sabang\n",
      "Processing Record 218 | mnogovershinnyy\n",
      "Processing Record 219 | jadu\n",
      "Processing Record 220 | gillette\n",
      "Processing Record 221 | grand gaube\n",
      "Processing Record 222 | horsham\n",
      "Processing Record 223 | tshikapa\n",
      "Processing Record 224 | san andres\n",
      "City not found. Skipping...\n",
      "Processing Record 225 | sao filipe\n",
      "Processing Record 226 | banjar\n",
      "Processing Record 227 | iracoubo\n",
      "Processing Record 228 | vao\n",
      "Processing Record 229 | nuevitas\n",
      "Processing Record 230 | buin\n",
      "Processing Record 231 | heihe\n",
      "Processing Record 232 | trelew\n",
      "Processing Record 233 | tuktoyaktuk\n",
      "Processing Record 234 | butembo\n",
      "Processing Record 235 | port hedland\n",
      "Processing Record 236 | sumbawanga\n",
      "Processing Record 237 | port elizabeth\n",
      "Processing Record 238 | lovozero\n",
      "Processing Record 239 | asau\n",
      "Processing Record 240 | port-gentil\n",
      "Processing Record 241 | suntar\n",
      "Processing Record 242 | yartsevo\n",
      "Processing Record 243 | barsovo\n",
      "Processing Record 244 | bambous virieux\n",
      "Processing Record 245 | lorengau\n",
      "Processing Record 246 | tuatapere\n",
      "Processing Record 247 | raymondville\n",
      "Processing Record 248 | muros\n",
      "Processing Record 249 | luderitz\n",
      "Processing Record 250 | guerrero negro\n",
      "Processing Record 251 | libreville\n",
      "Processing Record 252 | cherskiy\n",
      "Processing Record 253 | skibbereen\n",
      "City not found. Skipping...\n",
      "Processing Record 254 | povenets\n",
      "Processing Record 255 | coos bay\n",
      "Processing Record 256 | praia\n",
      "Processing Record 257 | morondava\n",
      "Processing Record 258 | nizhniy lomov\n",
      "Processing Record 259 | chifeng\n",
      "Processing Record 260 | beringovskiy\n",
      "Processing Record 261 | rengali\n",
      "Processing Record 262 | katsuura\n",
      "Processing Record 263 | lavrentiya\n",
      "Processing Record 264 | ilulissat\n",
      "Processing Record 265 | wajir\n",
      "Processing Record 266 | hobyo\n",
      "Processing Record 267 | aras\n",
      "Processing Record 268 | alofi\n",
      "Processing Record 269 | tondano\n",
      "City not found. Skipping...\n",
      "City not found. Skipping...\n",
      "Processing Record 270 | clyde river\n",
      "Processing Record 271 | prachin buri\n",
      "Processing Record 272 | faanui\n",
      "Processing Record 273 | kaitangata\n",
      "Processing Record 274 | terrace bay\n",
      "City not found. Skipping...\n",
      "Processing Record 275 | kruisfontein\n",
      "City not found. Skipping...\n",
      "Processing Record 276 | zonguldak\n",
      "Processing Record 277 | woodward\n",
      "Processing Record 278 | sambava\n",
      "Processing Record 279 | golakganj\n",
      "Processing Record 280 | san alberto\n",
      "Processing Record 281 | rongcheng\n",
      "Processing Record 282 | homer\n",
      "Processing Record 283 | east london\n",
      "City not found. Skipping...\n",
      "Processing Record 284 | komsomolskiy\n",
      "Processing Record 285 | kaeo\n",
      "Processing Record 286 | botshabelo\n",
      "Processing Record 287 | matviyivka\n",
      "Processing Record 288 | port shepstone\n",
      "Processing Record 289 | celestun\n",
      "Processing Record 290 | dudinka\n",
      "City not found. Skipping...\n",
      "Processing Record 291 | santander\n",
      "Processing Record 292 | ugoofaaru\n",
      "Processing Record 293 | constitucion\n",
      "Processing Record 294 | brezno\n",
      "Processing Record 295 | almaznyy\n",
      "Processing Record 296 | oleiros\n",
      "Processing Record 297 | chokurdakh\n",
      "Processing Record 298 | cayenne\n",
      "Processing Record 299 | mount isa\n",
      "Processing Record 300 | boa vista\n",
      "Processing Record 301 | dingle\n",
      "Processing Record 302 | elat\n",
      "Processing Record 303 | byron bay\n",
      "Processing Record 304 | iqaluit\n",
      "Processing Record 305 | kayerkan\n",
      "Processing Record 306 | mayahi\n",
      "Processing Record 307 | caravelas\n",
      "Processing Record 308 | rognan\n",
      "Processing Record 309 | port said\n",
      "Processing Record 310 | panguna\n",
      "Processing Record 311 | marathon\n",
      "Processing Record 312 | nabire\n",
      "Processing Record 313 | surt\n",
      "Processing Record 314 | gemena\n",
      "Processing Record 315 | sept-iles\n",
      "Processing Record 316 | turukhansk\n",
      "Processing Record 317 | raduzhnyy\n",
      "Processing Record 318 | castro\n",
      "Processing Record 319 | carnarvon\n",
      "Processing Record 320 | grand-lahou\n",
      "Processing Record 321 | tessalit\n",
      "Processing Record 322 | aki\n",
      "Processing Record 323 | pangnirtung\n",
      "Processing Record 324 | inhambane\n",
      "Processing Record 325 | paraguacu paulista\n",
      "Processing Record 326 | wattegama\n",
      "Processing Record 327 | richards bay\n",
      "Processing Record 328 | qeshm\n",
      "Processing Record 329 | hammerfest\n",
      "Processing Record 330 | kinston\n",
      "Processing Record 331 | prince rupert\n",
      "Processing Record 332 | miram shah\n",
      "City not found. Skipping...\n",
      "Processing Record 333 | kyabram\n",
      "Processing Record 334 | havre-saint-pierre\n",
      "Processing Record 335 | nome\n",
      "Processing Record 336 | dengzhou\n",
      "Processing Record 337 | kodiak\n",
      "Processing Record 338 | porto santo\n",
      "Processing Record 339 | carahue\n",
      "Processing Record 340 | shakhovskaya\n",
      "Processing Record 341 | clarksville\n",
      "Processing Record 342 | mirante do paranapanema\n",
      "Processing Record 343 | mumford\n",
      "City not found. Skipping...\n",
      "Processing Record 344 | san vicente\n",
      "Processing Record 345 | port hardy\n",
      "Processing Record 346 | karaton\n",
      "Processing Record 347 | kalemie\n",
      "Processing Record 348 | svarstad\n",
      "Processing Record 349 | cairns\n",
      "Processing Record 350 | springfield\n",
      "Processing Record 351 | souillac\n",
      "Processing Record 352 | tirano\n",
      "Processing Record 353 | yarmouth\n",
      "Processing Record 354 | nantong\n",
      "Processing Record 355 | pisco\n",
      "Processing Record 356 | moree\n",
      "Processing Record 357 | sterling\n",
      "City not found. Skipping...\n",
      "Processing Record 358 | porto belo\n",
      "Processing Record 359 | dukhovshchina\n",
      "City not found. Skipping...\n",
      "Processing Record 360 | coremas\n",
      "Processing Record 361 | port lincoln\n",
      "Processing Record 362 | rio bueno\n",
      "Processing Record 363 | yulara\n",
      "Processing Record 364 | omboue\n",
      "Processing Record 365 | san rafael\n",
      "Processing Record 366 | christchurch\n",
      "Processing Record 367 | maceio\n",
      "Processing Record 368 | gaoua\n",
      "Processing Record 369 | college\n",
      "Processing Record 370 | mandalgovi\n",
      "Processing Record 371 | roebourne\n",
      "Processing Record 372 | khandyga\n",
      "Processing Record 373 | suba\n",
      "Processing Record 374 | namwala\n",
      "Processing Record 375 | horasan\n",
      "City not found. Skipping...\n",
      "Processing Record 376 | kuloy\n",
      "Processing Record 377 | ust-koksa\n",
      "City not found. Skipping...\n",
      "Processing Record 378 | menongue\n",
      "Processing Record 379 | malgrat de mar\n",
      "Processing Record 380 | half moon bay\n",
      "Processing Record 381 | maniitsoq\n",
      "Processing Record 382 | manokwari\n",
      "Processing Record 383 | ranot\n",
      "Processing Record 384 | itaituba\n",
      "Processing Record 385 | bintulu\n",
      "Processing Record 386 | kasongo\n",
      "Processing Record 387 | saint george\n",
      "Processing Record 388 | benghazi\n",
      "Processing Record 389 | gubkinskiy\n",
      "Processing Record 390 | beloha\n",
      "City not found. Skipping...\n",
      "Processing Record 391 | ouallam\n",
      "Processing Record 392 | atambua\n",
      "Processing Record 393 | nouadhibou\n",
      "Processing Record 394 | oranjestad\n",
      "Processing Record 395 | matara\n",
      "Processing Record 396 | udachnyy\n",
      "Processing Record 397 | pilibanga\n",
      "Processing Record 398 | aktas\n",
      "Processing Record 399 | copala\n",
      "Processing Record 400 | muhlhausen\n",
      "Processing Record 401 | lodja\n",
      "Processing Record 402 | saint andrews\n",
      "Processing Record 403 | noyabrsk\n",
      "City not found. Skipping...\n",
      "Processing Record 404 | siavonga\n",
      "Processing Record 405 | nalut\n",
      "Processing Record 406 | khipro\n",
      "Processing Record 407 | oranjemund\n",
      "Processing Record 408 | kivsharivka\n",
      "Processing Record 409 | longhua\n",
      "Processing Record 410 | lentvaris\n",
      "Processing Record 411 | lahij\n",
      "City not found. Skipping...\n",
      "Processing Record 412 | noumea\n",
      "City not found. Skipping...\n",
      "Processing Record 413 | shaki\n",
      "Processing Record 414 | arlit\n",
      "Processing Record 415 | saint-leu\n",
      "Processing Record 416 | doha\n",
      "Processing Record 417 | pandan\n",
      "Processing Record 418 | kembe\n",
      "Processing Record 419 | tabou\n",
      "Processing Record 420 | carballo\n",
      "Processing Record 421 | beeville\n",
      "Processing Record 422 | tawang\n",
      "Processing Record 423 | buraydah\n",
      "City not found. Skipping...\n",
      "Processing Record 424 | viransehir\n",
      "Processing Record 425 | chake chake\n",
      "Processing Record 426 | emilio carranza\n",
      "Processing Record 427 | banda aceh\n",
      "Processing Record 428 | minab\n",
      "Processing Record 429 | salinopolis\n",
      "Processing Record 430 | aden\n",
      "Processing Record 431 | baykalsk\n",
      "Processing Record 432 | polunochnoye\n",
      "Processing Record 433 | tevaitoa\n",
      "Processing Record 434 | maryborough\n",
      "Processing Record 435 | visby\n",
      "Processing Record 436 | salalah\n",
      "Processing Record 437 | alta\n",
      "Processing Record 438 | taltal\n",
      "Processing Record 439 | yendi\n",
      "Processing Record 440 | talnakh\n",
      "Processing Record 441 | zarand\n",
      "Processing Record 442 | vila franca do campo\n",
      "Processing Record 443 | staryy nadym\n",
      "Processing Record 444 | narsaq\n",
      "City not found. Skipping...\n",
      "Processing Record 445 | sheridan\n",
      "Processing Record 446 | kabare\n",
      "Processing Record 447 | banyo\n",
      "Processing Record 448 | sortland\n",
      "Processing Record 449 | placido de castro\n",
      "Processing Record 450 | fairbanks\n",
      "City not found. Skipping...\n",
      "Processing Record 451 | santa rosa\n",
      "Processing Record 452 | ballina\n",
      "Processing Record 453 | pandamatenga\n",
      "Processing Record 454 | santa maria\n",
      "Processing Record 455 | karratha\n",
      "Processing Record 456 | nantucket\n",
      "Processing Record 457 | maningrida\n",
      "Processing Record 458 | linxia\n",
      "Processing Record 459 | nago\n",
      "Processing Record 460 | jiangyou\n",
      "Processing Record 461 | winsum\n",
      "Processing Record 462 | manaure\n",
      "Processing Record 463 | general roca\n",
      "Processing Record 464 | kathu\n",
      "Processing Record 465 | deep river\n",
      "Processing Record 466 | xinqing\n",
      "Processing Record 467 | sosnovo-ozerskoye\n",
      "Processing Record 468 | revda\n",
      "Processing Record 469 | dekar\n",
      "Processing Record 470 | tigil\n",
      "Processing Record 471 | nanakuli\n",
      "Processing Record 472 | waingapu\n",
      "Processing Record 473 | moose factory\n",
      "Processing Record 474 | bhadrak\n",
      "Processing Record 475 | darhan\n",
      "Processing Record 476 | kilindoni\n",
      "Processing Record 477 | ketchikan\n",
      "Processing Record 478 | manta\n",
      "Processing Record 479 | gondanglegi\n",
      "Processing Record 480 | iranshahr\n",
      "Processing Record 481 | brownsville\n",
      "Processing Record 482 | ulladulla\n",
      "Processing Record 483 | kourou\n",
      "Processing Record 484 | tautira\n",
      "Processing Record 485 | namibe\n",
      "Processing Record 486 | ostrovnoy\n",
      "Processing Record 487 | mackenzie\n",
      "Processing Record 488 | sola\n",
      "Processing Record 489 | aubel\n",
      "City not found. Skipping...\n",
      "Processing Record 490 | quatre cocos\n",
      "Processing Record 491 | asfi\n",
      "Processing Record 492 | huntingdon\n",
      "Processing Record 493 | ihosy\n",
      "City not found. Skipping...\n",
      "Processing Record 494 | genhe\n",
      "Processing Record 495 | baijiantan\n",
      "Processing Record 496 | mabaruma\n",
      "Processing Record 497 | dharchula\n",
      "Processing Record 498 | arbagar\n",
      "Processing Record 499 | sur\n",
      "Processing Record 500 | hailar\n",
      "Processing Record 501 | araceli\n",
      "Processing Record 502 | inongo\n",
      "City not found. Skipping...\n",
      "Processing Record 503 | nioro\n",
      "Processing Record 504 | coahuayana\n",
      "Processing Record 505 | namatanai\n",
      "Processing Record 506 | sistranda\n",
      "Processing Record 507 | cockburn town\n",
      "Processing Record 508 | rio grande\n",
      "Processing Record 509 | lazaro cardenas\n",
      "Processing Record 510 | esperance\n",
      "Processing Record 511 | najran\n",
      "City not found. Skipping...\n",
      "Processing Record 512 | kutum\n",
      "Processing Record 513 | filadelfia\n",
      "Processing Record 514 | takapau\n",
      "Processing Record 515 | pontianak\n",
      "Processing Record 516 | anadyr\n",
      "Processing Record 517 | ossora\n",
      "Processing Record 518 | fillmore\n",
      "Processing Record 519 | sao caetano de odivelas\n",
      "Processing Record 520 | plainview\n",
      "Processing Record 521 | shenjiamen\n",
      "Processing Record 522 | bud\n",
      "Processing Record 523 | nakhon thai\n",
      "Processing Record 524 | linjiang\n",
      "Processing Record 525 | kitimat\n",
      "Processing Record 526 | nador\n",
      "Processing Record 527 | hambantota\n",
      "Processing Record 528 | wajima\n",
      "Processing Record 529 | nanortalik\n",
      "Processing Record 530 | yarada\n",
      "Processing Record 531 | assomada\n",
      "Processing Record 532 | hokitika\n",
      "Processing Record 533 | skjervoy\n",
      "Processing Record 534 | kosa\n",
      "Processing Record 535 | chapais\n",
      "City not found. Skipping...\n",
      "Processing Record 536 | san patricio\n",
      "Processing Record 537 | ouesso\n",
      "Processing Record 538 | gumdag\n",
      "Processing Record 539 | te anau\n",
      "Processing Record 540 | raton\n",
      "Processing Record 541 | mayo\n",
      "Processing Record 542 | krasnoselkup\n",
      "Processing Record 543 | juegang\n",
      "Processing Record 544 | icatu\n",
      "Processing Record 545 | xichang\n",
      "Processing Record 546 | auki\n",
      "Processing Record 547 | hayvoron\n",
      "Processing Record 548 | nieuw amsterdam\n",
      "----------------------------------------\n",
      "Data Retrieval Complete\n",
      "----------------------------------------\n"
     ]
    }
   ],
   "source": [
    "city_results = []\n",
    "\n",
    "# Record counter starts at 1\n",
    "processing_record = 1\n",
    "\n",
    "print(\"Beginning Data Retrieval\")\n",
    "print(\"----------------------------------------\")\n",
    "\n",
    "for i, city in enumerate(city_list):\n",
    "\n",
    "    try:\n",
    "\n",
    "        data = requests.get(\n",
    "            \"http://api.openweathermap.org/data/2.5/weather\",\n",
    "            params={\"q\": city, \"appid\": weather_api_key, \"units\": \"imperial\"},\n",
    "        ).json()\n",
    "\n",
    "        city_result = extract_data(data)\n",
    "        city_results.append(city_result)\n",
    "\n",
    "        print(f\"Processing Record {processing_record} | {city}\")\n",
    "\n",
    "        processing_record += 1\n",
    "\n",
    "    except:\n",
    "        print(\"City not found. Skipping...\")\n",
    "    continue\n",
    "\n",
    "print(\"----------------------------------------\")\n",
    "print(\"Data Retrieval Complete\")\n",
    "print(\"----------------------------------------\")"
   ]
  },
  {
   "cell_type": "code",
   "execution_count": 6,
   "metadata": {},
   "outputs": [
    {
     "data": {
      "text/html": [
       "<div>\n",
       "<style scoped>\n",
       "    .dataframe tbody tr th:only-of-type {\n",
       "        vertical-align: middle;\n",
       "    }\n",
       "\n",
       "    .dataframe tbody tr th {\n",
       "        vertical-align: top;\n",
       "    }\n",
       "\n",
       "    .dataframe thead th {\n",
       "        text-align: right;\n",
       "    }\n",
       "</style>\n",
       "<table border=\"1\" class=\"dataframe\">\n",
       "  <thead>\n",
       "    <tr style=\"text-align: right;\">\n",
       "      <th></th>\n",
       "      <th>City</th>\n",
       "      <th>Lat</th>\n",
       "      <th>Lon</th>\n",
       "      <th>Max Temp</th>\n",
       "      <th>Humidity</th>\n",
       "      <th>Cloudiness</th>\n",
       "      <th>Wind Speed</th>\n",
       "      <th>Country</th>\n",
       "      <th>Date</th>\n",
       "    </tr>\n",
       "  </thead>\n",
       "  <tbody>\n",
       "    <tr>\n",
       "      <th>0</th>\n",
       "      <td>Bengkulu</td>\n",
       "      <td>-3.8</td>\n",
       "      <td>102.27</td>\n",
       "      <td>74.53</td>\n",
       "      <td>87</td>\n",
       "      <td>85</td>\n",
       "      <td>3.29</td>\n",
       "      <td>ID</td>\n",
       "      <td>1601072385</td>\n",
       "    </tr>\n",
       "    <tr>\n",
       "      <th>1</th>\n",
       "      <td>Pevek</td>\n",
       "      <td>69.7</td>\n",
       "      <td>170.31</td>\n",
       "      <td>33.22</td>\n",
       "      <td>95</td>\n",
       "      <td>100</td>\n",
       "      <td>8.77</td>\n",
       "      <td>RU</td>\n",
       "      <td>1601072385</td>\n",
       "    </tr>\n",
       "  </tbody>\n",
       "</table>\n",
       "</div>"
      ],
      "text/plain": [
       "       City   Lat     Lon  Max Temp  Humidity  Cloudiness  Wind Speed Country  \\\n",
       "0  Bengkulu  -3.8  102.27     74.53        87          85        3.29      ID   \n",
       "1     Pevek  69.7  170.31     33.22        95         100        8.77      RU   \n",
       "\n",
       "         Date  \n",
       "0  1601072385  \n",
       "1  1601072385  "
      ]
     },
     "execution_count": 6,
     "metadata": {},
     "output_type": "execute_result"
    }
   ],
   "source": [
    "df = pd.DataFrame(city_results)\n",
    "df.head(2)"
   ]
  },
  {
   "cell_type": "markdown",
   "metadata": {},
   "source": [
    "### Creating Scatter Plot to showcase the relation ship between Max Temperature and Latitude"
   ]
  },
  {
   "cell_type": "code",
   "execution_count": 31,
   "metadata": {},
   "outputs": [],
   "source": [
    "# Converting data in DataFrame so that it can be used to define the X and y value needed for the scatter plot.\n",
    "X = df[\"Lat\"].values\n",
    "y = df[\"Max Temp\"].values"
   ]
  },
  {
   "cell_type": "code",
   "execution_count": 32,
   "metadata": {},
   "outputs": [
    {
     "data": {
      "image/png": "[encoded data removed]",
      "text/plain": [
       "<Figure size 432x288 with 1 Axes>"
      ]
     },
     "metadata": {
      "needs_background": "light"
     },
     "output_type": "display_data"
    }
   ],
   "source": [
    "plt.title(\"City Latitude vs. Max Temperature (09/25/2020)\")\n",
    "plt.xlabel(\"Latitude\")\n",
    "plt.ylabel(\"Max Temperature (F)\")\n",
    "plt.grid()\n",
    "plt.scatter(X, y)\n",
    "plt.show\n",
    "plt.savefig(\"max_temp_latitude.png\")"
   ]
  },
  {
   "cell_type": "markdown",
   "metadata": {},
   "source": [
    "Here we are examining the relationship between a city's latitude and it's maximum temperature. As you can see, as a city's latitude has a clear relationship to it's max temperature as we would expect. Temperatures appear to be higher the closer they are to the equator, (0) degrees latitude."
   ]
  },
  {
   "cell_type": "markdown",
   "metadata": {},
   "source": [
    "### Creating Scatter Plot to showcase the relationship between Humidity and Latitude "
   ]
  },
  {
   "cell_type": "code",
   "execution_count": 33,
   "metadata": {},
   "outputs": [],
   "source": [
    "X = df[\"Lat\"].values\n",
    "y = df[\"Humidity\"].values"
   ]
  },
  {
   "cell_type": "code",
   "execution_count": 34,
   "metadata": {},
   "outputs": [
    {
     "data": {
      "image/png": "[encoded data removed]",
      "text/plain": [
       "<Figure size 432x288 with 1 Axes>"
      ]
     },
     "metadata": {
      "needs_background": "light"
     },
     "output_type": "display_data"
    }
   ],
   "source": [
    "plt.title(\"City Latitude vs. Humidity (09/25/2020)\")\n",
    "plt.xlabel(\"Latitude\")\n",
    "plt.ylabel(\"Humidity (%)\")\n",
    "plt.grid()\n",
    "plt.scatter(X, y)\n",
    "plt.show\n",
    "plt.savefig(\"humidity_latitude.png\")"
   ]
  },
  {
   "cell_type": "markdown",
   "metadata": {},
   "source": [
    "This scatter plot is displaying the relationship between a city's latitude and it's humidity levels. There does not appear to be a clear relationship between cities with higher humidities and their latitude based on the plot. However, there does appear to be a slight indication that many cities that lie between around -40 degrees and 40 degrees latitude have lower humidity levels."
   ]
  },
  {
   "cell_type": "markdown",
   "metadata": {},
   "source": [
    "### Creating Scatter Plot to showcase the relationship between Cloudiness and Latitude "
   ]
  },
  {
   "cell_type": "code",
   "execution_count": 35,
   "metadata": {},
   "outputs": [],
   "source": [
    "X = df[\"Lat\"].values\n",
    "y = df[\"Cloudiness\"].values"
   ]
  },
  {
   "cell_type": "code",
   "execution_count": 37,
   "metadata": {},
   "outputs": [
    {
     "data": {
      "image/png": "[encoded data removed]",
      "text/plain": [
       "<Figure size 432x288 with 1 Axes>"
      ]
     },
     "metadata": {
      "needs_background": "light"
     },
     "output_type": "display_data"
    }
   ],
   "source": [
    "plt.title(\"City Latitude vs. Cloudiness (09/25/2020)\")\n",
    "plt.xlabel(\"Latitude\")\n",
    "plt.ylabel(\"Cloudiness (%)\")\n",
    "plt.grid()\n",
    "plt.scatter(X, y)\n",
    "plt.show\n",
    "plt.savefig(\"cloudiness_latitude.png\")"
   ]
  },
  {
   "cell_type": "markdown",
   "metadata": {},
   "source": [
    "This scatter plot showcases the relationship between a cities latitude and its cloud cover. Latitude does not appear to be a major impactor of a city's cloud cover. Cities with high, medium and low cloud cover appear to be evenly distributed across all latitudes."
   ]
  },
  {
   "cell_type": "markdown",
   "metadata": {},
   "source": [
    "### Creating Scatter Plot to showcase the relationship between Wind Speed and Latitude "
   ]
  },
  {
   "cell_type": "code",
   "execution_count": 38,
   "metadata": {},
   "outputs": [],
   "source": [
    "X = df[\"Lat\"].values\n",
    "y = df[\"Wind Speed\"].values"
   ]
  },
  {
   "cell_type": "code",
   "execution_count": 40,
   "metadata": {},
   "outputs": [
    {
     "data": {
      "image/png": "[encoded data removed]",
      "text/plain": [
       "<Figure size 432x288 with 1 Axes>"
      ]
     },
     "metadata": {
      "needs_background": "light"
     },
     "output_type": "display_data"
    }
   ],
   "source": [
    "plt.title(\"City Latitude vs. Wind Speed (09/25/2020)\")\n",
    "plt.xlabel(\"Latitude\")\n",
    "plt.ylabel(\"Wind Speed (mph)\")\n",
    "plt.grid()\n",
    "plt.scatter(X, y)\n",
    "plt.show\n",
    "plt.savefig(\"wind_speed_latitude.png\")"
   ]
  },
  {
   "cell_type": "markdown",
   "metadata": {},
   "source": [
    "With this plot, we can see that there is perhaps a small relationship between a city's latitude and it wind speed. Although wind speed does appear to be rather equally distibuted, we do see that cities further away from the equator have the potential for higher wind speeds, especially in the Northern hemisphere."
   ]
  },
  {
   "cell_type": "markdown",
   "metadata": {},
   "source": [
    "## Linear Regression"
   ]
  },
  {
   "cell_type": "markdown",
   "metadata": {},
   "source": [
    "### Temperature (F) vs. Latitude (Northern and Southern Hemisphere)"
   ]
  },
  {
   "cell_type": "markdown",
   "metadata": {},
   "source": [
    "#### (Northern Hemisphere)"
   ]
  },
  {
   "cell_type": "code",
   "execution_count": 138,
   "metadata": {},
   "outputs": [],
   "source": [
    "# Created dataframe to display only those cities located in the Northern Hemisphere\n",
    "NH_df = df[df.Lat > 0]"
   ]
  },
  {
   "cell_type": "code",
   "execution_count": 139,
   "metadata": {},
   "outputs": [],
   "source": [
    "# Converting the NH_df data so that it can be used to create scatter plots andn perform linear regression.\n",
    "X = NH_df[\"Lat\"].values\n",
    "X_array = [[e] for e in X]\n",
    "y = NH_df[\"Max Temp\"].values"
   ]
  },
  {
   "cell_type": "code",
   "execution_count": 140,
   "metadata": {},
   "outputs": [
    {
     "data": {
      "text/plain": [
       "LinearRegression()"
      ]
     },
     "execution_count": 140,
     "metadata": {},
     "output_type": "execute_result"
    }
   ],
   "source": [
    "# Setting up linear regression model.\n",
    "model = LinearRegression()\n",
    "model.fit(X_array, y)"
   ]
  },
  {
   "cell_type": "code",
   "execution_count": 141,
   "metadata": {},
   "outputs": [
    {
     "data": {
      "text/plain": [
       "-0.724262415183223"
      ]
     },
     "execution_count": 141,
     "metadata": {},
     "output_type": "execute_result"
    }
   ],
   "source": [
    "slope = model.coef_[0]\n",
    "slope"
   ]
  },
  {
   "cell_type": "code",
   "execution_count": 142,
   "metadata": {},
   "outputs": [
    {
     "data": {
      "text/plain": [
       "91.59626089854285"
      ]
     },
     "execution_count": 142,
     "metadata": {},
     "output_type": "execute_result"
    }
   ],
   "source": [
    "intercept = model.intercept_\n",
    "intercept"
   ]
  },
  {
   "cell_type": "code",
   "execution_count": 143,
   "metadata": {},
   "outputs": [
    {
     "data": {
      "text/plain": [
       "0.6972998039526722"
      ]
     },
     "execution_count": 143,
     "metadata": {},
     "output_type": "execute_result"
    }
   ],
   "source": [
    "r_squared = model.score(X_array, y)\n",
    "r_squared"
   ]
  },
  {
   "cell_type": "code",
   "execution_count": 144,
   "metadata": {},
   "outputs": [],
   "source": [
    "def predict_function(max_temp):\n",
    "    return model.predict([[max_temp]])[0]"
   ]
  },
  {
   "cell_type": "code",
   "execution_count": 145,
   "metadata": {},
   "outputs": [],
   "source": [
    "nh_max_temp_range = np.arange(min(X), max(X), 0.001)\n",
    "nh_predict_max_temp = [predict_function(e) for e in nh_max_temp_range]"
   ]
  },
  {
   "cell_type": "code",
   "execution_count": 146,
   "metadata": {},
   "outputs": [],
   "source": [
    "# Variables used for creating text labels on plot\n",
    "formula = f\"y = {round(intercept, 3)} + {round(slope, 3)}x\"\n",
    "r_squared_str = f\"$R^{2}$={round(r_squared, 3)}\""
   ]
  },
  {
   "cell_type": "code",
   "execution_count": 147,
   "metadata": {},
   "outputs": [
    {
     "data": {
      "image/png": "[encoded data removed]",
      "text/plain": [
       "<Figure size 432x288 with 1 Axes>"
      ]
     },
     "metadata": {
      "needs_background": "light"
     },
     "output_type": "display_data"
    }
   ],
   "source": [
    "plt.title(\"NH City Latitude vs. Max Temperature (09/25/2020)\")\n",
    "plt.xlabel(\"Latitude\")\n",
    "plt.ylabel(\"Max Temperature (F)\")\n",
    "plt.grid()\n",
    "plt.scatter(X, y)\n",
    "plt.plot(nh_max_temp_range, nh_predict_max_temp, color=\"red\")\n",
    "plt.text(5, 35, formula, color=\"red\")\n",
    "plt.text(5, 28, r_squared_str, color=\"red\")\n",
    "plt.show\n",
    "plt.savefig(\"nh_max_temp_latitude_lr.png\")"
   ]
  },
  {
   "cell_type": "markdown",
   "metadata": {},
   "source": [
    "As you can see, the r squared value for this regression anaylis is quite high. This indicates that there is a strong correlation between latitude and the maximum temperatures. This is easily seen on the plot displayed above. The further you get away from the equator (0), the lower the max temperature."
   ]
  },
  {
   "cell_type": "markdown",
   "metadata": {},
   "source": [
    "#### (Southern Hemisphere)"
   ]
  },
  {
   "cell_type": "code",
   "execution_count": 148,
   "metadata": {},
   "outputs": [],
   "source": [
    "# Created dataframe to display only those cities located in the Northern Hemisphere\n",
    "SH_df = df[df.Lat < 0]"
   ]
  },
  {
   "cell_type": "code",
   "execution_count": 149,
   "metadata": {},
   "outputs": [],
   "source": [
    "# Converting the SH_df data so that it can be used to create scatter plots andn perform linear regression.\n",
    "X = SH_df[\"Lat\"].values\n",
    "X_array = [[e] for e in X]\n",
    "y = SH_df[\"Max Temp\"].values"
   ]
  },
  {
   "cell_type": "code",
   "execution_count": 150,
   "metadata": {},
   "outputs": [
    {
     "data": {
      "text/plain": [
       "LinearRegression()"
      ]
     },
     "execution_count": 150,
     "metadata": {},
     "output_type": "execute_result"
    }
   ],
   "source": [
    "# Setting up linear regression model.\n",
    "model = LinearRegression()\n",
    "model.fit(X_array, y)"
   ]
  },
  {
   "cell_type": "code",
   "execution_count": 151,
   "metadata": {},
   "outputs": [
    {
     "data": {
      "text/plain": [
       "0.6125928771071978"
      ]
     },
     "execution_count": 151,
     "metadata": {},
     "output_type": "execute_result"
    }
   ],
   "source": [
    "slope = model.coef_[0]\n",
    "slope"
   ]
  },
  {
   "cell_type": "code",
   "execution_count": 152,
   "metadata": {},
   "outputs": [
    {
     "data": {
      "text/plain": [
       "81.68673181174952"
      ]
     },
     "execution_count": 152,
     "metadata": {},
     "output_type": "execute_result"
    }
   ],
   "source": [
    "intercept = model.intercept_\n",
    "intercept"
   ]
  },
  {
   "cell_type": "code",
   "execution_count": 153,
   "metadata": {},
   "outputs": [
    {
     "data": {
      "text/plain": [
       "0.5203678880659948"
      ]
     },
     "execution_count": 153,
     "metadata": {},
     "output_type": "execute_result"
    }
   ],
   "source": [
    "r_squared = model.score(X_array, y)\n",
    "r_squared"
   ]
  },
  {
   "cell_type": "code",
   "execution_count": 154,
   "metadata": {},
   "outputs": [],
   "source": [
    "def predict_function(max_temp):\n",
    "    return model.predict([[max_temp]])[0]"
   ]
  },
  {
   "cell_type": "code",
   "execution_count": 155,
   "metadata": {},
   "outputs": [],
   "source": [
    "sh_max_temp_range = np.arange(min(X), max(X), 0.001)\n",
    "sh_predict_max_temp = [predict_function(e) for e in sh_max_temp_range]"
   ]
  },
  {
   "cell_type": "code",
   "execution_count": 156,
   "metadata": {},
   "outputs": [],
   "source": [
    "# Variables used for creating text labels on plot\n",
    "formula = f\"y = {round(intercept, 3)} + {round(slope, 3)}x\"\n",
    "r_squared_str = f\"$R^{2}$={round(r_squared, 3)}\""
   ]
  },
  {
   "cell_type": "code",
   "execution_count": 157,
   "metadata": {},
   "outputs": [
    {
     "data": {
      "image/png": "[encoded data removed]",
      "text/plain": [
       "<Figure size 432x288 with 1 Axes>"
      ]
     },
     "metadata": {
      "needs_background": "light"
     },
     "output_type": "display_data"
    }
   ],
   "source": [
    "plt.title(\"SH City Latitude vs. Max Temperature (09/25/2020)\")\n",
    "plt.xlabel(\"Latitude\")\n",
    "plt.ylabel(\"Max Temperature (F)\")\n",
    "plt.grid()\n",
    "plt.scatter(X, y)\n",
    "plt.plot(sh_max_temp_range, sh_predict_max_temp, color=\"red\")\n",
    "plt.text(-55, 88, formula, color=\"red\")\n",
    "plt.text(-55, 82, r_squared_str, color=\"red\")\n",
    "plt.show\n",
    "plt.savefig(\"sh_max_temp_latitude_lr.png\")"
   ]
  },
  {
   "cell_type": "markdown",
   "metadata": {},
   "source": [
    "The r squared value for this linear regression is also quite high; although not quite as high as what was indicated in the Northern Hemisphere. Again, there is a strong correlation between latitude and maximum temperature in the Southern Hemisphere as well. This is easily explained by the fact that Earth is round, and as you get further and further away from the equator in both hemispheres, less of the sun's light makes it to the surface causing maximum temperatures to be lower. Yet another notch against the \"Flat Earthers\" out there."
   ]
  },
  {
   "cell_type": "markdown",
   "metadata": {},
   "source": [
    "### Humidity (%) vs. Latitude (Northern and Southern Hemisphere)¶"
   ]
  },
  {
   "cell_type": "markdown",
   "metadata": {},
   "source": [
    "#### (Northern Hemisphere)"
   ]
  },
  {
   "cell_type": "code",
   "execution_count": 158,
   "metadata": {},
   "outputs": [],
   "source": [
    "X = NH_df[\"Lat\"].values\n",
    "X_array = [[e] for e in X]\n",
    "y = NH_df[\"Humidity\"].values"
   ]
  },
  {
   "cell_type": "code",
   "execution_count": 159,
   "metadata": {},
   "outputs": [
    {
     "data": {
      "text/plain": [
       "LinearRegression()"
      ]
     },
     "execution_count": 159,
     "metadata": {},
     "output_type": "execute_result"
    }
   ],
   "source": [
    "model = LinearRegression()\n",
    "model.fit(X_array, y)"
   ]
  },
  {
   "cell_type": "code",
   "execution_count": 160,
   "metadata": {},
   "outputs": [
    {
     "data": {
      "text/plain": [
       "0.12344648845904911"
      ]
     },
     "execution_count": 160,
     "metadata": {},
     "output_type": "execute_result"
    }
   ],
   "source": [
    "slope = model.coef_[0]\n",
    "slope"
   ]
  },
  {
   "cell_type": "code",
   "execution_count": 161,
   "metadata": {},
   "outputs": [
    {
     "data": {
      "text/plain": [
       "67.63707472216164"
      ]
     },
     "execution_count": 161,
     "metadata": {},
     "output_type": "execute_result"
    }
   ],
   "source": [
    "intercept = model.intercept_\n",
    "intercept"
   ]
  },
  {
   "cell_type": "code",
   "execution_count": 162,
   "metadata": {},
   "outputs": [
    {
     "data": {
      "text/plain": [
       "0.013917158587057998"
      ]
     },
     "execution_count": 162,
     "metadata": {},
     "output_type": "execute_result"
    }
   ],
   "source": [
    "r_squared = model.score(X_array, y)\n",
    "r_squared"
   ]
  },
  {
   "cell_type": "code",
   "execution_count": 163,
   "metadata": {},
   "outputs": [],
   "source": [
    "def predict_function(humidity):\n",
    "    return model.predict([[humidity]])[0]"
   ]
  },
  {
   "cell_type": "code",
   "execution_count": 164,
   "metadata": {},
   "outputs": [],
   "source": [
    "nh_humidity_range = np.arange(min(X), max(X), 0.001)\n",
    "nh_predict_humidity = [predict_function(e) for e in nh_humidity_range]"
   ]
  },
  {
   "cell_type": "code",
   "execution_count": 165,
   "metadata": {},
   "outputs": [],
   "source": [
    "# Variables used for creating text labels on plot\n",
    "formula = f\"y = {round(intercept, 3)} + {round(slope, 3)}x\"\n",
    "r_squared_str = f\"$R^{2}$={round(r_squared, 3)}\""
   ]
  },
  {
   "cell_type": "code",
   "execution_count": 169,
   "metadata": {},
   "outputs": [
    {
     "data": {
      "image/png": "[encoded data removed]",
      "text/plain": [
       "<Figure size 432x288 with 1 Axes>"
      ]
     },
     "metadata": {
      "needs_background": "light"
     },
     "output_type": "display_data"
    }
   ],
   "source": [
    "plt.title(\"NH City Latitude vs. Humidity (%) (09/25/2020)\")\n",
    "plt.xlabel(\"Latitude\")\n",
    "plt.ylabel(\"Humidity %\")\n",
    "plt.grid()\n",
    "plt.scatter(X, y)\n",
    "plt.plot(nh_humidity_range, nh_predict_humidity, color=\"red\")\n",
    "plt.text(55, 24, formula, color=\"red\")\n",
    "plt.text(55, 15, r_squared_str, color=\"red\")\n",
    "plt.show\n",
    "plt.savefig(\"nh_humidity_latitude_lr.png\")"
   ]
  },
  {
   "cell_type": "markdown",
   "metadata": {},
   "source": [
    "The r squared value for this linear regression is quite low suggesting that there is little correlation between latitude and humidity levels. However, as I mentioned above, one can still see there is still something going on here. Although humidity levels due appear to be dispearsed throughout, you can still see that most of the lower humidity levels are grouped together between about 10 and 35 degrees latitude."
   ]
  },
  {
   "cell_type": "markdown",
   "metadata": {},
   "source": [
    "#### (Southern Hemisphere)"
   ]
  },
  {
   "cell_type": "code",
   "execution_count": 170,
   "metadata": {},
   "outputs": [],
   "source": [
    "X = SH_df[\"Lat\"].values\n",
    "X_array = [[e] for e in X]\n",
    "y = SH_df[\"Humidity\"].values"
   ]
  },
  {
   "cell_type": "code",
   "execution_count": 171,
   "metadata": {},
   "outputs": [
    {
     "data": {
      "text/plain": [
       "LinearRegression()"
      ]
     },
     "execution_count": 171,
     "metadata": {},
     "output_type": "execute_result"
    }
   ],
   "source": [
    "model = LinearRegression()\n",
    "model.fit(X_array, y)"
   ]
  },
  {
   "cell_type": "code",
   "execution_count": 172,
   "metadata": {},
   "outputs": [
    {
     "data": {
      "text/plain": [
       "0.21736687492602527"
      ]
     },
     "execution_count": 172,
     "metadata": {},
     "output_type": "execute_result"
    }
   ],
   "source": [
    "slope = model.coef_[0]\n",
    "slope"
   ]
  },
  {
   "cell_type": "code",
   "execution_count": 173,
   "metadata": {},
   "outputs": [
    {
     "data": {
      "text/plain": [
       "73.39104199312507"
      ]
     },
     "execution_count": 173,
     "metadata": {},
     "output_type": "execute_result"
    }
   ],
   "source": [
    "intercept = model.intercept_\n",
    "intercept"
   ]
  },
  {
   "cell_type": "code",
   "execution_count": 174,
   "metadata": {},
   "outputs": [
    {
     "data": {
      "text/plain": [
       "0.024073181449248304"
      ]
     },
     "execution_count": 174,
     "metadata": {},
     "output_type": "execute_result"
    }
   ],
   "source": [
    "r_squared = model.score(X_array, y)\n",
    "r_squared"
   ]
  },
  {
   "cell_type": "code",
   "execution_count": 175,
   "metadata": {},
   "outputs": [],
   "source": [
    "def predict_function(humidity):\n",
    "    return model.predict([[humidity]])[0]"
   ]
  },
  {
   "cell_type": "code",
   "execution_count": 176,
   "metadata": {},
   "outputs": [],
   "source": [
    "sh_humidity_range = np.arange(min(X), max(X), 0.001)\n",
    "sh_predict_humidity = [predict_function(e) for e in sh_humidity_range]"
   ]
  },
  {
   "cell_type": "code",
   "execution_count": 80,
   "metadata": {},
   "outputs": [],
   "source": [
    "# Variables used for creating text labels on plot\n",
    "formula = f\"y = {round(intercept, 3)} + {round(slope, 3)}x\"\n",
    "r_squared_str = f\"$R^{2}$={round(r_squared, 3)}\""
   ]
  },
  {
   "cell_type": "code",
   "execution_count": 177,
   "metadata": {},
   "outputs": [
    {
     "data": {
      "image/png": "[encoded data removed]",
      "text/plain": [
       "<Figure size 432x288 with 1 Axes>"
      ]
     },
     "metadata": {
      "needs_background": "light"
     },
     "output_type": "display_data"
    }
   ],
   "source": [
    "plt.title(\"SH City Latitude vs. Humidity (%) (09/25/2020)\")\n",
    "plt.xlabel(\"Latitude\")\n",
    "plt.ylabel(\"Humidity %\")\n",
    "plt.grid()\n",
    "plt.scatter(X, y)\n",
    "plt.plot(sh_humidity_range, sh_predict_humidity, color=\"red\")\n",
    "plt.text(-55, 30, formula, color=\"red\")\n",
    "plt.text(-55, 23, r_squared_str, color=\"red\")\n",
    "plt.show\n",
    "plt.savefig(\"sh_humidity_latitude_lr.png\")"
   ]
  },
  {
   "cell_type": "markdown",
   "metadata": {},
   "source": [
    "The same is true for the Southern Hemisphere. The r squared value for this linear regression is also low suggesting that there is little correlation between latitude and humidity levels. Again; however, we do see there is still something going on with lower humidity levels. Although humidity levels as whole due appear to be dispearsed throughout, you can still see that most of the lower humidit levels are grouped together between about -30 and -10 degrees latitude. One would assume that most deserts are located at this latitudal levels all over the planet."
   ]
  },
  {
   "cell_type": "markdown",
   "metadata": {},
   "source": [
    "### Cloudiness (%) vs. Latitude (Northern and Southern Hemisphere)¶"
   ]
  },
  {
   "cell_type": "markdown",
   "metadata": {},
   "source": [
    "#### (Northern Hemisphere)"
   ]
  },
  {
   "cell_type": "code",
   "execution_count": 178,
   "metadata": {},
   "outputs": [],
   "source": [
    "X = NH_df[\"Lat\"].values\n",
    "X_array = [[e] for e in X]\n",
    "y = NH_df[\"Cloudiness\"].values"
   ]
  },
  {
   "cell_type": "code",
   "execution_count": 179,
   "metadata": {},
   "outputs": [
    {
     "data": {
      "text/plain": [
       "LinearRegression()"
      ]
     },
     "execution_count": 179,
     "metadata": {},
     "output_type": "execute_result"
    }
   ],
   "source": [
    "model = LinearRegression()\n",
    "model.fit(X_array, y)"
   ]
  },
  {
   "cell_type": "code",
   "execution_count": 180,
   "metadata": {},
   "outputs": [
    {
     "data": {
      "text/plain": [
       "0.10733534008772809"
      ]
     },
     "execution_count": 180,
     "metadata": {},
     "output_type": "execute_result"
    }
   ],
   "source": [
    "slope = model.coef_[0]\n",
    "slope"
   ]
  },
  {
   "cell_type": "code",
   "execution_count": 181,
   "metadata": {},
   "outputs": [
    {
     "data": {
      "text/plain": [
       "49.14637192058203"
      ]
     },
     "execution_count": 181,
     "metadata": {},
     "output_type": "execute_result"
    }
   ],
   "source": [
    "intercept = model.intercept_\n",
    "intercept"
   ]
  },
  {
   "cell_type": "code",
   "execution_count": 182,
   "metadata": {},
   "outputs": [
    {
     "data": {
      "text/plain": [
       "0.0031603507972051137"
      ]
     },
     "execution_count": 182,
     "metadata": {},
     "output_type": "execute_result"
    }
   ],
   "source": [
    "r_squared = model.score(X_array, y)\n",
    "r_squared"
   ]
  },
  {
   "cell_type": "code",
   "execution_count": 183,
   "metadata": {},
   "outputs": [],
   "source": [
    "def predict_function(cloudiness):\n",
    "    return model.predict([[cloudiness]])[0]"
   ]
  },
  {
   "cell_type": "code",
   "execution_count": 184,
   "metadata": {},
   "outputs": [],
   "source": [
    "nh_cloudiness_range = np.arange(min(X), max(X), 0.001)\n",
    "nh_predict_cloudiness = [predict_function(e) for e in nh_cloudiness_range]"
   ]
  },
  {
   "cell_type": "code",
   "execution_count": 185,
   "metadata": {},
   "outputs": [],
   "source": [
    "# Variables used for creating text labels on plot\n",
    "formula = f\"y = {round(intercept, 3)} + {round(slope, 3)}x\"\n",
    "r_squared_str = f\"$R^{2}$={round(r_squared, 3)}\""
   ]
  },
  {
   "cell_type": "code",
   "execution_count": 188,
   "metadata": {},
   "outputs": [
    {
     "data": {
      "image/png": "[encoded data removed]",
      "text/plain": [
       "<Figure size 432x288 with 1 Axes>"
      ]
     },
     "metadata": {
      "needs_background": "light"
     },
     "output_type": "display_data"
    }
   ],
   "source": [
    "plt.title(\"NH City Latitude vs. Cloudiness (%) (09/25/2020)\")\n",
    "plt.xlabel(\"Latitude\")\n",
    "plt.ylabel(\"Cloudiness %\")\n",
    "plt.grid()\n",
    "plt.scatter(X, y)\n",
    "plt.plot(nh_cloudiness_range, nh_predict_cloudiness, color=\"red\")\n",
    "plt.text(-3, 34, formula, color=\"red\")\n",
    "plt.text(-3, 24, r_squared_str, color=\"red\")\n",
    "plt.show\n",
    "plt.savefig(\"nh_cloudiness_latitude_lr.png\")"
   ]
  },
  {
   "cell_type": "markdown",
   "metadata": {},
   "source": [
    "The R squared value for this linear regression is the lowest we've seen so far. There is apparently little to know correlation betwen cloudiness and latitude in the Northern Hemisphere."
   ]
  },
  {
   "cell_type": "markdown",
   "metadata": {},
   "source": [
    "#### (Southern Hemisphere)"
   ]
  },
  {
   "cell_type": "code",
   "execution_count": 190,
   "metadata": {},
   "outputs": [],
   "source": [
    "X = SH_df[\"Lat\"].values\n",
    "X_array = [[e] for e in X]\n",
    "y = SH_df[\"Cloudiness\"].values"
   ]
  },
  {
   "cell_type": "code",
   "execution_count": 191,
   "metadata": {},
   "outputs": [
    {
     "data": {
      "text/plain": [
       "LinearRegression()"
      ]
     },
     "execution_count": 191,
     "metadata": {},
     "output_type": "execute_result"
    }
   ],
   "source": [
    "model = LinearRegression()\n",
    "model.fit(X_array, y)"
   ]
  },
  {
   "cell_type": "code",
   "execution_count": 192,
   "metadata": {},
   "outputs": [
    {
     "data": {
      "text/plain": [
       "0.20024622798090483"
      ]
     },
     "execution_count": 192,
     "metadata": {},
     "output_type": "execute_result"
    }
   ],
   "source": [
    "slope = model.coef_[0]\n",
    "slope"
   ]
  },
  {
   "cell_type": "code",
   "execution_count": 193,
   "metadata": {},
   "outputs": [
    {
     "data": {
      "text/plain": [
       "51.08498951111157"
      ]
     },
     "execution_count": 193,
     "metadata": {},
     "output_type": "execute_result"
    }
   ],
   "source": [
    "intercept = model.intercept_\n",
    "intercept"
   ]
  },
  {
   "cell_type": "code",
   "execution_count": 194,
   "metadata": {},
   "outputs": [
    {
     "data": {
      "text/plain": [
       "0.005356533134752928"
      ]
     },
     "execution_count": 194,
     "metadata": {},
     "output_type": "execute_result"
    }
   ],
   "source": [
    "r_squared = model.score(X_array, y)\n",
    "r_squared"
   ]
  },
  {
   "cell_type": "code",
   "execution_count": 195,
   "metadata": {},
   "outputs": [],
   "source": [
    "def predict_function(cloudiness):\n",
    "    return model.predict([[cloudiness]])[0]"
   ]
  },
  {
   "cell_type": "code",
   "execution_count": 196,
   "metadata": {},
   "outputs": [],
   "source": [
    "sh_cloudiness_range = np.arange(min(X), max(X), 0.001)\n",
    "sh_predict_cloudiness = [predict_function(e) for e in sh_cloudiness_range]"
   ]
  },
  {
   "cell_type": "code",
   "execution_count": 197,
   "metadata": {},
   "outputs": [],
   "source": [
    "# Variables used for creating text labels on plot\n",
    "formula = f\"y = {round(intercept, 3)} + {round(slope, 3)}x\"\n",
    "r_squared_str = f\"$R^{2}$={round(r_squared, 3)}\""
   ]
  },
  {
   "cell_type": "code",
   "execution_count": 199,
   "metadata": {},
   "outputs": [
    {
     "data": {
      "image/png": "[encoded data removed]",
      "text/plain": [
       "<Figure size 432x288 with 1 Axes>"
      ]
     },
     "metadata": {
      "needs_background": "light"
     },
     "output_type": "display_data"
    }
   ],
   "source": [
    "plt.title(\"SH City Latitude vs. Cloudiness (%) (09/25/2020)\")\n",
    "plt.xlabel(\"Latitude\")\n",
    "plt.ylabel(\"Cloudiness %\")\n",
    "plt.grid()\n",
    "plt.scatter(X, y)\n",
    "plt.plot(sh_cloudiness_range, sh_predict_cloudiness, color=\"red\")\n",
    "plt.text(-55, 58, formula, color=\"red\")\n",
    "plt.text(-55, 45, r_squared_str, color=\"red\")\n",
    "plt.show\n",
    "plt.savefig(\"sh_cloudiness_latitude_lr.png\")"
   ]
  },
  {
   "cell_type": "markdown",
   "metadata": {},
   "source": [
    "The R squared value for this linear regression is also very low. Again, there is apparently little to know correlation betwen cloudiness and latitude in the Southern Hemisphere as well."
   ]
  },
  {
   "cell_type": "markdown",
   "metadata": {},
   "source": [
    "### Wind Speed (mph) vs. Latitude (Northern and Southern Hemisphere)¶"
   ]
  },
  {
   "cell_type": "markdown",
   "metadata": {},
   "source": [
    "#### (Northern Hemisphere)"
   ]
  },
  {
   "cell_type": "code",
   "execution_count": 200,
   "metadata": {},
   "outputs": [],
   "source": [
    "X = NH_df[\"Lat\"].values\n",
    "X_array = [[e] for e in X]\n",
    "y = NH_df[\"Wind Speed\"].values"
   ]
  },
  {
   "cell_type": "code",
   "execution_count": 201,
   "metadata": {},
   "outputs": [
    {
     "data": {
      "text/plain": [
       "LinearRegression()"
      ]
     },
     "execution_count": 201,
     "metadata": {},
     "output_type": "execute_result"
    }
   ],
   "source": [
    "model = LinearRegression()\n",
    "model.fit(X_array, y)"
   ]
  },
  {
   "cell_type": "code",
   "execution_count": 202,
   "metadata": {},
   "outputs": [
    {
     "data": {
      "text/plain": [
       "0.04797731018295447"
      ]
     },
     "execution_count": 202,
     "metadata": {},
     "output_type": "execute_result"
    }
   ],
   "source": [
    "slope = model.coef_[0]\n",
    "slope"
   ]
  },
  {
   "cell_type": "code",
   "execution_count": 203,
   "metadata": {},
   "outputs": [
    {
     "data": {
      "text/plain": [
       "6.4027627700946255"
      ]
     },
     "execution_count": 203,
     "metadata": {},
     "output_type": "execute_result"
    }
   ],
   "source": [
    "intercept = model.intercept_\n",
    "intercept"
   ]
  },
  {
   "cell_type": "code",
   "execution_count": 204,
   "metadata": {},
   "outputs": [
    {
     "data": {
      "text/plain": [
       "0.03015515142484748"
      ]
     },
     "execution_count": 204,
     "metadata": {},
     "output_type": "execute_result"
    }
   ],
   "source": [
    "r_squared = model.score(X_array, y)\n",
    "r_squared"
   ]
  },
  {
   "cell_type": "code",
   "execution_count": 205,
   "metadata": {},
   "outputs": [],
   "source": [
    "def predict_function(wind_speed):\n",
    "    return model.predict([[wind_speed]])[0]"
   ]
  },
  {
   "cell_type": "code",
   "execution_count": 206,
   "metadata": {},
   "outputs": [],
   "source": [
    "nh_wind_speed_range = np.arange(min(X), max(X), 0.001)\n",
    "nh_predict_wind_speed_range = [predict_function(e) for e in nh_wind_speed_range]"
   ]
  },
  {
   "cell_type": "code",
   "execution_count": 207,
   "metadata": {},
   "outputs": [],
   "source": [
    "# Variables used for creating text labels on plot\n",
    "formula = f\"y = {round(intercept, 3)} + {round(slope, 3)}x\"\n",
    "r_squared_str = f\"$R^{2}$={round(r_squared, 3)}\""
   ]
  },
  {
   "cell_type": "code",
   "execution_count": 208,
   "metadata": {},
   "outputs": [
    {
     "data": {
      "image/png": "[encoded data removed]",
      "text/plain": [
       "<Figure size 432x288 with 1 Axes>"
      ]
     },
     "metadata": {
      "needs_background": "light"
     },
     "output_type": "display_data"
    }
   ],
   "source": [
    "plt.title(\"NH City Latitude vs. Wind Speed (mph) (09/25/2020)\")\n",
    "plt.xlabel(\"Latitude\")\n",
    "plt.ylabel(\"Wind Speed (mph)\")\n",
    "plt.grid()\n",
    "plt.scatter(X, y)\n",
    "plt.plot(nh_wind_speed_range, nh_predict_wind_speed_range, color=\"red\")\n",
    "plt.text(0, 35, formula, color=\"red\")\n",
    "plt.text(0, 30, r_squared_str, color=\"red\")\n",
    "plt.show\n",
    "plt.savefig(\"nh_wind_speed_latitude_lr.png\")"
   ]
  },
  {
   "cell_type": "markdown",
   "metadata": {},
   "source": [
    "The data points here are quite spread out, and the R Squared value is low. This indicates that there is little to know correlation between latitude and wind speed. However, much like humidity, there are some data points that are of interest. You can see that there are a couple of cities located far to the north report far higher wind speeds than others in this group."
   ]
  },
  {
   "cell_type": "markdown",
   "metadata": {},
   "source": [
    "#### (Southern Hemisphere)"
   ]
  },
  {
   "cell_type": "code",
   "execution_count": 114,
   "metadata": {},
   "outputs": [],
   "source": [
    "X = SH_df[\"Lat\"].values\n",
    "X_array = [[e] for e in X]\n",
    "y = SH_df[\"Wind Speed\"].values"
   ]
  },
  {
   "cell_type": "code",
   "execution_count": 115,
   "metadata": {},
   "outputs": [
    {
     "data": {
      "text/plain": [
       "LinearRegression()"
      ]
     },
     "execution_count": 115,
     "metadata": {},
     "output_type": "execute_result"
    }
   ],
   "source": [
    "model = LinearRegression()\n",
    "model.fit(X_array, y)"
   ]
  },
  {
   "cell_type": "code",
   "execution_count": 116,
   "metadata": {},
   "outputs": [
    {
     "data": {
      "text/plain": [
       "-0.08887675018611135"
      ]
     },
     "execution_count": 116,
     "metadata": {},
     "output_type": "execute_result"
    }
   ],
   "source": [
    "slope = model.coef_[0]\n",
    "slope"
   ]
  },
  {
   "cell_type": "code",
   "execution_count": 117,
   "metadata": {},
   "outputs": [
    {
     "data": {
      "text/plain": [
       "6.624541568749667"
      ]
     },
     "execution_count": 117,
     "metadata": {},
     "output_type": "execute_result"
    }
   ],
   "source": [
    "intercept = model.intercept_\n",
    "intercept"
   ]
  },
  {
   "cell_type": "code",
   "execution_count": 118,
   "metadata": {},
   "outputs": [
    {
     "data": {
      "text/plain": [
       "0.04640597496999421"
      ]
     },
     "execution_count": 118,
     "metadata": {},
     "output_type": "execute_result"
    }
   ],
   "source": [
    "r_squared = model.score(X_array, y)\n",
    "r_squared"
   ]
  },
  {
   "cell_type": "code",
   "execution_count": 119,
   "metadata": {},
   "outputs": [],
   "source": [
    "def predict_function(wind_speed):\n",
    "    return model.predict([[wind_speed]])[0]"
   ]
  },
  {
   "cell_type": "code",
   "execution_count": 121,
   "metadata": {},
   "outputs": [],
   "source": [
    "sh_wind_speed_range = np.arange(min(X), max(X), 0.001)\n",
    "sh_predict_wind_speed_range = [predict_function(e) for e in sh_wind_speed_range]"
   ]
  },
  {
   "cell_type": "code",
   "execution_count": 122,
   "metadata": {},
   "outputs": [],
   "source": [
    "# Variables used for creating text labels on plot\n",
    "formula = f\"y = {round(intercept, 3)} + {round(slope, 3)}x\"\n",
    "r_squared_str = f\"$R^{2}$={round(r_squared, 3)}\""
   ]
  },
  {
   "cell_type": "code",
   "execution_count": 127,
   "metadata": {},
   "outputs": [
    {
     "data": {
      "image/png": "[encoded data removed]",
      "text/plain": [
       "<Figure size 432x288 with 1 Axes>"
      ]
     },
     "metadata": {
      "needs_background": "light"
     },
     "output_type": "display_data"
    }
   ],
   "source": [
    "plt.title(\"SH City Latitude vs. Wind Speed (mph) (09/25/2020)\")\n",
    "plt.xlabel(\"Latitude\")\n",
    "plt.ylabel(\"Wind Speed (mph)\")\n",
    "plt.grid()\n",
    "plt.scatter(X, y)\n",
    "plt.plot(sh_wind_speed_range, sh_predict_wind_speed_range, color=\"red\")\n",
    "plt.text(-50, 25, formula, color=\"red\")\n",
    "plt.text(-20, 25, r_squared_str, color=\"red\")\n",
    "plt.show\n",
    "plt.savefig(\"sh_wind_speed_latitude_lr.png\")"
   ]
  },
  {
   "cell_type": "markdown",
   "metadata": {},
   "source": [
    "Although the R Squared value is very low, one can see a small trend. you can also see that like in the Northern Hemisphere there are some data anomalies that require further analysis."
   ]
  }
 ],
 "metadata": {
  "environment": {
   "name": "common-cpu.m54",
   "type": "gcloud",
   "uri": "gcr.io/deeplearning-platform-release/base-cpu:m54"
  },
  "kernelspec": {
   "display_name": "Python 3",
   "language": "python",
   "name": "python3"
  },
  "language_info": {
   "codemirror_mode": {
    "name": "ipython",
    "version": 3
   },
   "file_extension": ".py",
   "mimetype": "text/x-python",
   "name": "python",
   "nbconvert_exporter": "python",
   "pygments_lexer": "ipython3",
   "version": "3.7.8"
  }
 },
 "nbformat": 4,
 "nbformat_minor": 4
}
