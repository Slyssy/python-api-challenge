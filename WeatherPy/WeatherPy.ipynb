{
 "cells": [
  {
   "cell_type": "code",
   "execution_count": 90,
   "metadata": {},
   "outputs": [
    {
     "name": "stdout",
     "output_type": "stream",
     "text": [
      "The lab_black extension is already loaded. To reload it, use:\n",
      "  %reload_ext lab_black\n"
     ]
    }
   ],
   "source": [
    "%load_ext lab_black\n",
    "import pandas as pd\n",
    "import json\n",
    "import requests\n",
    "import numpy as np\n",
    "from config import weather_api_key\n",
    "from config import g_key\n",
    "from citipy import citipy\n",
    "import matplotlib.pyplot as plt\n",
    "from sklearn.linear_model import LinearRegression"
   ]
  },
  {
   "cell_type": "markdown",
   "metadata": {},
   "source": [
    "# Part I : WeatherPy\n",
    "----\n"
   ]
  },
  {
   "cell_type": "markdown",
   "metadata": {},
   "source": [
    "## Generate Cities List"
   ]
  },
  {
   "cell_type": "code",
   "execution_count": 91,
   "metadata": {},
   "outputs": [],
   "source": [
    "lat_range = (90, -90)\n",
    "lon_range = (180, -180)\n",
    "\n",
    "# Blank list to hold latitude and longitude values\n",
    "lat_lon = []\n",
    "\n",
    "# Using numpy to generate random latitude and longitude values\n",
    "lat = np.random.uniform(high=90, low=-90, size=1400)\n",
    "lon = np.random.uniform(high=180, low=-180, size=1400)\n",
    "lat_lon = list(zip(lat, lon))\n",
    "\n",
    "# Using \"for\" loop to generate city list.\n",
    "city_list = []\n",
    "\n",
    "for lat_lon in lat_lon:\n",
    "    city = citipy.nearest_city(lat_lon[0], lat_lon[1]).city_name\n",
    "\n",
    "    # Appending only non-duplicated names to the city list.\n",
    "    if city not in city_list:\n",
    "        city_list.append(city)"
   ]
  },
  {
   "cell_type": "code",
   "execution_count": 92,
   "metadata": {},
   "outputs": [
    {
     "data": {
      "text/plain": [
       "588"
      ]
     },
     "execution_count": 92,
     "metadata": {},
     "output_type": "execute_result"
    }
   ],
   "source": [
    "len(city_list)"
   ]
  },
  {
   "cell_type": "markdown",
   "metadata": {},
   "source": [
    "### Perform API Calls\n",
    "* Perform a weather check on each city using a series of successive API calls.\n",
    "* Include a print log of each city as it'sbeing processed (with the city number and city name).\n"
   ]
  },
  {
   "cell_type": "markdown",
   "metadata": {},
   "source": [
    "url = \"http://api.openweathermap.org/data/2.5/weather\"\n",
    "units = \"imperial\"\n",
    "parameters = {\n",
    "    \"q\": city_list,\n",
    "    \"appid\": weather_api_key\n",
    "}"
   ]
  },
  {
   "cell_type": "code",
   "execution_count": 93,
   "metadata": {},
   "outputs": [],
   "source": [
    "def extract_data(data):\n",
    "    return {\n",
    "        \"City\": data[\"name\"],\n",
    "        \"Lat\": data[\"coord\"][\"lat\"],\n",
    "        \"Lon\": data[\"coord\"][\"lon\"],\n",
    "        \"Max Temp\": data[\"main\"][\"temp_max\"],\n",
    "        \"Humidity\": data[\"main\"][\"humidity\"],\n",
    "        \"Cloudiness\": data[\"clouds\"][\"all\"],\n",
    "        \"Wind Speed\": data[\"wind\"][\"speed\"],\n",
    "        \"Country\": data[\"sys\"][\"country\"],\n",
    "        \"Date\": data[\"dt\"],\n",
    "    }"
   ]
  },
  {
   "cell_type": "code",
   "execution_count": 94,
   "metadata": {},
   "outputs": [],
   "source": [
    "city_results = []"
   ]
  },
  {
   "cell_type": "code",
   "execution_count": 97,
   "metadata": {},
   "outputs": [
    {
     "name": "stdout",
     "output_type": "stream",
     "text": [
      "Beginning Data Retrieval\n",
      "----------------------------------------\n",
      "Processing Record 1 | kemalpasa\n",
      "Processing Record 2 | oyama\n",
      "Processing Record 3 | harper\n",
      "Processing Record 4 | san policarpo\n",
      "Processing Record 5 | northam\n",
      "Processing Record 6 | gillette\n",
      "Processing Record 7 | aklavik\n",
      "Processing Record 8 | bose\n",
      "Processing Record 9 | kiama\n",
      "Processing Record 10 | kismayo\n",
      "Processing Record 11 | lebu\n",
      "Processing Record 12 | hilo\n",
      "Processing Record 13 | esperance\n",
      "Processing Record 14 | grindavik\n",
      "Processing Record 15 | santander jimenez\n",
      "Processing Record 16 | kingman\n",
      "Processing Record 17 | maltahohe\n",
      "Processing Record 18 | atuona\n",
      "Processing Record 19 | busselton\n",
      "Processing Record 20 | talnakh\n",
      "Processing Record 21 | sazonovo\n",
      "Processing Record 22 | hobart\n",
      "Processing Record 23 | billings\n",
      "Processing Record 24 | malindi\n",
      "Processing Record 25 | puerto ayora\n",
      "Processing Record 26 | nageshwari\n",
      "Processing Record 27 | sechura\n",
      "Processing Record 28 | sur\n",
      "Processing Record 29 | paracuru\n",
      "Processing Record 30 | kaitangata\n",
      "Processing Record 31 | ust-tarka\n",
      "Processing Record 32 | tuatapere\n",
      "Processing Record 33 | butaritari\n",
      "Processing Record 34 | port macquarie\n",
      "Processing Record 35 | ushuaia\n",
      "Processing Record 36 | kapaa\n",
      "Processing Record 37 | rikitea\n",
      "Processing Record 38 | bilibino\n",
      "Processing Record 39 | baykit\n",
      "Processing Record 40 | hermanus\n",
      "Processing Record 41 | narsaq\n",
      "Processing Record 42 | chippewa falls\n",
      "Processing Record 43 | gat\n",
      "Processing Record 44 | hithadhoo\n",
      "Processing Record 45 | cayenne\n",
      "Processing Record 46 | meulaboh\n",
      "Processing Record 47 | jamestown\n",
      "Processing Record 48 | lata\n",
      "Processing Record 49 | mataura\n",
      "Processing Record 50 | bambous virieux\n",
      "Processing Record 51 | ancud\n",
      "Processing Record 52 | perivolia\n",
      "Processing Record 53 | cape town\n",
      "Processing Record 54 | albany\n",
      "Processing Record 55 | hanstholm\n",
      "Processing Record 56 | vaini\n",
      "Processing Record 57 | bonthe\n",
      "Processing Record 58 | tuktoyaktuk\n",
      "Processing Record 59 | los llanos de aridane\n",
      "Processing Record 60 | khatanga\n",
      "Processing Record 61 | tasiilaq\n",
      "Processing Record 62 | roma\n",
      "Processing Record 63 | punta arenas\n",
      "Processing Record 64 | castro\n",
      "City not found. Skipping...\n",
      "Processing Record 65 | lompoc\n",
      "Processing Record 66 | bluff\n",
      "Processing Record 67 | tiksi\n",
      "Processing Record 68 | ust-kulom\n",
      "Processing Record 69 | ribeira grande\n",
      "Processing Record 70 | cabo san lucas\n",
      "Processing Record 71 | torbay\n",
      "Processing Record 72 | san patricio\n",
      "Processing Record 73 | saint albans\n",
      "Processing Record 74 | bata\n",
      "Processing Record 75 | chernyshevsk\n",
      "Processing Record 76 | yellowknife\n",
      "Processing Record 77 | fortuna\n",
      "Processing Record 78 | avarua\n",
      "Processing Record 79 | viedma\n",
      "Processing Record 80 | kavieng\n",
      "Processing Record 81 | ilulissat\n",
      "Processing Record 82 | thinadhoo\n",
      "City not found. Skipping...\n",
      "City not found. Skipping...\n",
      "Processing Record 83 | barrow\n",
      "Processing Record 84 | mahanoro\n",
      "Processing Record 85 | pochutla\n",
      "City not found. Skipping...\n",
      "Processing Record 86 | arraial do cabo\n",
      "Processing Record 87 | alta floresta\n",
      "Processing Record 88 | santander\n",
      "Processing Record 89 | mount gambier\n",
      "Processing Record 90 | bud\n",
      "Processing Record 91 | svetlaya\n",
      "Processing Record 92 | hof\n",
      "Processing Record 93 | gazanjyk\n",
      "Processing Record 94 | longyearbyen\n",
      "Processing Record 95 | lagoa\n",
      "Processing Record 96 | ambovombe\n",
      "Processing Record 97 | bredasdorp\n",
      "Processing Record 98 | mitsamiouli\n",
      "Processing Record 99 | east london\n",
      "City not found. Skipping...\n",
      "Processing Record 100 | nikolskoye\n",
      "Processing Record 101 | port alfred\n",
      "City not found. Skipping...\n",
      "Processing Record 102 | mercedes\n",
      "Processing Record 103 | kununurra\n",
      "Processing Record 104 | guerrero negro\n",
      "Processing Record 105 | fukue\n",
      "Processing Record 106 | kitimat\n",
      "Processing Record 107 | tocopilla\n",
      "Processing Record 108 | kachiry\n",
      "Processing Record 109 | sonipat\n",
      "Processing Record 110 | carnarvon\n",
      "Processing Record 111 | phan thiet\n",
      "Processing Record 112 | new norfolk\n",
      "Processing Record 113 | vanimo\n",
      "Processing Record 114 | nha trang\n",
      "Processing Record 115 | broome\n",
      "Processing Record 116 | qaanaaq\n",
      "City not found. Skipping...\n",
      "Processing Record 117 | cidreira\n",
      "Processing Record 118 | hatta\n",
      "Processing Record 119 | dingle\n",
      "Processing Record 120 | yulara\n",
      "City not found. Skipping...\n",
      "City not found. Skipping...\n",
      "Processing Record 121 | salalah\n",
      "Processing Record 122 | rio grande\n",
      "Processing Record 123 | flinders\n",
      "Processing Record 124 | chokurdakh\n",
      "Processing Record 125 | sao joao da barra\n",
      "City not found. Skipping...\n",
      "Processing Record 126 | nantucket\n",
      "Processing Record 127 | leningradskiy\n",
      "Processing Record 128 | bandarbeyla\n",
      "Processing Record 129 | nishihara\n",
      "Processing Record 130 | vardo\n",
      "Processing Record 131 | port elizabeth\n",
      "Processing Record 132 | kodiak\n",
      "Processing Record 133 | annau\n",
      "Processing Record 134 | west fargo\n",
      "Processing Record 135 | maxixe\n",
      "City not found. Skipping...\n",
      "Processing Record 136 | mayo\n",
      "Processing Record 137 | lorengau\n",
      "Processing Record 138 | chateaubelair\n",
      "Processing Record 139 | akdepe\n",
      "Processing Record 140 | matagami\n",
      "Processing Record 141 | pevek\n",
      "Processing Record 142 | puerto escondido\n",
      "City not found. Skipping...\n",
      "Processing Record 143 | mlonggo\n",
      "Processing Record 144 | abu dhabi\n",
      "Processing Record 145 | mar del plata\n",
      "Processing Record 146 | inuvik\n",
      "Processing Record 147 | moose factory\n",
      "Processing Record 148 | maputo\n",
      "City not found. Skipping...\n",
      "Processing Record 149 | kahului\n",
      "Processing Record 150 | georgetown\n",
      "Processing Record 151 | cap malheureux\n",
      "Processing Record 152 | balasheyka\n",
      "City not found. Skipping...\n",
      "Processing Record 153 | souillac\n",
      "City not found. Skipping...\n",
      "Processing Record 154 | mitu\n",
      "Processing Record 155 | bethel\n",
      "Processing Record 156 | abonnema\n",
      "Processing Record 157 | aksarka\n",
      "Processing Record 158 | yola\n",
      "Processing Record 159 | iqaluit\n",
      "Processing Record 160 | bonavista\n",
      "City not found. Skipping...\n",
      "Processing Record 161 | calabozo\n",
      "Processing Record 162 | siilinjarvi\n",
      "Processing Record 163 | peringat\n",
      "Processing Record 164 | clyde river\n",
      "Processing Record 165 | union city\n",
      "Processing Record 166 | manuk mangkaw\n",
      "Processing Record 167 | codrington\n",
      "Processing Record 168 | jining\n",
      "Processing Record 169 | alofi\n",
      "City not found. Skipping...\n",
      "Processing Record 170 | cherskiy\n",
      "Processing Record 171 | constitucion\n",
      "Processing Record 172 | rockport\n",
      "Processing Record 173 | juba\n",
      "Processing Record 174 | sorland\n",
      "Processing Record 175 | faanui\n",
      "Processing Record 176 | severo-kurilsk\n",
      "Processing Record 177 | malakal\n",
      "Processing Record 178 | haukipudas\n",
      "Processing Record 179 | port augusta\n",
      "Processing Record 180 | banda aceh\n",
      "Processing Record 181 | hukuntsi\n",
      "Processing Record 182 | visby\n",
      "Processing Record 183 | les cayes\n",
      "Processing Record 184 | mahebourg\n",
      "Processing Record 185 | polyarnyy\n",
      "Processing Record 186 | terra santa\n",
      "Processing Record 187 | tessalit\n",
      "Processing Record 188 | eatonton\n",
      "Processing Record 189 | egvekinot\n",
      "City not found. Skipping...\n",
      "Processing Record 190 | ponta do sol\n",
      "Processing Record 191 | bahia honda\n",
      "City not found. Skipping...\n",
      "Processing Record 192 | provideniya\n",
      "Processing Record 193 | bolshaya dzhalga\n",
      "Processing Record 194 | ryotsu\n",
      "Processing Record 195 | dunedin\n",
      "City not found. Skipping...\n",
      "Processing Record 196 | norman wells\n",
      "Processing Record 197 | kachug\n",
      "Processing Record 198 | urla\n",
      "Processing Record 199 | saint-philippe\n",
      "Processing Record 200 | sharjah\n",
      "Processing Record 201 | nador\n",
      "Processing Record 202 | bowen\n",
      "Processing Record 203 | mansa\n",
      "Processing Record 204 | bac lieu\n",
      "Processing Record 205 | hirara\n",
      "Processing Record 206 | touros\n",
      "Processing Record 207 | buraydah\n",
      "Processing Record 208 | ozernovskiy\n",
      "Processing Record 209 | ashqelon\n",
      "City not found. Skipping...\n",
      "Processing Record 210 | upernavik\n",
      "Processing Record 211 | chechat\n",
      "Processing Record 212 | koshurnikovo\n",
      "Processing Record 213 | klaksvik\n",
      "Processing Record 214 | homer\n",
      "Processing Record 215 | pangody\n",
      "Processing Record 216 | sola\n",
      "Processing Record 217 | arman\n",
      "Processing Record 218 | belaya gora\n",
      "Processing Record 219 | kirakira\n",
      "Processing Record 220 | chicama\n",
      "Processing Record 221 | hobyo\n",
      "Processing Record 222 | itarema\n",
      "Processing Record 223 | springbok\n",
      "Processing Record 224 | san fernando\n",
      "Processing Record 225 | saldanha\n",
      "Processing Record 226 | kenai\n",
      "Processing Record 227 | mecca\n",
      "Processing Record 228 | sakaiminato\n",
      "Processing Record 229 | mount isa\n",
      "Processing Record 230 | college\n",
      "Processing Record 231 | buluang\n",
      "Processing Record 232 | commerce\n",
      "Processing Record 233 | yaan\n",
      "Processing Record 234 | springdale\n",
      "Processing Record 235 | cruz\n",
      "Processing Record 236 | saint-francois\n",
      "Processing Record 237 | san quintin\n",
      "City not found. Skipping...\n",
      "Processing Record 238 | kurumkan\n",
      "Processing Record 239 | chuy\n",
      "Processing Record 240 | sao felix do xingu\n",
      "City not found. Skipping...\n",
      "Processing Record 241 | maniitsoq\n",
      "Processing Record 242 | corinto\n",
      "Processing Record 243 | ferrol\n",
      "Processing Record 244 | pitiquito\n",
      "Processing Record 245 | concordia\n",
      "Processing Record 246 | jumla\n",
      "Processing Record 247 | chara\n",
      "Processing Record 248 | ust-nera\n",
      "Processing Record 249 | coahuayana\n",
      "Processing Record 250 | greenfield\n",
      "Processing Record 251 | tecoanapa\n",
      "Processing Record 252 | anadyr\n",
      "Processing Record 253 | palaia fokaia\n",
      "Processing Record 254 | huangmei\n",
      "Processing Record 255 | sao filipe\n",
      "Processing Record 256 | yenagoa\n",
      "Processing Record 257 | tagusao\n",
      "Processing Record 258 | zhuhai\n",
      "Processing Record 259 | nome\n",
      "Processing Record 260 | yeppoon\n",
      "Processing Record 261 | morondava\n",
      "Processing Record 262 | foki\n",
      "Processing Record 263 | mahibadhoo\n",
      "Processing Record 264 | qaqortoq\n",
      "Processing Record 265 | pecos\n",
      "Processing Record 266 | anito\n",
      "Processing Record 267 | panaba\n",
      "Processing Record 268 | abalak\n",
      "Processing Record 269 | grand-lahou\n",
      "Processing Record 270 | cockburn town\n",
      "Processing Record 271 | karratha\n",
      "Processing Record 272 | el alto\n",
      "Processing Record 273 | erzin\n",
      "Processing Record 274 | harlingen\n",
      "Processing Record 275 | noumea\n",
      "Processing Record 276 | damaturu\n",
      "Processing Record 277 | pisco\n",
      "Processing Record 278 | thompson\n",
      "Processing Record 279 | kralendijk\n",
      "Processing Record 280 | bathsheba\n",
      "Processing Record 281 | hagere selam\n",
      "Processing Record 282 | estevan\n",
      "Processing Record 283 | zilair\n",
      "Processing Record 284 | sikasso\n",
      "Processing Record 285 | lensk\n",
      "Processing Record 286 | chapais\n",
      "Processing Record 287 | tera\n",
      "City not found. Skipping...\n",
      "Processing Record 288 | mayakonda\n",
      "City not found. Skipping...\n",
      "Processing Record 289 | lufilufi\n",
      "Processing Record 290 | lavrentiya\n",
      "Processing Record 291 | teknaf\n",
      "Processing Record 292 | raipur\n",
      "Processing Record 293 | matay\n",
      "Processing Record 294 | muros\n",
      "Processing Record 295 | independencia\n",
      "Processing Record 296 | ordynskoye\n",
      "City not found. Skipping...\n",
      "Processing Record 297 | rosario do sul\n",
      "Processing Record 298 | muli\n",
      "Processing Record 299 | okha\n",
      "Processing Record 300 | north bend\n",
      "Processing Record 301 | wattegama\n",
      "Processing Record 302 | tibiri\n",
      "Processing Record 303 | ust-omchug\n",
      "Processing Record 304 | port lincoln\n",
      "Processing Record 305 | westport\n",
      "Processing Record 306 | krasnystaw\n",
      "Processing Record 307 | ghanzi\n",
      "Processing Record 308 | tevaitoa\n",
      "Processing Record 309 | voykove\n",
      "Processing Record 310 | culpeper\n",
      "Processing Record 311 | japura\n",
      "Processing Record 312 | geraldton\n",
      "Processing Record 313 | kavaratti\n",
      "Processing Record 314 | puerto cabezas\n",
      "Processing Record 315 | the valley\n",
      "Processing Record 316 | havoysund\n",
      "Processing Record 317 | bani\n",
      "Processing Record 318 | buala\n",
      "Processing Record 319 | paamiut\n",
      "Processing Record 320 | isangel\n",
      "Processing Record 321 | vila\n",
      "Processing Record 322 | pont-rouge\n",
      "Processing Record 323 | varhaug\n",
      "Processing Record 324 | nanortalik\n",
      "Processing Record 325 | nueva gerona\n",
      "Processing Record 326 | banjarmasin\n",
      "City not found. Skipping...\n",
      "Processing Record 327 | katsuura\n",
      "Processing Record 328 | kuytun\n",
      "Processing Record 329 | hami\n",
      "Processing Record 330 | hasaki\n",
      "Processing Record 331 | kovdor\n",
      "Processing Record 332 | aasiaat\n",
      "Processing Record 333 | malanje\n",
      "Processing Record 334 | olafsvik\n",
      "Processing Record 335 | naze\n",
      "Processing Record 336 | berlevag\n",
      "Processing Record 337 | la ronge\n",
      "Processing Record 338 | khilchipur\n",
      "Processing Record 339 | lasa\n",
      "Processing Record 340 | eyl\n",
      "Processing Record 341 | pacific grove\n",
      "Processing Record 342 | almeria\n",
      "Processing Record 343 | deniliquin\n",
      "Processing Record 344 | ostrovnoy\n",
      "Processing Record 345 | emerald\n",
      "Processing Record 346 | birao\n",
      "Processing Record 347 | ratnagiri\n",
      "Processing Record 348 | fasa\n",
      "City not found. Skipping...\n",
      "Processing Record 349 | necochea\n",
      "Processing Record 350 | ambon\n",
      "Processing Record 351 | ostersund\n",
      "Processing Record 352 | atar\n",
      "City not found. Skipping...\n",
      "Processing Record 353 | avera\n",
      "Processing Record 354 | ingham\n",
      "Processing Record 355 | monticello\n",
      "Processing Record 356 | aleksandrov gay\n",
      "Processing Record 357 | maragogi\n",
      "Processing Record 358 | dikson\n",
      "Processing Record 359 | taltal\n",
      "Processing Record 360 | vila franca do campo\n",
      "Processing Record 361 | el rosario\n",
      "Processing Record 362 | dera gopipur\n",
      "Processing Record 363 | worland\n",
      "Processing Record 364 | sanok\n",
      "Processing Record 365 | saskylakh\n",
      "Processing Record 366 | horta\n",
      "Processing Record 367 | ornskoldsvik\n",
      "City not found. Skipping...\n",
      "Processing Record 368 | umea\n",
      "Processing Record 369 | vilhena\n",
      "Processing Record 370 | ucluelet\n",
      "Processing Record 371 | joshimath\n",
      "Processing Record 372 | fort nelson\n",
      "Processing Record 373 | nelson bay\n",
      "Processing Record 374 | antofagasta\n",
      "Processing Record 375 | lages\n",
      "Processing Record 376 | saint george\n",
      "Processing Record 377 | birjand\n",
      "Processing Record 378 | chukhloma\n",
      "Processing Record 379 | marfino\n",
      "Processing Record 380 | petropavlovsk-kamchatskiy\n",
      "Processing Record 381 | yerbogachen\n",
      "Processing Record 382 | vagur\n",
      "Processing Record 383 | myitkyina\n",
      "Processing Record 384 | el cope\n",
      "Processing Record 385 | murdochville\n",
      "Processing Record 386 | coruripe\n",
      "Processing Record 387 | pangnirtung\n",
      "Processing Record 388 | salinas\n",
      "Processing Record 389 | escanaba\n",
      "Processing Record 390 | kizukuri\n",
      "Processing Record 391 | malim\n",
      "City not found. Skipping...\n",
      "Processing Record 392 | barao de melgaco\n",
      "Processing Record 393 | coquimbo\n",
      "City not found. Skipping...\n",
      "Processing Record 394 | mehran\n",
      "Processing Record 395 | padang\n",
      "Processing Record 396 | kruisfontein\n",
      "Processing Record 397 | sao domingos\n",
      "City not found. Skipping...\n",
      "Processing Record 398 | vestmannaeyjar\n",
      "Processing Record 399 | jinchang\n",
      "Processing Record 400 | yozgat\n",
      "Processing Record 401 | chokwe\n",
      "Processing Record 402 | gizo\n",
      "Processing Record 403 | landeck\n",
      "Processing Record 404 | komsomolskiy\n",
      "Processing Record 405 | portalegre\n",
      "Processing Record 406 | dutse\n",
      "Processing Record 407 | airai\n",
      "Processing Record 408 | esqueda\n",
      "Processing Record 409 | jaca\n",
      "Processing Record 410 | kuzedeyevo\n",
      "Processing Record 411 | songea\n",
      "City not found. Skipping...\n",
      "Processing Record 412 | yekaterinovka\n",
      "Processing Record 413 | douglas\n",
      "Processing Record 414 | sena madureira\n",
      "Processing Record 415 | jiazi\n",
      "City not found. Skipping...\n",
      "Processing Record 416 | alyangula\n",
      "City not found. Skipping...\n",
      "Processing Record 417 | vangaindrano\n",
      "Processing Record 418 | creel\n",
      "Processing Record 419 | portland\n",
      "Processing Record 420 | riyadh\n",
      "Processing Record 421 | yuli\n",
      "Processing Record 422 | lima duarte\n",
      "Processing Record 423 | la asuncion\n",
      "Processing Record 424 | munster\n",
      "Processing Record 425 | kamenka\n",
      "Processing Record 426 | lebowakgomo\n",
      "City not found. Skipping...\n",
      "Processing Record 427 | bengkulu\n",
      "Processing Record 428 | oranjemund\n",
      "Processing Record 429 | naron\n",
      "Processing Record 430 | nguruka\n",
      "Processing Record 431 | uyuni\n",
      "Processing Record 432 | preobrazheniye\n",
      "Processing Record 433 | brae\n",
      "City not found. Skipping...\n",
      "Processing Record 434 | acajutla\n",
      "Processing Record 435 | biak\n",
      "Processing Record 436 | mangai\n",
      "Processing Record 437 | rafai\n",
      "Processing Record 438 | labuhan\n",
      "Processing Record 439 | sioux lookout\n",
      "Processing Record 440 | ushtobe\n",
      "Processing Record 441 | nukus\n",
      "Processing Record 442 | freeport\n",
      "Processing Record 443 | mezen\n",
      "Processing Record 444 | sorong\n",
      "City not found. Skipping...\n",
      "Processing Record 445 | manzanillo\n",
      "Processing Record 446 | knysna\n",
      "Processing Record 447 | honiara\n",
      "Processing Record 448 | sabang\n",
      "Processing Record 449 | khandyga\n",
      "Processing Record 450 | san cristobal\n",
      "Processing Record 451 | tarko-sale\n",
      "Processing Record 452 | huambo\n",
      "Processing Record 453 | enkoping\n",
      "Processing Record 454 | oriximina\n",
      "Processing Record 455 | hamilton\n",
      "Processing Record 456 | tulum\n",
      "Processing Record 457 | la macarena\n",
      "Processing Record 458 | chateaudun\n",
      "Processing Record 459 | nangomba\n",
      "Processing Record 460 | placido de castro\n",
      "Processing Record 461 | tinskoy\n",
      "City not found. Skipping...\n",
      "Processing Record 462 | bollnas\n",
      "Processing Record 463 | sept-iles\n",
      "Processing Record 464 | ulychne\n",
      "Processing Record 465 | amarillo\n",
      "Processing Record 466 | usinsk\n",
      "Processing Record 467 | aksu\n",
      "Processing Record 468 | goderich\n",
      "Processing Record 469 | inhambane\n",
      "Processing Record 470 | vila velha\n",
      "Processing Record 471 | pasighat\n",
      "Processing Record 472 | lakatoro\n",
      "Processing Record 473 | guarapari\n",
      "Processing Record 474 | hambantota\n",
      "Processing Record 475 | pineville\n",
      "Processing Record 476 | ketchikan\n",
      "Processing Record 477 | dakar\n",
      "Processing Record 478 | bundoran\n",
      "Processing Record 479 | umm kaddadah\n",
      "Processing Record 480 | bend\n",
      "Processing Record 481 | penzance\n",
      "Processing Record 482 | ahvaz\n",
      "Processing Record 483 | ternate\n",
      "Processing Record 484 | balkhash\n",
      "Processing Record 485 | shache\n",
      "Processing Record 486 | port victoria\n",
      "Processing Record 487 | kokopo\n",
      "Processing Record 488 | north platte\n",
      "Processing Record 489 | palmer\n",
      "Processing Record 490 | provost\n",
      "Processing Record 491 | kaseda\n",
      "Processing Record 492 | ladario\n",
      "Processing Record 493 | san pedro\n",
      "Processing Record 494 | kailua\n",
      "Processing Record 495 | lewistown\n",
      "Processing Record 496 | taraza\n",
      "Processing Record 497 | baherden\n",
      "Processing Record 498 | rocha\n",
      "Processing Record 499 | mayya\n",
      "Processing Record 500 | kobryn\n",
      "City not found. Skipping...\n",
      "Processing Record 501 | fredericton\n",
      "Processing Record 502 | mancio lima\n",
      "Processing Record 503 | los alamos\n",
      "Processing Record 504 | tura\n",
      "Processing Record 505 | beloha\n",
      "Processing Record 506 | junction city\n",
      "Processing Record 507 | carutapera\n",
      "Processing Record 508 | kendari\n",
      "Processing Record 509 | san jose\n",
      "Processing Record 510 | hammerfest\n",
      "Processing Record 511 | itabira\n",
      "City not found. Skipping...\n",
      "Processing Record 512 | atasu\n",
      "Processing Record 513 | zaton\n",
      "Processing Record 514 | krasnoselkup\n",
      "Processing Record 515 | ozinki\n",
      "Processing Record 516 | bosobolo\n",
      "City not found. Skipping...\n",
      "Processing Record 517 | kupang\n",
      "Processing Record 518 | beira\n",
      "Processing Record 519 | balesti\n",
      "Processing Record 520 | bougouni\n",
      "Processing Record 521 | santa cruz\n",
      "Processing Record 522 | pali\n",
      "Processing Record 523 | gamboma\n",
      "Processing Record 524 | chulym\n",
      "Processing Record 525 | poltavka\n",
      "City not found. Skipping...\n",
      "Processing Record 526 | duldurga\n",
      "Processing Record 527 | alakurtti\n",
      "Processing Record 528 | ahipara\n",
      "Processing Record 529 | prince rupert\n",
      "Processing Record 530 | te anau\n",
      "Processing Record 531 | grand gaube\n",
      "Processing Record 532 | rio gallegos\n",
      "Processing Record 533 | saint-georges\n",
      "Processing Record 534 | bambanglipuro\n",
      "Processing Record 535 | dekar\n",
      "Processing Record 536 | kalmunai\n",
      "Processing Record 537 | sosnovo-ozerskoye\n",
      "Processing Record 538 | cabra\n",
      "Processing Record 539 | nyakahanga\n",
      "Processing Record 540 | rundu\n",
      "Processing Record 541 | beringovskiy\n",
      "Processing Record 542 | cabedelo\n",
      "Processing Record 543 | guatire\n",
      "Processing Record 544 | port blair\n",
      "----------------------------------------\n",
      "Data Retrieval Complete\n",
      "----------------------------------------\n"
     ]
    }
   ],
   "source": [
    "# Record counter starts at 1\n",
    "processing_record = 1\n",
    "\n",
    "print(\"Beginning Data Retrieval\")\n",
    "print(\"----------------------------------------\")\n",
    "\n",
    "for i, city in enumerate(city_list):\n",
    "\n",
    "    try:\n",
    "\n",
    "        data = requests.get(\n",
    "            \"http://api.openweathermap.org/data/2.5/weather\",\n",
    "            params={\"q\": city, \"appid\": weather_api_key, \"units\": \"imperial\"},\n",
    "        ).json()\n",
    "\n",
    "        city_result = extract_data(data)\n",
    "        city_results.append(city_result)\n",
    "\n",
    "        print(f\"Processing Record {processing_record} | {city}\")\n",
    "\n",
    "        processing_record += 1\n",
    "\n",
    "    except:\n",
    "        print(\"City not found. Skipping...\")\n",
    "    continue\n",
    "\n",
    "print(\"----------------------------------------\")\n",
    "print(\"Data Retrieval Complete\")\n",
    "print(\"----------------------------------------\")"
   ]
  },
  {
   "cell_type": "code",
   "execution_count": null,
   "metadata": {},
   "outputs": [],
   "source": [
    "df = pd.DataFrame(city_results)\n",
    "df.head(2)"
   ]
  },
  {
   "cell_type": "markdown",
   "metadata": {},
   "source": [
    "### Creating Scatter Plot to showcase the relation ship between Max Temperature and Latitude"
   ]
  },
  {
   "cell_type": "code",
   "execution_count": null,
   "metadata": {},
   "outputs": [],
   "source": [
    "# Converting data in DataFrame so that it can be used to define the X and y value needed for the scatter plot.\n",
    "X = df[\"Lat\"].values\n",
    "y = df[\"Max Temp\"].values"
   ]
  },
  {
   "cell_type": "code",
   "execution_count": null,
   "metadata": {},
   "outputs": [],
   "source": [
    "plt.title(\"City Latitude vs. Max Temperature (09/21/2020)\")\n",
    "plt.xlabel(\"Latitude\")\n",
    "plt.ylabel(\"Max Temperature (F)\")\n",
    "plt.grid()\n",
    "plt.scatter(X, y)\n",
    "plt.show"
   ]
  },
  {
   "cell_type": "markdown",
   "metadata": {},
   "source": [
    "Here we are examining the relationship between a city's latitude and it's maximum temperature. As you can see, as a city's latitude has a clear relationship to it's max temperature as we would expect. Temperatures appear to be higher the closer they are to the equator, (0) degrees latitude."
   ]
  },
  {
   "cell_type": "markdown",
   "metadata": {},
   "source": [
    "### Creating Scatter Plot to showcase the relationship between Humidity and Latitude "
   ]
  },
  {
   "cell_type": "code",
   "execution_count": null,
   "metadata": {},
   "outputs": [],
   "source": [
    "X = df[\"Lat\"].values\n",
    "y = df[\"Humidity\"].values"
   ]
  },
  {
   "cell_type": "code",
   "execution_count": null,
   "metadata": {},
   "outputs": [],
   "source": [
    "plt.title(\"City Latitude vs. Humidity (09/21/2020)\")\n",
    "plt.xlabel(\"Latitude\")\n",
    "plt.ylabel(\"Humidity (%)\")\n",
    "plt.grid()\n",
    "plt.scatter(X, y)\n",
    "plt.show"
   ]
  },
  {
   "cell_type": "markdown",
   "metadata": {},
   "source": [
    "This scatter plot is displaying the relationship between a city's latitude and it's humidity levels. There does not appear to be a clear relationship between cities with higher humidities and their latitude based on the plot. However, there does appear to be an indication that many cities that lie between around -30 degrees and 35 degrees latitude have lower humidity levels. There are basically no cities outside of that range that have humidity levels below 20%."
   ]
  },
  {
   "cell_type": "code",
   "execution_count": null,
   "metadata": {},
   "outputs": [],
   "source": [
    "X = df[\"Lat\"].values\n",
    "y = df[\"Cloudiness\"].values"
   ]
  },
  {
   "cell_type": "code",
   "execution_count": null,
   "metadata": {},
   "outputs": [],
   "source": [
    "plt.title(\"City Latitude vs. Cloudiness (09/21/2020)\")\n",
    "plt.xlabel(\"Latitude\")\n",
    "plt.ylabel(\"Cloudiness (%)\")\n",
    "plt.grid()\n",
    "plt.scatter(X, y)\n",
    "plt.show"
   ]
  },
  {
   "cell_type": "markdown",
   "metadata": {},
   "source": [
    "This scatter plot showcases the relationship between a cities latitude and its cloud cover. Latitude does not appear to be a major impactor of a city's cloud cover. Cities with high, medium and low cloud cover appear to be evenly distributed across all latitudes."
   ]
  },
  {
   "cell_type": "code",
   "execution_count": null,
   "metadata": {},
   "outputs": [],
   "source": [
    "X = df[\"Lat\"].values\n",
    "y = df[\"Wind Speed\"].values"
   ]
  },
  {
   "cell_type": "code",
   "execution_count": null,
   "metadata": {},
   "outputs": [],
   "source": [
    "plt.title(\"City Latitude vs. Wind Speed (09/21/2020)\")\n",
    "plt.xlabel(\"Latitude\")\n",
    "plt.ylabel(\"Wind Speed (mph)\")\n",
    "plt.grid()\n",
    "plt.scatter(X, y)\n",
    "plt.show"
   ]
  },
  {
   "cell_type": "markdown",
   "metadata": {},
   "source": [
    "With this plot, we can see that there is perhaps a small relationship between a city's latitude and it wind speed. Although wind speed does appear to be rather equally distibuted, we do see that cities further away from the equator have the potential for higher wind speeds. If you'll notice, there are a slightly higher number of cities with latitudes further away from the equator reporting higher windspeeds."
   ]
  },
  {
   "cell_type": "markdown",
   "metadata": {},
   "source": [
    "## Linear Regression"
   ]
  },
  {
   "cell_type": "markdown",
   "metadata": {},
   "source": [
    "### Temperature (F) vs. Latitude (Northern and Southern Hemisphere)"
   ]
  },
  {
   "cell_type": "markdown",
   "metadata": {},
   "source": [
    "#### (Northern Hemisphere)"
   ]
  },
  {
   "cell_type": "code",
   "execution_count": null,
   "metadata": {},
   "outputs": [],
   "source": [
    "# Created dataframe to display only those cities located in the Northern Hemisphere\n",
    "NH_df = df[df.Lat > 0]"
   ]
  },
  {
   "cell_type": "code",
   "execution_count": null,
   "metadata": {},
   "outputs": [],
   "source": [
    "# Converting the NH_df data so that it can be used to create scatter plots andn perform linear regression.\n",
    "X = NH_df[\"Lat\"].values\n",
    "X_array = [[e] for e in X]\n",
    "y = NH_df[\"Max Temp\"].values"
   ]
  },
  {
   "cell_type": "code",
   "execution_count": null,
   "metadata": {},
   "outputs": [],
   "source": [
    "# Setting up linear regression model.\n",
    "model = LinearRegression()\n",
    "model.fit(X_array, y)"
   ]
  },
  {
   "cell_type": "code",
   "execution_count": null,
   "metadata": {},
   "outputs": [],
   "source": [
    "slope = model.coef_[0]\n",
    "slope"
   ]
  },
  {
   "cell_type": "code",
   "execution_count": null,
   "metadata": {},
   "outputs": [],
   "source": [
    "intercept = model.intercept_\n",
    "intercept"
   ]
  },
  {
   "cell_type": "code",
   "execution_count": null,
   "metadata": {},
   "outputs": [],
   "source": [
    "r_squared = model.score(X_array, y)\n",
    "r_squared"
   ]
  },
  {
   "cell_type": "code",
   "execution_count": null,
   "metadata": {},
   "outputs": [],
   "source": [
    "def predict_function(max_temp):\n",
    "    return model.predict([[max_temp]])[0]"
   ]
  },
  {
   "cell_type": "code",
   "execution_count": null,
   "metadata": {},
   "outputs": [],
   "source": [
    "max_temp_range = np.arange(min(X), max(X), 0.001)\n",
    "predict_max_temp = [predict_function(e) for e in max_temp_range]"
   ]
  },
  {
   "cell_type": "code",
   "execution_count": null,
   "metadata": {},
   "outputs": [],
   "source": [
    "# Variables used for creating text labels on plot\n",
    "formula = f\"y = {round(intercept, 3)} + {round(slope, 3)}x\"\n",
    "r_squared_str = f\"$R^{2}$={round(r_squared, 3)}\""
   ]
  },
  {
   "cell_type": "code",
   "execution_count": null,
   "metadata": {},
   "outputs": [],
   "source": [
    "plt.title(\"NH City Latitude vs. Max Temperature (09/21/2020)\")\n",
    "plt.xlabel(\"Latitude\")\n",
    "plt.ylabel(\"Max Temperature (F)\")\n",
    "plt.grid()\n",
    "plt.scatter(X, y)\n",
    "plt.plot(max_temp_range, predict_max_temp, color=\"red\")\n",
    "plt.text(5, 35, formula, color=\"red\")\n",
    "plt.text(5, 28, r_squared_str, color=\"red\")\n",
    "plt.show"
   ]
  },
  {
   "cell_type": "markdown",
   "metadata": {},
   "source": [
    "As you can see, the r squared value for this regression anaylis is quite high. This indicates that there is a strong correlation between latitude and the maximum temperatures. This is easily seen on the plot displayed above. The further you get away from the equator (0), the lower the max temperature."
   ]
  },
  {
   "cell_type": "markdown",
   "metadata": {},
   "source": [
    "#### (Southern Hemisphere)"
   ]
  },
  {
   "cell_type": "code",
   "execution_count": null,
   "metadata": {},
   "outputs": [],
   "source": [
    "# Created dataframe to display only those cities located in the Northern Hemisphere\n",
    "SH_df = df[df.Lat < 0]"
   ]
  },
  {
   "cell_type": "code",
   "execution_count": null,
   "metadata": {},
   "outputs": [],
   "source": [
    "# Converting the SH_df data so that it can be used to create scatter plots andn perform linear regression.\n",
    "X = SH_df[\"Lat\"].values\n",
    "X_array = [[e] for e in X]\n",
    "y = SH_df[\"Max Temp\"].values"
   ]
  },
  {
   "cell_type": "code",
   "execution_count": null,
   "metadata": {},
   "outputs": [],
   "source": [
    "# Setting up linear regression model.\n",
    "model = LinearRegression()\n",
    "model.fit(X_array, y)"
   ]
  },
  {
   "cell_type": "code",
   "execution_count": null,
   "metadata": {},
   "outputs": [],
   "source": [
    "slope = model.coef_[0]\n",
    "slope"
   ]
  },
  {
   "cell_type": "code",
   "execution_count": null,
   "metadata": {},
   "outputs": [],
   "source": [
    "intercept = model.intercept_\n",
    "intercept"
   ]
  },
  {
   "cell_type": "code",
   "execution_count": null,
   "metadata": {},
   "outputs": [],
   "source": [
    "r_squared = model.score(X_array, y)\n",
    "r_squared"
   ]
  },
  {
   "cell_type": "code",
   "execution_count": null,
   "metadata": {},
   "outputs": [],
   "source": [
    "def predict_function(max_temp):\n",
    "    return model.predict([[max_temp]])[0]"
   ]
  },
  {
   "cell_type": "code",
   "execution_count": null,
   "metadata": {},
   "outputs": [],
   "source": [
    "max_temp_range = np.arange(min(X), max(X), 0.001)\n",
    "predict_max_temp = [predict_function(e) for e in max_temp_range]"
   ]
  },
  {
   "cell_type": "code",
   "execution_count": null,
   "metadata": {},
   "outputs": [],
   "source": [
    "# Variables used for creating text labels on plot\n",
    "formula = f\"y = {round(intercept, 3)} + {round(slope, 3)}x\"\n",
    "r_squared_str = f\"$R^{2}$={round(r_squared, 3)}\""
   ]
  },
  {
   "cell_type": "code",
   "execution_count": null,
   "metadata": {},
   "outputs": [],
   "source": [
    "plt.title(\"SH City Latitude vs. Max Temperature (09/21/2020)\")\n",
    "plt.xlabel(\"Latitude\")\n",
    "plt.ylabel(\"Max Temperature (F)\")\n",
    "plt.grid()\n",
    "plt.scatter(X, y)\n",
    "plt.plot(max_temp_range, predict_max_temp, color=\"red\")\n",
    "plt.text(-55, 83, formula, color=\"red\")\n",
    "plt.text(-55, 76, r_squared_str, color=\"red\")\n",
    "plt.show"
   ]
  },
  {
   "cell_type": "markdown",
   "metadata": {},
   "source": [
    "The r squared value for this linear regression is also quite high; although not quite as high as what was indicated in the Northern Hemisphere. Again, there is a strong correlation between latitude and maximum temperature in the Southern Hemisphere as well. This is easily explained by the fact that Earth is round, and as you get further and further away from the equator in both hemispheres, less of the sun's light makes it to the surface causing maximum temperatures to be lower. Yet another notch against the \"Flat Earthers\" out there."
   ]
  },
  {
   "cell_type": "markdown",
   "metadata": {},
   "source": [
    "### Humidity (%) vs. Latitude (Northern and Southern Hemisphere)¶"
   ]
  },
  {
   "cell_type": "markdown",
   "metadata": {},
   "source": [
    "#### (Northern Hemisphere)"
   ]
  },
  {
   "cell_type": "code",
   "execution_count": null,
   "metadata": {},
   "outputs": [],
   "source": [
    "X = NH_df[\"Lat\"].values\n",
    "X_array = [[e] for e in X]\n",
    "y = NH_df[\"Humidity\"].values"
   ]
  },
  {
   "cell_type": "code",
   "execution_count": null,
   "metadata": {},
   "outputs": [],
   "source": [
    "model = LinearRegression()\n",
    "model.fit(X_array, y)"
   ]
  },
  {
   "cell_type": "code",
   "execution_count": null,
   "metadata": {},
   "outputs": [],
   "source": [
    "slope = model.coef_[0]\n",
    "slope"
   ]
  },
  {
   "cell_type": "code",
   "execution_count": null,
   "metadata": {},
   "outputs": [],
   "source": [
    "intercept = model.intercept_\n",
    "intercept"
   ]
  },
  {
   "cell_type": "code",
   "execution_count": null,
   "metadata": {},
   "outputs": [],
   "source": [
    "r_squared = model.score(X_array, y)\n",
    "r_squared"
   ]
  },
  {
   "cell_type": "code",
   "execution_count": null,
   "metadata": {},
   "outputs": [],
   "source": [
    "def predict_function(humidity):\n",
    "    return model.predict([[humidity]])[0]"
   ]
  },
  {
   "cell_type": "code",
   "execution_count": null,
   "metadata": {},
   "outputs": [],
   "source": [
    "humidity_range = np.arange(min(X), max(X), 0.001)\n",
    "predict_humidity = [predict_function(e) for e in humidity_range]"
   ]
  },
  {
   "cell_type": "code",
   "execution_count": null,
   "metadata": {},
   "outputs": [],
   "source": [
    "# Variables used for creating text labels on plot\n",
    "formula = f\"y = {round(intercept, 3)} + {round(slope, 3)}x\"\n",
    "r_squared_str = f\"$R^{2}$={round(r_squared, 3)}\""
   ]
  },
  {
   "cell_type": "code",
   "execution_count": null,
   "metadata": {},
   "outputs": [],
   "source": [
    "plt.title(\"NH City Latitude vs. Humidity (%) (09/21/2020)\")\n",
    "plt.xlabel(\"Latitude\")\n",
    "plt.ylabel(\"Humidity %\")\n",
    "plt.grid()\n",
    "plt.scatter(X, y)\n",
    "plt.plot(humidity_range, predict_humidity, color=\"red\")\n",
    "plt.text(52, 20, formula, color=\"red\")\n",
    "plt.text(52, 13, r_squared_str, color=\"red\")\n",
    "plt.show"
   ]
  },
  {
   "cell_type": "markdown",
   "metadata": {},
   "source": [
    "The r squared value for this linear regression is quite low suggesting that there is little correlation between latitude and humidity levels. However, as I mentioned above, one can still see there is still something going on here. Although humidity levels due appear to be dispearsed throughout, you can still see that most of the lower humidit levels are grouped together between about 10 and 35 degrees latitude."
   ]
  },
  {
   "cell_type": "markdown",
   "metadata": {},
   "source": [
    "#### (Southern Hemisphere)"
   ]
  },
  {
   "cell_type": "code",
   "execution_count": null,
   "metadata": {},
   "outputs": [],
   "source": [
    "X = SH_df[\"Lat\"].values\n",
    "X_array = [[e] for e in X]\n",
    "y = SH_df[\"Humidity\"].values"
   ]
  },
  {
   "cell_type": "code",
   "execution_count": null,
   "metadata": {},
   "outputs": [],
   "source": [
    "model = LinearRegression()\n",
    "model.fit(X_array, y)"
   ]
  },
  {
   "cell_type": "code",
   "execution_count": null,
   "metadata": {},
   "outputs": [],
   "source": [
    "slope = model.coef_[0]\n",
    "slope"
   ]
  },
  {
   "cell_type": "code",
   "execution_count": null,
   "metadata": {},
   "outputs": [],
   "source": [
    "intercept = model.intercept_\n",
    "intercept"
   ]
  },
  {
   "cell_type": "code",
   "execution_count": null,
   "metadata": {},
   "outputs": [],
   "source": [
    "r_squared = model.score(X_array, y)\n",
    "r_squared"
   ]
  },
  {
   "cell_type": "code",
   "execution_count": null,
   "metadata": {},
   "outputs": [],
   "source": [
    "def predict_function(humidity):\n",
    "    return model.predict([[humidity]])[0]"
   ]
  },
  {
   "cell_type": "code",
   "execution_count": null,
   "metadata": {},
   "outputs": [],
   "source": [
    "humidity_range = np.arange(min(X), max(X), 0.001)\n",
    "predict_humidity = [predict_function(e) for e in humidity_range]"
   ]
  },
  {
   "cell_type": "code",
   "execution_count": null,
   "metadata": {},
   "outputs": [],
   "source": [
    "# Variables used for creating text labels on plot\n",
    "formula = f\"y = {round(intercept, 3)} + {round(slope, 3)}x\"\n",
    "r_squared_str = f\"$R^{2}$={round(r_squared, 3)}\""
   ]
  },
  {
   "cell_type": "code",
   "execution_count": null,
   "metadata": {},
   "outputs": [],
   "source": [
    "plt.title(\"SH City Latitude vs. Humidity (%) (09/21/2020)\")\n",
    "plt.xlabel(\"Latitude\")\n",
    "plt.ylabel(\"Humidity %\")\n",
    "plt.grid()\n",
    "plt.scatter(X, y)\n",
    "plt.plot(humidity_range, predict_humidity, color=\"red\")\n",
    "plt.text(-55, 20, formula, color=\"red\")\n",
    "plt.text(-55, 13, r_squared_str, color=\"red\")\n",
    "plt.show"
   ]
  },
  {
   "cell_type": "markdown",
   "metadata": {},
   "source": [
    "The same is true for the Southern Hemisphere. The r squared value for this linear regression is also low suggesting that there is little correlation between latitude and humidity levels. Again; however, we do see there is still something going on with lower humidity levels. Although humidity levels as whole due appear to be dispearsed throughout, you can still see that most of the lower humidit levels are grouped together between about -25 and -10 degrees latitude. One would assume that most deserts are located at this latitudal levels all over the planet."
   ]
  },
  {
   "cell_type": "markdown",
   "metadata": {},
   "source": [
    "### Cloudiness (%) vs. Latitude (Northern and Southern Hemisphere)¶"
   ]
  },
  {
   "cell_type": "markdown",
   "metadata": {},
   "source": [
    "#### (Northern Hemisphere)"
   ]
  },
  {
   "cell_type": "code",
   "execution_count": null,
   "metadata": {},
   "outputs": [],
   "source": [
    "X = NH_df[\"Lat\"].values\n",
    "X_array = [[e] for e in X]\n",
    "y = NH_df[\"Cloudiness\"].values"
   ]
  },
  {
   "cell_type": "code",
   "execution_count": null,
   "metadata": {},
   "outputs": [],
   "source": [
    "model = LinearRegression()\n",
    "model.fit(X_array, y)"
   ]
  },
  {
   "cell_type": "code",
   "execution_count": null,
   "metadata": {},
   "outputs": [],
   "source": [
    "slope = model.coef_[0]\n",
    "slope"
   ]
  },
  {
   "cell_type": "code",
   "execution_count": null,
   "metadata": {},
   "outputs": [],
   "source": [
    "intercept = model.intercept_\n",
    "intercept"
   ]
  },
  {
   "cell_type": "code",
   "execution_count": null,
   "metadata": {},
   "outputs": [],
   "source": [
    "r_squared = model.score(X_array, y)\n",
    "r_squared"
   ]
  },
  {
   "cell_type": "code",
   "execution_count": null,
   "metadata": {},
   "outputs": [],
   "source": [
    "def predict_function(cloudiness):\n",
    "    return model.predict([[cloudiness]])[0]"
   ]
  },
  {
   "cell_type": "code",
   "execution_count": null,
   "metadata": {},
   "outputs": [],
   "source": [
    "cloudiness_range = np.arange(min(X), max(X), 0.001)\n",
    "predict_cloudiness = [predict_function(e) for e in cloudiness_range]"
   ]
  },
  {
   "cell_type": "code",
   "execution_count": null,
   "metadata": {},
   "outputs": [],
   "source": [
    "# Variables used for creating text labels on plot\n",
    "formula = f\"y = {round(intercept, 3)} + {round(slope, 3)}x\"\n",
    "r_squared_str = f\"$R^{2}$={round(r_squared, 3)}\""
   ]
  },
  {
   "cell_type": "code",
   "execution_count": null,
   "metadata": {},
   "outputs": [],
   "source": [
    "plt.title(\"NH City Latitude vs. Cloudiness (%) (09/21/2020)\")\n",
    "plt.xlabel(\"Latitude\")\n",
    "plt.ylabel(\"Cloudiness %\")\n",
    "plt.grid()\n",
    "plt.scatter(X, y)\n",
    "plt.plot(cloudiness_range, predict_cloudiness, color=\"red\")\n",
    "plt.text(85, 20, formula, color=\"red\")\n",
    "plt.text(85, 13, r_squared_str, color=\"red\")\n",
    "plt.show"
   ]
  },
  {
   "cell_type": "markdown",
   "metadata": {},
   "source": [
    "The R squared value for this linear regression is the lowest we've seen so far. There is apparently little to know correlation betwen cloudiness and latitude in the Northern Hemisphere."
   ]
  },
  {
   "cell_type": "markdown",
   "metadata": {},
   "source": [
    "#### (Southern Hemisphere)"
   ]
  },
  {
   "cell_type": "code",
   "execution_count": null,
   "metadata": {},
   "outputs": [],
   "source": [
    "X = SH_df[\"Lat\"].values\n",
    "X_array = [[e] for e in X]\n",
    "y = SH_df[\"Cloudiness\"].values"
   ]
  },
  {
   "cell_type": "code",
   "execution_count": null,
   "metadata": {},
   "outputs": [],
   "source": [
    "model = LinearRegression()\n",
    "model.fit(X_array, y)"
   ]
  },
  {
   "cell_type": "code",
   "execution_count": null,
   "metadata": {},
   "outputs": [],
   "source": [
    "slope = model.coef_[0]\n",
    "slope"
   ]
  },
  {
   "cell_type": "code",
   "execution_count": null,
   "metadata": {},
   "outputs": [],
   "source": [
    "intercept = model.intercept_\n",
    "intercept"
   ]
  },
  {
   "cell_type": "code",
   "execution_count": null,
   "metadata": {},
   "outputs": [],
   "source": [
    "r_squared = model.score(X_array, y)\n",
    "r_squared"
   ]
  },
  {
   "cell_type": "code",
   "execution_count": null,
   "metadata": {},
   "outputs": [],
   "source": [
    "def predict_function(cloudiness):\n",
    "    return model.predict([[cloudiness]])[0]"
   ]
  },
  {
   "cell_type": "code",
   "execution_count": null,
   "metadata": {},
   "outputs": [],
   "source": [
    "cloudiness_range = np.arange(min(X), max(X), 0.001)\n",
    "predict_cloudiness = [predict_function(e) for e in cloudiness_range]"
   ]
  },
  {
   "cell_type": "code",
   "execution_count": null,
   "metadata": {},
   "outputs": [],
   "source": [
    "# Variables used for creating text labels on plot\n",
    "formula = f\"y = {round(intercept, 3)} + {round(slope, 3)}x\"\n",
    "r_squared_str = f\"$R^{2}$={round(r_squared, 3)}\""
   ]
  },
  {
   "cell_type": "code",
   "execution_count": null,
   "metadata": {},
   "outputs": [],
   "source": [
    "plt.title(\"SH City Latitude vs. Cloudiness (%) (09/21/2020)\")\n",
    "plt.xlabel(\"Latitude\")\n",
    "plt.ylabel(\"Cloudiness %\")\n",
    "plt.grid()\n",
    "plt.scatter(X, y)\n",
    "plt.plot(cloudiness_range, predict_cloudiness, color=\"red\")\n",
    "plt.text(5, 20, formula, color=\"red\")\n",
    "plt.text(5, 13, r_squared_str, color=\"red\")\n",
    "plt.show"
   ]
  },
  {
   "cell_type": "markdown",
   "metadata": {},
   "source": [
    "The R squared value for this linear regression is also quite low. Again, there is apparently little to know correlation betwen cloudiness and latitude in the Southern Hemisphere as well."
   ]
  },
  {
   "cell_type": "markdown",
   "metadata": {},
   "source": [
    "### Wind Speed (mph) vs. Latitude (Northern and Southern Hemisphere)¶"
   ]
  },
  {
   "cell_type": "markdown",
   "metadata": {},
   "source": [
    "#### (Northern Hemisphere)"
   ]
  },
  {
   "cell_type": "code",
   "execution_count": null,
   "metadata": {},
   "outputs": [],
   "source": [
    "X = NH_df[\"Lat\"].values\n",
    "X_array = [[e] for e in X]\n",
    "y = NH_df[\"Wind Speed\"].values"
   ]
  },
  {
   "cell_type": "code",
   "execution_count": null,
   "metadata": {},
   "outputs": [],
   "source": [
    "model = LinearRegression()\n",
    "model.fit(X_array, y)"
   ]
  },
  {
   "cell_type": "code",
   "execution_count": null,
   "metadata": {},
   "outputs": [],
   "source": [
    "slope = model.coef_[0]\n",
    "slope"
   ]
  },
  {
   "cell_type": "code",
   "execution_count": null,
   "metadata": {},
   "outputs": [],
   "source": [
    "intercept = model.intercept_\n",
    "intercept"
   ]
  },
  {
   "cell_type": "code",
   "execution_count": null,
   "metadata": {},
   "outputs": [],
   "source": [
    "r_squared = model.score(X_array, y)\n",
    "r_squared"
   ]
  },
  {
   "cell_type": "code",
   "execution_count": null,
   "metadata": {},
   "outputs": [],
   "source": [
    "def predict_function(wind_speed):\n",
    "    return model.predict([[wind_speed]])[0]"
   ]
  },
  {
   "cell_type": "code",
   "execution_count": null,
   "metadata": {},
   "outputs": [],
   "source": [
    "wind_speed_range = np.arange(min(X), max(X), 0.001)\n",
    "predict_wind_speed_range = [predict_function(e) for e in wind_speed_range]"
   ]
  },
  {
   "cell_type": "code",
   "execution_count": null,
   "metadata": {},
   "outputs": [],
   "source": [
    "# Variables used for creating text labels on plot\n",
    "formula = f\"y = {round(intercept, 3)} + {round(slope, 3)}x\"\n",
    "r_squared_str = f\"$R^{2}$={round(r_squared, 3)}\""
   ]
  },
  {
   "cell_type": "code",
   "execution_count": null,
   "metadata": {},
   "outputs": [],
   "source": [
    "plt.title(\"NH City Latitude vs. Wind Speed (mph) (09/21/2020)\")\n",
    "plt.xlabel(\"Latitude\")\n",
    "plt.ylabel(\"Wind Speed (mph)\")\n",
    "plt.grid()\n",
    "plt.scatter(X, y)\n",
    "plt.plot(wind_speed_range, predict_wind_speed_range, color=\"red\")\n",
    "plt.text(5, 48, formula, color=\"red\")\n",
    "plt.text(5, 41, r_squared_str, color=\"red\")\n",
    "plt.show"
   ]
  },
  {
   "cell_type": "markdown",
   "metadata": {},
   "source": [
    "The data points here are quite spread out, and the R Squared value is low. This indicates that there is little to know correlation between latitude and wind speed. However, much like humidity, there are some data points that are of interest. You can see that there are a couple of cities located far to the north report far higher wind speeds than others in this group."
   ]
  },
  {
   "cell_type": "markdown",
   "metadata": {},
   "source": [
    "#### (Southern Hemisphere)"
   ]
  },
  {
   "cell_type": "code",
   "execution_count": null,
   "metadata": {},
   "outputs": [],
   "source": [
    "X = SH_df[\"Lat\"].values\n",
    "X_array = [[e] for e in X]\n",
    "y = SH_df[\"Wind Speed\"].values"
   ]
  },
  {
   "cell_type": "code",
   "execution_count": null,
   "metadata": {},
   "outputs": [],
   "source": [
    "model = LinearRegression()\n",
    "model.fit(X_array, y)"
   ]
  },
  {
   "cell_type": "code",
   "execution_count": null,
   "metadata": {},
   "outputs": [],
   "source": [
    "slope = model.coef_[0]\n",
    "slope"
   ]
  },
  {
   "cell_type": "code",
   "execution_count": null,
   "metadata": {},
   "outputs": [],
   "source": [
    "intercept = model.intercept_\n",
    "intercept"
   ]
  },
  {
   "cell_type": "code",
   "execution_count": null,
   "metadata": {},
   "outputs": [],
   "source": [
    "r_squared = model.score(X_array, y)\n",
    "r_squared"
   ]
  },
  {
   "cell_type": "code",
   "execution_count": null,
   "metadata": {},
   "outputs": [],
   "source": [
    "def predict_function(wind_speed):\n",
    "    return model.predict([[wind_speed]])[0]"
   ]
  },
  {
   "cell_type": "code",
   "execution_count": null,
   "metadata": {},
   "outputs": [],
   "source": [
    "wind_speed_range = np.arange(min(X), max(X), 0.001)\n",
    "predict_wind_speed_range = [predict_function(e) for e in wind_speed_range]"
   ]
  },
  {
   "cell_type": "code",
   "execution_count": null,
   "metadata": {},
   "outputs": [],
   "source": [
    "# Variables used for creating text labels on plot\n",
    "formula = f\"y = {round(intercept, 3)} + {round(slope, 3)}x\"\n",
    "r_squared_str = f\"$R^{2}$={round(r_squared, 3)}\""
   ]
  },
  {
   "cell_type": "code",
   "execution_count": null,
   "metadata": {},
   "outputs": [],
   "source": [
    "plt.title(\"SH City Latitude vs. Wind Speed (mph) (09/21/2020)\")\n",
    "plt.xlabel(\"Latitude\")\n",
    "plt.ylabel(\"Wind Speed (mph)\")\n",
    "plt.grid()\n",
    "plt.scatter(X, y)\n",
    "plt.plot(wind_speed_range, predict_wind_speed_range, color=\"red\")\n",
    "plt.text(-55, 22, formula, color=\"red\")\n",
    "plt.text(-55, 20, r_squared_str, color=\"red\")\n",
    "plt.show"
   ]
  },
  {
   "cell_type": "markdown",
   "metadata": {},
   "source": [
    "Although the R Squared value is very low, one can see a small trend. you can also see that like in the Northern Hemisphere there are some data anomalies that require further analysis."
   ]
  }
 ],
 "metadata": {
  "environment": {
   "name": "common-cpu.m54",
   "type": "gcloud",
   "uri": "gcr.io/deeplearning-platform-release/base-cpu:m54"
  },
  "kernelspec": {
   "display_name": "Python 3",
   "language": "python",
   "name": "python3"
  },
  "language_info": {
   "codemirror_mode": {
    "name": "ipython",
    "version": 3
   },
   "file_extension": ".py",
   "mimetype": "text/x-python",
   "name": "python",
   "nbconvert_exporter": "python",
   "pygments_lexer": "ipython3",
   "version": "3.7.8"
  }
 },
 "nbformat": 4,
 "nbformat_minor": 4
}
