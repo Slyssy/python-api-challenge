{
 "cells": [
  {
   "cell_type": "code",
   "execution_count": 1,
   "metadata": {},
   "outputs": [],
   "source": [
    "%load_ext lab_black\n",
    "import pandas as pd\n",
    "import json\n",
    "import requests\n",
    "import numpy as np\n",
    "from config import weather_api_key\n",
    "from config import g_key\n",
    "from citipy import citipy\n",
    "import matplotlib.pyplot as plt\n",
    "from sklearn.linear_model import LinearRegression"
   ]
  },
  {
   "cell_type": "markdown",
   "metadata": {},
   "source": [
    "# Part I : WeatherPy\n",
    "----\n"
   ]
  },
  {
   "cell_type": "markdown",
   "metadata": {},
   "source": [
    "## Generate Cities List"
   ]
  },
  {
   "cell_type": "code",
   "execution_count": 2,
   "metadata": {},
   "outputs": [],
   "source": [
    "lat_range = (90, -90)\n",
    "lon_range = (180, -180)\n",
    "\n",
    "# Blank list to hold latitude and longitude values\n",
    "lat_lon = []\n",
    "\n",
    "# Using numpy to generate random latitude and longitude values\n",
    "lat = np.random.uniform(high=90, low=-90, size=1400)\n",
    "lon = np.random.uniform(high=180, low=-180, size=1400)\n",
    "lat_lon = list(zip(lat, lon))\n",
    "\n",
    "# Using \"for\" loop to generate city list.\n",
    "city_list = []\n",
    "\n",
    "for lat_lon in lat_lon:\n",
    "    city = citipy.nearest_city(lat_lon[0], lat_lon[1]).city_name\n",
    "\n",
    "    # Appending only non-duplicated names to the city list.\n",
    "    if city not in city_list:\n",
    "        city_list.append(city)"
   ]
  },
  {
   "cell_type": "code",
   "execution_count": 3,
   "metadata": {},
   "outputs": [
    {
     "data": {
      "text/plain": [
       "591"
      ]
     },
     "execution_count": 3,
     "metadata": {},
     "output_type": "execute_result"
    }
   ],
   "source": [
    "len(city_list)"
   ]
  },
  {
   "cell_type": "markdown",
   "metadata": {},
   "source": [
    "### Perform API Calls\n",
    "* Perform a weather check on each city using a series of successive API calls.\n",
    "* Include a print log of each city as it'sbeing processed (with the city number and city name).\n"
   ]
  },
  {
   "cell_type": "code",
   "execution_count": 4,
   "metadata": {},
   "outputs": [],
   "source": [
    "def extract_data(data):\n",
    "    return {\n",
    "        \"City\": data[\"name\"],\n",
    "        \"Lat\": data[\"coord\"][\"lat\"],\n",
    "        \"Lon\": data[\"coord\"][\"lon\"],\n",
    "        \"Max Temp\": data[\"main\"][\"temp_max\"],\n",
    "        \"Humidity\": data[\"main\"][\"humidity\"],\n",
    "        \"Cloudiness\": data[\"clouds\"][\"all\"],\n",
    "        \"Wind Speed\": data[\"wind\"][\"speed\"],\n",
    "        \"Country\": data[\"sys\"][\"country\"],\n",
    "        \"Date\": data[\"dt\"],\n",
    "    }"
   ]
  },
  {
   "cell_type": "code",
   "execution_count": 5,
   "metadata": {},
   "outputs": [
    {
     "name": "stdout",
     "output_type": "stream",
     "text": [
      "Beginning Data Retrieval\n",
      "----------------------------------------\n",
      "Processing Record 1 | gulu\n",
      "Processing Record 2 | atuona\n",
      "Processing Record 3 | rikitea\n",
      "Processing Record 4 | hilo\n",
      "Processing Record 5 | pacific grove\n",
      "Processing Record 6 | saldanha\n",
      "City not found. Skipping...\n",
      "Processing Record 7 | priladozhskiy\n",
      "Processing Record 8 | jamestown\n",
      "Processing Record 9 | urzhum\n",
      "Processing Record 10 | ostrovnoy\n",
      "Processing Record 11 | kalmunai\n",
      "Processing Record 12 | cape town\n",
      "Processing Record 13 | qaanaaq\n",
      "Processing Record 14 | lodja\n",
      "Processing Record 15 | saint-pierre\n",
      "Processing Record 16 | lebu\n",
      "Processing Record 17 | ponta do sol\n",
      "Processing Record 18 | mataura\n",
      "Processing Record 19 | albany\n",
      "Processing Record 20 | galeana\n",
      "Processing Record 21 | torbay\n",
      "Processing Record 22 | susanville\n",
      "Processing Record 23 | san angelo\n",
      "Processing Record 24 | jiangyou\n",
      "Processing Record 25 | port alfred\n",
      "Processing Record 26 | cherskiy\n",
      "Processing Record 27 | bingol\n",
      "Processing Record 28 | shellbrook\n",
      "Processing Record 29 | thompson\n",
      "Processing Record 30 | punta arenas\n",
      "Processing Record 31 | puerto del rosario\n",
      "Processing Record 32 | kaduqli\n",
      "City not found. Skipping...\n",
      "Processing Record 33 | yellowknife\n",
      "Processing Record 34 | ushuaia\n",
      "Processing Record 35 | aklavik\n",
      "Processing Record 36 | puerto ayora\n",
      "Processing Record 37 | pevek\n",
      "Processing Record 38 | great yarmouth\n",
      "Processing Record 39 | guadalajara\n",
      "Processing Record 40 | wanaka\n",
      "Processing Record 41 | itupiranga\n",
      "Processing Record 42 | bredasdorp\n",
      "Processing Record 43 | khatanga\n",
      "Processing Record 44 | vieques\n",
      "Processing Record 45 | new norfolk\n",
      "Processing Record 46 | aykhal\n",
      "Processing Record 47 | svetlogorsk\n",
      "Processing Record 48 | dikson\n",
      "City not found. Skipping...\n",
      "Processing Record 49 | norman wells\n",
      "Processing Record 50 | saint-philippe\n",
      "Processing Record 51 | ribeira grande\n",
      "Processing Record 52 | santa rosalia\n",
      "Processing Record 53 | brookhaven\n",
      "Processing Record 54 | rawson\n",
      "Processing Record 55 | begun\n",
      "Processing Record 56 | san patricio\n",
      "Processing Record 57 | ryuo\n",
      "Processing Record 58 | vanimo\n",
      "City not found. Skipping...\n",
      "Processing Record 59 | busselton\n",
      "Processing Record 60 | shubarshi\n",
      "City not found. Skipping...\n",
      "Processing Record 61 | east london\n",
      "Processing Record 62 | saint george\n",
      "Processing Record 63 | jimo\n",
      "Processing Record 64 | raudeberg\n",
      "Processing Record 65 | arraial do cabo\n",
      "Processing Record 66 | hofn\n",
      "Processing Record 67 | broome\n",
      "Processing Record 68 | mar del plata\n",
      "Processing Record 69 | butaritari\n",
      "Processing Record 70 | panaba\n",
      "Processing Record 71 | saskylakh\n",
      "Processing Record 72 | lar\n",
      "Processing Record 73 | geraldton\n",
      "Processing Record 74 | casino\n",
      "Processing Record 75 | carutapera\n",
      "Processing Record 76 | atar\n",
      "Processing Record 77 | kahului\n",
      "Processing Record 78 | beringovskiy\n",
      "Processing Record 79 | cotonou\n",
      "Processing Record 80 | padang\n",
      "Processing Record 81 | aransas pass\n",
      "Processing Record 82 | usatove\n",
      "Processing Record 83 | mandan\n",
      "Processing Record 84 | lagoa\n",
      "Processing Record 85 | hobart\n",
      "Processing Record 86 | kaniama\n",
      "Processing Record 87 | tasiilaq\n",
      "Processing Record 88 | mizdah\n",
      "Processing Record 89 | guerrero negro\n",
      "Processing Record 90 | banjar\n",
      "Processing Record 91 | bethel\n",
      "Processing Record 92 | sao joao da barra\n",
      "City not found. Skipping...\n",
      "Processing Record 93 | celle\n",
      "Processing Record 94 | avarua\n",
      "Processing Record 95 | college\n",
      "Processing Record 96 | kamaishi\n",
      "Processing Record 97 | talnakh\n",
      "Processing Record 98 | kapaa\n",
      "Processing Record 99 | amahai\n",
      "Processing Record 100 | kaitangata\n",
      "Processing Record 101 | abbeville\n",
      "Processing Record 102 | bluff\n",
      "Processing Record 103 | nemuro\n",
      "City not found. Skipping...\n",
      "Processing Record 104 | gouyave\n",
      "Processing Record 105 | hermanus\n",
      "Processing Record 106 | linxia\n",
      "Processing Record 107 | faanui\n",
      "Processing Record 108 | chokurdakh\n",
      "City not found. Skipping...\n",
      "Processing Record 109 | xam nua\n",
      "Processing Record 110 | port lincoln\n",
      "Processing Record 111 | salinopolis\n",
      "Processing Record 112 | marzuq\n",
      "Processing Record 113 | port elizabeth\n",
      "Processing Record 114 | esil\n",
      "City not found. Skipping...\n",
      "Processing Record 115 | zharkent\n",
      "Processing Record 116 | vaini\n",
      "Processing Record 117 | plettenberg bay\n",
      "Processing Record 118 | yashkul\n",
      "City not found. Skipping...\n",
      "Processing Record 119 | kobryn\n",
      "Processing Record 120 | maltahohe\n",
      "Processing Record 121 | mogzon\n",
      "Processing Record 122 | kavaratti\n",
      "Processing Record 123 | manono\n",
      "Processing Record 124 | yerbogachen\n",
      "Processing Record 125 | tiksi\n",
      "Processing Record 126 | claudio\n",
      "Processing Record 127 | borogontsy\n",
      "Processing Record 128 | bilibino\n",
      "Processing Record 129 | yulara\n",
      "Processing Record 130 | nanchang\n",
      "Processing Record 131 | butembo\n",
      "Processing Record 132 | awbari\n",
      "Processing Record 133 | matay\n",
      "Processing Record 134 | odesskoye\n",
      "Processing Record 135 | bambous virieux\n",
      "Processing Record 136 | turukhansk\n",
      "Processing Record 137 | huarmey\n",
      "Processing Record 138 | bundaberg\n",
      "Processing Record 139 | bangassou\n",
      "Processing Record 140 | elizabethton\n",
      "Processing Record 141 | lompoc\n",
      "Processing Record 142 | hobyo\n",
      "City not found. Skipping...\n",
      "Processing Record 143 | porto tolle\n",
      "Processing Record 144 | kitimat\n",
      "Processing Record 145 | wladyslawowo\n",
      "Processing Record 146 | victoria\n",
      "Processing Record 147 | cartagena del chaira\n",
      "Processing Record 148 | auki\n",
      "Processing Record 149 | mitsamiouli\n",
      "Processing Record 150 | douglas\n",
      "Processing Record 151 | ponta delgada\n",
      "Processing Record 152 | hopkinsville\n",
      "Processing Record 153 | anadyr\n",
      "Processing Record 154 | ikalamavony\n",
      "City not found. Skipping...\n",
      "Processing Record 155 | codajas\n",
      "Processing Record 156 | izhma\n",
      "Processing Record 157 | esperance\n",
      "Processing Record 158 | waipawa\n",
      "Processing Record 159 | bathsheba\n",
      "Processing Record 160 | zhumadian\n",
      "Processing Record 161 | naze\n",
      "City not found. Skipping...\n",
      "Processing Record 162 | airai\n",
      "City not found. Skipping...\n",
      "Processing Record 163 | acarau\n",
      "Processing Record 164 | souillac\n",
      "Processing Record 165 | mosetse\n",
      "Processing Record 166 | gurlan\n",
      "Processing Record 167 | rustenburg\n",
      "Processing Record 168 | baijiantan\n",
      "Processing Record 169 | nikolskoye\n",
      "Processing Record 170 | katsuura\n",
      "Processing Record 171 | paamiut\n",
      "Processing Record 172 | yining\n",
      "City not found. Skipping...\n",
      "City not found. Skipping...\n",
      "Processing Record 173 | carnarvon\n",
      "Processing Record 174 | okha\n",
      "Processing Record 175 | puerto baquerizo moreno\n",
      "Processing Record 176 | srednekolymsk\n",
      "Processing Record 177 | ahipara\n",
      "Processing Record 178 | los llanos de aridane\n",
      "Processing Record 179 | upernavik\n",
      "Processing Record 180 | san fernando\n",
      "Processing Record 181 | iwaki\n",
      "Processing Record 182 | kinsale\n",
      "Processing Record 183 | kondopoga\n",
      "Processing Record 184 | pundaguitan\n",
      "Processing Record 185 | muisne\n",
      "Processing Record 186 | mananjary\n",
      "Processing Record 187 | mangla\n",
      "Processing Record 188 | mayahi\n",
      "Processing Record 189 | kodiak\n",
      "Processing Record 190 | havre-saint-pierre\n",
      "Processing Record 191 | pedernales\n",
      "Processing Record 192 | tual\n",
      "Processing Record 193 | cayenne\n",
      "Processing Record 194 | fairbanks\n",
      "Processing Record 195 | huadian\n",
      "Processing Record 196 | sao luiz gonzaga\n",
      "Processing Record 197 | fergus falls\n",
      "City not found. Skipping...\n",
      "Processing Record 198 | inyonga\n",
      "Processing Record 199 | mantua\n",
      "Processing Record 200 | darasun\n",
      "Processing Record 201 | qui nhon\n",
      "Processing Record 202 | hegang\n",
      "Processing Record 203 | abu samrah\n",
      "Processing Record 204 | that phanom\n",
      "Processing Record 205 | ilulissat\n",
      "Processing Record 206 | port blair\n",
      "Processing Record 207 | castro\n",
      "Processing Record 208 | fortuna\n",
      "Processing Record 209 | pontalina\n",
      "Processing Record 210 | andenes\n",
      "Processing Record 211 | sur\n",
      "Processing Record 212 | bolshaya dzhalga\n",
      "Processing Record 213 | erzin\n",
      "City not found. Skipping...\n",
      "City not found. Skipping...\n",
      "Processing Record 214 | nueve de julio\n",
      "Processing Record 215 | tuatapere\n",
      "Processing Record 216 | barrow\n",
      "City not found. Skipping...\n",
      "Processing Record 217 | mahebourg\n",
      "Processing Record 218 | igrim\n",
      "Processing Record 219 | karup\n",
      "Processing Record 220 | atambua\n",
      "Processing Record 221 | garango\n",
      "Processing Record 222 | sao filipe\n",
      "Processing Record 223 | jalu\n",
      "Processing Record 224 | grindavik\n",
      "Processing Record 225 | tilichiki\n",
      "City not found. Skipping...\n",
      "Processing Record 226 | dandong\n",
      "Processing Record 227 | genhe\n",
      "Processing Record 228 | cabo san lucas\n",
      "Processing Record 229 | richards bay\n",
      "Processing Record 230 | verkhoshizhemye\n",
      "Processing Record 231 | argentan\n",
      "Processing Record 232 | gannan\n",
      "Processing Record 233 | peniche\n",
      "Processing Record 234 | iqaluit\n",
      "Processing Record 235 | kavali\n",
      "City not found. Skipping...\n",
      "Processing Record 236 | tuktoyaktuk\n",
      "Processing Record 237 | wagar\n",
      "Processing Record 238 | asau\n",
      "Processing Record 239 | plaster rock\n",
      "Processing Record 240 | iracoubo\n",
      "Processing Record 241 | vestmannaeyjar\n",
      "Processing Record 242 | indramayu\n",
      "Processing Record 243 | sabha\n",
      "Processing Record 244 | whitehorse\n",
      "City not found. Skipping...\n",
      "Processing Record 245 | grand forks\n",
      "Processing Record 246 | laguna\n",
      "Processing Record 247 | constitucion\n",
      "City not found. Skipping...\n",
      "Processing Record 248 | antigonish\n",
      "Processing Record 249 | sandviken\n",
      "Processing Record 250 | nchelenge\n",
      "Processing Record 251 | caravelas\n",
      "Processing Record 252 | serrinha\n",
      "Processing Record 253 | shingu\n",
      "Processing Record 254 | vila velha\n",
      "Processing Record 255 | yeppoon\n",
      "Processing Record 256 | tateyama\n",
      "Processing Record 257 | carauari\n",
      "Processing Record 258 | nanortalik\n",
      "Processing Record 259 | pokhara\n",
      "Processing Record 260 | flinders\n",
      "Processing Record 261 | inhambane\n",
      "Processing Record 262 | vardo\n",
      "Processing Record 263 | genoa\n",
      "Processing Record 264 | hithadhoo\n",
      "Processing Record 265 | bolshaya glushitsa\n",
      "Processing Record 266 | kutum\n",
      "Processing Record 267 | cordoba\n",
      "Processing Record 268 | leningradskiy\n",
      "Processing Record 269 | whitley bay\n",
      "Processing Record 270 | guarapari\n",
      "Processing Record 271 | mizan teferi\n",
      "Processing Record 272 | oussouye\n",
      "Processing Record 273 | mumford\n",
      "Processing Record 274 | yanam\n",
      "Processing Record 275 | atherton\n",
      "Processing Record 276 | key largo\n",
      "Processing Record 277 | la ronge\n",
      "Processing Record 278 | lasa\n",
      "Processing Record 279 | yiyang\n",
      "Processing Record 280 | mount isa\n",
      "Processing Record 281 | aranos\n",
      "Processing Record 282 | tura\n",
      "Processing Record 283 | roald\n",
      "Processing Record 284 | asvanyraro\n",
      "Processing Record 285 | kankan\n",
      "Processing Record 286 | doha\n",
      "Processing Record 287 | pitsunda\n",
      "Processing Record 288 | komsomolskiy\n",
      "Processing Record 289 | napuro\n",
      "Processing Record 290 | grand-santi\n",
      "Processing Record 291 | bitkine\n",
      "Processing Record 292 | zabol\n",
      "Processing Record 293 | praia\n",
      "Processing Record 294 | tabuk\n",
      "Processing Record 295 | lee\n",
      "Processing Record 296 | lumeje\n",
      "Processing Record 297 | puro\n",
      "Processing Record 298 | tonshayevo\n",
      "Processing Record 299 | tefe\n",
      "Processing Record 300 | yarmouth\n",
      "Processing Record 301 | dudinka\n",
      "Processing Record 302 | ngunguru\n",
      "Processing Record 303 | namibe\n",
      "Processing Record 304 | maniitsoq\n",
      "Processing Record 305 | cap malheureux\n",
      "Processing Record 306 | ayacucho\n",
      "Processing Record 307 | pisco\n",
      "Processing Record 308 | nadvoitsy\n",
      "Processing Record 309 | karratha\n",
      "City not found. Skipping...\n",
      "Processing Record 310 | severo-kurilsk\n",
      "Processing Record 311 | fort nelson\n",
      "Processing Record 312 | mersing\n",
      "Processing Record 313 | ajdabiya\n",
      "Processing Record 314 | ibotirama\n",
      "Processing Record 315 | batagay-alyta\n",
      "Processing Record 316 | petropavlovsk-kamchatskiy\n",
      "Processing Record 317 | lavrentiya\n",
      "Processing Record 318 | latung\n",
      "Processing Record 319 | vila franca do campo\n",
      "Processing Record 320 | khani\n",
      "Processing Record 321 | adrar\n",
      "Processing Record 322 | ust-kuyga\n",
      "Processing Record 323 | te anau\n",
      "Processing Record 324 | kapitanivka\n",
      "Processing Record 325 | baiyin\n",
      "Processing Record 326 | ancud\n",
      "Processing Record 327 | oistins\n",
      "Processing Record 328 | villa bruzual\n",
      "Processing Record 329 | tsiroanomandidy\n",
      "Processing Record 330 | gberia fotombu\n",
      "Processing Record 331 | lunino\n",
      "Processing Record 332 | goure\n",
      "Processing Record 333 | longyearbyen\n",
      "Processing Record 334 | nauta\n",
      "Processing Record 335 | santa maria\n",
      "Processing Record 336 | makushino\n",
      "Processing Record 337 | chekhov\n",
      "Processing Record 338 | meadow lake\n",
      "Processing Record 339 | high level\n",
      "Processing Record 340 | tuy hoa\n",
      "Processing Record 341 | cidreira\n",
      "Processing Record 342 | tanggu\n",
      "Processing Record 343 | naryan-mar\n",
      "Processing Record 344 | dabhol\n",
      "Processing Record 345 | kavieng\n",
      "Processing Record 346 | port hardy\n",
      "Processing Record 347 | santander\n",
      "Processing Record 348 | at-bashi\n",
      "Processing Record 349 | yaan\n",
      "Processing Record 350 | olafsvik\n",
      "Processing Record 351 | phan thiet\n",
      "Processing Record 352 | salalah\n",
      "Processing Record 353 | houma\n",
      "City not found. Skipping...\n",
      "Processing Record 354 | portland\n",
      "City not found. Skipping...\n",
      "Processing Record 355 | sioux lookout\n",
      "Processing Record 356 | zhicheng\n",
      "Processing Record 357 | georgetown\n",
      "Processing Record 358 | dickinson\n",
      "Processing Record 359 | safford\n",
      "Processing Record 360 | grand gaube\n",
      "Processing Record 361 | rocha\n",
      "Processing Record 362 | clyde river\n",
      "Processing Record 363 | nambour\n",
      "Processing Record 364 | krasnogorodsk\n",
      "Processing Record 365 | faya\n",
      "Processing Record 366 | tinguindin\n",
      "Processing Record 367 | provideniya\n",
      "Processing Record 368 | alta floresta\n",
      "Processing Record 369 | mackay\n",
      "Processing Record 370 | biltine\n",
      "Processing Record 371 | biak\n",
      "Processing Record 372 | bilma\n",
      "Processing Record 373 | sitka\n",
      "Processing Record 374 | iisaku\n",
      "Processing Record 375 | kamloops\n",
      "Processing Record 376 | leh\n",
      "City not found. Skipping...\n",
      "Processing Record 377 | nantucket\n",
      "Processing Record 378 | kirakira\n",
      "Processing Record 379 | olinda\n",
      "Processing Record 380 | shu\n",
      "Processing Record 381 | tabou\n",
      "Processing Record 382 | camacha\n",
      "Processing Record 383 | bud\n",
      "City not found. Skipping...\n",
      "Processing Record 384 | ketchikan\n",
      "Processing Record 385 | bani\n",
      "City not found. Skipping...\n",
      "Processing Record 386 | luderitz\n",
      "Processing Record 387 | kruisfontein\n",
      "Processing Record 388 | paita\n",
      "Processing Record 389 | morondava\n",
      "Processing Record 390 | cap-haitien\n",
      "Processing Record 391 | belem de sao francisco\n",
      "Processing Record 392 | dunmore town\n",
      "Processing Record 393 | tamasi\n",
      "Processing Record 394 | baruun-urt\n",
      "Processing Record 395 | hualmay\n",
      "Processing Record 396 | cabedelo\n",
      "Processing Record 397 | lethem\n",
      "Processing Record 398 | hami\n",
      "Processing Record 399 | bom jardim\n",
      "Processing Record 400 | krasnorechenskiy\n",
      "City not found. Skipping...\n",
      "Processing Record 401 | oneonta\n",
      "Processing Record 402 | olga\n",
      "Processing Record 403 | bhimunipatnam\n",
      "Processing Record 404 | paramonga\n",
      "Processing Record 405 | aviles\n",
      "Processing Record 406 | lorengau\n",
      "Processing Record 407 | poya\n",
      "Processing Record 408 | yelizavetino\n",
      "Processing Record 409 | pasaje\n",
      "Processing Record 410 | waddan\n",
      "Processing Record 411 | vieira de leiria\n",
      "Processing Record 412 | namatanai\n",
      "Processing Record 413 | bandarbeyla\n",
      "Processing Record 414 | palaia fokaia\n",
      "Processing Record 415 | fuerte olimpo\n",
      "Processing Record 416 | necochea\n",
      "Processing Record 417 | aubenas\n",
      "Processing Record 418 | bage\n",
      "Processing Record 419 | celestun\n",
      "Processing Record 420 | nalut\n",
      "Processing Record 421 | belmopan\n",
      "Processing Record 422 | carballo\n",
      "City not found. Skipping...\n",
      "Processing Record 423 | itatinga\n",
      "Processing Record 424 | tigil\n",
      "Processing Record 425 | bubaque\n",
      "Processing Record 426 | kununurra\n",
      "Processing Record 427 | biankouma\n",
      "Processing Record 428 | neiafu\n",
      "Processing Record 429 | cascais\n",
      "Processing Record 430 | itarema\n",
      "Processing Record 431 | la gomera\n",
      "Processing Record 432 | avera\n",
      "Processing Record 433 | taoudenni\n",
      "Processing Record 434 | panama city\n",
      "Processing Record 435 | arkhipo-osipovka\n",
      "Processing Record 436 | hambantota\n",
      "Processing Record 437 | chuy\n",
      "Processing Record 438 | husavik\n",
      "Processing Record 439 | alofi\n",
      "Processing Record 440 | merauke\n",
      "Processing Record 441 | basco\n",
      "Processing Record 442 | zhaotong\n",
      "Processing Record 443 | leshukonskoye\n",
      "Processing Record 444 | lingyuan\n",
      "Processing Record 445 | sandnessjoen\n",
      "Processing Record 446 | barcelona\n",
      "City not found. Skipping...\n",
      "Processing Record 447 | beruwala\n",
      "Processing Record 448 | baglung\n",
      "Processing Record 449 | surt\n",
      "Processing Record 450 | baherden\n",
      "Processing Record 451 | qaqortoq\n",
      "Processing Record 452 | ust-tsilma\n",
      "Processing Record 453 | batemans bay\n",
      "Processing Record 454 | seoul\n",
      "Processing Record 455 | molina\n",
      "City not found. Skipping...\n",
      "Processing Record 456 | sola\n",
      "City not found. Skipping...\n",
      "Processing Record 457 | tautira\n",
      "Processing Record 458 | kwinana\n",
      "Processing Record 459 | kamenka\n",
      "Processing Record 460 | coffs harbour\n",
      "Processing Record 461 | west wendover\n",
      "Processing Record 462 | nizhniy baskunchak\n",
      "Processing Record 463 | nikologory\n",
      "Processing Record 464 | san miguel\n",
      "Processing Record 465 | hendek\n",
      "Processing Record 466 | la baule-escoublac\n",
      "Processing Record 467 | narsaq\n",
      "Processing Record 468 | aguimes\n",
      "Processing Record 469 | hervey bay\n",
      "Processing Record 470 | klaksvik\n",
      "Processing Record 471 | catamarca\n",
      "Processing Record 472 | okulovka\n",
      "Processing Record 473 | mosquera\n",
      "Processing Record 474 | baglan\n",
      "Processing Record 475 | rantepao\n",
      "Processing Record 476 | parkes\n",
      "Processing Record 477 | alanya\n",
      "Processing Record 478 | bengkulu\n",
      "City not found. Skipping...\n",
      "Processing Record 479 | novopavlovsk\n",
      "Processing Record 480 | buraydah\n",
      "Processing Record 481 | acapulco\n",
      "Processing Record 482 | senigallia\n",
      "Processing Record 483 | shangrao\n",
      "Processing Record 484 | havelock\n",
      "Processing Record 485 | progreso\n",
      "Processing Record 486 | labuhan\n",
      "Processing Record 487 | chipinge\n",
      "Processing Record 488 | saint anthony\n",
      "Processing Record 489 | portel\n",
      "Processing Record 490 | barcelos\n",
      "Processing Record 491 | balaipungut\n",
      "Processing Record 492 | mezen\n",
      "Processing Record 493 | sidi ali\n",
      "City not found. Skipping...\n",
      "Processing Record 494 | karangampel\n",
      "Processing Record 495 | sorong\n",
      "Processing Record 496 | vershino-darasunskiy\n",
      "Processing Record 497 | quartucciu\n",
      "City not found. Skipping...\n",
      "Processing Record 498 | hersbruck\n",
      "Processing Record 499 | harper\n",
      "Processing Record 500 | korla\n",
      "Processing Record 501 | nouakchott\n",
      "Processing Record 502 | san cristobal\n",
      "Processing Record 503 | zigong\n",
      "Processing Record 504 | mackenzie\n",
      "Processing Record 505 | sorland\n",
      "Processing Record 506 | haines junction\n",
      "Processing Record 507 | jijiga\n",
      "Processing Record 508 | champerico\n",
      "Processing Record 509 | lagoa da canoa\n",
      "Processing Record 510 | fallon\n",
      "City not found. Skipping...\n",
      "Processing Record 511 | methoni\n",
      "Processing Record 512 | tripoli\n",
      "Processing Record 513 | chapais\n",
      "Processing Record 514 | hamilton\n",
      "Processing Record 515 | dashitou\n",
      "Processing Record 516 | weligama\n",
      "Processing Record 517 | santa lucia\n",
      "Processing Record 518 | san quintin\n",
      "Processing Record 519 | yilan\n",
      "Processing Record 520 | chimbote\n",
      "City not found. Skipping...\n",
      "Processing Record 521 | ulkan\n",
      "Processing Record 522 | perth\n",
      "Processing Record 523 | el alto\n",
      "Processing Record 524 | esik\n",
      "Processing Record 525 | fuzhou\n",
      "City not found. Skipping...\n",
      "Processing Record 526 | alice springs\n",
      "Processing Record 527 | razdolinsk\n",
      "Processing Record 528 | yumen\n",
      "Processing Record 529 | ondjiva\n",
      "Processing Record 530 | kilindoni\n",
      "Processing Record 531 | pitimbu\n",
      "Processing Record 532 | dolores\n",
      "Processing Record 533 | tijucas\n",
      "Processing Record 534 | meulaboh\n",
      "Processing Record 535 | pimentel\n",
      "Processing Record 536 | goderich\n",
      "Processing Record 537 | zyryanovsk\n",
      "Processing Record 538 | brae\n",
      "Processing Record 539 | balakhninskiy\n",
      "Processing Record 540 | lowestoft\n",
      "Processing Record 541 | viedma\n",
      "Processing Record 542 | maraba\n",
      "Processing Record 543 | panguna\n",
      "Processing Record 544 | kuching\n",
      "Processing Record 545 | kampong cham\n",
      "Processing Record 546 | saint-francois\n",
      "Processing Record 547 | madera\n",
      "Processing Record 548 | gushikawa\n",
      "Processing Record 549 | panguiranan\n",
      "Processing Record 550 | matara\n",
      "----------------------------------------\n",
      "Data Retrieval Complete\n",
      "----------------------------------------\n"
     ]
    }
   ],
   "source": [
    "city_results = []\n",
    "\n",
    "# Record counter starts at 1\n",
    "processing_record = 1\n",
    "\n",
    "print(\"Beginning Data Retrieval\")\n",
    "print(\"----------------------------------------\")\n",
    "\n",
    "for i, city in enumerate(city_list):\n",
    "\n",
    "    try:\n",
    "\n",
    "        data = requests.get(\n",
    "            \"http://api.openweathermap.org/data/2.5/weather\",\n",
    "            params={\"q\": city, \"appid\": weather_api_key, \"units\": \"imperial\"},\n",
    "        ).json()\n",
    "\n",
    "        city_result = extract_data(data)\n",
    "        city_results.append(city_result)\n",
    "\n",
    "        print(f\"Processing Record {processing_record} | {city}\")\n",
    "\n",
    "        processing_record += 1\n",
    "\n",
    "    except:\n",
    "        print(\"City not found. Skipping...\")\n",
    "    continue\n",
    "\n",
    "print(\"----------------------------------------\")\n",
    "print(\"Data Retrieval Complete\")\n",
    "print(\"----------------------------------------\")"
   ]
  },
  {
   "cell_type": "code",
   "execution_count": 6,
   "metadata": {},
   "outputs": [
    {
     "data": {
      "text/html": [
       "<div>\n",
       "<style scoped>\n",
       "    .dataframe tbody tr th:only-of-type {\n",
       "        vertical-align: middle;\n",
       "    }\n",
       "\n",
       "    .dataframe tbody tr th {\n",
       "        vertical-align: top;\n",
       "    }\n",
       "\n",
       "    .dataframe thead th {\n",
       "        text-align: right;\n",
       "    }\n",
       "</style>\n",
       "<table border=\"1\" class=\"dataframe\">\n",
       "  <thead>\n",
       "    <tr style=\"text-align: right;\">\n",
       "      <th></th>\n",
       "      <th>City</th>\n",
       "      <th>Lat</th>\n",
       "      <th>Lon</th>\n",
       "      <th>Max Temp</th>\n",
       "      <th>Humidity</th>\n",
       "      <th>Cloudiness</th>\n",
       "      <th>Wind Speed</th>\n",
       "      <th>Country</th>\n",
       "      <th>Date</th>\n",
       "    </tr>\n",
       "  </thead>\n",
       "  <tbody>\n",
       "    <tr>\n",
       "      <th>0</th>\n",
       "      <td>Gulu</td>\n",
       "      <td>2.77</td>\n",
       "      <td>32.30</td>\n",
       "      <td>65.25</td>\n",
       "      <td>96</td>\n",
       "      <td>75</td>\n",
       "      <td>1.61</td>\n",
       "      <td>UG</td>\n",
       "      <td>1601095690</td>\n",
       "    </tr>\n",
       "    <tr>\n",
       "      <th>1</th>\n",
       "      <td>Atuona</td>\n",
       "      <td>-9.80</td>\n",
       "      <td>-139.03</td>\n",
       "      <td>78.12</td>\n",
       "      <td>74</td>\n",
       "      <td>6</td>\n",
       "      <td>18.25</td>\n",
       "      <td>PF</td>\n",
       "      <td>1601095690</td>\n",
       "    </tr>\n",
       "  </tbody>\n",
       "</table>\n",
       "</div>"
      ],
      "text/plain": [
       "     City   Lat     Lon  Max Temp  Humidity  Cloudiness  Wind Speed Country  \\\n",
       "0    Gulu  2.77   32.30     65.25        96          75        1.61      UG   \n",
       "1  Atuona -9.80 -139.03     78.12        74           6       18.25      PF   \n",
       "\n",
       "         Date  \n",
       "0  1601095690  \n",
       "1  1601095690  "
      ]
     },
     "execution_count": 6,
     "metadata": {},
     "output_type": "execute_result"
    }
   ],
   "source": [
    "df = pd.DataFrame(city_results)\n",
    "df.head(2)"
   ]
  },
  {
   "cell_type": "markdown",
   "metadata": {},
   "source": [
    "### Creating Scatter Plot to showcase the relation ship between Max Temperature and Latitude"
   ]
  },
  {
   "cell_type": "code",
   "execution_count": 7,
   "metadata": {},
   "outputs": [],
   "source": [
    "# Converting data in DataFrame so that it can be used to define the X and y value needed for the scatter plot.\n",
    "X = df[\"Lat\"].values\n",
    "y = df[\"Max Temp\"].values"
   ]
  },
  {
   "cell_type": "code",
   "execution_count": 8,
   "metadata": {},
   "outputs": [
    {
     "data": {
      "image/png": "[encoded data removed]",
      "text/plain": [
       "<Figure size 432x288 with 1 Axes>"
      ]
     },
     "metadata": {
      "needs_background": "light"
     },
     "output_type": "display_data"
    }
   ],
   "source": [
    "plt.title(\"City Latitude vs. Max Temperature (09/25/2020)\")\n",
    "plt.xlabel(\"Latitude\")\n",
    "plt.ylabel(\"Max Temperature (F)\")\n",
    "plt.grid()\n",
    "plt.scatter(X, y)\n",
    "plt.show\n",
    "plt.savefig(\"max_temp_latitude.png\")"
   ]
  },
  {
   "cell_type": "markdown",
   "metadata": {},
   "source": [
    "Here we are examining the relationship between a city's latitude and it's maximum temperature. As you can see, as a city's latitude has a clear relationship to it's max temperature as we would expect. Temperatures appear to be higher the closer they are to the equator, (0) degrees latitude."
   ]
  },
  {
   "cell_type": "markdown",
   "metadata": {},
   "source": [
    "### Creating Scatter Plot to showcase the relationship between Humidity and Latitude "
   ]
  },
  {
   "cell_type": "code",
   "execution_count": 9,
   "metadata": {},
   "outputs": [],
   "source": [
    "X = df[\"Lat\"].values\n",
    "y = df[\"Humidity\"].values"
   ]
  },
  {
   "cell_type": "code",
   "execution_count": 10,
   "metadata": {},
   "outputs": [
    {
     "data": {
      "image/png": "[encoded data removed]",
      "text/plain": [
       "<Figure size 432x288 with 1 Axes>"
      ]
     },
     "metadata": {
      "needs_background": "light"
     },
     "output_type": "display_data"
    }
   ],
   "source": [
    "plt.title(\"City Latitude vs. Humidity (09/25/2020)\")\n",
    "plt.xlabel(\"Latitude\")\n",
    "plt.ylabel(\"Humidity (%)\")\n",
    "plt.grid()\n",
    "plt.scatter(X, y)\n",
    "plt.show\n",
    "plt.savefig(\"humidity_latitude.png\")"
   ]
  },
  {
   "cell_type": "markdown",
   "metadata": {},
   "source": [
    "This scatter plot is displaying the relationship between a city's latitude and it's humidity levels. There does not appear to be a clear relationship between cities with higher humidities and their latitude based on the plot. However, there does appear to be a slight indication that many cities that lie between around -40 degrees and 40 degrees latitude have lower humidity levels."
   ]
  },
  {
   "cell_type": "markdown",
   "metadata": {},
   "source": [
    "### Creating Scatter Plot to showcase the relationship between Cloudiness and Latitude "
   ]
  },
  {
   "cell_type": "code",
   "execution_count": 11,
   "metadata": {},
   "outputs": [],
   "source": [
    "X = df[\"Lat\"].values\n",
    "y = df[\"Cloudiness\"].values"
   ]
  },
  {
   "cell_type": "code",
   "execution_count": 12,
   "metadata": {},
   "outputs": [
    {
     "data": {
      "image/png": "[encoded data removed]",
      "text/plain": [
       "<Figure size 432x288 with 1 Axes>"
      ]
     },
     "metadata": {
      "needs_background": "light"
     },
     "output_type": "display_data"
    }
   ],
   "source": [
    "plt.title(\"City Latitude vs. Cloudiness (09/25/2020)\")\n",
    "plt.xlabel(\"Latitude\")\n",
    "plt.ylabel(\"Cloudiness (%)\")\n",
    "plt.grid()\n",
    "plt.scatter(X, y)\n",
    "plt.show\n",
    "plt.savefig(\"cloudiness_latitude.png\")"
   ]
  },
  {
   "cell_type": "markdown",
   "metadata": {},
   "source": [
    "This scatter plot showcases the relationship between a cities latitude and its cloud cover. Latitude does not appear to be a major impactor of a city's cloud cover. Cities with high, medium and low cloud cover appear to be evenly distributed across all latitudes."
   ]
  },
  {
   "cell_type": "markdown",
   "metadata": {},
   "source": [
    "### Creating Scatter Plot to showcase the relationship between Wind Speed and Latitude "
   ]
  },
  {
   "cell_type": "code",
   "execution_count": 13,
   "metadata": {},
   "outputs": [],
   "source": [
    "X = df[\"Lat\"].values\n",
    "y = df[\"Wind Speed\"].values"
   ]
  },
  {
   "cell_type": "code",
   "execution_count": 14,
   "metadata": {},
   "outputs": [
    {
     "data": {
      "image/png": "[encoded data removed]",
      "text/plain": [
       "<Figure size 432x288 with 1 Axes>"
      ]
     },
     "metadata": {
      "needs_background": "light"
     },
     "output_type": "display_data"
    }
   ],
   "source": [
    "plt.title(\"City Latitude vs. Wind Speed (09/25/2020)\")\n",
    "plt.xlabel(\"Latitude\")\n",
    "plt.ylabel(\"Wind Speed (mph)\")\n",
    "plt.grid()\n",
    "plt.scatter(X, y)\n",
    "plt.show\n",
    "plt.savefig(\"wind_speed_latitude.png\")"
   ]
  },
  {
   "cell_type": "markdown",
   "metadata": {},
   "source": [
    "With this plot, we can see that there is perhaps a small relationship between a city's latitude and it wind speed. Although wind speed does appear to be rather equally distibuted, we do see that cities further away from the equator have the potential for higher wind speeds, especially in the Northern hemisphere."
   ]
  },
  {
   "cell_type": "markdown",
   "metadata": {},
   "source": [
    "## Linear Regression"
   ]
  },
  {
   "cell_type": "markdown",
   "metadata": {},
   "source": [
    "### Temperature (F) vs. Latitude (Northern and Southern Hemisphere)"
   ]
  },
  {
   "cell_type": "markdown",
   "metadata": {},
   "source": [
    "#### (Northern Hemisphere)"
   ]
  },
  {
   "cell_type": "code",
   "execution_count": 15,
   "metadata": {},
   "outputs": [],
   "source": [
    "# Created dataframe to display only those cities located in the Northern Hemisphere\n",
    "NH_df = df[df.Lat > 0]"
   ]
  },
  {
   "cell_type": "code",
   "execution_count": 16,
   "metadata": {},
   "outputs": [],
   "source": [
    "# Converting the NH_df data so that it can be used to create scatter plots andn perform linear regression.\n",
    "X = NH_df[\"Lat\"].values\n",
    "X_array = [[e] for e in X]\n",
    "y = NH_df[\"Max Temp\"].values"
   ]
  },
  {
   "cell_type": "code",
   "execution_count": 17,
   "metadata": {},
   "outputs": [
    {
     "data": {
      "text/plain": [
       "LinearRegression()"
      ]
     },
     "execution_count": 17,
     "metadata": {},
     "output_type": "execute_result"
    }
   ],
   "source": [
    "# Setting up linear regression model.\n",
    "model = LinearRegression()\n",
    "model.fit(X_array, y)"
   ]
  },
  {
   "cell_type": "code",
   "execution_count": 18,
   "metadata": {},
   "outputs": [
    {
     "data": {
      "text/plain": [
       "-0.6784865901093537"
      ]
     },
     "execution_count": 18,
     "metadata": {},
     "output_type": "execute_result"
    }
   ],
   "source": [
    "slope = model.coef_[0]\n",
    "slope"
   ]
  },
  {
   "cell_type": "code",
   "execution_count": 19,
   "metadata": {},
   "outputs": [
    {
     "data": {
      "text/plain": [
       "89.54112563780373"
      ]
     },
     "execution_count": 19,
     "metadata": {},
     "output_type": "execute_result"
    }
   ],
   "source": [
    "intercept = model.intercept_\n",
    "intercept"
   ]
  },
  {
   "cell_type": "code",
   "execution_count": 20,
   "metadata": {},
   "outputs": [
    {
     "data": {
      "text/plain": [
       "0.7132592526209467"
      ]
     },
     "execution_count": 20,
     "metadata": {},
     "output_type": "execute_result"
    }
   ],
   "source": [
    "r_squared = model.score(X_array, y)\n",
    "r_squared"
   ]
  },
  {
   "cell_type": "code",
   "execution_count": 21,
   "metadata": {},
   "outputs": [],
   "source": [
    "def predict_function(max_temp):\n",
    "    return model.predict([[max_temp]])[0]"
   ]
  },
  {
   "cell_type": "code",
   "execution_count": 22,
   "metadata": {},
   "outputs": [],
   "source": [
    "nh_max_temp_range = np.arange(min(X), max(X), 0.001)\n",
    "nh_predict_max_temp = [predict_function(e) for e in nh_max_temp_range]"
   ]
  },
  {
   "cell_type": "code",
   "execution_count": 23,
   "metadata": {},
   "outputs": [],
   "source": [
    "# Variables used for creating text labels on plot\n",
    "formula = f\"y = {round(intercept, 3)} + {round(slope, 3)}x\"\n",
    "r_squared_str = f\"$R^{2}$={round(r_squared, 3)}\""
   ]
  },
  {
   "cell_type": "code",
   "execution_count": 24,
   "metadata": {},
   "outputs": [
    {
     "data": {
      "image/png": "[encoded data removed]",
      "text/plain": [
       "<Figure size 432x288 with 1 Axes>"
      ]
     },
     "metadata": {
      "needs_background": "light"
     },
     "output_type": "display_data"
    }
   ],
   "source": [
    "plt.title(\"NH City Latitude vs. Max Temperature (09/25/2020)\")\n",
    "plt.xlabel(\"Latitude\")\n",
    "plt.ylabel(\"Max Temperature (F)\")\n",
    "plt.grid()\n",
    "plt.scatter(X, y)\n",
    "plt.plot(nh_max_temp_range, nh_predict_max_temp, color=\"red\")\n",
    "plt.text(5, 35, formula, color=\"red\")\n",
    "plt.text(5, 28, r_squared_str, color=\"red\")\n",
    "plt.show\n",
    "plt.savefig(\"nh_max_temp_latitude_lr.png\")"
   ]
  },
  {
   "cell_type": "markdown",
   "metadata": {},
   "source": [
    "As you can see, the r squared value for this regression anaylis is quite high. This indicates that there is a strong correlation between latitude and the maximum temperatures. This is easily seen on the plot displayed above. The further you get away from the equator (0), the lower the max temperature."
   ]
  },
  {
   "cell_type": "markdown",
   "metadata": {},
   "source": [
    "#### (Southern Hemisphere)"
   ]
  },
  {
   "cell_type": "code",
   "execution_count": 25,
   "metadata": {},
   "outputs": [],
   "source": [
    "# Created dataframe to display only those cities located in the Northern Hemisphere\n",
    "SH_df = df[df.Lat < 0]"
   ]
  },
  {
   "cell_type": "code",
   "execution_count": 26,
   "metadata": {},
   "outputs": [],
   "source": [
    "# Converting the SH_df data so that it can be used to create scatter plots andn perform linear regression.\n",
    "X = SH_df[\"Lat\"].values\n",
    "X_array = [[e] for e in X]\n",
    "y = SH_df[\"Max Temp\"].values"
   ]
  },
  {
   "cell_type": "code",
   "execution_count": 27,
   "metadata": {},
   "outputs": [
    {
     "data": {
      "text/plain": [
       "LinearRegression()"
      ]
     },
     "execution_count": 27,
     "metadata": {},
     "output_type": "execute_result"
    }
   ],
   "source": [
    "# Setting up linear regression model.\n",
    "model = LinearRegression()\n",
    "model.fit(X_array, y)"
   ]
  },
  {
   "cell_type": "code",
   "execution_count": 28,
   "metadata": {},
   "outputs": [
    {
     "data": {
      "text/plain": [
       "0.5580129695742775"
      ]
     },
     "execution_count": 28,
     "metadata": {},
     "output_type": "execute_result"
    }
   ],
   "source": [
    "slope = model.coef_[0]\n",
    "slope"
   ]
  },
  {
   "cell_type": "code",
   "execution_count": 29,
   "metadata": {},
   "outputs": [
    {
     "data": {
      "text/plain": [
       "80.500611894821"
      ]
     },
     "execution_count": 29,
     "metadata": {},
     "output_type": "execute_result"
    }
   ],
   "source": [
    "intercept = model.intercept_\n",
    "intercept"
   ]
  },
  {
   "cell_type": "code",
   "execution_count": 30,
   "metadata": {},
   "outputs": [
    {
     "data": {
      "text/plain": [
       "0.4072744439754754"
      ]
     },
     "execution_count": 30,
     "metadata": {},
     "output_type": "execute_result"
    }
   ],
   "source": [
    "r_squared = model.score(X_array, y)\n",
    "r_squared"
   ]
  },
  {
   "cell_type": "code",
   "execution_count": 31,
   "metadata": {},
   "outputs": [],
   "source": [
    "def predict_function(max_temp):\n",
    "    return model.predict([[max_temp]])[0]"
   ]
  },
  {
   "cell_type": "code",
   "execution_count": 32,
   "metadata": {},
   "outputs": [],
   "source": [
    "sh_max_temp_range = np.arange(min(X), max(X), 0.001)\n",
    "sh_predict_max_temp = [predict_function(e) for e in sh_max_temp_range]"
   ]
  },
  {
   "cell_type": "code",
   "execution_count": 33,
   "metadata": {},
   "outputs": [],
   "source": [
    "# Variables used for creating text labels on plot\n",
    "formula = f\"y = {round(intercept, 3)} + {round(slope, 3)}x\"\n",
    "r_squared_str = f\"$R^{2}$={round(r_squared, 3)}\""
   ]
  },
  {
   "cell_type": "code",
   "execution_count": 34,
   "metadata": {},
   "outputs": [
    {
     "data": {
      "image/png": "[encoded data removed]",
      "text/plain": [
       "<Figure size 432x288 with 1 Axes>"
      ]
     },
     "metadata": {
      "needs_background": "light"
     },
     "output_type": "display_data"
    }
   ],
   "source": [
    "plt.title(\"SH City Latitude vs. Max Temperature (09/25/2020)\")\n",
    "plt.xlabel(\"Latitude\")\n",
    "plt.ylabel(\"Max Temperature (F)\")\n",
    "plt.grid()\n",
    "plt.scatter(X, y)\n",
    "plt.plot(sh_max_temp_range, sh_predict_max_temp, color=\"red\")\n",
    "plt.text(-55, 88, formula, color=\"red\")\n",
    "plt.text(-55, 82, r_squared_str, color=\"red\")\n",
    "plt.show\n",
    "plt.savefig(\"sh_max_temp_latitude_lr.png\")"
   ]
  },
  {
   "cell_type": "markdown",
   "metadata": {},
   "source": [
    "The r squared value for this linear regression is also quite high; although not quite as high as what was indicated in the Northern Hemisphere. Again, there is a strong correlation between latitude and maximum temperature in the Southern Hemisphere as well. This is easily explained by the fact that Earth is round, and as you get further and further away from the equator in both hemispheres, less of the sun's light makes it to the surface causing maximum temperatures to be lower. Yet another notch against the \"Flat Earthers\" out there."
   ]
  },
  {
   "cell_type": "markdown",
   "metadata": {},
   "source": [
    "### Humidity (%) vs. Latitude (Northern and Southern Hemisphere)¶"
   ]
  },
  {
   "cell_type": "markdown",
   "metadata": {},
   "source": [
    "#### (Northern Hemisphere)"
   ]
  },
  {
   "cell_type": "code",
   "execution_count": 35,
   "metadata": {},
   "outputs": [],
   "source": [
    "X = NH_df[\"Lat\"].values\n",
    "X_array = [[e] for e in X]\n",
    "y = NH_df[\"Humidity\"].values"
   ]
  },
  {
   "cell_type": "code",
   "execution_count": 36,
   "metadata": {},
   "outputs": [
    {
     "data": {
      "text/plain": [
       "LinearRegression()"
      ]
     },
     "execution_count": 36,
     "metadata": {},
     "output_type": "execute_result"
    }
   ],
   "source": [
    "model = LinearRegression()\n",
    "model.fit(X_array, y)"
   ]
  },
  {
   "cell_type": "code",
   "execution_count": 37,
   "metadata": {},
   "outputs": [
    {
     "data": {
      "text/plain": [
       "0.06815331723981469"
      ]
     },
     "execution_count": 37,
     "metadata": {},
     "output_type": "execute_result"
    }
   ],
   "source": [
    "slope = model.coef_[0]\n",
    "slope"
   ]
  },
  {
   "cell_type": "code",
   "execution_count": 38,
   "metadata": {},
   "outputs": [
    {
     "data": {
      "text/plain": [
       "69.59279182474413"
      ]
     },
     "execution_count": 38,
     "metadata": {},
     "output_type": "execute_result"
    }
   ],
   "source": [
    "intercept = model.intercept_\n",
    "intercept"
   ]
  },
  {
   "cell_type": "code",
   "execution_count": 39,
   "metadata": {},
   "outputs": [
    {
     "data": {
      "text/plain": [
       "0.00397748730164893"
      ]
     },
     "execution_count": 39,
     "metadata": {},
     "output_type": "execute_result"
    }
   ],
   "source": [
    "r_squared = model.score(X_array, y)\n",
    "r_squared"
   ]
  },
  {
   "cell_type": "code",
   "execution_count": 40,
   "metadata": {},
   "outputs": [],
   "source": [
    "def predict_function(humidity):\n",
    "    return model.predict([[humidity]])[0]"
   ]
  },
  {
   "cell_type": "code",
   "execution_count": 41,
   "metadata": {},
   "outputs": [],
   "source": [
    "nh_humidity_range = np.arange(min(X), max(X), 0.001)\n",
    "nh_predict_humidity = [predict_function(e) for e in nh_humidity_range]"
   ]
  },
  {
   "cell_type": "code",
   "execution_count": 42,
   "metadata": {},
   "outputs": [],
   "source": [
    "# Variables used for creating text labels on plot\n",
    "formula = f\"y = {round(intercept, 3)} + {round(slope, 3)}x\"\n",
    "r_squared_str = f\"$R^{2}$={round(r_squared, 3)}\""
   ]
  },
  {
   "cell_type": "code",
   "execution_count": 43,
   "metadata": {},
   "outputs": [
    {
     "data": {
      "image/png": "[encoded data removed]",
      "text/plain": [
       "<Figure size 432x288 with 1 Axes>"
      ]
     },
     "metadata": {
      "needs_background": "light"
     },
     "output_type": "display_data"
    }
   ],
   "source": [
    "plt.title(\"NH City Latitude vs. Humidity (%) (09/25/2020)\")\n",
    "plt.xlabel(\"Latitude\")\n",
    "plt.ylabel(\"Humidity %\")\n",
    "plt.grid()\n",
    "plt.scatter(X, y)\n",
    "plt.plot(nh_humidity_range, nh_predict_humidity, color=\"red\")\n",
    "plt.text(55, 24, formula, color=\"red\")\n",
    "plt.text(55, 15, r_squared_str, color=\"red\")\n",
    "plt.show\n",
    "plt.savefig(\"nh_humidity_latitude_lr.png\")"
   ]
  },
  {
   "cell_type": "markdown",
   "metadata": {},
   "source": [
    "The r squared value for this linear regression is quite low suggesting that there is little correlation between latitude and humidity levels. However, as I mentioned above, one can still see there is still something going on here. Although humidity levels due appear to be dispearsed throughout, you can still see that most of the lower humidity levels are grouped together between about 10 and 35 degrees latitude."
   ]
  },
  {
   "cell_type": "markdown",
   "metadata": {},
   "source": [
    "#### (Southern Hemisphere)"
   ]
  },
  {
   "cell_type": "code",
   "execution_count": 44,
   "metadata": {},
   "outputs": [],
   "source": [
    "X = SH_df[\"Lat\"].values\n",
    "X_array = [[e] for e in X]\n",
    "y = SH_df[\"Humidity\"].values"
   ]
  },
  {
   "cell_type": "code",
   "execution_count": 45,
   "metadata": {},
   "outputs": [
    {
     "data": {
      "text/plain": [
       "LinearRegression()"
      ]
     },
     "execution_count": 45,
     "metadata": {},
     "output_type": "execute_result"
    }
   ],
   "source": [
    "model = LinearRegression()\n",
    "model.fit(X_array, y)"
   ]
  },
  {
   "cell_type": "code",
   "execution_count": 46,
   "metadata": {},
   "outputs": [
    {
     "data": {
      "text/plain": [
       "0.2895608436998823"
      ]
     },
     "execution_count": 46,
     "metadata": {},
     "output_type": "execute_result"
    }
   ],
   "source": [
    "slope = model.coef_[0]\n",
    "slope"
   ]
  },
  {
   "cell_type": "code",
   "execution_count": 47,
   "metadata": {},
   "outputs": [
    {
     "data": {
      "text/plain": [
       "74.71749194720579"
      ]
     },
     "execution_count": 47,
     "metadata": {},
     "output_type": "execute_result"
    }
   ],
   "source": [
    "intercept = model.intercept_\n",
    "intercept"
   ]
  },
  {
   "cell_type": "code",
   "execution_count": 48,
   "metadata": {},
   "outputs": [
    {
     "data": {
      "text/plain": [
       "0.034491859690833016"
      ]
     },
     "execution_count": 48,
     "metadata": {},
     "output_type": "execute_result"
    }
   ],
   "source": [
    "r_squared = model.score(X_array, y)\n",
    "r_squared"
   ]
  },
  {
   "cell_type": "code",
   "execution_count": 49,
   "metadata": {},
   "outputs": [],
   "source": [
    "def predict_function(humidity):\n",
    "    return model.predict([[humidity]])[0]"
   ]
  },
  {
   "cell_type": "code",
   "execution_count": 50,
   "metadata": {},
   "outputs": [],
   "source": [
    "sh_humidity_range = np.arange(min(X), max(X), 0.001)\n",
    "sh_predict_humidity = [predict_function(e) for e in sh_humidity_range]"
   ]
  },
  {
   "cell_type": "code",
   "execution_count": 51,
   "metadata": {},
   "outputs": [],
   "source": [
    "# Variables used for creating text labels on plot\n",
    "formula = f\"y = {round(intercept, 3)} + {round(slope, 3)}x\"\n",
    "r_squared_str = f\"$R^{2}$={round(r_squared, 3)}\""
   ]
  },
  {
   "cell_type": "code",
   "execution_count": 52,
   "metadata": {},
   "outputs": [
    {
     "data": {
      "image/png": "[encoded data removed]",
      "text/plain": [
       "<Figure size 432x288 with 1 Axes>"
      ]
     },
     "metadata": {
      "needs_background": "light"
     },
     "output_type": "display_data"
    }
   ],
   "source": [
    "plt.title(\"SH City Latitude vs. Humidity (%) (09/25/2020)\")\n",
    "plt.xlabel(\"Latitude\")\n",
    "plt.ylabel(\"Humidity %\")\n",
    "plt.grid()\n",
    "plt.scatter(X, y)\n",
    "plt.plot(sh_humidity_range, sh_predict_humidity, color=\"red\")\n",
    "plt.text(-55, 30, formula, color=\"red\")\n",
    "plt.text(-55, 23, r_squared_str, color=\"red\")\n",
    "plt.show\n",
    "plt.savefig(\"sh_humidity_latitude_lr.png\")"
   ]
  },
  {
   "cell_type": "markdown",
   "metadata": {},
   "source": [
    "The same is true for the Southern Hemisphere. The r squared value for this linear regression is also low suggesting that there is little correlation between latitude and humidity levels. Again; however, we do see there is still something going on with lower humidity levels. Although humidity levels as whole due appear to be dispearsed throughout, you can still see that most of the lower humidit levels are grouped together between about -30 and -10 degrees latitude. One would assume that most deserts are located at this latitudal levels all over the planet."
   ]
  },
  {
   "cell_type": "markdown",
   "metadata": {},
   "source": [
    "### Cloudiness (%) vs. Latitude (Northern and Southern Hemisphere)¶"
   ]
  },
  {
   "cell_type": "markdown",
   "metadata": {},
   "source": [
    "#### (Northern Hemisphere)"
   ]
  },
  {
   "cell_type": "code",
   "execution_count": 53,
   "metadata": {},
   "outputs": [],
   "source": [
    "X = NH_df[\"Lat\"].values\n",
    "X_array = [[e] for e in X]\n",
    "y = NH_df[\"Cloudiness\"].values"
   ]
  },
  {
   "cell_type": "code",
   "execution_count": 54,
   "metadata": {},
   "outputs": [
    {
     "data": {
      "text/plain": [
       "LinearRegression()"
      ]
     },
     "execution_count": 54,
     "metadata": {},
     "output_type": "execute_result"
    }
   ],
   "source": [
    "model = LinearRegression()\n",
    "model.fit(X_array, y)"
   ]
  },
  {
   "cell_type": "code",
   "execution_count": 55,
   "metadata": {},
   "outputs": [
    {
     "data": {
      "text/plain": [
       "0.05414232266132147"
      ]
     },
     "execution_count": 55,
     "metadata": {},
     "output_type": "execute_result"
    }
   ],
   "source": [
    "slope = model.coef_[0]\n",
    "slope"
   ]
  },
  {
   "cell_type": "code",
   "execution_count": 56,
   "metadata": {},
   "outputs": [
    {
     "data": {
      "text/plain": [
       "51.122683715092705"
      ]
     },
     "execution_count": 56,
     "metadata": {},
     "output_type": "execute_result"
    }
   ],
   "source": [
    "intercept = model.intercept_\n",
    "intercept"
   ]
  },
  {
   "cell_type": "code",
   "execution_count": 57,
   "metadata": {},
   "outputs": [
    {
     "data": {
      "text/plain": [
       "0.0007434456177787263"
      ]
     },
     "execution_count": 57,
     "metadata": {},
     "output_type": "execute_result"
    }
   ],
   "source": [
    "r_squared = model.score(X_array, y)\n",
    "r_squared"
   ]
  },
  {
   "cell_type": "code",
   "execution_count": 58,
   "metadata": {},
   "outputs": [],
   "source": [
    "def predict_function(cloudiness):\n",
    "    return model.predict([[cloudiness]])[0]"
   ]
  },
  {
   "cell_type": "code",
   "execution_count": 59,
   "metadata": {},
   "outputs": [],
   "source": [
    "nh_cloudiness_range = np.arange(min(X), max(X), 0.001)\n",
    "nh_predict_cloudiness = [predict_function(e) for e in nh_cloudiness_range]"
   ]
  },
  {
   "cell_type": "code",
   "execution_count": 60,
   "metadata": {},
   "outputs": [],
   "source": [
    "# Variables used for creating text labels on plot\n",
    "formula = f\"y = {round(intercept, 3)} + {round(slope, 3)}x\"\n",
    "r_squared_str = f\"$R^{2}$={round(r_squared, 3)}\""
   ]
  },
  {
   "cell_type": "code",
   "execution_count": 61,
   "metadata": {},
   "outputs": [
    {
     "data": {
      "image/png": "[encoded data removed]",
      "text/plain": [
       "<Figure size 432x288 with 1 Axes>"
      ]
     },
     "metadata": {
      "needs_background": "light"
     },
     "output_type": "display_data"
    }
   ],
   "source": [
    "plt.title(\"NH City Latitude vs. Cloudiness (%) (09/25/2020)\")\n",
    "plt.xlabel(\"Latitude\")\n",
    "plt.ylabel(\"Cloudiness %\")\n",
    "plt.grid()\n",
    "plt.scatter(X, y)\n",
    "plt.plot(nh_cloudiness_range, nh_predict_cloudiness, color=\"red\")\n",
    "plt.text(-3, 34, formula, color=\"red\")\n",
    "plt.text(-3, 24, r_squared_str, color=\"red\")\n",
    "plt.show\n",
    "plt.savefig(\"nh_cloudiness_latitude_lr.png\")"
   ]
  },
  {
   "cell_type": "markdown",
   "metadata": {},
   "source": [
    "The R squared value for this linear regression is the lowest we've seen so far. There is apparently little to know correlation betwen cloudiness and latitude in the Northern Hemisphere."
   ]
  },
  {
   "cell_type": "markdown",
   "metadata": {},
   "source": [
    "#### (Southern Hemisphere)"
   ]
  },
  {
   "cell_type": "code",
   "execution_count": 62,
   "metadata": {},
   "outputs": [],
   "source": [
    "X = SH_df[\"Lat\"].values\n",
    "X_array = [[e] for e in X]\n",
    "y = SH_df[\"Cloudiness\"].values"
   ]
  },
  {
   "cell_type": "code",
   "execution_count": 63,
   "metadata": {},
   "outputs": [
    {
     "data": {
      "text/plain": [
       "LinearRegression()"
      ]
     },
     "execution_count": 63,
     "metadata": {},
     "output_type": "execute_result"
    }
   ],
   "source": [
    "model = LinearRegression()\n",
    "model.fit(X_array, y)"
   ]
  },
  {
   "cell_type": "code",
   "execution_count": 64,
   "metadata": {},
   "outputs": [
    {
     "data": {
      "text/plain": [
       "0.011202534884188216"
      ]
     },
     "execution_count": 64,
     "metadata": {},
     "output_type": "execute_result"
    }
   ],
   "source": [
    "slope = model.coef_[0]\n",
    "slope"
   ]
  },
  {
   "cell_type": "code",
   "execution_count": 65,
   "metadata": {},
   "outputs": [
    {
     "data": {
      "text/plain": [
       "49.22216614039338"
      ]
     },
     "execution_count": 65,
     "metadata": {},
     "output_type": "execute_result"
    }
   ],
   "source": [
    "intercept = model.intercept_\n",
    "intercept"
   ]
  },
  {
   "cell_type": "code",
   "execution_count": 66,
   "metadata": {},
   "outputs": [
    {
     "data": {
      "text/plain": [
       "1.7313267260066212e-05"
      ]
     },
     "execution_count": 66,
     "metadata": {},
     "output_type": "execute_result"
    }
   ],
   "source": [
    "r_squared = model.score(X_array, y)\n",
    "r_squared"
   ]
  },
  {
   "cell_type": "code",
   "execution_count": 67,
   "metadata": {},
   "outputs": [],
   "source": [
    "def predict_function(cloudiness):\n",
    "    return model.predict([[cloudiness]])[0]"
   ]
  },
  {
   "cell_type": "code",
   "execution_count": 68,
   "metadata": {},
   "outputs": [],
   "source": [
    "sh_cloudiness_range = np.arange(min(X), max(X), 0.001)\n",
    "sh_predict_cloudiness = [predict_function(e) for e in sh_cloudiness_range]"
   ]
  },
  {
   "cell_type": "code",
   "execution_count": 69,
   "metadata": {},
   "outputs": [],
   "source": [
    "# Variables used for creating text labels on plot\n",
    "formula = f\"y = {round(intercept, 3)} + {round(slope, 3)}x\"\n",
    "r_squared_str = f\"$R^{2}$={round(r_squared, 3)}\""
   ]
  },
  {
   "cell_type": "code",
   "execution_count": 70,
   "metadata": {},
   "outputs": [
    {
     "data": {
      "image/png": "[encoded data removed]",
      "text/plain": [
       "<Figure size 432x288 with 1 Axes>"
      ]
     },
     "metadata": {
      "needs_background": "light"
     },
     "output_type": "display_data"
    }
   ],
   "source": [
    "plt.title(\"SH City Latitude vs. Cloudiness (%) (09/25/2020)\")\n",
    "plt.xlabel(\"Latitude\")\n",
    "plt.ylabel(\"Cloudiness %\")\n",
    "plt.grid()\n",
    "plt.scatter(X, y)\n",
    "plt.plot(sh_cloudiness_range, sh_predict_cloudiness, color=\"red\")\n",
    "plt.text(-55, 58, formula, color=\"red\")\n",
    "plt.text(-55, 45, r_squared_str, color=\"red\")\n",
    "plt.show\n",
    "plt.savefig(\"sh_cloudiness_latitude_lr.png\")"
   ]
  },
  {
   "cell_type": "markdown",
   "metadata": {},
   "source": [
    "The R squared value for this linear regression is also very low. Again, there is apparently little to know correlation betwen cloudiness and latitude in the Southern Hemisphere as well."
   ]
  },
  {
   "cell_type": "markdown",
   "metadata": {},
   "source": [
    "### Wind Speed (mph) vs. Latitude (Northern and Southern Hemisphere)¶"
   ]
  },
  {
   "cell_type": "markdown",
   "metadata": {},
   "source": [
    "#### (Northern Hemisphere)"
   ]
  },
  {
   "cell_type": "code",
   "execution_count": 71,
   "metadata": {},
   "outputs": [],
   "source": [
    "X = NH_df[\"Lat\"].values\n",
    "X_array = [[e] for e in X]\n",
    "y = NH_df[\"Wind Speed\"].values"
   ]
  },
  {
   "cell_type": "code",
   "execution_count": 72,
   "metadata": {},
   "outputs": [
    {
     "data": {
      "text/plain": [
       "LinearRegression()"
      ]
     },
     "execution_count": 72,
     "metadata": {},
     "output_type": "execute_result"
    }
   ],
   "source": [
    "model = LinearRegression()\n",
    "model.fit(X_array, y)"
   ]
  },
  {
   "cell_type": "code",
   "execution_count": 73,
   "metadata": {},
   "outputs": [
    {
     "data": {
      "text/plain": [
       "0.05680457045198766"
      ]
     },
     "execution_count": 73,
     "metadata": {},
     "output_type": "execute_result"
    }
   ],
   "source": [
    "slope = model.coef_[0]\n",
    "slope"
   ]
  },
  {
   "cell_type": "code",
   "execution_count": 74,
   "metadata": {},
   "outputs": [
    {
     "data": {
      "text/plain": [
       "5.822779410812"
      ]
     },
     "execution_count": 74,
     "metadata": {},
     "output_type": "execute_result"
    }
   ],
   "source": [
    "intercept = model.intercept_\n",
    "intercept"
   ]
  },
  {
   "cell_type": "code",
   "execution_count": 75,
   "metadata": {},
   "outputs": [
    {
     "data": {
      "text/plain": [
       "0.037502740798130096"
      ]
     },
     "execution_count": 75,
     "metadata": {},
     "output_type": "execute_result"
    }
   ],
   "source": [
    "r_squared = model.score(X_array, y)\n",
    "r_squared"
   ]
  },
  {
   "cell_type": "code",
   "execution_count": 76,
   "metadata": {},
   "outputs": [],
   "source": [
    "def predict_function(wind_speed):\n",
    "    return model.predict([[wind_speed]])[0]"
   ]
  },
  {
   "cell_type": "code",
   "execution_count": 77,
   "metadata": {},
   "outputs": [],
   "source": [
    "nh_wind_speed_range = np.arange(min(X), max(X), 0.001)\n",
    "nh_predict_wind_speed_range = [predict_function(e) for e in nh_wind_speed_range]"
   ]
  },
  {
   "cell_type": "code",
   "execution_count": 78,
   "metadata": {},
   "outputs": [],
   "source": [
    "# Variables used for creating text labels on plot\n",
    "formula = f\"y = {round(intercept, 3)} + {round(slope, 3)}x\"\n",
    "r_squared_str = f\"$R^{2}$={round(r_squared, 3)}\""
   ]
  },
  {
   "cell_type": "code",
   "execution_count": 79,
   "metadata": {},
   "outputs": [
    {
     "data": {
      "image/png": "[encoded data removed]",
      "text/plain": [
       "<Figure size 432x288 with 1 Axes>"
      ]
     },
     "metadata": {
      "needs_background": "light"
     },
     "output_type": "display_data"
    }
   ],
   "source": [
    "plt.title(\"NH City Latitude vs. Wind Speed (mph) (09/25/2020)\")\n",
    "plt.xlabel(\"Latitude\")\n",
    "plt.ylabel(\"Wind Speed (mph)\")\n",
    "plt.grid()\n",
    "plt.scatter(X, y)\n",
    "plt.plot(nh_wind_speed_range, nh_predict_wind_speed_range, color=\"red\")\n",
    "plt.text(0, 35, formula, color=\"red\")\n",
    "plt.text(0, 30, r_squared_str, color=\"red\")\n",
    "plt.show\n",
    "plt.savefig(\"nh_wind_speed_latitude_lr.png\")"
   ]
  },
  {
   "cell_type": "markdown",
   "metadata": {},
   "source": [
    "The data points here are quite spread out, and the R Squared value is low. This indicates that there is little to know correlation between latitude and wind speed. However, much like humidity, there are some data points that are of interest. You can see that there are a couple of cities located far to the north report far higher wind speeds than others in this group."
   ]
  },
  {
   "cell_type": "markdown",
   "metadata": {},
   "source": [
    "#### (Southern Hemisphere)"
   ]
  },
  {
   "cell_type": "code",
   "execution_count": 80,
   "metadata": {},
   "outputs": [],
   "source": [
    "X = SH_df[\"Lat\"].values\n",
    "X_array = [[e] for e in X]\n",
    "y = SH_df[\"Wind Speed\"].values"
   ]
  },
  {
   "cell_type": "code",
   "execution_count": 81,
   "metadata": {},
   "outputs": [
    {
     "data": {
      "text/plain": [
       "LinearRegression()"
      ]
     },
     "execution_count": 81,
     "metadata": {},
     "output_type": "execute_result"
    }
   ],
   "source": [
    "model = LinearRegression()\n",
    "model.fit(X_array, y)"
   ]
  },
  {
   "cell_type": "code",
   "execution_count": 82,
   "metadata": {},
   "outputs": [
    {
     "data": {
      "text/plain": [
       "-0.09865715024056847"
      ]
     },
     "execution_count": 82,
     "metadata": {},
     "output_type": "execute_result"
    }
   ],
   "source": [
    "slope = model.coef_[0]\n",
    "slope"
   ]
  },
  {
   "cell_type": "code",
   "execution_count": 83,
   "metadata": {},
   "outputs": [
    {
     "data": {
      "text/plain": [
       "6.659076094009375"
      ]
     },
     "execution_count": 83,
     "metadata": {},
     "output_type": "execute_result"
    }
   ],
   "source": [
    "intercept = model.intercept_\n",
    "intercept"
   ]
  },
  {
   "cell_type": "code",
   "execution_count": 84,
   "metadata": {},
   "outputs": [
    {
     "data": {
      "text/plain": [
       "0.05773177284487052"
      ]
     },
     "execution_count": 84,
     "metadata": {},
     "output_type": "execute_result"
    }
   ],
   "source": [
    "r_squared = model.score(X_array, y)\n",
    "r_squared"
   ]
  },
  {
   "cell_type": "code",
   "execution_count": 85,
   "metadata": {},
   "outputs": [],
   "source": [
    "def predict_function(wind_speed):\n",
    "    return model.predict([[wind_speed]])[0]"
   ]
  },
  {
   "cell_type": "code",
   "execution_count": 86,
   "metadata": {},
   "outputs": [],
   "source": [
    "sh_wind_speed_range = np.arange(min(X), max(X), 0.001)\n",
    "sh_predict_wind_speed_range = [predict_function(e) for e in sh_wind_speed_range]"
   ]
  },
  {
   "cell_type": "code",
   "execution_count": 87,
   "metadata": {},
   "outputs": [],
   "source": [
    "# Variables used for creating text labels on plot\n",
    "formula = f\"y = {round(intercept, 3)} + {round(slope, 3)}x\"\n",
    "r_squared_str = f\"$R^{2}$={round(r_squared, 3)}\""
   ]
  },
  {
   "cell_type": "code",
   "execution_count": 88,
   "metadata": {},
   "outputs": [
    {
     "data": {
      "image/png": "[encoded data removed]",
      "text/plain": [
       "<Figure size 432x288 with 1 Axes>"
      ]
     },
     "metadata": {
      "needs_background": "light"
     },
     "output_type": "display_data"
    }
   ],
   "source": [
    "plt.title(\"SH City Latitude vs. Wind Speed (mph) (09/25/2020)\")\n",
    "plt.xlabel(\"Latitude\")\n",
    "plt.ylabel(\"Wind Speed (mph)\")\n",
    "plt.grid()\n",
    "plt.scatter(X, y)\n",
    "plt.plot(sh_wind_speed_range, sh_predict_wind_speed_range, color=\"red\")\n",
    "plt.text(-50, 25, formula, color=\"red\")\n",
    "plt.text(-20, 25, r_squared_str, color=\"red\")\n",
    "plt.show\n",
    "plt.savefig(\"sh_wind_speed_latitude_lr.png\")"
   ]
  },
  {
   "cell_type": "markdown",
   "metadata": {},
   "source": [
    "Although the R Squared value is very low, one can see a small trend. you can also see that like in the Northern Hemisphere there are some data anomalies that require further analysis."
   ]
  }
 ],
 "metadata": {
  "environment": {
   "name": "common-cpu.m54",
   "type": "gcloud",
   "uri": "gcr.io/deeplearning-platform-release/base-cpu:m54"
  },
  "kernelspec": {
   "display_name": "Python 3",
   "language": "python",
   "name": "python3"
  },
  "language_info": {
   "codemirror_mode": {
    "name": "ipython",
    "version": 3
   },
   "file_extension": ".py",
   "mimetype": "text/x-python",
   "name": "python",
   "nbconvert_exporter": "python",
   "pygments_lexer": "ipython3",
   "version": "3.7.8"
  }
 },
 "nbformat": 4,
 "nbformat_minor": 4
}
