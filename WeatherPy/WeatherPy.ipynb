{
 "cells": [
  {
   "cell_type": "code",
   "execution_count": 1,
   "metadata": {},
   "outputs": [],
   "source": [
    "%load_ext lab_black\n",
    "import pandas as pd\n",
    "import json\n",
    "import requests\n",
    "import numpy as np\n",
    "from config import weather_api_key\n",
    "from config import g_key\n",
    "from citipy import citipy\n",
    "import matplotlib.pyplot as plt\n",
    "from sklearn.linear_model import LinearRegression"
   ]
  },
  {
   "cell_type": "markdown",
   "metadata": {},
   "source": [
    "# Part I : WeatherPy\n",
    "----\n"
   ]
  },
  {
   "cell_type": "markdown",
   "metadata": {},
   "source": [
    "## Generate Cities List"
   ]
  },
  {
   "cell_type": "code",
   "execution_count": 2,
   "metadata": {},
   "outputs": [],
   "source": [
    "lat_range = (90, -90)\n",
    "lon_range = (180, -180)\n",
    "\n",
    "# Blank list to hold latitude and longitude values\n",
    "lat_lon = []\n",
    "\n",
    "# Using numpy to generate random latitude and longitude values\n",
    "lat = np.random.uniform(high=90, low=-90, size=1400)\n",
    "lon = np.random.uniform(high=180, low=-180, size=1400)\n",
    "lat_lon = list(zip(lat, lon))\n",
    "\n",
    "# Using \"for\" loop to generate city list.\n",
    "city_list = []\n",
    "\n",
    "for lat_lon in lat_lon:\n",
    "    city = citipy.nearest_city(lat_lon[0], lat_lon[1]).city_name\n",
    "\n",
    "    # Appending only non-duplicated names to the city list.\n",
    "    if city not in city_list:\n",
    "        city_list.append(city)"
   ]
  },
  {
   "cell_type": "code",
   "execution_count": 3,
   "metadata": {},
   "outputs": [
    {
     "data": {
      "text/plain": [
       "586"
      ]
     },
     "execution_count": 3,
     "metadata": {},
     "output_type": "execute_result"
    }
   ],
   "source": [
    "len(city_list)"
   ]
  },
  {
   "cell_type": "markdown",
   "metadata": {},
   "source": [
    "### Perform API Calls\n",
    "* Perform a weather check on each city using a series of successive API calls.\n",
    "* Include a print log of each city as it'sbeing processed (with the city number and city name).\n"
   ]
  },
  {
   "cell_type": "code",
   "execution_count": 4,
   "metadata": {},
   "outputs": [],
   "source": [
    "def extract_data(data):\n",
    "    return {\n",
    "        \"City\": data[\"name\"],\n",
    "        \"Lat\": data[\"coord\"][\"lat\"],\n",
    "        \"Lon\": data[\"coord\"][\"lon\"],\n",
    "        \"Max Temp\": data[\"main\"][\"temp_max\"],\n",
    "        \"Humidity\": data[\"main\"][\"humidity\"],\n",
    "        \"Cloudiness\": data[\"clouds\"][\"all\"],\n",
    "        \"Wind Speed\": data[\"wind\"][\"speed\"],\n",
    "        \"Country\": data[\"sys\"][\"country\"],\n",
    "        \"Date\": data[\"dt\"],\n",
    "    }"
   ]
  },
  {
   "cell_type": "code",
   "execution_count": 5,
   "metadata": {},
   "outputs": [
    {
     "name": "stdout",
     "output_type": "stream",
     "text": [
      "Beginning Data Retrieval\n",
      "----------------------------------------\n",
      "Processing Record 1 | ushuaia\n",
      "Processing Record 2 | griffith\n",
      "Processing Record 3 | vaini\n",
      "Processing Record 4 | salalah\n",
      "Processing Record 5 | marang\n",
      "Processing Record 6 | punta arenas\n",
      "Processing Record 7 | dikson\n",
      "City not found. Skipping...\n",
      "City not found. Skipping...\n",
      "City not found. Skipping...\n",
      "Processing Record 8 | maldonado\n",
      "Processing Record 9 | arraial do cabo\n",
      "City not found. Skipping...\n",
      "Processing Record 10 | kapaa\n",
      "Processing Record 11 | sapa\n",
      "Processing Record 12 | puerto ayora\n",
      "Processing Record 13 | victoria\n",
      "Processing Record 14 | cherskiy\n",
      "Processing Record 15 | grand-santi\n",
      "Processing Record 16 | hilo\n",
      "Processing Record 17 | kaitangata\n",
      "Processing Record 18 | ballina\n",
      "Processing Record 19 | bluff\n",
      "Processing Record 20 | ribeira grande\n",
      "Processing Record 21 | torbay\n",
      "Processing Record 22 | mataura\n",
      "Processing Record 23 | chegdomyn\n",
      "Processing Record 24 | sur\n",
      "Processing Record 25 | new norfolk\n",
      "Processing Record 26 | maoming\n",
      "Processing Record 27 | albany\n",
      "Processing Record 28 | alice springs\n",
      "City not found. Skipping...\n",
      "Processing Record 29 | hithadhoo\n",
      "Processing Record 30 | nakamura\n",
      "Processing Record 31 | diamantino\n",
      "Processing Record 32 | port alfred\n",
      "City not found. Skipping...\n",
      "Processing Record 33 | banjar\n",
      "Processing Record 34 | yerbogachen\n",
      "Processing Record 35 | gravdal\n",
      "Processing Record 36 | bubaque\n",
      "Processing Record 37 | longyearbyen\n",
      "Processing Record 38 | lhokseumawe\n",
      "Processing Record 39 | avarua\n",
      "Processing Record 40 | general roca\n",
      "Processing Record 41 | caiaponia\n",
      "Processing Record 42 | fonte boa\n",
      "Processing Record 43 | kandrian\n",
      "Processing Record 44 | naron\n",
      "Processing Record 45 | guerrero negro\n",
      "Processing Record 46 | asfi\n",
      "Processing Record 47 | lagoa\n",
      "Processing Record 48 | flinders\n",
      "Processing Record 49 | kieta\n",
      "Processing Record 50 | chokurdakh\n",
      "City not found. Skipping...\n",
      "Processing Record 51 | rikitea\n",
      "Processing Record 52 | jamestown\n",
      "Processing Record 53 | atuona\n",
      "Processing Record 54 | carnarvon\n",
      "Processing Record 55 | saskylakh\n",
      "Processing Record 56 | ilulissat\n",
      "Processing Record 57 | airai\n",
      "Processing Record 58 | ponta do sol\n",
      "Processing Record 59 | bulaevo\n",
      "Processing Record 60 | gat\n",
      "Processing Record 61 | madera\n",
      "Processing Record 62 | santiago de cao\n",
      "Processing Record 63 | upernavik\n",
      "Processing Record 64 | hobart\n",
      "Processing Record 65 | champerico\n",
      "Processing Record 66 | kotaparh\n",
      "Processing Record 67 | butaritari\n",
      "Processing Record 68 | mbini\n",
      "Processing Record 69 | toronto\n",
      "Processing Record 70 | arcata\n",
      "Processing Record 71 | killarney\n",
      "Processing Record 72 | necochea\n",
      "Processing Record 73 | busselton\n",
      "Processing Record 74 | lompoc\n",
      "City not found. Skipping...\n",
      "Processing Record 75 | faanui\n",
      "Processing Record 76 | tucumcari\n",
      "Processing Record 77 | tasiilaq\n",
      "Processing Record 78 | hermanus\n",
      "Processing Record 79 | port hardy\n",
      "City not found. Skipping...\n",
      "Processing Record 80 | athabasca\n",
      "Processing Record 81 | sitka\n",
      "Processing Record 82 | leningradskiy\n",
      "Processing Record 83 | igrim\n",
      "Processing Record 84 | bengkulu\n",
      "Processing Record 85 | cabo san lucas\n",
      "Processing Record 86 | san juan\n",
      "City not found. Skipping...\n",
      "Processing Record 87 | senanga\n",
      "Processing Record 88 | barrow\n",
      "Processing Record 89 | nome\n",
      "Processing Record 90 | georgetown\n",
      "Processing Record 91 | huarmey\n",
      "Processing Record 92 | requena\n",
      "Processing Record 93 | nikolskoye\n",
      "Processing Record 94 | adrar\n",
      "City not found. Skipping...\n",
      "Processing Record 95 | la cruz\n",
      "Processing Record 96 | thompson\n",
      "Processing Record 97 | bilma\n",
      "Processing Record 98 | east london\n",
      "Processing Record 99 | kavieng\n",
      "Processing Record 100 | bredasdorp\n",
      "Processing Record 101 | lebu\n",
      "Processing Record 102 | joshimath\n",
      "Processing Record 103 | khatanga\n",
      "City not found. Skipping...\n",
      "Processing Record 104 | cape town\n",
      "City not found. Skipping...\n",
      "Processing Record 105 | senneterre\n",
      "Processing Record 106 | kruisfontein\n",
      "City not found. Skipping...\n",
      "Processing Record 107 | atar\n",
      "City not found. Skipping...\n",
      "Processing Record 108 | talnakh\n",
      "Processing Record 109 | mahebourg\n",
      "Processing Record 110 | kamaishi\n",
      "Processing Record 111 | kodiak\n",
      "Processing Record 112 | aragats\n",
      "Processing Record 113 | yellowknife\n",
      "City not found. Skipping...\n",
      "City not found. Skipping...\n",
      "Processing Record 114 | broken hill\n",
      "Processing Record 115 | saint-philippe\n",
      "Processing Record 116 | port elizabeth\n",
      "Processing Record 117 | norman wells\n",
      "Processing Record 118 | saint-pierre\n",
      "Processing Record 119 | dudinka\n",
      "Processing Record 120 | crotone\n",
      "Processing Record 121 | russell\n",
      "Processing Record 122 | bethel\n",
      "Processing Record 123 | clyde river\n",
      "City not found. Skipping...\n",
      "Processing Record 124 | saldanha\n",
      "Processing Record 125 | saquarema\n",
      "Processing Record 126 | opunake\n",
      "Processing Record 127 | warrnambool\n",
      "Processing Record 128 | bambous virieux\n",
      "Processing Record 129 | seidu\n",
      "Processing Record 130 | nanyuki\n",
      "Processing Record 131 | cherkasy\n",
      "Processing Record 132 | brest\n",
      "Processing Record 133 | shelburne\n",
      "Processing Record 134 | starobaltachevo\n",
      "Processing Record 135 | takoradi\n",
      "Processing Record 136 | burgeo\n",
      "Processing Record 137 | meulaboh\n",
      "Processing Record 138 | nueva imperial\n",
      "Processing Record 139 | paka\n",
      "Processing Record 140 | lorengau\n",
      "Processing Record 141 | castro\n",
      "Processing Record 142 | juan lacaze\n",
      "Processing Record 143 | port macquarie\n",
      "Processing Record 144 | aden\n",
      "Processing Record 145 | kumluca\n",
      "Processing Record 146 | bathsheba\n",
      "City not found. Skipping...\n",
      "Processing Record 147 | chuy\n",
      "Processing Record 148 | awjilah\n",
      "Processing Record 149 | hambantota\n",
      "Processing Record 150 | cidreira\n",
      "Processing Record 151 | mount gambier\n",
      "Processing Record 152 | tiksi\n",
      "Processing Record 153 | hurghada\n",
      "Processing Record 154 | esperance\n",
      "Processing Record 155 | severo-kurilsk\n",
      "Processing Record 156 | aswan\n",
      "Processing Record 157 | businga\n",
      "Processing Record 158 | lakes entrance\n",
      "Processing Record 159 | provideniya\n",
      "Processing Record 160 | ponta delgada\n",
      "Processing Record 161 | vaitape\n",
      "Processing Record 162 | rangapara\n",
      "Processing Record 163 | zilupe\n",
      "Processing Record 164 | constitucion\n",
      "Processing Record 165 | katsuura\n",
      "Processing Record 166 | douentza\n",
      "Processing Record 167 | puerto narino\n",
      "City not found. Skipping...\n",
      "Processing Record 168 | caravelas\n",
      "Processing Record 169 | rocha\n",
      "Processing Record 170 | saint-augustin\n",
      "Processing Record 171 | nanortalik\n",
      "Processing Record 172 | pombal\n",
      "Processing Record 173 | ambon\n",
      "Processing Record 174 | haverfordwest\n",
      "Processing Record 175 | stornoway\n",
      "Processing Record 176 | zhob\n",
      "Processing Record 177 | arkhipo-osipovka\n",
      "Processing Record 178 | saint-denis\n",
      "Processing Record 179 | aiquile\n",
      "Processing Record 180 | hadgaon\n",
      "Processing Record 181 | bulgan\n",
      "Processing Record 182 | petropavlovsk-kamchatskiy\n",
      "Processing Record 183 | richards bay\n",
      "Processing Record 184 | narsaq\n",
      "City not found. Skipping...\n",
      "Processing Record 185 | saint-francois\n",
      "Processing Record 186 | binga\n",
      "Processing Record 187 | vardo\n",
      "Processing Record 188 | lermontovka\n",
      "Processing Record 189 | terrace\n",
      "Processing Record 190 | banda aceh\n",
      "Processing Record 191 | sept-iles\n",
      "Processing Record 192 | yumen\n",
      "Processing Record 193 | duluth\n",
      "Processing Record 194 | scarborough\n",
      "Processing Record 195 | mayo\n",
      "Processing Record 196 | marquette\n",
      "Processing Record 197 | luena\n",
      "Processing Record 198 | natal\n",
      "Processing Record 199 | lavrentiya\n",
      "Processing Record 200 | pevek\n",
      "Processing Record 201 | norrtalje\n",
      "Processing Record 202 | mina\n",
      "Processing Record 203 | kahului\n",
      "Processing Record 204 | tezu\n",
      "Processing Record 205 | saint-joseph\n",
      "Processing Record 206 | los alamos\n",
      "Processing Record 207 | yulara\n",
      "Processing Record 208 | yairipok\n",
      "Processing Record 209 | pascagoula\n",
      "Processing Record 210 | tequila\n",
      "Processing Record 211 | pochutla\n",
      "Processing Record 212 | hirara\n",
      "Processing Record 213 | seydi\n",
      "Processing Record 214 | miyako\n",
      "Processing Record 215 | alandur\n",
      "Processing Record 216 | luau\n",
      "City not found. Skipping...\n",
      "Processing Record 217 | tena\n",
      "Processing Record 218 | ahipara\n",
      "Processing Record 219 | fortuna\n",
      "Processing Record 220 | asau\n",
      "Processing Record 221 | poum\n",
      "Processing Record 222 | astana\n",
      "Processing Record 223 | rock hill\n",
      "Processing Record 224 | haimen\n",
      "Processing Record 225 | ourossogui\n",
      "Processing Record 226 | samarai\n",
      "Processing Record 227 | kargasok\n",
      "Processing Record 228 | obukhiv\n",
      "Processing Record 229 | yar-sale\n",
      "Processing Record 230 | almaznyy\n",
      "Processing Record 231 | deputatskiy\n",
      "Processing Record 232 | buriti bravo\n",
      "Processing Record 233 | camacha\n",
      "Processing Record 234 | christchurch\n",
      "Processing Record 235 | sola\n",
      "Processing Record 236 | orlik\n",
      "Processing Record 237 | port moresby\n",
      "Processing Record 238 | touros\n",
      "Processing Record 239 | raga\n",
      "Processing Record 240 | jachymov\n",
      "Processing Record 241 | hit\n",
      "Processing Record 242 | ampanihy\n",
      "Processing Record 243 | nuuk\n",
      "Processing Record 244 | pitimbu\n",
      "Processing Record 245 | lugoba\n",
      "Processing Record 246 | vila velha\n",
      "Processing Record 247 | erenhot\n",
      "Processing Record 248 | lokachi\n",
      "Processing Record 249 | keshabpur\n",
      "Processing Record 250 | alpena\n",
      "Processing Record 251 | mar del plata\n",
      "Processing Record 252 | pacific grove\n",
      "Processing Record 253 | valdivia\n",
      "Processing Record 254 | northam\n",
      "Processing Record 255 | luanda\n",
      "Processing Record 256 | celestun\n",
      "Processing Record 257 | emba\n",
      "Processing Record 258 | dunedin\n",
      "City not found. Skipping...\n",
      "Processing Record 259 | camana\n",
      "Processing Record 260 | zhezkazgan\n",
      "Processing Record 261 | pangnirtung\n",
      "Processing Record 262 | yermakovskoye\n",
      "Processing Record 263 | bud\n",
      "Processing Record 264 | tuktoyaktuk\n",
      "Processing Record 265 | kokkola\n",
      "Processing Record 266 | jacareacanga\n",
      "Processing Record 267 | yuncheng\n",
      "Processing Record 268 | fort nelson\n",
      "Processing Record 269 | charlottesville\n",
      "Processing Record 270 | sao filipe\n",
      "Processing Record 271 | vila franca do campo\n",
      "Processing Record 272 | sarangani\n",
      "Processing Record 273 | rome\n",
      "Processing Record 274 | juazeiro\n",
      "Processing Record 275 | baykit\n",
      "Processing Record 276 | illela\n",
      "Processing Record 277 | sande\n",
      "City not found. Skipping...\n",
      "City not found. Skipping...\n",
      "Processing Record 278 | beringovskiy\n",
      "Processing Record 279 | berbera\n",
      "Processing Record 280 | huambo\n",
      "Processing Record 281 | turan\n",
      "Processing Record 282 | bitkine\n",
      "Processing Record 283 | sarkand\n",
      "City not found. Skipping...\n",
      "Processing Record 284 | kemijarvi\n",
      "Processing Record 285 | bouca\n",
      "Processing Record 286 | malindi\n",
      "City not found. Skipping...\n",
      "Processing Record 287 | agar\n",
      "Processing Record 288 | dombarovskiy\n",
      "Processing Record 289 | iberia\n",
      "Processing Record 290 | port antonio\n",
      "Processing Record 291 | puerto baquerizo moreno\n",
      "Processing Record 292 | grand island\n",
      "Processing Record 293 | hasaki\n",
      "Processing Record 294 | mandalgovi\n",
      "Processing Record 295 | lasa\n",
      "Processing Record 296 | cayenne\n",
      "Processing Record 297 | idrinskoye\n",
      "Processing Record 298 | ostrovnoy\n",
      "Processing Record 299 | raudeberg\n",
      "Processing Record 300 | kamenskiy\n",
      "Processing Record 301 | goderich\n",
      "Processing Record 302 | peniche\n",
      "Processing Record 303 | noumea\n",
      "Processing Record 304 | faya\n",
      "Processing Record 305 | biak\n",
      "Processing Record 306 | opuwo\n",
      "Processing Record 307 | iwanai\n",
      "Processing Record 308 | hervey bay\n",
      "Processing Record 309 | praia da vitoria\n",
      "Processing Record 310 | beloha\n",
      "Processing Record 311 | laval\n",
      "Processing Record 312 | port hueneme\n",
      "Processing Record 313 | ewa beach\n",
      "Processing Record 314 | saint george\n",
      "Processing Record 315 | panguiranan\n",
      "City not found. Skipping...\n",
      "Processing Record 316 | gambela\n",
      "Processing Record 317 | pangkalanbuun\n",
      "Processing Record 318 | geraldton\n",
      "Processing Record 319 | veraval\n",
      "Processing Record 320 | aksha\n",
      "Processing Record 321 | conway\n",
      "Processing Record 322 | padang\n",
      "Processing Record 323 | brzesko\n",
      "Processing Record 324 | san cristobal\n",
      "Processing Record 325 | urumqi\n",
      "City not found. Skipping...\n",
      "City not found. Skipping...\n",
      "Processing Record 326 | fort-shevchenko\n",
      "Processing Record 327 | luderitz\n",
      "Processing Record 328 | grindavik\n",
      "Processing Record 329 | baraya\n",
      "Processing Record 330 | sayville\n",
      "City not found. Skipping...\n",
      "Processing Record 331 | isangel\n",
      "Processing Record 332 | kavaratti\n",
      "Processing Record 333 | najran\n",
      "Processing Record 334 | sirnak\n",
      "City not found. Skipping...\n",
      "Processing Record 335 | kazanskoye\n",
      "Processing Record 336 | inirida\n",
      "Processing Record 337 | mehamn\n",
      "Processing Record 338 | gizo\n",
      "Processing Record 339 | carballo\n",
      "Processing Record 340 | malangali\n",
      "Processing Record 341 | port-gentil\n",
      "Processing Record 342 | winslow\n",
      "Processing Record 343 | augustenborg\n",
      "Processing Record 344 | dingle\n",
      "Processing Record 345 | qaanaaq\n",
      "Processing Record 346 | lillooet\n",
      "Processing Record 347 | chara\n",
      "Processing Record 348 | nantucket\n",
      "Processing Record 349 | hayden\n",
      "Processing Record 350 | tarqui\n",
      "Processing Record 351 | fasa\n",
      "Processing Record 352 | miri\n",
      "City not found. Skipping...\n",
      "Processing Record 353 | roebourne\n",
      "Processing Record 354 | whitehorse\n",
      "Processing Record 355 | bandarbeyla\n",
      "Processing Record 356 | grimshaw\n",
      "Processing Record 357 | magadi\n",
      "Processing Record 358 | shelbyville\n",
      "Processing Record 359 | lata\n",
      "Processing Record 360 | kabansk\n",
      "Processing Record 361 | zhigansk\n",
      "City not found. Skipping...\n",
      "Processing Record 362 | umba\n",
      "Processing Record 363 | rio grande\n",
      "Processing Record 364 | lamu\n",
      "Processing Record 365 | klaksvik\n",
      "Processing Record 366 | korla\n",
      "Processing Record 367 | pingliang\n",
      "Processing Record 368 | akcakoca\n",
      "Processing Record 369 | liverpool\n",
      "Processing Record 370 | kutum\n",
      "Processing Record 371 | husavik\n",
      "Processing Record 372 | jequie\n",
      "Processing Record 373 | shache\n",
      "Processing Record 374 | neyshabur\n",
      "City not found. Skipping...\n",
      "Processing Record 375 | pisco\n",
      "Processing Record 376 | gamba\n",
      "Processing Record 377 | mitzic\n",
      "Processing Record 378 | campoverde\n",
      "Processing Record 379 | souillac\n",
      "Processing Record 380 | abeche\n",
      "Processing Record 381 | north ogden\n",
      "Processing Record 382 | prince albert\n",
      "Processing Record 383 | wanning\n",
      "Processing Record 384 | havoysund\n",
      "Processing Record 385 | chokwe\n",
      "Processing Record 386 | ola\n",
      "City not found. Skipping...\n",
      "Processing Record 387 | kielce\n",
      "Processing Record 388 | fairbanks\n",
      "Processing Record 389 | oranjemund\n",
      "Processing Record 390 | forbes\n",
      "Processing Record 391 | gotsu\n",
      "Processing Record 392 | morococha\n",
      "Processing Record 393 | puli\n",
      "Processing Record 394 | sunderland\n",
      "Processing Record 395 | aklavik\n",
      "Processing Record 396 | north bend\n",
      "Processing Record 397 | sioux lookout\n",
      "Processing Record 398 | nikel\n",
      "Processing Record 399 | batemans bay\n",
      "City not found. Skipping...\n",
      "Processing Record 400 | hami\n",
      "Processing Record 401 | college\n",
      "Processing Record 402 | muisne\n",
      "Processing Record 403 | palmer\n",
      "Processing Record 404 | stromness\n",
      "Processing Record 405 | port hawkesbury\n",
      "City not found. Skipping...\n",
      "Processing Record 406 | bajil\n",
      "Processing Record 407 | caloundra\n",
      "Processing Record 408 | chicama\n",
      "Processing Record 409 | yurga\n",
      "Processing Record 410 | tomaszow lubelski\n",
      "Processing Record 411 | isla vista\n",
      "Processing Record 412 | sisimiut\n",
      "Processing Record 413 | port hedland\n",
      "Processing Record 414 | ambulu\n",
      "Processing Record 415 | kupang\n",
      "Processing Record 416 | mitsamiouli\n",
      "Processing Record 417 | bonfim\n",
      "Processing Record 418 | sao luiz gonzaga\n",
      "Processing Record 419 | sorland\n",
      "Processing Record 420 | uren\n",
      "Processing Record 421 | zhanakorgan\n",
      "Processing Record 422 | baracoa\n",
      "Processing Record 423 | mareeba\n",
      "Processing Record 424 | gari\n",
      "Processing Record 425 | flagstaff\n",
      "Processing Record 426 | bindi\n",
      "Processing Record 427 | severo-yeniseyskiy\n",
      "Processing Record 428 | shakawe\n",
      "Processing Record 429 | brae\n",
      "Processing Record 430 | kenora\n",
      "Processing Record 431 | neuquen\n",
      "Processing Record 432 | boca do acre\n",
      "Processing Record 433 | margate\n",
      "Processing Record 434 | anloga\n",
      "Processing Record 435 | rosarito\n",
      "Processing Record 436 | inhambane\n",
      "Processing Record 437 | sivaki\n",
      "Processing Record 438 | bekhtery\n",
      "Processing Record 439 | bilibino\n",
      "Processing Record 440 | hovd\n",
      "Processing Record 441 | biga\n",
      "Processing Record 442 | itaquyry\n",
      "Processing Record 443 | cascais\n",
      "Processing Record 444 | bassila\n",
      "Processing Record 445 | anlu\n",
      "Processing Record 446 | nishihara\n",
      "Processing Record 447 | joensuu\n",
      "Processing Record 448 | neiafu\n",
      "Processing Record 449 | kouango\n",
      "Processing Record 450 | ostersund\n",
      "Processing Record 451 | crixas\n",
      "Processing Record 452 | tura\n",
      "Processing Record 453 | esmeraldas\n",
      "Processing Record 454 | turukhansk\n",
      "City not found. Skipping...\n",
      "Processing Record 455 | buritis\n",
      "Processing Record 456 | gazojak\n",
      "Processing Record 457 | shanghai\n",
      "Processing Record 458 | svetlaya\n",
      "Processing Record 459 | henties bay\n",
      "Processing Record 460 | seoul\n",
      "Processing Record 461 | san isidro\n",
      "Processing Record 462 | viedma\n",
      "Processing Record 463 | gazanjyk\n",
      "Processing Record 464 | manggar\n",
      "Processing Record 465 | sao joao da barra\n",
      "Processing Record 466 | parchim\n",
      "Processing Record 467 | codrington\n",
      "Processing Record 468 | esna\n",
      "Processing Record 469 | aranos\n",
      "Processing Record 470 | palma di montechiaro\n",
      "Processing Record 471 | beroroha\n",
      "Processing Record 472 | san patricio\n",
      "Processing Record 473 | kodinsk\n",
      "Processing Record 474 | iquitos\n",
      "Processing Record 475 | suamico\n",
      "Processing Record 476 | ciudad del maiz\n",
      "Processing Record 477 | teguise\n",
      "City not found. Skipping...\n",
      "Processing Record 478 | dossor\n",
      "Processing Record 479 | elizabeth city\n",
      "Processing Record 480 | uruzgan\n",
      "Processing Record 481 | billings\n",
      "Processing Record 482 | saginaw\n",
      "Processing Record 483 | manoharpur\n",
      "Processing Record 484 | alamos\n",
      "City not found. Skipping...\n",
      "Processing Record 485 | khani\n",
      "City not found. Skipping...\n",
      "Processing Record 486 | lumby\n",
      "Processing Record 487 | avera\n",
      "Processing Record 488 | caranavi\n",
      "Processing Record 489 | del rio\n",
      "Processing Record 490 | sri aman\n",
      "Processing Record 491 | hanmer springs\n",
      "Processing Record 492 | hearst\n",
      "Processing Record 493 | harper\n",
      "Processing Record 494 | dromolaxia\n",
      "Processing Record 495 | mahajanga\n",
      "Processing Record 496 | jardim\n",
      "Processing Record 497 | nichinan\n",
      "Processing Record 498 | la ronge\n",
      "Processing Record 499 | west odessa\n",
      "Processing Record 500 | santa cruz do sul\n",
      "Processing Record 501 | vostok\n",
      "Processing Record 502 | merauke\n",
      "Processing Record 503 | karratha\n",
      "Processing Record 504 | boguchany\n",
      "Processing Record 505 | cabo rojo\n",
      "Processing Record 506 | iskateley\n",
      "Processing Record 507 | tecoanapa\n",
      "Processing Record 508 | havre-saint-pierre\n",
      "Processing Record 509 | juneau\n",
      "Processing Record 510 | taft\n",
      "Processing Record 511 | pombas\n",
      "Processing Record 512 | praya\n",
      "Processing Record 513 | oroville\n",
      "Processing Record 514 | aktau\n",
      "Processing Record 515 | nizhniy baskunchak\n",
      "Processing Record 516 | hillsborough\n",
      "City not found. Skipping...\n",
      "Processing Record 517 | osorno\n",
      "Processing Record 518 | soc trang\n",
      "Processing Record 519 | hamilton\n",
      "Processing Record 520 | poya\n",
      "Processing Record 521 | rupert\n",
      "Processing Record 522 | juigalpa\n",
      "Processing Record 523 | san andres\n",
      "Processing Record 524 | liku\n",
      "Processing Record 525 | beira\n",
      "Processing Record 526 | saryagash\n",
      "Processing Record 527 | alappuzha\n",
      "Processing Record 528 | buchanan\n",
      "Processing Record 529 | nelson bay\n",
      "Processing Record 530 | chapais\n",
      "Processing Record 531 | palora\n",
      "Processing Record 532 | santa cruz\n",
      "Processing Record 533 | porto novo\n",
      "Processing Record 534 | wanaka\n",
      "Processing Record 535 | soyo\n",
      "Processing Record 536 | polson\n",
      "Processing Record 537 | vodstroy\n",
      "Processing Record 538 | kralendijk\n",
      "City not found. Skipping...\n",
      "City not found. Skipping...\n",
      "Processing Record 539 | usinsk\n",
      "Processing Record 540 | amahai\n",
      "Processing Record 541 | berestechko\n",
      "----------------------------------------\n",
      "Data Retrieval Complete\n",
      "----------------------------------------\n"
     ]
    }
   ],
   "source": [
    "city_results = []\n",
    "\n",
    "# Record counter starts at 1\n",
    "processing_record = 1\n",
    "\n",
    "print(\"Beginning Data Retrieval\")\n",
    "print(\"----------------------------------------\")\n",
    "\n",
    "for i, city in enumerate(city_list):\n",
    "\n",
    "    try:\n",
    "\n",
    "        data = requests.get(\n",
    "            \"http://api.openweathermap.org/data/2.5/weather\",\n",
    "            params={\"q\": city, \"appid\": weather_api_key, \"units\": \"imperial\"},\n",
    "        ).json()\n",
    "\n",
    "        city_result = extract_data(data)\n",
    "        city_results.append(city_result)\n",
    "\n",
    "        print(f\"Processing Record {processing_record} | {city}\")\n",
    "\n",
    "        processing_record += 1\n",
    "\n",
    "    except:\n",
    "        print(\"City not found. Skipping...\")\n",
    "    continue\n",
    "\n",
    "print(\"----------------------------------------\")\n",
    "print(\"Data Retrieval Complete\")\n",
    "print(\"----------------------------------------\")"
   ]
  },
  {
   "cell_type": "code",
   "execution_count": 6,
   "metadata": {},
   "outputs": [
    {
     "data": {
      "text/html": [
       "<div>\n",
       "<style scoped>\n",
       "    .dataframe tbody tr th:only-of-type {\n",
       "        vertical-align: middle;\n",
       "    }\n",
       "\n",
       "    .dataframe tbody tr th {\n",
       "        vertical-align: top;\n",
       "    }\n",
       "\n",
       "    .dataframe thead th {\n",
       "        text-align: right;\n",
       "    }\n",
       "</style>\n",
       "<table border=\"1\" class=\"dataframe\">\n",
       "  <thead>\n",
       "    <tr style=\"text-align: right;\">\n",
       "      <th></th>\n",
       "      <th>City</th>\n",
       "      <th>Lat</th>\n",
       "      <th>Lon</th>\n",
       "      <th>Max Temp</th>\n",
       "      <th>Humidity</th>\n",
       "      <th>Cloudiness</th>\n",
       "      <th>Wind Speed</th>\n",
       "      <th>Country</th>\n",
       "      <th>Date</th>\n",
       "    </tr>\n",
       "  </thead>\n",
       "  <tbody>\n",
       "    <tr>\n",
       "      <th>0</th>\n",
       "      <td>Ushuaia</td>\n",
       "      <td>-54.80</td>\n",
       "      <td>-68.30</td>\n",
       "      <td>60.80</td>\n",
       "      <td>41</td>\n",
       "      <td>75</td>\n",
       "      <td>23.04</td>\n",
       "      <td>AR</td>\n",
       "      <td>1604774790</td>\n",
       "    </tr>\n",
       "    <tr>\n",
       "      <th>1</th>\n",
       "      <td>Griffith</td>\n",
       "      <td>41.53</td>\n",
       "      <td>-87.42</td>\n",
       "      <td>71.01</td>\n",
       "      <td>46</td>\n",
       "      <td>1</td>\n",
       "      <td>14.99</td>\n",
       "      <td>US</td>\n",
       "      <td>1604775562</td>\n",
       "    </tr>\n",
       "  </tbody>\n",
       "</table>\n",
       "</div>"
      ],
      "text/plain": [
       "       City    Lat    Lon  Max Temp  Humidity  Cloudiness  Wind Speed Country  \\\n",
       "0   Ushuaia -54.80 -68.30     60.80        41          75       23.04      AR   \n",
       "1  Griffith  41.53 -87.42     71.01        46           1       14.99      US   \n",
       "\n",
       "         Date  \n",
       "0  1604774790  \n",
       "1  1604775562  "
      ]
     },
     "execution_count": 6,
     "metadata": {},
     "output_type": "execute_result"
    }
   ],
   "source": [
    "df = pd.DataFrame(city_results)\n",
    "df.head(2)"
   ]
  },
  {
   "cell_type": "code",
   "execution_count": 91,
   "metadata": {},
   "outputs": [],
   "source": [
    "html_table = df.to_html\n",
    "html_table(\"city_result.html\")"
   ]
  },
  {
   "cell_type": "markdown",
   "metadata": {},
   "source": [
    "### Creating Scatter Plot to showcase the relation ship between Max Temperature and Latitude"
   ]
  },
  {
   "cell_type": "code",
   "execution_count": 7,
   "metadata": {},
   "outputs": [],
   "source": [
    "# Converting data in DataFrame so that it can be used to define the X and y value needed for the scatter plot.\n",
    "X = df[\"Lat\"].values\n",
    "y = df[\"Max Temp\"].values"
   ]
  },
  {
   "cell_type": "code",
   "execution_count": 8,
   "metadata": {},
   "outputs": [
    {
     "data": {
      "image/png": "[encoded data removed]",
      "text/plain": [
       "<Figure size 432x288 with 1 Axes>"
      ]
     },
     "metadata": {
      "needs_background": "light"
     },
     "output_type": "display_data"
    }
   ],
   "source": [
    "plt.title(\"City Latitude vs. Max Temperature (09/25/2020)\")\n",
    "plt.xlabel(\"Latitude\")\n",
    "plt.ylabel(\"Max Temperature (F)\")\n",
    "plt.grid()\n",
    "plt.scatter(X, y)\n",
    "plt.show\n",
    "plt.savefig(\"max_temp_latitude.png\")"
   ]
  },
  {
   "cell_type": "markdown",
   "metadata": {},
   "source": [
    "Here we are examining the relationship between a city's latitude and it's maximum temperature. As you can see, as a city's latitude has a clear relationship to it's max temperature as we would expect. Temperatures appear to be higher the closer they are to the equator, (0) degrees latitude."
   ]
  },
  {
   "cell_type": "markdown",
   "metadata": {},
   "source": [
    "### Creating Scatter Plot to showcase the relationship between Humidity and Latitude "
   ]
  },
  {
   "cell_type": "code",
   "execution_count": 9,
   "metadata": {},
   "outputs": [],
   "source": [
    "X = df[\"Lat\"].values\n",
    "y = df[\"Humidity\"].values"
   ]
  },
  {
   "cell_type": "code",
   "execution_count": 10,
   "metadata": {},
   "outputs": [
    {
     "data": {
      "image/png": "[encoded data removed]",
      "text/plain": [
       "<Figure size 432x288 with 1 Axes>"
      ]
     },
     "metadata": {
      "needs_background": "light"
     },
     "output_type": "display_data"
    }
   ],
   "source": [
    "plt.title(\"City Latitude vs. Humidity (09/25/2020)\")\n",
    "plt.xlabel(\"Latitude\")\n",
    "plt.ylabel(\"Humidity (%)\")\n",
    "plt.grid()\n",
    "plt.scatter(X, y)\n",
    "plt.show\n",
    "plt.savefig(\"humidity_latitude.png\")"
   ]
  },
  {
   "cell_type": "markdown",
   "metadata": {},
   "source": [
    "This scatter plot is displaying the relationship between a city's latitude and it's humidity levels. There does not appear to be a clear relationship between cities with higher humidities and their latitude based on the plot. However, there does appear to be a slight indication that many cities that lie between around -40 degrees and 40 degrees latitude have lower humidity levels."
   ]
  },
  {
   "cell_type": "markdown",
   "metadata": {},
   "source": [
    "### Creating Scatter Plot to showcase the relationship between Cloudiness and Latitude "
   ]
  },
  {
   "cell_type": "code",
   "execution_count": 11,
   "metadata": {},
   "outputs": [],
   "source": [
    "X = df[\"Lat\"].values\n",
    "y = df[\"Cloudiness\"].values"
   ]
  },
  {
   "cell_type": "code",
   "execution_count": 12,
   "metadata": {},
   "outputs": [
    {
     "data": {
      "image/png": "[encoded data removed]",
      "text/plain": [
       "<Figure size 432x288 with 1 Axes>"
      ]
     },
     "metadata": {
      "needs_background": "light"
     },
     "output_type": "display_data"
    }
   ],
   "source": [
    "plt.title(\"City Latitude vs. Cloudiness (09/25/2020)\")\n",
    "plt.xlabel(\"Latitude\")\n",
    "plt.ylabel(\"Cloudiness (%)\")\n",
    "plt.grid()\n",
    "plt.scatter(X, y)\n",
    "plt.show\n",
    "plt.savefig(\"cloudiness_latitude.png\")"
   ]
  },
  {
   "cell_type": "markdown",
   "metadata": {},
   "source": [
    "This scatter plot showcases the relationship between a cities latitude and its cloud cover. Latitude does not appear to be a major impactor of a city's cloud cover. Cities with high, medium and low cloud cover appear to be evenly distributed across all latitudes."
   ]
  },
  {
   "cell_type": "markdown",
   "metadata": {},
   "source": [
    "### Creating Scatter Plot to showcase the relationship between Wind Speed and Latitude "
   ]
  },
  {
   "cell_type": "code",
   "execution_count": 13,
   "metadata": {},
   "outputs": [],
   "source": [
    "X = df[\"Lat\"].values\n",
    "y = df[\"Wind Speed\"].values"
   ]
  },
  {
   "cell_type": "code",
   "execution_count": 14,
   "metadata": {},
   "outputs": [
    {
     "data": {
      "image/png": "[encoded data removed]",
      "text/plain": [
       "<Figure size 432x288 with 1 Axes>"
      ]
     },
     "metadata": {
      "needs_background": "light"
     },
     "output_type": "display_data"
    }
   ],
   "source": [
    "plt.title(\"City Latitude vs. Wind Speed (09/25/2020)\")\n",
    "plt.xlabel(\"Latitude\")\n",
    "plt.ylabel(\"Wind Speed (mph)\")\n",
    "plt.grid()\n",
    "plt.scatter(X, y)\n",
    "plt.show\n",
    "plt.savefig(\"wind_speed_latitude.png\")"
   ]
  },
  {
   "cell_type": "markdown",
   "metadata": {},
   "source": [
    "With this plot, we can see that there is perhaps a small relationship between a city's latitude and it wind speed. Although wind speed does appear to be rather equally distibuted, we do see that cities further away from the equator have the potential for higher wind speeds, especially in the Northern hemisphere."
   ]
  },
  {
   "cell_type": "markdown",
   "metadata": {},
   "source": [
    "## Linear Regression"
   ]
  },
  {
   "cell_type": "markdown",
   "metadata": {},
   "source": [
    "### Temperature (F) vs. Latitude (Northern and Southern Hemisphere)"
   ]
  },
  {
   "cell_type": "markdown",
   "metadata": {},
   "source": [
    "#### (Northern Hemisphere)"
   ]
  },
  {
   "cell_type": "code",
   "execution_count": 15,
   "metadata": {},
   "outputs": [],
   "source": [
    "# Created dataframe to display only those cities located in the Northern Hemisphere\n",
    "NH_df = df[df.Lat > 0]"
   ]
  },
  {
   "cell_type": "code",
   "execution_count": 16,
   "metadata": {},
   "outputs": [],
   "source": [
    "# Converting the NH_df data so that it can be used to create scatter plots andn perform linear regression.\n",
    "X = NH_df[\"Lat\"].values\n",
    "X_array = [[e] for e in X]\n",
    "y = NH_df[\"Max Temp\"].values"
   ]
  },
  {
   "cell_type": "code",
   "execution_count": 17,
   "metadata": {},
   "outputs": [
    {
     "data": {
      "text/plain": [
       "LinearRegression()"
      ]
     },
     "execution_count": 17,
     "metadata": {},
     "output_type": "execute_result"
    }
   ],
   "source": [
    "# Setting up linear regression model.\n",
    "model = LinearRegression()\n",
    "model.fit(X_array, y)"
   ]
  },
  {
   "cell_type": "code",
   "execution_count": 18,
   "metadata": {},
   "outputs": [
    {
     "data": {
      "text/plain": [
       "-1.0250546503017997"
      ]
     },
     "execution_count": 18,
     "metadata": {},
     "output_type": "execute_result"
    }
   ],
   "source": [
    "slope = model.coef_[0]\n",
    "slope"
   ]
  },
  {
   "cell_type": "code",
   "execution_count": 19,
   "metadata": {},
   "outputs": [
    {
     "data": {
      "text/plain": [
       "93.93202879155206"
      ]
     },
     "execution_count": 19,
     "metadata": {},
     "output_type": "execute_result"
    }
   ],
   "source": [
    "intercept = model.intercept_\n",
    "intercept"
   ]
  },
  {
   "cell_type": "code",
   "execution_count": 20,
   "metadata": {},
   "outputs": [
    {
     "data": {
      "text/plain": [
       "0.720203357509417"
      ]
     },
     "execution_count": 20,
     "metadata": {},
     "output_type": "execute_result"
    }
   ],
   "source": [
    "r_squared = model.score(X_array, y)\n",
    "r_squared"
   ]
  },
  {
   "cell_type": "code",
   "execution_count": 21,
   "metadata": {},
   "outputs": [],
   "source": [
    "def predict_function(max_temp):\n",
    "    return model.predict([[max_temp]])[0]"
   ]
  },
  {
   "cell_type": "code",
   "execution_count": 22,
   "metadata": {},
   "outputs": [],
   "source": [
    "nh_max_temp_range = np.arange(min(X), max(X), 0.001)\n",
    "nh_predict_max_temp = [predict_function(e) for e in nh_max_temp_range]"
   ]
  },
  {
   "cell_type": "code",
   "execution_count": 23,
   "metadata": {},
   "outputs": [],
   "source": [
    "# Variables used for creating text labels on plot\n",
    "formula = f\"y = {round(intercept, 3)} + {round(slope, 3)}x\"\n",
    "r_squared_str = f\"$R^{2}$={round(r_squared, 3)}\""
   ]
  },
  {
   "cell_type": "code",
   "execution_count": 24,
   "metadata": {},
   "outputs": [
    {
     "data": {
      "image/png": "[encoded data removed]",
      "text/plain": [
       "<Figure size 432x288 with 1 Axes>"
      ]
     },
     "metadata": {
      "needs_background": "light"
     },
     "output_type": "display_data"
    }
   ],
   "source": [
    "plt.title(\"NH City Latitude vs. Max Temperature (09/25/2020)\")\n",
    "plt.xlabel(\"Latitude\")\n",
    "plt.ylabel(\"Max Temperature (F)\")\n",
    "plt.grid()\n",
    "plt.scatter(X, y)\n",
    "plt.plot(nh_max_temp_range, nh_predict_max_temp, color=\"red\")\n",
    "plt.text(5, 35, formula, color=\"red\")\n",
    "plt.text(5, 28, r_squared_str, color=\"red\")\n",
    "plt.show\n",
    "plt.savefig(\"nh_max_temp_latitude_lr.png\")"
   ]
  },
  {
   "cell_type": "markdown",
   "metadata": {},
   "source": [
    "As you can see, the r squared value for this regression anaylis is quite high. This indicates that there is a strong correlation between latitude and the maximum temperatures. This is easily seen on the plot displayed above. The further you get away from the equator (0), the lower the max temperature."
   ]
  },
  {
   "cell_type": "markdown",
   "metadata": {},
   "source": [
    "#### (Southern Hemisphere)"
   ]
  },
  {
   "cell_type": "code",
   "execution_count": 25,
   "metadata": {},
   "outputs": [],
   "source": [
    "# Created dataframe to display only those cities located in the Northern Hemisphere\n",
    "SH_df = df[df.Lat < 0]"
   ]
  },
  {
   "cell_type": "code",
   "execution_count": 26,
   "metadata": {},
   "outputs": [],
   "source": [
    "# Converting the SH_df data so that it can be used to create scatter plots andn perform linear regression.\n",
    "X = SH_df[\"Lat\"].values\n",
    "X_array = [[e] for e in X]\n",
    "y = SH_df[\"Max Temp\"].values"
   ]
  },
  {
   "cell_type": "code",
   "execution_count": 27,
   "metadata": {},
   "outputs": [
    {
     "data": {
      "text/plain": [
       "LinearRegression()"
      ]
     },
     "execution_count": 27,
     "metadata": {},
     "output_type": "execute_result"
    }
   ],
   "source": [
    "# Setting up linear regression model.\n",
    "model = LinearRegression()\n",
    "model.fit(X_array, y)"
   ]
  },
  {
   "cell_type": "code",
   "execution_count": 28,
   "metadata": {},
   "outputs": [
    {
     "data": {
      "text/plain": [
       "0.6035158243936167"
      ]
     },
     "execution_count": 28,
     "metadata": {},
     "output_type": "execute_result"
    }
   ],
   "source": [
    "slope = model.coef_[0]\n",
    "slope"
   ]
  },
  {
   "cell_type": "code",
   "execution_count": 29,
   "metadata": {},
   "outputs": [
    {
     "data": {
      "text/plain": [
       "85.75200341209084"
      ]
     },
     "execution_count": 29,
     "metadata": {},
     "output_type": "execute_result"
    }
   ],
   "source": [
    "intercept = model.intercept_\n",
    "intercept"
   ]
  },
  {
   "cell_type": "code",
   "execution_count": 30,
   "metadata": {},
   "outputs": [
    {
     "data": {
      "text/plain": [
       "0.3860011997586922"
      ]
     },
     "execution_count": 30,
     "metadata": {},
     "output_type": "execute_result"
    }
   ],
   "source": [
    "r_squared = model.score(X_array, y)\n",
    "r_squared"
   ]
  },
  {
   "cell_type": "code",
   "execution_count": 31,
   "metadata": {},
   "outputs": [],
   "source": [
    "def predict_function(max_temp):\n",
    "    return model.predict([[max_temp]])[0]"
   ]
  },
  {
   "cell_type": "code",
   "execution_count": 32,
   "metadata": {},
   "outputs": [],
   "source": [
    "sh_max_temp_range = np.arange(min(X), max(X), 0.001)\n",
    "sh_predict_max_temp = [predict_function(e) for e in sh_max_temp_range]"
   ]
  },
  {
   "cell_type": "code",
   "execution_count": 33,
   "metadata": {},
   "outputs": [],
   "source": [
    "# Variables used for creating text labels on plot\n",
    "formula = f\"y = {round(intercept, 3)} + {round(slope, 3)}x\"\n",
    "r_squared_str = f\"$R^{2}$={round(r_squared, 3)}\""
   ]
  },
  {
   "cell_type": "code",
   "execution_count": 34,
   "metadata": {},
   "outputs": [
    {
     "data": {
      "image/png": "[encoded data removed]",
      "text/plain": [
       "<Figure size 432x288 with 1 Axes>"
      ]
     },
     "metadata": {
      "needs_background": "light"
     },
     "output_type": "display_data"
    }
   ],
   "source": [
    "plt.title(\"SH City Latitude vs. Max Temperature (09/25/2020)\")\n",
    "plt.xlabel(\"Latitude\")\n",
    "plt.ylabel(\"Max Temperature (F)\")\n",
    "plt.grid()\n",
    "plt.scatter(X, y)\n",
    "plt.plot(sh_max_temp_range, sh_predict_max_temp, color=\"red\")\n",
    "plt.text(-55, 88, formula, color=\"red\")\n",
    "plt.text(-55, 82, r_squared_str, color=\"red\")\n",
    "plt.show\n",
    "plt.savefig(\"sh_max_temp_latitude_lr.png\")"
   ]
  },
  {
   "cell_type": "markdown",
   "metadata": {},
   "source": [
    "The r squared value for this linear regression is also quite high; although not quite as high as what was indicated in the Northern Hemisphere. Again, there is a strong correlation between latitude and maximum temperature in the Southern Hemisphere as well. This is easily explained by the fact that Earth is round, and as you get further and further away from the equator in both hemispheres, less of the sun's light makes it to the surface causing maximum temperatures to be lower. Yet another notch against the \"Flat Earthers\" out there."
   ]
  },
  {
   "cell_type": "markdown",
   "metadata": {},
   "source": [
    "### Humidity (%) vs. Latitude (Northern and Southern Hemisphere)¶"
   ]
  },
  {
   "cell_type": "markdown",
   "metadata": {},
   "source": [
    "#### (Northern Hemisphere)"
   ]
  },
  {
   "cell_type": "code",
   "execution_count": 35,
   "metadata": {},
   "outputs": [],
   "source": [
    "X = NH_df[\"Lat\"].values\n",
    "X_array = [[e] for e in X]\n",
    "y = NH_df[\"Humidity\"].values"
   ]
  },
  {
   "cell_type": "code",
   "execution_count": 36,
   "metadata": {},
   "outputs": [
    {
     "data": {
      "text/plain": [
       "LinearRegression()"
      ]
     },
     "execution_count": 36,
     "metadata": {},
     "output_type": "execute_result"
    }
   ],
   "source": [
    "model = LinearRegression()\n",
    "model.fit(X_array, y)"
   ]
  },
  {
   "cell_type": "code",
   "execution_count": 37,
   "metadata": {},
   "outputs": [
    {
     "data": {
      "text/plain": [
       "0.29139930778444156"
      ]
     },
     "execution_count": 37,
     "metadata": {},
     "output_type": "execute_result"
    }
   ],
   "source": [
    "slope = model.coef_[0]\n",
    "slope"
   ]
  },
  {
   "cell_type": "code",
   "execution_count": 38,
   "metadata": {},
   "outputs": [
    {
     "data": {
      "text/plain": [
       "61.02615245459061"
      ]
     },
     "execution_count": 38,
     "metadata": {},
     "output_type": "execute_result"
    }
   ],
   "source": [
    "intercept = model.intercept_\n",
    "intercept"
   ]
  },
  {
   "cell_type": "code",
   "execution_count": 39,
   "metadata": {},
   "outputs": [
    {
     "data": {
      "text/plain": [
       "0.07617557993920332"
      ]
     },
     "execution_count": 39,
     "metadata": {},
     "output_type": "execute_result"
    }
   ],
   "source": [
    "r_squared = model.score(X_array, y)\n",
    "r_squared"
   ]
  },
  {
   "cell_type": "code",
   "execution_count": 40,
   "metadata": {},
   "outputs": [],
   "source": [
    "def predict_function(humidity):\n",
    "    return model.predict([[humidity]])[0]"
   ]
  },
  {
   "cell_type": "code",
   "execution_count": 41,
   "metadata": {},
   "outputs": [],
   "source": [
    "nh_humidity_range = np.arange(min(X), max(X), 0.001)\n",
    "nh_predict_humidity = [predict_function(e) for e in nh_humidity_range]"
   ]
  },
  {
   "cell_type": "code",
   "execution_count": 42,
   "metadata": {},
   "outputs": [],
   "source": [
    "# Variables used for creating text labels on plot\n",
    "formula = f\"y = {round(intercept, 3)} + {round(slope, 3)}x\"\n",
    "r_squared_str = f\"$R^{2}$={round(r_squared, 3)}\""
   ]
  },
  {
   "cell_type": "code",
   "execution_count": 43,
   "metadata": {},
   "outputs": [
    {
     "data": {
      "image/png": "[encoded data removed]",
      "text/plain": [
       "<Figure size 432x288 with 1 Axes>"
      ]
     },
     "metadata": {
      "needs_background": "light"
     },
     "output_type": "display_data"
    }
   ],
   "source": [
    "plt.title(\"NH City Latitude vs. Humidity (%) (09/25/2020)\")\n",
    "plt.xlabel(\"Latitude\")\n",
    "plt.ylabel(\"Humidity %\")\n",
    "plt.grid()\n",
    "plt.scatter(X, y)\n",
    "plt.plot(nh_humidity_range, nh_predict_humidity, color=\"red\")\n",
    "plt.text(55, 24, formula, color=\"red\")\n",
    "plt.text(55, 15, r_squared_str, color=\"red\")\n",
    "plt.show\n",
    "plt.savefig(\"nh_humidity_latitude_lr.png\")"
   ]
  },
  {
   "cell_type": "markdown",
   "metadata": {},
   "source": [
    "The r squared value for this linear regression is quite low suggesting that there is little correlation between latitude and humidity levels. However, as I mentioned above, one can still see there is still something going on here. Although humidity levels due appear to be dispearsed throughout, you can still see that most of the lower humidity levels are grouped together between about 10 and 35 degrees latitude."
   ]
  },
  {
   "cell_type": "markdown",
   "metadata": {},
   "source": [
    "#### (Southern Hemisphere)"
   ]
  },
  {
   "cell_type": "code",
   "execution_count": 44,
   "metadata": {},
   "outputs": [],
   "source": [
    "X = SH_df[\"Lat\"].values\n",
    "X_array = [[e] for e in X]\n",
    "y = SH_df[\"Humidity\"].values"
   ]
  },
  {
   "cell_type": "code",
   "execution_count": 45,
   "metadata": {},
   "outputs": [
    {
     "data": {
      "text/plain": [
       "LinearRegression()"
      ]
     },
     "execution_count": 45,
     "metadata": {},
     "output_type": "execute_result"
    }
   ],
   "source": [
    "model = LinearRegression()\n",
    "model.fit(X_array, y)"
   ]
  },
  {
   "cell_type": "code",
   "execution_count": 46,
   "metadata": {},
   "outputs": [
    {
     "data": {
      "text/plain": [
       "0.013301545100004296"
      ]
     },
     "execution_count": 46,
     "metadata": {},
     "output_type": "execute_result"
    }
   ],
   "source": [
    "slope = model.coef_[0]\n",
    "slope"
   ]
  },
  {
   "cell_type": "code",
   "execution_count": 47,
   "metadata": {},
   "outputs": [
    {
     "data": {
      "text/plain": [
       "67.34009408987731"
      ]
     },
     "execution_count": 47,
     "metadata": {},
     "output_type": "execute_result"
    }
   ],
   "source": [
    "intercept = model.intercept_\n",
    "intercept"
   ]
  },
  {
   "cell_type": "code",
   "execution_count": 48,
   "metadata": {},
   "outputs": [
    {
     "data": {
      "text/plain": [
       "7.102471295705737e-05"
      ]
     },
     "execution_count": 48,
     "metadata": {},
     "output_type": "execute_result"
    }
   ],
   "source": [
    "r_squared = model.score(X_array, y)\n",
    "r_squared"
   ]
  },
  {
   "cell_type": "code",
   "execution_count": 49,
   "metadata": {},
   "outputs": [],
   "source": [
    "def predict_function(humidity):\n",
    "    return model.predict([[humidity]])[0]"
   ]
  },
  {
   "cell_type": "code",
   "execution_count": 50,
   "metadata": {},
   "outputs": [],
   "source": [
    "sh_humidity_range = np.arange(min(X), max(X), 0.001)\n",
    "sh_predict_humidity = [predict_function(e) for e in sh_humidity_range]"
   ]
  },
  {
   "cell_type": "code",
   "execution_count": 51,
   "metadata": {},
   "outputs": [],
   "source": [
    "# Variables used for creating text labels on plot\n",
    "formula = f\"y = {round(intercept, 3)} + {round(slope, 3)}x\"\n",
    "r_squared_str = f\"$R^{2}$={round(r_squared, 3)}\""
   ]
  },
  {
   "cell_type": "code",
   "execution_count": 52,
   "metadata": {},
   "outputs": [
    {
     "data": {
      "image/png": "[encoded data removed]",
      "text/plain": [
       "<Figure size 432x288 with 1 Axes>"
      ]
     },
     "metadata": {
      "needs_background": "light"
     },
     "output_type": "display_data"
    }
   ],
   "source": [
    "plt.title(\"SH City Latitude vs. Humidity (%) (09/25/2020)\")\n",
    "plt.xlabel(\"Latitude\")\n",
    "plt.ylabel(\"Humidity %\")\n",
    "plt.grid()\n",
    "plt.scatter(X, y)\n",
    "plt.plot(sh_humidity_range, sh_predict_humidity, color=\"red\")\n",
    "plt.text(-55, 30, formula, color=\"red\")\n",
    "plt.text(-55, 23, r_squared_str, color=\"red\")\n",
    "plt.show\n",
    "plt.savefig(\"sh_humidity_latitude_lr.png\")"
   ]
  },
  {
   "cell_type": "markdown",
   "metadata": {},
   "source": [
    "The same is true for the Southern Hemisphere. The r squared value for this linear regression is also low suggesting that there is little correlation between latitude and humidity levels. Again; however, we do see there is still something going on with lower humidity levels. Although humidity levels as whole due appear to be dispearsed throughout, you can still see that most of the lower humidit levels are grouped together between about -30 and -10 degrees latitude. One would assume that most deserts are located at this latitudal levels all over the planet."
   ]
  },
  {
   "cell_type": "markdown",
   "metadata": {},
   "source": [
    "### Cloudiness (%) vs. Latitude (Northern and Southern Hemisphere)¶"
   ]
  },
  {
   "cell_type": "markdown",
   "metadata": {},
   "source": [
    "#### (Northern Hemisphere)"
   ]
  },
  {
   "cell_type": "code",
   "execution_count": 53,
   "metadata": {},
   "outputs": [],
   "source": [
    "X = NH_df[\"Lat\"].values\n",
    "X_array = [[e] for e in X]\n",
    "y = NH_df[\"Cloudiness\"].values"
   ]
  },
  {
   "cell_type": "code",
   "execution_count": 54,
   "metadata": {},
   "outputs": [
    {
     "data": {
      "text/plain": [
       "LinearRegression()"
      ]
     },
     "execution_count": 54,
     "metadata": {},
     "output_type": "execute_result"
    }
   ],
   "source": [
    "model = LinearRegression()\n",
    "model.fit(X_array, y)"
   ]
  },
  {
   "cell_type": "code",
   "execution_count": 55,
   "metadata": {},
   "outputs": [
    {
     "data": {
      "text/plain": [
       "0.39759508899250184"
      ]
     },
     "execution_count": 55,
     "metadata": {},
     "output_type": "execute_result"
    }
   ],
   "source": [
    "slope = model.coef_[0]\n",
    "slope"
   ]
  },
  {
   "cell_type": "code",
   "execution_count": 56,
   "metadata": {},
   "outputs": [
    {
     "data": {
      "text/plain": [
       "31.691569624793793"
      ]
     },
     "execution_count": 56,
     "metadata": {},
     "output_type": "execute_result"
    }
   ],
   "source": [
    "intercept = model.intercept_\n",
    "intercept"
   ]
  },
  {
   "cell_type": "code",
   "execution_count": 57,
   "metadata": {},
   "outputs": [
    {
     "data": {
      "text/plain": [
       "0.0348966439869558"
      ]
     },
     "execution_count": 57,
     "metadata": {},
     "output_type": "execute_result"
    }
   ],
   "source": [
    "r_squared = model.score(X_array, y)\n",
    "r_squared"
   ]
  },
  {
   "cell_type": "code",
   "execution_count": 58,
   "metadata": {},
   "outputs": [],
   "source": [
    "def predict_function(cloudiness):\n",
    "    return model.predict([[cloudiness]])[0]"
   ]
  },
  {
   "cell_type": "code",
   "execution_count": 59,
   "metadata": {},
   "outputs": [],
   "source": [
    "nh_cloudiness_range = np.arange(min(X), max(X), 0.001)\n",
    "nh_predict_cloudiness = [predict_function(e) for e in nh_cloudiness_range]"
   ]
  },
  {
   "cell_type": "code",
   "execution_count": 60,
   "metadata": {},
   "outputs": [],
   "source": [
    "# Variables used for creating text labels on plot\n",
    "formula = f\"y = {round(intercept, 3)} + {round(slope, 3)}x\"\n",
    "r_squared_str = f\"$R^{2}$={round(r_squared, 3)}\""
   ]
  },
  {
   "cell_type": "code",
   "execution_count": 61,
   "metadata": {},
   "outputs": [
    {
     "data": {
      "image/png": "[encoded data removed]",
      "text/plain": [
       "<Figure size 432x288 with 1 Axes>"
      ]
     },
     "metadata": {
      "needs_background": "light"
     },
     "output_type": "display_data"
    }
   ],
   "source": [
    "plt.title(\"NH City Latitude vs. Cloudiness (%) (09/25/2020)\")\n",
    "plt.xlabel(\"Latitude\")\n",
    "plt.ylabel(\"Cloudiness %\")\n",
    "plt.grid()\n",
    "plt.scatter(X, y)\n",
    "plt.plot(nh_cloudiness_range, nh_predict_cloudiness, color=\"red\")\n",
    "plt.text(-3, 34, formula, color=\"red\")\n",
    "plt.text(-3, 24, r_squared_str, color=\"red\")\n",
    "plt.show\n",
    "plt.savefig(\"nh_cloudiness_latitude_lr.png\")"
   ]
  },
  {
   "cell_type": "markdown",
   "metadata": {},
   "source": [
    "The R squared value for this linear regression is the lowest we've seen so far. There is apparently little to know correlation betwen cloudiness and latitude in the Northern Hemisphere."
   ]
  },
  {
   "cell_type": "markdown",
   "metadata": {},
   "source": [
    "#### (Southern Hemisphere)"
   ]
  },
  {
   "cell_type": "code",
   "execution_count": 62,
   "metadata": {},
   "outputs": [],
   "source": [
    "X = SH_df[\"Lat\"].values\n",
    "X_array = [[e] for e in X]\n",
    "y = SH_df[\"Cloudiness\"].values"
   ]
  },
  {
   "cell_type": "code",
   "execution_count": 63,
   "metadata": {},
   "outputs": [
    {
     "data": {
      "text/plain": [
       "LinearRegression()"
      ]
     },
     "execution_count": 63,
     "metadata": {},
     "output_type": "execute_result"
    }
   ],
   "source": [
    "model = LinearRegression()\n",
    "model.fit(X_array, y)"
   ]
  },
  {
   "cell_type": "code",
   "execution_count": 64,
   "metadata": {},
   "outputs": [
    {
     "data": {
      "text/plain": [
       "0.8321054182213686"
      ]
     },
     "execution_count": 64,
     "metadata": {},
     "output_type": "execute_result"
    }
   ],
   "source": [
    "slope = model.coef_[0]\n",
    "slope"
   ]
  },
  {
   "cell_type": "code",
   "execution_count": 65,
   "metadata": {},
   "outputs": [
    {
     "data": {
      "text/plain": [
       "60.842515260350766"
      ]
     },
     "execution_count": 65,
     "metadata": {},
     "output_type": "execute_result"
    }
   ],
   "source": [
    "intercept = model.intercept_\n",
    "intercept"
   ]
  },
  {
   "cell_type": "code",
   "execution_count": 66,
   "metadata": {},
   "outputs": [
    {
     "data": {
      "text/plain": [
       "0.07905768042637373"
      ]
     },
     "execution_count": 66,
     "metadata": {},
     "output_type": "execute_result"
    }
   ],
   "source": [
    "r_squared = model.score(X_array, y)\n",
    "r_squared"
   ]
  },
  {
   "cell_type": "code",
   "execution_count": 67,
   "metadata": {},
   "outputs": [],
   "source": [
    "def predict_function(cloudiness):\n",
    "    return model.predict([[cloudiness]])[0]"
   ]
  },
  {
   "cell_type": "code",
   "execution_count": 68,
   "metadata": {},
   "outputs": [],
   "source": [
    "sh_cloudiness_range = np.arange(min(X), max(X), 0.001)\n",
    "sh_predict_cloudiness = [predict_function(e) for e in sh_cloudiness_range]"
   ]
  },
  {
   "cell_type": "code",
   "execution_count": 69,
   "metadata": {},
   "outputs": [],
   "source": [
    "# Variables used for creating text labels on plot\n",
    "formula = f\"y = {round(intercept, 3)} + {round(slope, 3)}x\"\n",
    "r_squared_str = f\"$R^{2}$={round(r_squared, 3)}\""
   ]
  },
  {
   "cell_type": "code",
   "execution_count": 70,
   "metadata": {},
   "outputs": [
    {
     "data": {
      "image/png": "[encoded data removed]",
      "text/plain": [
       "<Figure size 432x288 with 1 Axes>"
      ]
     },
     "metadata": {
      "needs_background": "light"
     },
     "output_type": "display_data"
    }
   ],
   "source": [
    "plt.title(\"SH City Latitude vs. Cloudiness (%) (09/25/2020)\")\n",
    "plt.xlabel(\"Latitude\")\n",
    "plt.ylabel(\"Cloudiness %\")\n",
    "plt.grid()\n",
    "plt.scatter(X, y)\n",
    "plt.plot(sh_cloudiness_range, sh_predict_cloudiness, color=\"red\")\n",
    "plt.text(-55, 58, formula, color=\"red\")\n",
    "plt.text(-55, 45, r_squared_str, color=\"red\")\n",
    "plt.show\n",
    "plt.savefig(\"sh_cloudiness_latitude_lr.png\")"
   ]
  },
  {
   "cell_type": "markdown",
   "metadata": {},
   "source": [
    "The R squared value for this linear regression is also very low. Again, there is apparently little to know correlation betwen cloudiness and latitude in the Southern Hemisphere as well."
   ]
  },
  {
   "cell_type": "markdown",
   "metadata": {},
   "source": [
    "### Wind Speed (mph) vs. Latitude (Northern and Southern Hemisphere)¶"
   ]
  },
  {
   "cell_type": "markdown",
   "metadata": {},
   "source": [
    "#### (Northern Hemisphere)"
   ]
  },
  {
   "cell_type": "code",
   "execution_count": 71,
   "metadata": {},
   "outputs": [],
   "source": [
    "X = NH_df[\"Lat\"].values\n",
    "X_array = [[e] for e in X]\n",
    "y = NH_df[\"Wind Speed\"].values"
   ]
  },
  {
   "cell_type": "code",
   "execution_count": 72,
   "metadata": {},
   "outputs": [
    {
     "data": {
      "text/plain": [
       "LinearRegression()"
      ]
     },
     "execution_count": 72,
     "metadata": {},
     "output_type": "execute_result"
    }
   ],
   "source": [
    "model = LinearRegression()\n",
    "model.fit(X_array, y)"
   ]
  },
  {
   "cell_type": "code",
   "execution_count": 73,
   "metadata": {},
   "outputs": [
    {
     "data": {
      "text/plain": [
       "0.07411626804655798"
      ]
     },
     "execution_count": 73,
     "metadata": {},
     "output_type": "execute_result"
    }
   ],
   "source": [
    "slope = model.coef_[0]\n",
    "slope"
   ]
  },
  {
   "cell_type": "code",
   "execution_count": 74,
   "metadata": {},
   "outputs": [
    {
     "data": {
      "text/plain": [
       "5.4564023998944275"
      ]
     },
     "execution_count": 74,
     "metadata": {},
     "output_type": "execute_result"
    }
   ],
   "source": [
    "intercept = model.intercept_\n",
    "intercept"
   ]
  },
  {
   "cell_type": "code",
   "execution_count": 75,
   "metadata": {},
   "outputs": [
    {
     "data": {
      "text/plain": [
       "0.04949603103738587"
      ]
     },
     "execution_count": 75,
     "metadata": {},
     "output_type": "execute_result"
    }
   ],
   "source": [
    "r_squared = model.score(X_array, y)\n",
    "r_squared"
   ]
  },
  {
   "cell_type": "code",
   "execution_count": 76,
   "metadata": {},
   "outputs": [],
   "source": [
    "def predict_function(wind_speed):\n",
    "    return model.predict([[wind_speed]])[0]"
   ]
  },
  {
   "cell_type": "code",
   "execution_count": 77,
   "metadata": {},
   "outputs": [],
   "source": [
    "nh_wind_speed_range = np.arange(min(X), max(X), 0.001)\n",
    "nh_predict_wind_speed_range = [predict_function(e) for e in nh_wind_speed_range]"
   ]
  },
  {
   "cell_type": "code",
   "execution_count": 78,
   "metadata": {},
   "outputs": [],
   "source": [
    "# Variables used for creating text labels on plot\n",
    "formula = f\"y = {round(intercept, 3)} + {round(slope, 3)}x\"\n",
    "r_squared_str = f\"$R^{2}$={round(r_squared, 3)}\""
   ]
  },
  {
   "cell_type": "code",
   "execution_count": 79,
   "metadata": {},
   "outputs": [
    {
     "data": {
      "image/png": "[encoded data removed]",
      "text/plain": [
       "<Figure size 432x288 with 1 Axes>"
      ]
     },
     "metadata": {
      "needs_background": "light"
     },
     "output_type": "display_data"
    }
   ],
   "source": [
    "plt.title(\"NH City Latitude vs. Wind Speed (mph) (09/25/2020)\")\n",
    "plt.xlabel(\"Latitude\")\n",
    "plt.ylabel(\"Wind Speed (mph)\")\n",
    "plt.grid()\n",
    "plt.scatter(X, y)\n",
    "plt.plot(nh_wind_speed_range, nh_predict_wind_speed_range, color=\"red\")\n",
    "plt.text(0, 35, formula, color=\"red\")\n",
    "plt.text(0, 30, r_squared_str, color=\"red\")\n",
    "plt.show\n",
    "plt.savefig(\"nh_wind_speed_latitude_lr.png\")"
   ]
  },
  {
   "cell_type": "markdown",
   "metadata": {},
   "source": [
    "The data points here are quite spread out, and the R Squared value is low. This indicates that there is little to know correlation between latitude and wind speed. However, much like humidity, there are some data points that are of interest. You can see that there are a couple of cities located far to the north report far higher wind speeds than others in this group."
   ]
  },
  {
   "cell_type": "markdown",
   "metadata": {},
   "source": [
    "#### (Southern Hemisphere)"
   ]
  },
  {
   "cell_type": "code",
   "execution_count": 80,
   "metadata": {},
   "outputs": [],
   "source": [
    "X = SH_df[\"Lat\"].values\n",
    "X_array = [[e] for e in X]\n",
    "y = SH_df[\"Wind Speed\"].values"
   ]
  },
  {
   "cell_type": "code",
   "execution_count": 81,
   "metadata": {},
   "outputs": [
    {
     "data": {
      "text/plain": [
       "LinearRegression()"
      ]
     },
     "execution_count": 81,
     "metadata": {},
     "output_type": "execute_result"
    }
   ],
   "source": [
    "model = LinearRegression()\n",
    "model.fit(X_array, y)"
   ]
  },
  {
   "cell_type": "code",
   "execution_count": 82,
   "metadata": {},
   "outputs": [
    {
     "data": {
      "text/plain": [
       "-0.06096004815725403"
      ]
     },
     "execution_count": 82,
     "metadata": {},
     "output_type": "execute_result"
    }
   ],
   "source": [
    "slope = model.coef_[0]\n",
    "slope"
   ]
  },
  {
   "cell_type": "code",
   "execution_count": 83,
   "metadata": {},
   "outputs": [
    {
     "data": {
      "text/plain": [
       "7.189839104033812"
      ]
     },
     "execution_count": 83,
     "metadata": {},
     "output_type": "execute_result"
    }
   ],
   "source": [
    "intercept = model.intercept_\n",
    "intercept"
   ]
  },
  {
   "cell_type": "code",
   "execution_count": 84,
   "metadata": {},
   "outputs": [
    {
     "data": {
      "text/plain": [
       "0.02514414207801008"
      ]
     },
     "execution_count": 84,
     "metadata": {},
     "output_type": "execute_result"
    }
   ],
   "source": [
    "r_squared = model.score(X_array, y)\n",
    "r_squared"
   ]
  },
  {
   "cell_type": "code",
   "execution_count": 85,
   "metadata": {},
   "outputs": [],
   "source": [
    "def predict_function(wind_speed):\n",
    "    return model.predict([[wind_speed]])[0]"
   ]
  },
  {
   "cell_type": "code",
   "execution_count": 86,
   "metadata": {},
   "outputs": [],
   "source": [
    "sh_wind_speed_range = np.arange(min(X), max(X), 0.001)\n",
    "sh_predict_wind_speed_range = [predict_function(e) for e in sh_wind_speed_range]"
   ]
  },
  {
   "cell_type": "code",
   "execution_count": 87,
   "metadata": {},
   "outputs": [],
   "source": [
    "# Variables used for creating text labels on plot\n",
    "formula = f\"y = {round(intercept, 3)} + {round(slope, 3)}x\"\n",
    "r_squared_str = f\"$R^{2}$={round(r_squared, 3)}\""
   ]
  },
  {
   "cell_type": "code",
   "execution_count": 88,
   "metadata": {},
   "outputs": [
    {
     "data": {
      "image/png": "[encoded data removed]",
      "text/plain": [
       "<Figure size 432x288 with 1 Axes>"
      ]
     },
     "metadata": {
      "needs_background": "light"
     },
     "output_type": "display_data"
    }
   ],
   "source": [
    "plt.title(\"SH City Latitude vs. Wind Speed (mph) (09/25/2020)\")\n",
    "plt.xlabel(\"Latitude\")\n",
    "plt.ylabel(\"Wind Speed (mph)\")\n",
    "plt.grid()\n",
    "plt.scatter(X, y)\n",
    "plt.plot(sh_wind_speed_range, sh_predict_wind_speed_range, color=\"red\")\n",
    "plt.text(-50, 25, formula, color=\"red\")\n",
    "plt.text(-20, 25, r_squared_str, color=\"red\")\n",
    "plt.show\n",
    "plt.savefig(\"sh_wind_speed_latitude_lr.png\")"
   ]
  },
  {
   "cell_type": "markdown",
   "metadata": {},
   "source": [
    "Although the R Squared value is very low, one can see a small trend. you can also see that like in the Northern Hemisphere there are some data anomalies that require further analysis."
   ]
  }
 ],
 "metadata": {
  "environment": {
   "name": "common-cpu.m54",
   "type": "gcloud",
   "uri": "gcr.io/deeplearning-platform-release/base-cpu:m54"
  },
  "kernelspec": {
   "display_name": "Python 3",
   "language": "python",
   "name": "python3"
  },
  "language_info": {
   "codemirror_mode": {
    "name": "ipython",
    "version": 3
   },
   "file_extension": ".py",
   "mimetype": "text/x-python",
   "name": "python",
   "nbconvert_exporter": "python",
   "pygments_lexer": "ipython3",
   "version": "3.7.8"
  }
 },
 "nbformat": 4,
 "nbformat_minor": 4
}
