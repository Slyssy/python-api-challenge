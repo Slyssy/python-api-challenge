{
 "cells": [
  {
   "cell_type": "code",
   "execution_count": 45,
   "metadata": {},
   "outputs": [],
   "source": [
    "import pandas as pd\n",
    "import json\n",
    "import requests\n",
    "import numpy as np\n",
    "from config import weather_api_key\n",
    "from citipy import citipy\n",
    "import matplotlib.pyplot as plt\n",
    "from sklearn.linear_model import LinearRegression"
   ]
  },
  {
   "cell_type": "markdown",
   "metadata": {},
   "source": [
    "# WeatherPy\n",
    "----\n",
    "\n",
    "#### Note\n",
    "* Bringing Data Files"
   ]
  },
  {
   "cell_type": "markdown",
   "metadata": {},
   "source": [
    "## Generate Cities List"
   ]
  },
  {
   "cell_type": "code",
   "execution_count": 2,
   "metadata": {},
   "outputs": [],
   "source": [
    "lat_range = (90, -90)\n",
    "lon_range = (180, -180)\n",
    "\n",
    "# Blank list to hold latitude and longitude values\n",
    "lat_lon = []\n",
    "\n",
    "# Using numpy to generate random latitude and longitude values\n",
    "lat = np.random.uniform(high=90, low =-90, size= 1200)\n",
    "lon = np.random.uniform(high=180, low =-180, size= 1200)\n",
    "lat_lon = list(zip(lat, lon))\n",
    "\n",
    "# Using \"for\" loop to generate city list.\n",
    "city_list = []\n",
    "\n",
    "for lat_lon in lat_lon:\n",
    "    city = citipy.nearest_city(lat_lon[0], lat_lon[1]).city_name\n",
    "\n",
    "# Appending only non-duplicated names to the city list.\n",
    "    if city not in city_list:\n",
    "        city_list.append(city)"
   ]
  },
  {
   "cell_type": "code",
   "execution_count": 3,
   "metadata": {},
   "outputs": [
    {
     "data": {
      "text/plain": [
       "522"
      ]
     },
     "execution_count": 3,
     "metadata": {},
     "output_type": "execute_result"
    }
   ],
   "source": [
    "len(city_list)"
   ]
  },
  {
   "cell_type": "markdown",
   "metadata": {},
   "source": [
    "### Perform API Calls\n",
    "* Perform a weather check on each city using a series of successive API calls.\n",
    "* Include a print log of each city as it'sbeing processed (with the city number and city name).\n"
   ]
  },
  {
   "cell_type": "markdown",
   "metadata": {},
   "source": [
    "url = \"http://api.openweathermap.org/data/2.5/weather\"\n",
    "units = \"imperial\"\n",
    "parameters = {\n",
    "    \"q\": city_list,\n",
    "    \"appid\": weather_api_key\n",
    "}"
   ]
  },
  {
   "cell_type": "code",
   "execution_count": 4,
   "metadata": {},
   "outputs": [],
   "source": [
    "r = requests.get(\"http://api.openweathermap.org/data/2.5/weather\", params={\n",
    "        \"q\": city_list[50],\n",
    "        \"appid\": weather_api_key})"
   ]
  },
  {
   "cell_type": "code",
   "execution_count": 5,
   "metadata": {},
   "outputs": [
    {
     "data": {
      "text/plain": [
       "{'coord': {'lon': -50.01, 'lat': -24.79},\n",
       " 'weather': [{'id': 804,\n",
       "   'main': 'Clouds',\n",
       "   'description': 'overcast clouds',\n",
       "   'icon': '04d'}],\n",
       " 'base': 'stations',\n",
       " 'main': {'temp': 294.38,\n",
       "  'feels_like': 292.78,\n",
       "  'temp_min': 294.38,\n",
       "  'temp_max': 294.38,\n",
       "  'pressure': 1018,\n",
       "  'humidity': 58,\n",
       "  'sea_level': 1018,\n",
       "  'grnd_level': 908},\n",
       " 'visibility': 10000,\n",
       " 'wind': {'speed': 3.45, 'deg': 79},\n",
       " 'clouds': {'all': 100},\n",
       " 'dt': 1600705288,\n",
       " 'sys': {'country': 'BR', 'sunrise': 1600679412, 'sunset': 1600722946},\n",
       " 'timezone': -10800,\n",
       " 'id': 3466704,\n",
       " 'name': 'Castro',\n",
       " 'cod': 200}"
      ]
     },
     "execution_count": 5,
     "metadata": {},
     "output_type": "execute_result"
    }
   ],
   "source": [
    "data = r.json()\n",
    "data"
   ]
  },
  {
   "cell_type": "code",
   "execution_count": 6,
   "metadata": {},
   "outputs": [],
   "source": [
    "def extract_data(data):\n",
    "    return {\n",
    "        \"City\": data[\"name\"],\n",
    "        \"Lat\": data[\"coord\"][\"lat\"],\n",
    "        \"Lon\": data[\"coord\"][\"lon\"],\n",
    "        \"Max Temp\": data [\"main\"][\"temp_max\"],\n",
    "        \"Humidity\": data [\"main\"][\"humidity\"],\n",
    "        \"Cloudiness\": data [\"clouds\"][\"all\"],\n",
    "        \"Wind Speed\": data [\"wind\"][\"speed\"],\n",
    "        \"Country\": data[\"sys\"][\"country\"],\n",
    "        \"Date\": data[\"dt\"]\n",
    "    }\n",
    "    "
   ]
  },
  {
   "cell_type": "code",
   "execution_count": 7,
   "metadata": {},
   "outputs": [],
   "source": [
    "city_results = []"
   ]
  },
  {
   "cell_type": "code",
   "execution_count": 8,
   "metadata": {
    "collapsed": true,
    "jupyter": {
     "outputs_hidden": true
    }
   },
   "outputs": [
    {
     "name": "stdout",
     "output_type": "stream",
     "text": [
      "Beginning Data Retrieval\n",
      "----------------------------------------\n",
      "Processing Record {processing_record} | {city}\n",
      "Processing Record {processing_record} | {city}\n",
      "Processing Record {processing_record} | {city}\n",
      "Processing Record {processing_record} | {city}\n",
      "Processing Record {processing_record} | {city}\n",
      "Processing Record {processing_record} | {city}\n",
      "Processing Record {processing_record} | {city}\n",
      "Processing Record {processing_record} | {city}\n",
      "Processing Record {processing_record} | {city}\n",
      "Processing Record {processing_record} | {city}\n",
      "Processing Record {processing_record} | {city}\n",
      "Processing Record {processing_record} | {city}\n",
      "City not found. Skipping...\n",
      "Processing Record {processing_record} | {city}\n",
      "Processing Record {processing_record} | {city}\n",
      "Processing Record {processing_record} | {city}\n",
      "Processing Record {processing_record} | {city}\n",
      "Processing Record {processing_record} | {city}\n",
      "Processing Record {processing_record} | {city}\n",
      "Processing Record {processing_record} | {city}\n",
      "Processing Record {processing_record} | {city}\n",
      "Processing Record {processing_record} | {city}\n",
      "Processing Record {processing_record} | {city}\n",
      "Processing Record {processing_record} | {city}\n",
      "Processing Record {processing_record} | {city}\n",
      "Processing Record {processing_record} | {city}\n",
      "Processing Record {processing_record} | {city}\n",
      "City not found. Skipping...\n",
      "Processing Record {processing_record} | {city}\n",
      "Processing Record {processing_record} | {city}\n",
      "Processing Record {processing_record} | {city}\n",
      "City not found. Skipping...\n",
      "City not found. Skipping...\n",
      "Processing Record {processing_record} | {city}\n",
      "Processing Record {processing_record} | {city}\n",
      "Processing Record {processing_record} | {city}\n",
      "Processing Record {processing_record} | {city}\n",
      "Processing Record {processing_record} | {city}\n",
      "Processing Record {processing_record} | {city}\n",
      "Processing Record {processing_record} | {city}\n",
      "Processing Record {processing_record} | {city}\n",
      "Processing Record {processing_record} | {city}\n",
      "Processing Record {processing_record} | {city}\n",
      "Processing Record {processing_record} | {city}\n",
      "Processing Record {processing_record} | {city}\n",
      "Processing Record {processing_record} | {city}\n",
      "Processing Record {processing_record} | {city}\n",
      "Processing Record {processing_record} | {city}\n",
      "Processing Record {processing_record} | {city}\n",
      "Processing Record {processing_record} | {city}\n",
      "Processing Record {processing_record} | {city}\n",
      "City not found. Skipping...\n",
      "Processing Record {processing_record} | {city}\n",
      "Processing Record {processing_record} | {city}\n",
      "Processing Record {processing_record} | {city}\n",
      "Processing Record {processing_record} | {city}\n",
      "Processing Record {processing_record} | {city}\n",
      "Processing Record {processing_record} | {city}\n",
      "Processing Record {processing_record} | {city}\n",
      "Processing Record {processing_record} | {city}\n",
      "Processing Record {processing_record} | {city}\n",
      "City not found. Skipping...\n",
      "City not found. Skipping...\n",
      "Processing Record {processing_record} | {city}\n",
      "Processing Record {processing_record} | {city}\n",
      "Processing Record {processing_record} | {city}\n",
      "Processing Record {processing_record} | {city}\n",
      "Processing Record {processing_record} | {city}\n",
      "Processing Record {processing_record} | {city}\n",
      "Processing Record {processing_record} | {city}\n",
      "Processing Record {processing_record} | {city}\n",
      "Processing Record {processing_record} | {city}\n",
      "Processing Record {processing_record} | {city}\n",
      "Processing Record {processing_record} | {city}\n",
      "Processing Record {processing_record} | {city}\n",
      "Processing Record {processing_record} | {city}\n",
      "Processing Record {processing_record} | {city}\n",
      "Processing Record {processing_record} | {city}\n",
      "Processing Record {processing_record} | {city}\n",
      "Processing Record {processing_record} | {city}\n",
      "Processing Record {processing_record} | {city}\n",
      "Processing Record {processing_record} | {city}\n",
      "Processing Record {processing_record} | {city}\n",
      "Processing Record {processing_record} | {city}\n",
      "Processing Record {processing_record} | {city}\n",
      "Processing Record {processing_record} | {city}\n",
      "Processing Record {processing_record} | {city}\n",
      "Processing Record {processing_record} | {city}\n",
      "Processing Record {processing_record} | {city}\n",
      "Processing Record {processing_record} | {city}\n",
      "Processing Record {processing_record} | {city}\n",
      "Processing Record {processing_record} | {city}\n",
      "Processing Record {processing_record} | {city}\n",
      "City not found. Skipping...\n",
      "Processing Record {processing_record} | {city}\n",
      "Processing Record {processing_record} | {city}\n",
      "Processing Record {processing_record} | {city}\n",
      "Processing Record {processing_record} | {city}\n",
      "City not found. Skipping...\n",
      "Processing Record {processing_record} | {city}\n",
      "Processing Record {processing_record} | {city}\n",
      "Processing Record {processing_record} | {city}\n",
      "Processing Record {processing_record} | {city}\n",
      "Processing Record {processing_record} | {city}\n",
      "Processing Record {processing_record} | {city}\n",
      "Processing Record {processing_record} | {city}\n",
      "Processing Record {processing_record} | {city}\n",
      "Processing Record {processing_record} | {city}\n",
      "City not found. Skipping...\n",
      "Processing Record {processing_record} | {city}\n",
      "Processing Record {processing_record} | {city}\n",
      "Processing Record {processing_record} | {city}\n",
      "Processing Record {processing_record} | {city}\n",
      "Processing Record {processing_record} | {city}\n",
      "Processing Record {processing_record} | {city}\n",
      "Processing Record {processing_record} | {city}\n",
      "Processing Record {processing_record} | {city}\n",
      "Processing Record {processing_record} | {city}\n",
      "Processing Record {processing_record} | {city}\n",
      "Processing Record {processing_record} | {city}\n",
      "Processing Record {processing_record} | {city}\n",
      "Processing Record {processing_record} | {city}\n",
      "Processing Record {processing_record} | {city}\n",
      "Processing Record {processing_record} | {city}\n",
      "Processing Record {processing_record} | {city}\n",
      "Processing Record {processing_record} | {city}\n",
      "Processing Record {processing_record} | {city}\n",
      "Processing Record {processing_record} | {city}\n",
      "Processing Record {processing_record} | {city}\n",
      "Processing Record {processing_record} | {city}\n",
      "Processing Record {processing_record} | {city}\n",
      "Processing Record {processing_record} | {city}\n",
      "Processing Record {processing_record} | {city}\n",
      "Processing Record {processing_record} | {city}\n",
      "Processing Record {processing_record} | {city}\n",
      "Processing Record {processing_record} | {city}\n",
      "City not found. Skipping...\n",
      "Processing Record {processing_record} | {city}\n",
      "Processing Record {processing_record} | {city}\n",
      "City not found. Skipping...\n",
      "Processing Record {processing_record} | {city}\n",
      "Processing Record {processing_record} | {city}\n",
      "Processing Record {processing_record} | {city}\n",
      "Processing Record {processing_record} | {city}\n",
      "Processing Record {processing_record} | {city}\n",
      "Processing Record {processing_record} | {city}\n",
      "Processing Record {processing_record} | {city}\n",
      "Processing Record {processing_record} | {city}\n",
      "Processing Record {processing_record} | {city}\n",
      "Processing Record {processing_record} | {city}\n",
      "Processing Record {processing_record} | {city}\n",
      "Processing Record {processing_record} | {city}\n",
      "Processing Record {processing_record} | {city}\n",
      "Processing Record {processing_record} | {city}\n",
      "Processing Record {processing_record} | {city}\n",
      "Processing Record {processing_record} | {city}\n",
      "Processing Record {processing_record} | {city}\n",
      "City not found. Skipping...\n",
      "Processing Record {processing_record} | {city}\n",
      "Processing Record {processing_record} | {city}\n",
      "Processing Record {processing_record} | {city}\n",
      "Processing Record {processing_record} | {city}\n",
      "Processing Record {processing_record} | {city}\n",
      "Processing Record {processing_record} | {city}\n",
      "Processing Record {processing_record} | {city}\n",
      "Processing Record {processing_record} | {city}\n",
      "City not found. Skipping...\n",
      "Processing Record {processing_record} | {city}\n",
      "Processing Record {processing_record} | {city}\n",
      "Processing Record {processing_record} | {city}\n",
      "Processing Record {processing_record} | {city}\n",
      "Processing Record {processing_record} | {city}\n",
      "Processing Record {processing_record} | {city}\n",
      "Processing Record {processing_record} | {city}\n",
      "Processing Record {processing_record} | {city}\n",
      "Processing Record {processing_record} | {city}\n",
      "Processing Record {processing_record} | {city}\n",
      "City not found. Skipping...\n",
      "Processing Record {processing_record} | {city}\n",
      "Processing Record {processing_record} | {city}\n",
      "Processing Record {processing_record} | {city}\n",
      "Processing Record {processing_record} | {city}\n",
      "Processing Record {processing_record} | {city}\n",
      "Processing Record {processing_record} | {city}\n",
      "Processing Record {processing_record} | {city}\n",
      "Processing Record {processing_record} | {city}\n",
      "Processing Record {processing_record} | {city}\n",
      "Processing Record {processing_record} | {city}\n",
      "City not found. Skipping...\n",
      "Processing Record {processing_record} | {city}\n",
      "City not found. Skipping...\n",
      "Processing Record {processing_record} | {city}\n",
      "Processing Record {processing_record} | {city}\n",
      "Processing Record {processing_record} | {city}\n",
      "Processing Record {processing_record} | {city}\n",
      "Processing Record {processing_record} | {city}\n",
      "Processing Record {processing_record} | {city}\n",
      "Processing Record {processing_record} | {city}\n",
      "Processing Record {processing_record} | {city}\n",
      "Processing Record {processing_record} | {city}\n",
      "Processing Record {processing_record} | {city}\n",
      "Processing Record {processing_record} | {city}\n",
      "Processing Record {processing_record} | {city}\n",
      "Processing Record {processing_record} | {city}\n",
      "Processing Record {processing_record} | {city}\n",
      "Processing Record {processing_record} | {city}\n",
      "Processing Record {processing_record} | {city}\n",
      "Processing Record {processing_record} | {city}\n",
      "Processing Record {processing_record} | {city}\n",
      "Processing Record {processing_record} | {city}\n",
      "Processing Record {processing_record} | {city}\n",
      "Processing Record {processing_record} | {city}\n",
      "Processing Record {processing_record} | {city}\n",
      "Processing Record {processing_record} | {city}\n",
      "Processing Record {processing_record} | {city}\n",
      "Processing Record {processing_record} | {city}\n",
      "Processing Record {processing_record} | {city}\n",
      "Processing Record {processing_record} | {city}\n",
      "Processing Record {processing_record} | {city}\n",
      "Processing Record {processing_record} | {city}\n",
      "City not found. Skipping...\n",
      "Processing Record {processing_record} | {city}\n",
      "Processing Record {processing_record} | {city}\n",
      "Processing Record {processing_record} | {city}\n",
      "Processing Record {processing_record} | {city}\n",
      "Processing Record {processing_record} | {city}\n",
      "Processing Record {processing_record} | {city}\n",
      "Processing Record {processing_record} | {city}\n",
      "City not found. Skipping...\n",
      "Processing Record {processing_record} | {city}\n",
      "Processing Record {processing_record} | {city}\n",
      "Processing Record {processing_record} | {city}\n",
      "Processing Record {processing_record} | {city}\n",
      "Processing Record {processing_record} | {city}\n",
      "Processing Record {processing_record} | {city}\n",
      "Processing Record {processing_record} | {city}\n",
      "Processing Record {processing_record} | {city}\n",
      "Processing Record {processing_record} | {city}\n",
      "Processing Record {processing_record} | {city}\n",
      "Processing Record {processing_record} | {city}\n",
      "Processing Record {processing_record} | {city}\n",
      "Processing Record {processing_record} | {city}\n",
      "Processing Record {processing_record} | {city}\n",
      "Processing Record {processing_record} | {city}\n",
      "Processing Record {processing_record} | {city}\n",
      "City not found. Skipping...\n",
      "Processing Record {processing_record} | {city}\n",
      "Processing Record {processing_record} | {city}\n",
      "Processing Record {processing_record} | {city}\n",
      "Processing Record {processing_record} | {city}\n",
      "City not found. Skipping...\n",
      "Processing Record {processing_record} | {city}\n",
      "City not found. Skipping...\n",
      "Processing Record {processing_record} | {city}\n",
      "Processing Record {processing_record} | {city}\n",
      "Processing Record {processing_record} | {city}\n",
      "City not found. Skipping...\n",
      "Processing Record {processing_record} | {city}\n",
      "Processing Record {processing_record} | {city}\n",
      "Processing Record {processing_record} | {city}\n",
      "Processing Record {processing_record} | {city}\n",
      "Processing Record {processing_record} | {city}\n",
      "Processing Record {processing_record} | {city}\n",
      "Processing Record {processing_record} | {city}\n",
      "Processing Record {processing_record} | {city}\n",
      "Processing Record {processing_record} | {city}\n",
      "City not found. Skipping...\n",
      "Processing Record {processing_record} | {city}\n",
      "Processing Record {processing_record} | {city}\n",
      "Processing Record {processing_record} | {city}\n",
      "Processing Record {processing_record} | {city}\n",
      "Processing Record {processing_record} | {city}\n",
      "Processing Record {processing_record} | {city}\n",
      "Processing Record {processing_record} | {city}\n",
      "Processing Record {processing_record} | {city}\n",
      "Processing Record {processing_record} | {city}\n",
      "City not found. Skipping...\n",
      "Processing Record {processing_record} | {city}\n",
      "Processing Record {processing_record} | {city}\n",
      "Processing Record {processing_record} | {city}\n",
      "Processing Record {processing_record} | {city}\n",
      "Processing Record {processing_record} | {city}\n",
      "Processing Record {processing_record} | {city}\n",
      "Processing Record {processing_record} | {city}\n",
      "City not found. Skipping...\n",
      "Processing Record {processing_record} | {city}\n",
      "Processing Record {processing_record} | {city}\n",
      "Processing Record {processing_record} | {city}\n",
      "Processing Record {processing_record} | {city}\n",
      "City not found. Skipping...\n",
      "Processing Record {processing_record} | {city}\n",
      "Processing Record {processing_record} | {city}\n",
      "Processing Record {processing_record} | {city}\n",
      "Processing Record {processing_record} | {city}\n",
      "Processing Record {processing_record} | {city}\n",
      "Processing Record {processing_record} | {city}\n",
      "Processing Record {processing_record} | {city}\n",
      "Processing Record {processing_record} | {city}\n",
      "Processing Record {processing_record} | {city}\n",
      "Processing Record {processing_record} | {city}\n",
      "Processing Record {processing_record} | {city}\n",
      "Processing Record {processing_record} | {city}\n",
      "Processing Record {processing_record} | {city}\n",
      "Processing Record {processing_record} | {city}\n",
      "Processing Record {processing_record} | {city}\n",
      "Processing Record {processing_record} | {city}\n",
      "Processing Record {processing_record} | {city}\n",
      "Processing Record {processing_record} | {city}\n",
      "Processing Record {processing_record} | {city}\n",
      "Processing Record {processing_record} | {city}\n",
      "Processing Record {processing_record} | {city}\n",
      "Processing Record {processing_record} | {city}\n",
      "Processing Record {processing_record} | {city}\n",
      "Processing Record {processing_record} | {city}\n",
      "Processing Record {processing_record} | {city}\n",
      "Processing Record {processing_record} | {city}\n",
      "Processing Record {processing_record} | {city}\n",
      "Processing Record {processing_record} | {city}\n",
      "Processing Record {processing_record} | {city}\n",
      "Processing Record {processing_record} | {city}\n",
      "Processing Record {processing_record} | {city}\n",
      "Processing Record {processing_record} | {city}\n",
      "Processing Record {processing_record} | {city}\n",
      "Processing Record {processing_record} | {city}\n",
      "Processing Record {processing_record} | {city}\n",
      "Processing Record {processing_record} | {city}\n",
      "Processing Record {processing_record} | {city}\n",
      "Processing Record {processing_record} | {city}\n",
      "Processing Record {processing_record} | {city}\n",
      "Processing Record {processing_record} | {city}\n",
      "Processing Record {processing_record} | {city}\n",
      "City not found. Skipping...\n",
      "Processing Record {processing_record} | {city}\n",
      "Processing Record {processing_record} | {city}\n",
      "Processing Record {processing_record} | {city}\n",
      "Processing Record {processing_record} | {city}\n",
      "Processing Record {processing_record} | {city}\n",
      "Processing Record {processing_record} | {city}\n",
      "City not found. Skipping...\n",
      "Processing Record {processing_record} | {city}\n",
      "Processing Record {processing_record} | {city}\n",
      "Processing Record {processing_record} | {city}\n",
      "Processing Record {processing_record} | {city}\n",
      "Processing Record {processing_record} | {city}\n",
      "Processing Record {processing_record} | {city}\n",
      "Processing Record {processing_record} | {city}\n",
      "Processing Record {processing_record} | {city}\n",
      "Processing Record {processing_record} | {city}\n",
      "Processing Record {processing_record} | {city}\n",
      "Processing Record {processing_record} | {city}\n",
      "Processing Record {processing_record} | {city}\n",
      "Processing Record {processing_record} | {city}\n",
      "Processing Record {processing_record} | {city}\n",
      "Processing Record {processing_record} | {city}\n",
      "Processing Record {processing_record} | {city}\n",
      "Processing Record {processing_record} | {city}\n",
      "Processing Record {processing_record} | {city}\n",
      "Processing Record {processing_record} | {city}\n",
      "Processing Record {processing_record} | {city}\n",
      "Processing Record {processing_record} | {city}\n",
      "Processing Record {processing_record} | {city}\n",
      "Processing Record {processing_record} | {city}\n",
      "Processing Record {processing_record} | {city}\n",
      "Processing Record {processing_record} | {city}\n",
      "Processing Record {processing_record} | {city}\n",
      "Processing Record {processing_record} | {city}\n",
      "Processing Record {processing_record} | {city}\n",
      "Processing Record {processing_record} | {city}\n",
      "City not found. Skipping...\n",
      "Processing Record {processing_record} | {city}\n",
      "Processing Record {processing_record} | {city}\n",
      "Processing Record {processing_record} | {city}\n",
      "Processing Record {processing_record} | {city}\n",
      "Processing Record {processing_record} | {city}\n",
      "Processing Record {processing_record} | {city}\n",
      "Processing Record {processing_record} | {city}\n",
      "Processing Record {processing_record} | {city}\n",
      "Processing Record {processing_record} | {city}\n",
      "Processing Record {processing_record} | {city}\n",
      "Processing Record {processing_record} | {city}\n",
      "Processing Record {processing_record} | {city}\n",
      "Processing Record {processing_record} | {city}\n",
      "City not found. Skipping...\n",
      "Processing Record {processing_record} | {city}\n",
      "Processing Record {processing_record} | {city}\n",
      "Processing Record {processing_record} | {city}\n",
      "Processing Record {processing_record} | {city}\n",
      "Processing Record {processing_record} | {city}\n",
      "Processing Record {processing_record} | {city}\n",
      "Processing Record {processing_record} | {city}\n",
      "Processing Record {processing_record} | {city}\n",
      "Processing Record {processing_record} | {city}\n",
      "Processing Record {processing_record} | {city}\n",
      "Processing Record {processing_record} | {city}\n",
      "Processing Record {processing_record} | {city}\n",
      "Processing Record {processing_record} | {city}\n",
      "Processing Record {processing_record} | {city}\n",
      "Processing Record {processing_record} | {city}\n",
      "Processing Record {processing_record} | {city}\n",
      "Processing Record {processing_record} | {city}\n",
      "Processing Record {processing_record} | {city}\n",
      "Processing Record {processing_record} | {city}\n",
      "City not found. Skipping...\n",
      "Processing Record {processing_record} | {city}\n",
      "Processing Record {processing_record} | {city}\n",
      "Processing Record {processing_record} | {city}\n",
      "Processing Record {processing_record} | {city}\n",
      "Processing Record {processing_record} | {city}\n",
      "Processing Record {processing_record} | {city}\n",
      "Processing Record {processing_record} | {city}\n",
      "Processing Record {processing_record} | {city}\n",
      "Processing Record {processing_record} | {city}\n",
      "Processing Record {processing_record} | {city}\n",
      "Processing Record {processing_record} | {city}\n",
      "Processing Record {processing_record} | {city}\n",
      "Processing Record {processing_record} | {city}\n",
      "Processing Record {processing_record} | {city}\n",
      "Processing Record {processing_record} | {city}\n",
      "Processing Record {processing_record} | {city}\n",
      "Processing Record {processing_record} | {city}\n",
      "City not found. Skipping...\n",
      "Processing Record {processing_record} | {city}\n",
      "Processing Record {processing_record} | {city}\n",
      "Processing Record {processing_record} | {city}\n",
      "Processing Record {processing_record} | {city}\n",
      "Processing Record {processing_record} | {city}\n",
      "Processing Record {processing_record} | {city}\n",
      "Processing Record {processing_record} | {city}\n",
      "Processing Record {processing_record} | {city}\n",
      "Processing Record {processing_record} | {city}\n",
      "City not found. Skipping...\n",
      "Processing Record {processing_record} | {city}\n",
      "Processing Record {processing_record} | {city}\n",
      "City not found. Skipping...\n",
      "Processing Record {processing_record} | {city}\n",
      "Processing Record {processing_record} | {city}\n",
      "Processing Record {processing_record} | {city}\n",
      "Processing Record {processing_record} | {city}\n",
      "Processing Record {processing_record} | {city}\n",
      "City not found. Skipping...\n",
      "Processing Record {processing_record} | {city}\n",
      "Processing Record {processing_record} | {city}\n",
      "Processing Record {processing_record} | {city}\n",
      "Processing Record {processing_record} | {city}\n",
      "Processing Record {processing_record} | {city}\n",
      "Processing Record {processing_record} | {city}\n",
      "Processing Record {processing_record} | {city}\n",
      "Processing Record {processing_record} | {city}\n",
      "Processing Record {processing_record} | {city}\n",
      "Processing Record {processing_record} | {city}\n",
      "Processing Record {processing_record} | {city}\n",
      "Processing Record {processing_record} | {city}\n",
      "Processing Record {processing_record} | {city}\n",
      "Processing Record {processing_record} | {city}\n",
      "Processing Record {processing_record} | {city}\n",
      "Processing Record {processing_record} | {city}\n",
      "Processing Record {processing_record} | {city}\n",
      "Processing Record {processing_record} | {city}\n",
      "Processing Record {processing_record} | {city}\n",
      "Processing Record {processing_record} | {city}\n",
      "Processing Record {processing_record} | {city}\n",
      "Processing Record {processing_record} | {city}\n",
      "Processing Record {processing_record} | {city}\n",
      "Processing Record {processing_record} | {city}\n",
      "Processing Record {processing_record} | {city}\n",
      "Processing Record {processing_record} | {city}\n",
      "Processing Record {processing_record} | {city}\n",
      "Processing Record {processing_record} | {city}\n",
      "Processing Record {processing_record} | {city}\n",
      "Processing Record {processing_record} | {city}\n",
      "Processing Record {processing_record} | {city}\n",
      "Processing Record {processing_record} | {city}\n",
      "City not found. Skipping...\n",
      "Processing Record {processing_record} | {city}\n",
      "Processing Record {processing_record} | {city}\n",
      "Processing Record {processing_record} | {city}\n",
      "Processing Record {processing_record} | {city}\n",
      "Processing Record {processing_record} | {city}\n",
      "Processing Record {processing_record} | {city}\n",
      "Processing Record {processing_record} | {city}\n",
      "Processing Record {processing_record} | {city}\n",
      "Processing Record {processing_record} | {city}\n",
      "Processing Record {processing_record} | {city}\n",
      "Processing Record {processing_record} | {city}\n",
      "Processing Record {processing_record} | {city}\n",
      "Processing Record {processing_record} | {city}\n",
      "Processing Record {processing_record} | {city}\n",
      "Processing Record {processing_record} | {city}\n",
      "Processing Record {processing_record} | {city}\n",
      "Processing Record {processing_record} | {city}\n",
      "Processing Record {processing_record} | {city}\n",
      "Processing Record {processing_record} | {city}\n",
      "City not found. Skipping...\n",
      "Processing Record {processing_record} | {city}\n",
      "Processing Record {processing_record} | {city}\n",
      "Processing Record {processing_record} | {city}\n",
      "Processing Record {processing_record} | {city}\n",
      "Processing Record {processing_record} | {city}\n",
      "Processing Record {processing_record} | {city}\n",
      "Processing Record {processing_record} | {city}\n",
      "Processing Record {processing_record} | {city}\n",
      "Processing Record {processing_record} | {city}\n",
      "Processing Record {processing_record} | {city}\n",
      "Processing Record {processing_record} | {city}\n",
      "Processing Record {processing_record} | {city}\n",
      "Processing Record {processing_record} | {city}\n",
      "Processing Record {processing_record} | {city}\n",
      "Processing Record {processing_record} | {city}\n",
      "Processing Record {processing_record} | {city}\n",
      "Processing Record {processing_record} | {city}\n",
      "Processing Record {processing_record} | {city}\n",
      "Processing Record {processing_record} | {city}\n",
      "Processing Record {processing_record} | {city}\n",
      "Processing Record {processing_record} | {city}\n",
      "Processing Record {processing_record} | {city}\n",
      "City not found. Skipping...\n",
      "Processing Record {processing_record} | {city}\n",
      "Processing Record {processing_record} | {city}\n",
      "Processing Record {processing_record} | {city}\n",
      "Processing Record {processing_record} | {city}\n",
      "City not found. Skipping...\n",
      "Processing Record {processing_record} | {city}\n",
      "----------------------------------------\n",
      "Data Retrieval Complete\n",
      "----------------------------------------\n"
     ]
    }
   ],
   "source": [
    "# Record counter starts at 1\n",
    "processing_record = 1\n",
    "\n",
    "print(\"Beginning Data Retrieval\")\n",
    "print(\"----------------------------------------\")\n",
    "\n",
    "for city in city_list:\n",
    "      \n",
    "    try:\n",
    "        data = requests.get(\"http://api.openweathermap.org/data/2.5/weather\", params={\n",
    "        \"q\": city,\n",
    "        \"appid\": weather_api_key, \n",
    "        \"units\": \"imperial\"\n",
    "        }).json()\n",
    "        \n",
    "        city_result = extract_data(data)\n",
    "        city_results.append(city_result)\n",
    "        \n",
    "        processing_record += 1\n",
    "    \n",
    "        print(\"Processing Record {processing_record} | {city}\")\n",
    "                            \n",
    "    except:\n",
    "        print(\"City not found. Skipping...\")\n",
    "    continue\n",
    "    \n",
    "print(\"----------------------------------------\")\n",
    "print(\"Data Retrieval Complete\")\n",
    "print(\"----------------------------------------\")\n",
    "    "
   ]
  },
  {
   "cell_type": "code",
   "execution_count": 28,
   "metadata": {},
   "outputs": [],
   "source": [
    "df = pd.DataFrame(city_results)"
   ]
  },
  {
   "cell_type": "markdown",
   "metadata": {},
   "source": [
    "### Creating Scatter Plot to showcase the relation ship between Max Temperature and Latitude"
   ]
  },
  {
   "cell_type": "code",
   "execution_count": 10,
   "metadata": {},
   "outputs": [],
   "source": [
    "# Converting data in DataFrame so that it can be used to define the X and y value needed for the scatter plot.\n",
    "X = df[\"Lat\"].values\n",
    "y = df[\"Max Temp\"].values"
   ]
  },
  {
   "cell_type": "code",
   "execution_count": 11,
   "metadata": {},
   "outputs": [
    {
     "data": {
      "text/plain": [
       "<function matplotlib.pyplot.show(close=None, block=None)>"
      ]
     },
     "execution_count": 11,
     "metadata": {},
     "output_type": "execute_result"
    },
    {
     "data": {
      "image/png": "[encoded data removed]",
      "text/plain": [
       "<Figure size 432x288 with 1 Axes>"
      ]
     },
     "metadata": {
      "needs_background": "light"
     },
     "output_type": "display_data"
    }
   ],
   "source": [
    "plt.title(\"City Latitude vs. Max Temperature (09/21/2020)\")\n",
    "plt.xlabel(\"Latitude\")\n",
    "plt.ylabel(\"Max Temperature (F)\")\n",
    "plt.grid()\n",
    "plt.scatter(X,y)\n",
    "plt.show"
   ]
  },
  {
   "cell_type": "markdown",
   "metadata": {},
   "source": [
    "Here we are examining the relationship between a city's latitude and it's maximum temperature. As you can see, as a city's latitude has a clear relationship to it's max temperature as we would expect. Temperatures appear to be higher the closer they are to the equator, (0) degrees latitude."
   ]
  },
  {
   "cell_type": "markdown",
   "metadata": {},
   "source": [
    "### Creating Scatter Plot to showcase the relationship between Humidity and Latitude "
   ]
  },
  {
   "cell_type": "code",
   "execution_count": 12,
   "metadata": {},
   "outputs": [],
   "source": [
    "X = df[\"Lat\"].values\n",
    "y = df[\"Humidity\"].values"
   ]
  },
  {
   "cell_type": "code",
   "execution_count": 13,
   "metadata": {},
   "outputs": [
    {
     "data": {
      "text/plain": [
       "<function matplotlib.pyplot.show(close=None, block=None)>"
      ]
     },
     "execution_count": 13,
     "metadata": {},
     "output_type": "execute_result"
    },
    {
     "data": {
      "image/png": "[encoded data removed]",
      "text/plain": [
       "<Figure size 432x288 with 1 Axes>"
      ]
     },
     "metadata": {
      "needs_background": "light"
     },
     "output_type": "display_data"
    }
   ],
   "source": [
    "plt.title(\"City Latitude vs. Humidity (09/21/2020)\")\n",
    "plt.xlabel(\"Latitude\")\n",
    "plt.ylabel(\"Humidity (%)\")\n",
    "plt.grid()\n",
    "plt.scatter(X,y)\n",
    "plt.show"
   ]
  },
  {
   "cell_type": "markdown",
   "metadata": {},
   "source": [
    "This scatter plot is displaying the relationship between a city's latitude and it's humidity levels. There does not appear to be a clear relationship between cities with higher humidities and their latitude based on the plot. However, there does appear to be an indication that many cities that lie between around -30 degrees and 35 degrees latitude have lower humidity levels. There are basically no cities outside of that range that have humidity levels below 20%."
   ]
  },
  {
   "cell_type": "code",
   "execution_count": 16,
   "metadata": {},
   "outputs": [],
   "source": [
    "X = df[\"Lat\"].values\n",
    "y = df[\"Cloudiness\"].values"
   ]
  },
  {
   "cell_type": "code",
   "execution_count": 17,
   "metadata": {},
   "outputs": [
    {
     "data": {
      "text/plain": [
       "<function matplotlib.pyplot.show(close=None, block=None)>"
      ]
     },
     "execution_count": 17,
     "metadata": {},
     "output_type": "execute_result"
    },
    {
     "data": {
      "image/png": "[encoded data removed]",
      "text/plain": [
       "<Figure size 432x288 with 1 Axes>"
      ]
     },
     "metadata": {
      "needs_background": "light"
     },
     "output_type": "display_data"
    }
   ],
   "source": [
    "plt.title(\"City Latitude vs. Cloudiness (09/21/2020)\")\n",
    "plt.xlabel(\"Latitude\")\n",
    "plt.ylabel(\"Cloudiness (%)\")\n",
    "plt.grid()\n",
    "plt.scatter(X,y)\n",
    "plt.show"
   ]
  },
  {
   "cell_type": "markdown",
   "metadata": {},
   "source": [
    "This scatter plot showcases the relationship between a cities latitude and its cloud cover. Latitude does not appear to be a major impactor of a city's cloud cover. Cities with high, medium and low cloud cover appear to be evenly distributed across all latitudes."
   ]
  },
  {
   "cell_type": "code",
   "execution_count": 19,
   "metadata": {},
   "outputs": [],
   "source": [
    "X = df[\"Lat\"].values\n",
    "y = df[\"Wind Speed\"].values"
   ]
  },
  {
   "cell_type": "code",
   "execution_count": 20,
   "metadata": {},
   "outputs": [
    {
     "data": {
      "text/plain": [
       "<function matplotlib.pyplot.show(close=None, block=None)>"
      ]
     },
     "execution_count": 20,
     "metadata": {},
     "output_type": "execute_result"
    },
    {
     "data": {
      "image/png": "[encoded data removed]",
      "text/plain": [
       "<Figure size 432x288 with 1 Axes>"
      ]
     },
     "metadata": {
      "needs_background": "light"
     },
     "output_type": "display_data"
    }
   ],
   "source": [
    "plt.title(\"City Latitude vs. Wind Speed (09/21/2020)\")\n",
    "plt.xlabel(\"Latitude\")\n",
    "plt.ylabel(\"Wind Speed (mph)\")\n",
    "plt.grid()\n",
    "plt.scatter(X,y)\n",
    "plt.show"
   ]
  },
  {
   "cell_type": "markdown",
   "metadata": {},
   "source": [
    "With this plot, we can see that there is perhaps a small relationship between a city's latitude and it wind speed. Although wind speed does appear to be rather equally distibuted, we do see that cities further away from the equator have the potential for higher wind speeds. If you'll notice, there are a slightly higher number of cities with latitudes further away from the equator reporting higher windspeeds."
   ]
  },
  {
   "cell_type": "markdown",
   "metadata": {},
   "source": [
    "## Part II: Linear Regression"
   ]
  },
  {
   "cell_type": "markdown",
   "metadata": {},
   "source": [
    "### Temperature (F) vs. Latitude (Northern and Southern Hemisphere)"
   ]
  },
  {
   "cell_type": "code",
   "execution_count": 61,
   "metadata": {},
   "outputs": [],
   "source": [
    "# Created dataframe to display only those cities located in the Northern Hemisphere\n",
    "NH_df = df[df.Lat > 0]"
   ]
  },
  {
   "cell_type": "code",
   "execution_count": 80,
   "metadata": {},
   "outputs": [],
   "source": [
    "# Converting the NH_df data so that it can be used to create scatter plots andn perform linear regression.\n",
    "X = NH_df[\"Lat\"].values\n",
    "X_array = [[e] for e in X]\n",
    "y = NH_df[\"Max Temp\"].values"
   ]
  },
  {
   "cell_type": "code",
   "execution_count": 62,
   "metadata": {},
   "outputs": [
    {
     "data": {
      "text/plain": [
       "LinearRegression()"
      ]
     },
     "execution_count": 62,
     "metadata": {},
     "output_type": "execute_result"
    }
   ],
   "source": [
    "#Setting up linear regression model.\n",
    "model = LinearRegression()\n",
    "model.fit(X_array, y)"
   ]
  },
  {
   "cell_type": "code",
   "execution_count": 47,
   "metadata": {},
   "outputs": [
    {
     "data": {
      "text/plain": [
       "-0.7517339175126497"
      ]
     },
     "execution_count": 47,
     "metadata": {},
     "output_type": "execute_result"
    }
   ],
   "source": [
    "slope = model.coef_[0]\n",
    "slope"
   ]
  },
  {
   "cell_type": "code",
   "execution_count": 48,
   "metadata": {},
   "outputs": [
    {
     "data": {
      "text/plain": [
       "93.95103079428735"
      ]
     },
     "execution_count": 48,
     "metadata": {},
     "output_type": "execute_result"
    }
   ],
   "source": [
    "intercept = model.intercept_\n",
    "intercept"
   ]
  },
  {
   "cell_type": "code",
   "execution_count": 49,
   "metadata": {},
   "outputs": [
    {
     "data": {
      "text/plain": [
       "0.7109812364217741"
      ]
     },
     "execution_count": 49,
     "metadata": {},
     "output_type": "execute_result"
    }
   ],
   "source": [
    "r_squared = model.score(X_array, y)\n",
    "r_squared"
   ]
  },
  {
   "cell_type": "code",
   "execution_count": 50,
   "metadata": {},
   "outputs": [],
   "source": [
    "def predict_function(max_temp):\n",
    "    return model.predict([[max_temp]])[0]"
   ]
  },
  {
   "cell_type": "code",
   "execution_count": 51,
   "metadata": {},
   "outputs": [],
   "source": [
    "max_temp_range = np.arange(min(X), max(X), 0.001)\n",
    "predict_max_temp = [predict_function(e) for e in max_temp_range]"
   ]
  },
  {
   "cell_type": "code",
   "execution_count": 74,
   "metadata": {},
   "outputs": [],
   "source": [
    "# Variables used for creating text labels on plot\n",
    "formula = f\"y = {round(intercept, 3)} + {round(slope, 3)}x\"\n",
    "r_squared_str = f\"$R^{2}$={round(r_squared, 3)}\""
   ]
  },
  {
   "cell_type": "code",
   "execution_count": 63,
   "metadata": {},
   "outputs": [
    {
     "data": {
      "text/plain": [
       "<function matplotlib.pyplot.show(close=None, block=None)>"
      ]
     },
     "execution_count": 63,
     "metadata": {},
     "output_type": "execute_result"
    },
    {
     "data": {
      "image/png": "[encoded data removed]",
      "text/plain": [
       "<Figure size 432x288 with 1 Axes>"
      ]
     },
     "metadata": {
      "needs_background": "light"
     },
     "output_type": "display_data"
    }
   ],
   "source": [
    "plt.title(\"NH City Latitude vs. Max Temperature (09/21/2020)\")\n",
    "plt.xlabel(\"Latitude\")\n",
    "plt.ylabel(\"Max Temperature (F)\")\n",
    "plt.grid()\n",
    "plt.scatter(X,y)\n",
    "plt.plot(max_temp_range, predict_max_temp, color=\"red\")\n",
    "plt.text(5,35, formula, color=\"red\")\n",
    "plt.text(5,28, r_squared_str, color=\"red\")\n",
    "plt.show"
   ]
  },
  {
   "cell_type": "code",
   "execution_count": 81,
   "metadata": {},
   "outputs": [],
   "source": [
    "# Created dataframe to display only those cities located in the Northern Hemisphere\n",
    "SH_df = df[df.Lat < 0]"
   ]
  },
  {
   "cell_type": "code",
   "execution_count": 82,
   "metadata": {},
   "outputs": [],
   "source": [
    "# Converting the SH_df data so that it can be used to create scatter plots andn perform linear regression.\n",
    "X = SH_df[\"Lat\"].values\n",
    "X_array = [[e] for e in X]\n",
    "y = SH_df[\"Max Temp\"].values"
   ]
  },
  {
   "cell_type": "code",
   "execution_count": 83,
   "metadata": {},
   "outputs": [
    {
     "data": {
      "text/plain": [
       "LinearRegression()"
      ]
     },
     "execution_count": 83,
     "metadata": {},
     "output_type": "execute_result"
    }
   ],
   "source": [
    "#Setting up linear regression model.\n",
    "model = LinearRegression()\n",
    "model.fit(X_array, y)"
   ]
  },
  {
   "cell_type": "code",
   "execution_count": 84,
   "metadata": {},
   "outputs": [
    {
     "data": {
      "text/plain": [
       "0.7629750516619533"
      ]
     },
     "execution_count": 84,
     "metadata": {},
     "output_type": "execute_result"
    }
   ],
   "source": [
    "slope = model.coef_[0]\n",
    "slope"
   ]
  },
  {
   "cell_type": "code",
   "execution_count": 85,
   "metadata": {},
   "outputs": [
    {
     "data": {
      "text/plain": [
       "86.77172718082404"
      ]
     },
     "execution_count": 85,
     "metadata": {},
     "output_type": "execute_result"
    }
   ],
   "source": [
    "intercept = model.intercept_\n",
    "intercept"
   ]
  },
  {
   "cell_type": "code",
   "execution_count": 87,
   "metadata": {},
   "outputs": [
    {
     "data": {
      "text/plain": [
       "0.679351571085498"
      ]
     },
     "execution_count": 87,
     "metadata": {},
     "output_type": "execute_result"
    }
   ],
   "source": [
    "r_squared = model.score(X_array, y)\n",
    "r_squared"
   ]
  },
  {
   "cell_type": "code",
   "execution_count": 88,
   "metadata": {},
   "outputs": [],
   "source": [
    "def predict_function(max_temp):\n",
    "    return model.predict([[max_temp]])[0]"
   ]
  },
  {
   "cell_type": "code",
   "execution_count": 89,
   "metadata": {},
   "outputs": [],
   "source": [
    "max_temp_range = np.arange(min(X), max(X), 0.001)\n",
    "predict_max_temp = [predict_function(e) for e in max_temp_range]"
   ]
  },
  {
   "cell_type": "code",
   "execution_count": 90,
   "metadata": {},
   "outputs": [],
   "source": [
    "# Variables used for creating text labels on plot\n",
    "formula = f\"y = {round(intercept, 3)} + {round(slope, 3)}x\"\n",
    "r_squared_str = f\"$R^{2}$={round(r_squared, 3)}\""
   ]
  },
  {
   "cell_type": "code",
   "execution_count": 93,
   "metadata": {},
   "outputs": [
    {
     "data": {
      "text/plain": [
       "<function matplotlib.pyplot.show(close=None, block=None)>"
      ]
     },
     "execution_count": 93,
     "metadata": {},
     "output_type": "execute_result"
    },
    {
     "data": {
      "image/png": "[encoded data removed]",
      "text/plain": [
       "<Figure size 432x288 with 1 Axes>"
      ]
     },
     "metadata": {
      "needs_background": "light"
     },
     "output_type": "display_data"
    }
   ],
   "source": [
    "plt.title(\"SH City Latitude vs. Max Temperature (09/21/2020)\")\n",
    "plt.xlabel(\"Latitude\")\n",
    "plt.ylabel(\"Max Temperature (F)\")\n",
    "plt.grid()\n",
    "plt.scatter(X,y)\n",
    "plt.plot(max_temp_range, predict_max_temp, color=\"red\")\n",
    "plt.text(-55,97, formula, color=\"red\")\n",
    "plt.text(-55,90, r_squared_str, color=\"red\")\n",
    "plt.show"
   ]
  },
  {
   "cell_type": "code",
   "execution_count": null,
   "metadata": {},
   "outputs": [],
   "source": []
  }
 ],
 "metadata": {
  "environment": {
   "name": "common-cpu.m54",
   "type": "gcloud",
   "uri": "gcr.io/deeplearning-platform-release/base-cpu:m54"
  },
  "kernelspec": {
   "display_name": "Python 3",
   "language": "python",
   "name": "python3"
  },
  "language_info": {
   "codemirror_mode": {
    "name": "ipython",
    "version": 3
   },
   "file_extension": ".py",
   "mimetype": "text/x-python",
   "name": "python",
   "nbconvert_exporter": "python",
   "pygments_lexer": "ipython3",
   "version": "3.7.8"
  }
 },
 "nbformat": 4,
 "nbformat_minor": 4
}
