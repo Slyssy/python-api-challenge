{
 "cells": [
  {
   "cell_type": "code",
   "execution_count": 1,
   "metadata": {},
   "outputs": [],
   "source": [
    "%load_ext lab_black\n",
    "import pandas as pd\n",
    "import json\n",
    "import requests\n",
    "import numpy as np\n",
    "\n",
    "from config import g_key\n",
    "from config import mapbox_token\n",
    "\n",
    "import plotly.express as px"
   ]
  },
  {
   "cell_type": "markdown",
   "metadata": {},
   "source": [
    "# Part II : VacationPy\n",
    "----\n"
   ]
  },
  {
   "cell_type": "markdown",
   "metadata": {},
   "source": [
    "## Loading in CSV"
   ]
  },
  {
   "cell_type": "code",
   "execution_count": 2,
   "metadata": {},
   "outputs": [
    {
     "data": {
      "text/html": [
       "<div>\n",
       "<style scoped>\n",
       "    .dataframe tbody tr th:only-of-type {\n",
       "        vertical-align: middle;\n",
       "    }\n",
       "\n",
       "    .dataframe tbody tr th {\n",
       "        vertical-align: top;\n",
       "    }\n",
       "\n",
       "    .dataframe thead th {\n",
       "        text-align: right;\n",
       "    }\n",
       "</style>\n",
       "<table border=\"1\" class=\"dataframe\">\n",
       "  <thead>\n",
       "    <tr style=\"text-align: right;\">\n",
       "      <th></th>\n",
       "      <th>Unnamed: 0</th>\n",
       "      <th>City</th>\n",
       "      <th>Lat</th>\n",
       "      <th>Lon</th>\n",
       "      <th>Max Temp</th>\n",
       "      <th>Humidity</th>\n",
       "      <th>Cloudiness</th>\n",
       "      <th>Wind Speed</th>\n",
       "      <th>Country</th>\n",
       "      <th>Date</th>\n",
       "    </tr>\n",
       "  </thead>\n",
       "  <tbody>\n",
       "    <tr>\n",
       "      <th>0</th>\n",
       "      <td>0</td>\n",
       "      <td>Bambous Virieux</td>\n",
       "      <td>-20.34</td>\n",
       "      <td>57.76</td>\n",
       "      <td>75.2</td>\n",
       "      <td>60</td>\n",
       "      <td>40</td>\n",
       "      <td>6.93</td>\n",
       "      <td>MU</td>\n",
       "      <td>1600869990</td>\n",
       "    </tr>\n",
       "    <tr>\n",
       "      <th>1</th>\n",
       "      <td>1</td>\n",
       "      <td>Barrow</td>\n",
       "      <td>71.29</td>\n",
       "      <td>-156.79</td>\n",
       "      <td>30.2</td>\n",
       "      <td>68</td>\n",
       "      <td>90</td>\n",
       "      <td>6.93</td>\n",
       "      <td>US</td>\n",
       "      <td>1600869902</td>\n",
       "    </tr>\n",
       "  </tbody>\n",
       "</table>\n",
       "</div>"
      ],
      "text/plain": [
       "   Unnamed: 0             City    Lat     Lon  Max Temp  Humidity  Cloudiness  \\\n",
       "0           0  Bambous Virieux -20.34   57.76      75.2        60          40   \n",
       "1           1           Barrow  71.29 -156.79      30.2        68          90   \n",
       "\n",
       "   Wind Speed Country        Date  \n",
       "0        6.93      MU  1600869990  \n",
       "1        6.93      US  1600869902  "
      ]
     },
     "execution_count": 2,
     "metadata": {},
     "output_type": "execute_result"
    }
   ],
   "source": [
    "city_data_to_load = \"Resources/city_result.csv\"\n",
    "\n",
    "city_data = pd.read_csv(city_data_to_load)\n",
    "df = city_data\n",
    "df.head(2)"
   ]
  },
  {
   "cell_type": "code",
   "execution_count": 3,
   "metadata": {},
   "outputs": [
    {
     "data": {
      "text/html": [
       "<div>\n",
       "<style scoped>\n",
       "    .dataframe tbody tr th:only-of-type {\n",
       "        vertical-align: middle;\n",
       "    }\n",
       "\n",
       "    .dataframe tbody tr th {\n",
       "        vertical-align: top;\n",
       "    }\n",
       "\n",
       "    .dataframe thead th {\n",
       "        text-align: right;\n",
       "    }\n",
       "</style>\n",
       "<table border=\"1\" class=\"dataframe\">\n",
       "  <thead>\n",
       "    <tr style=\"text-align: right;\">\n",
       "      <th></th>\n",
       "      <th>Unnamed: 0</th>\n",
       "      <th>City</th>\n",
       "      <th>Lat</th>\n",
       "      <th>Lon</th>\n",
       "      <th>Max Temp</th>\n",
       "      <th>Humidity</th>\n",
       "      <th>Cloudiness</th>\n",
       "      <th>Wind Speed</th>\n",
       "      <th>Country</th>\n",
       "      <th>Date</th>\n",
       "      <th>Lat_Lon</th>\n",
       "    </tr>\n",
       "  </thead>\n",
       "  <tbody>\n",
       "    <tr>\n",
       "      <th>0</th>\n",
       "      <td>0</td>\n",
       "      <td>Bambous Virieux</td>\n",
       "      <td>-20.34</td>\n",
       "      <td>57.76</td>\n",
       "      <td>75.2</td>\n",
       "      <td>60</td>\n",
       "      <td>40</td>\n",
       "      <td>6.93</td>\n",
       "      <td>MU</td>\n",
       "      <td>1600869990</td>\n",
       "      <td>-20.34,57.76</td>\n",
       "    </tr>\n",
       "    <tr>\n",
       "      <th>1</th>\n",
       "      <td>1</td>\n",
       "      <td>Barrow</td>\n",
       "      <td>71.29</td>\n",
       "      <td>-156.79</td>\n",
       "      <td>30.2</td>\n",
       "      <td>68</td>\n",
       "      <td>90</td>\n",
       "      <td>6.93</td>\n",
       "      <td>US</td>\n",
       "      <td>1600869902</td>\n",
       "      <td>71.29,-156.79</td>\n",
       "    </tr>\n",
       "  </tbody>\n",
       "</table>\n",
       "</div>"
      ],
      "text/plain": [
       "   Unnamed: 0             City    Lat     Lon  Max Temp  Humidity  Cloudiness  \\\n",
       "0           0  Bambous Virieux -20.34   57.76      75.2        60          40   \n",
       "1           1           Barrow  71.29 -156.79      30.2        68          90   \n",
       "\n",
       "   Wind Speed Country        Date        Lat_Lon  \n",
       "0        6.93      MU  1600869990   -20.34,57.76  \n",
       "1        6.93      US  1600869902  71.29,-156.79  "
      ]
     },
     "execution_count": 3,
     "metadata": {},
     "output_type": "execute_result"
    }
   ],
   "source": [
    "# Adding a new column to the DataFrame that will house the Lat and Lon together as a string.\n",
    "\n",
    "df[\"Lat_Lon\"] = df[\"Lat\"].astype(str) + \",\" + df[\"Lon\"].astype(str)\n",
    "df.head(2)"
   ]
  },
  {
   "cell_type": "code",
   "execution_count": 4,
   "metadata": {},
   "outputs": [],
   "source": [
    "# Dropping unnecessary columns.\n",
    "df.drop(columns=[\"Unnamed: 0\", \"Date\"], inplace=True)"
   ]
  },
  {
   "cell_type": "code",
   "execution_count": 22,
   "metadata": {},
   "outputs": [
    {
     "data": {
      "text/html": [
       "<div>\n",
       "<style scoped>\n",
       "    .dataframe tbody tr th:only-of-type {\n",
       "        vertical-align: middle;\n",
       "    }\n",
       "\n",
       "    .dataframe tbody tr th {\n",
       "        vertical-align: top;\n",
       "    }\n",
       "\n",
       "    .dataframe thead th {\n",
       "        text-align: right;\n",
       "    }\n",
       "</style>\n",
       "<table border=\"1\" class=\"dataframe\">\n",
       "  <thead>\n",
       "    <tr style=\"text-align: right;\">\n",
       "      <th></th>\n",
       "      <th>City</th>\n",
       "      <th>Lat</th>\n",
       "      <th>Lon</th>\n",
       "      <th>Max Temp</th>\n",
       "      <th>Humidity</th>\n",
       "      <th>Cloudiness</th>\n",
       "      <th>Wind Speed</th>\n",
       "      <th>Country</th>\n",
       "      <th>Lat_Lon</th>\n",
       "    </tr>\n",
       "  </thead>\n",
       "  <tbody>\n",
       "    <tr>\n",
       "      <th>7</th>\n",
       "      <td>Rikitea</td>\n",
       "      <td>-23.12</td>\n",
       "      <td>-134.97</td>\n",
       "      <td>71.92</td>\n",
       "      <td>73</td>\n",
       "      <td>1</td>\n",
       "      <td>13.85</td>\n",
       "      <td>PF</td>\n",
       "      <td>-23.12,-134.97</td>\n",
       "    </tr>\n",
       "    <tr>\n",
       "      <th>26</th>\n",
       "      <td>Jamestown</td>\n",
       "      <td>42.10</td>\n",
       "      <td>-79.24</td>\n",
       "      <td>60.01</td>\n",
       "      <td>81</td>\n",
       "      <td>1</td>\n",
       "      <td>8.14</td>\n",
       "      <td>US</td>\n",
       "      <td>42.1,-79.24</td>\n",
       "    </tr>\n",
       "    <tr>\n",
       "      <th>29</th>\n",
       "      <td>Faanui</td>\n",
       "      <td>-16.48</td>\n",
       "      <td>-151.75</td>\n",
       "      <td>78.75</td>\n",
       "      <td>79</td>\n",
       "      <td>4</td>\n",
       "      <td>16.26</td>\n",
       "      <td>PF</td>\n",
       "      <td>-16.48,-151.75</td>\n",
       "    </tr>\n",
       "    <tr>\n",
       "      <th>60</th>\n",
       "      <td>Bethel</td>\n",
       "      <td>41.37</td>\n",
       "      <td>-73.41</td>\n",
       "      <td>60.01</td>\n",
       "      <td>67</td>\n",
       "      <td>1</td>\n",
       "      <td>4.70</td>\n",
       "      <td>US</td>\n",
       "      <td>41.37,-73.41</td>\n",
       "    </tr>\n",
       "    <tr>\n",
       "      <th>77</th>\n",
       "      <td>Taltal</td>\n",
       "      <td>-25.40</td>\n",
       "      <td>-70.48</td>\n",
       "      <td>62.15</td>\n",
       "      <td>61</td>\n",
       "      <td>26</td>\n",
       "      <td>4.94</td>\n",
       "      <td>CL</td>\n",
       "      <td>-25.4,-70.48</td>\n",
       "    </tr>\n",
       "    <tr>\n",
       "      <th>100</th>\n",
       "      <td>São Pedro do Sul</td>\n",
       "      <td>-29.62</td>\n",
       "      <td>-54.18</td>\n",
       "      <td>62.60</td>\n",
       "      <td>72</td>\n",
       "      <td>0</td>\n",
       "      <td>5.82</td>\n",
       "      <td>BR</td>\n",
       "      <td>-29.62,-54.18</td>\n",
       "    </tr>\n",
       "    <tr>\n",
       "      <th>133</th>\n",
       "      <td>Constitución</td>\n",
       "      <td>-35.33</td>\n",
       "      <td>-72.42</td>\n",
       "      <td>60.67</td>\n",
       "      <td>55</td>\n",
       "      <td>0</td>\n",
       "      <td>3.78</td>\n",
       "      <td>CL</td>\n",
       "      <td>-35.33,-72.42</td>\n",
       "    </tr>\n",
       "    <tr>\n",
       "      <th>178</th>\n",
       "      <td>Cidreira</td>\n",
       "      <td>-30.18</td>\n",
       "      <td>-50.21</td>\n",
       "      <td>65.46</td>\n",
       "      <td>64</td>\n",
       "      <td>0</td>\n",
       "      <td>11.90</td>\n",
       "      <td>BR</td>\n",
       "      <td>-30.18,-50.21</td>\n",
       "    </tr>\n",
       "    <tr>\n",
       "      <th>184</th>\n",
       "      <td>Pacifica</td>\n",
       "      <td>37.61</td>\n",
       "      <td>-122.49</td>\n",
       "      <td>60.80</td>\n",
       "      <td>72</td>\n",
       "      <td>1</td>\n",
       "      <td>9.17</td>\n",
       "      <td>US</td>\n",
       "      <td>37.61,-122.49</td>\n",
       "    </tr>\n",
       "    <tr>\n",
       "      <th>193</th>\n",
       "      <td>Jataizinho</td>\n",
       "      <td>-23.25</td>\n",
       "      <td>-50.98</td>\n",
       "      <td>73.40</td>\n",
       "      <td>56</td>\n",
       "      <td>1</td>\n",
       "      <td>10.29</td>\n",
       "      <td>BR</td>\n",
       "      <td>-23.25,-50.98</td>\n",
       "    </tr>\n",
       "    <tr>\n",
       "      <th>194</th>\n",
       "      <td>San Quintín</td>\n",
       "      <td>30.48</td>\n",
       "      <td>-115.95</td>\n",
       "      <td>70.07</td>\n",
       "      <td>72</td>\n",
       "      <td>0</td>\n",
       "      <td>6.78</td>\n",
       "      <td>MX</td>\n",
       "      <td>30.48,-115.95</td>\n",
       "    </tr>\n",
       "    <tr>\n",
       "      <th>197</th>\n",
       "      <td>Freeport</td>\n",
       "      <td>40.66</td>\n",
       "      <td>-73.58</td>\n",
       "      <td>69.01</td>\n",
       "      <td>55</td>\n",
       "      <td>1</td>\n",
       "      <td>9.17</td>\n",
       "      <td>US</td>\n",
       "      <td>40.66,-73.58</td>\n",
       "    </tr>\n",
       "    <tr>\n",
       "      <th>213</th>\n",
       "      <td>Lázaro Cárdenas</td>\n",
       "      <td>17.96</td>\n",
       "      <td>-102.20</td>\n",
       "      <td>79.11</td>\n",
       "      <td>82</td>\n",
       "      <td>0</td>\n",
       "      <td>4.72</td>\n",
       "      <td>MX</td>\n",
       "      <td>17.96,-102.2</td>\n",
       "    </tr>\n",
       "    <tr>\n",
       "      <th>214</th>\n",
       "      <td>Kahului</td>\n",
       "      <td>20.89</td>\n",
       "      <td>-156.47</td>\n",
       "      <td>73.99</td>\n",
       "      <td>69</td>\n",
       "      <td>20</td>\n",
       "      <td>3.36</td>\n",
       "      <td>US</td>\n",
       "      <td>20.89,-156.47</td>\n",
       "    </tr>\n",
       "    <tr>\n",
       "      <th>229</th>\n",
       "      <td>Saint George</td>\n",
       "      <td>37.10</td>\n",
       "      <td>-113.58</td>\n",
       "      <td>66.00</td>\n",
       "      <td>34</td>\n",
       "      <td>1</td>\n",
       "      <td>4.70</td>\n",
       "      <td>US</td>\n",
       "      <td>37.1,-113.58</td>\n",
       "    </tr>\n",
       "    <tr>\n",
       "      <th>242</th>\n",
       "      <td>Bullhead City</td>\n",
       "      <td>35.15</td>\n",
       "      <td>-114.57</td>\n",
       "      <td>73.99</td>\n",
       "      <td>35</td>\n",
       "      <td>0</td>\n",
       "      <td>0.98</td>\n",
       "      <td>US</td>\n",
       "      <td>35.15,-114.57</td>\n",
       "    </tr>\n",
       "    <tr>\n",
       "      <th>248</th>\n",
       "      <td>La Santisima Trinidad</td>\n",
       "      <td>-14.83</td>\n",
       "      <td>-64.90</td>\n",
       "      <td>75.20</td>\n",
       "      <td>64</td>\n",
       "      <td>0</td>\n",
       "      <td>3.36</td>\n",
       "      <td>BO</td>\n",
       "      <td>-14.83,-64.9</td>\n",
       "    </tr>\n",
       "    <tr>\n",
       "      <th>323</th>\n",
       "      <td>Tautira</td>\n",
       "      <td>-17.73</td>\n",
       "      <td>-149.15</td>\n",
       "      <td>77.00</td>\n",
       "      <td>69</td>\n",
       "      <td>20</td>\n",
       "      <td>5.82</td>\n",
       "      <td>PF</td>\n",
       "      <td>-17.73,-149.15</td>\n",
       "    </tr>\n",
       "    <tr>\n",
       "      <th>344</th>\n",
       "      <td>Westport</td>\n",
       "      <td>41.14</td>\n",
       "      <td>-73.36</td>\n",
       "      <td>66.99</td>\n",
       "      <td>59</td>\n",
       "      <td>1</td>\n",
       "      <td>5.82</td>\n",
       "      <td>US</td>\n",
       "      <td>41.14,-73.36</td>\n",
       "    </tr>\n",
       "    <tr>\n",
       "      <th>349</th>\n",
       "      <td>Goderich</td>\n",
       "      <td>43.75</td>\n",
       "      <td>-81.72</td>\n",
       "      <td>66.99</td>\n",
       "      <td>74</td>\n",
       "      <td>7</td>\n",
       "      <td>1.01</td>\n",
       "      <td>CA</td>\n",
       "      <td>43.75,-81.72</td>\n",
       "    </tr>\n",
       "    <tr>\n",
       "      <th>354</th>\n",
       "      <td>Pascagoula</td>\n",
       "      <td>30.37</td>\n",
       "      <td>-88.56</td>\n",
       "      <td>75.99</td>\n",
       "      <td>78</td>\n",
       "      <td>20</td>\n",
       "      <td>5.82</td>\n",
       "      <td>US</td>\n",
       "      <td>30.37,-88.56</td>\n",
       "    </tr>\n",
       "    <tr>\n",
       "      <th>355</th>\n",
       "      <td>Twin Falls</td>\n",
       "      <td>42.56</td>\n",
       "      <td>-114.46</td>\n",
       "      <td>64.00</td>\n",
       "      <td>27</td>\n",
       "      <td>1</td>\n",
       "      <td>13.87</td>\n",
       "      <td>US</td>\n",
       "      <td>42.56,-114.46</td>\n",
       "    </tr>\n",
       "    <tr>\n",
       "      <th>361</th>\n",
       "      <td>Sierra Vista</td>\n",
       "      <td>31.55</td>\n",
       "      <td>-110.30</td>\n",
       "      <td>70.00</td>\n",
       "      <td>43</td>\n",
       "      <td>1</td>\n",
       "      <td>9.17</td>\n",
       "      <td>US</td>\n",
       "      <td>31.55,-110.3</td>\n",
       "    </tr>\n",
       "    <tr>\n",
       "      <th>369</th>\n",
       "      <td>Yarmouth</td>\n",
       "      <td>41.71</td>\n",
       "      <td>-70.23</td>\n",
       "      <td>66.00</td>\n",
       "      <td>51</td>\n",
       "      <td>1</td>\n",
       "      <td>10.29</td>\n",
       "      <td>US</td>\n",
       "      <td>41.71,-70.23</td>\n",
       "    </tr>\n",
       "    <tr>\n",
       "      <th>387</th>\n",
       "      <td>Pocrí</td>\n",
       "      <td>8.27</td>\n",
       "      <td>-80.55</td>\n",
       "      <td>78.80</td>\n",
       "      <td>88</td>\n",
       "      <td>20</td>\n",
       "      <td>5.82</td>\n",
       "      <td>PA</td>\n",
       "      <td>8.27,-80.55</td>\n",
       "    </tr>\n",
       "    <tr>\n",
       "      <th>394</th>\n",
       "      <td>Tiarei</td>\n",
       "      <td>-17.53</td>\n",
       "      <td>-149.33</td>\n",
       "      <td>77.00</td>\n",
       "      <td>69</td>\n",
       "      <td>20</td>\n",
       "      <td>5.82</td>\n",
       "      <td>PF</td>\n",
       "      <td>-17.53,-149.33</td>\n",
       "    </tr>\n",
       "    <tr>\n",
       "      <th>413</th>\n",
       "      <td>São Marcos</td>\n",
       "      <td>-28.97</td>\n",
       "      <td>-51.07</td>\n",
       "      <td>66.00</td>\n",
       "      <td>64</td>\n",
       "      <td>0</td>\n",
       "      <td>8.99</td>\n",
       "      <td>BR</td>\n",
       "      <td>-28.97,-51.07</td>\n",
       "    </tr>\n",
       "    <tr>\n",
       "      <th>480</th>\n",
       "      <td>Palmer</td>\n",
       "      <td>42.16</td>\n",
       "      <td>-72.33</td>\n",
       "      <td>63.00</td>\n",
       "      <td>62</td>\n",
       "      <td>1</td>\n",
       "      <td>8.23</td>\n",
       "      <td>US</td>\n",
       "      <td>42.16,-72.33</td>\n",
       "    </tr>\n",
       "    <tr>\n",
       "      <th>492</th>\n",
       "      <td>Saint Anthony</td>\n",
       "      <td>45.02</td>\n",
       "      <td>-93.22</td>\n",
       "      <td>68.00</td>\n",
       "      <td>77</td>\n",
       "      <td>1</td>\n",
       "      <td>5.82</td>\n",
       "      <td>US</td>\n",
       "      <td>45.02,-93.22</td>\n",
       "    </tr>\n",
       "  </tbody>\n",
       "</table>\n",
       "</div>"
      ],
      "text/plain": [
       "                      City    Lat     Lon  Max Temp  Humidity  Cloudiness  \\\n",
       "7                  Rikitea -23.12 -134.97     71.92        73           1   \n",
       "26               Jamestown  42.10  -79.24     60.01        81           1   \n",
       "29                  Faanui -16.48 -151.75     78.75        79           4   \n",
       "60                  Bethel  41.37  -73.41     60.01        67           1   \n",
       "77                  Taltal -25.40  -70.48     62.15        61          26   \n",
       "100       São Pedro do Sul -29.62  -54.18     62.60        72           0   \n",
       "133           Constitución -35.33  -72.42     60.67        55           0   \n",
       "178               Cidreira -30.18  -50.21     65.46        64           0   \n",
       "184               Pacifica  37.61 -122.49     60.80        72           1   \n",
       "193             Jataizinho -23.25  -50.98     73.40        56           1   \n",
       "194            San Quintín  30.48 -115.95     70.07        72           0   \n",
       "197               Freeport  40.66  -73.58     69.01        55           1   \n",
       "213        Lázaro Cárdenas  17.96 -102.20     79.11        82           0   \n",
       "214                Kahului  20.89 -156.47     73.99        69          20   \n",
       "229           Saint George  37.10 -113.58     66.00        34           1   \n",
       "242          Bullhead City  35.15 -114.57     73.99        35           0   \n",
       "248  La Santisima Trinidad -14.83  -64.90     75.20        64           0   \n",
       "323                Tautira -17.73 -149.15     77.00        69          20   \n",
       "344               Westport  41.14  -73.36     66.99        59           1   \n",
       "349               Goderich  43.75  -81.72     66.99        74           7   \n",
       "354             Pascagoula  30.37  -88.56     75.99        78          20   \n",
       "355             Twin Falls  42.56 -114.46     64.00        27           1   \n",
       "361           Sierra Vista  31.55 -110.30     70.00        43           1   \n",
       "369               Yarmouth  41.71  -70.23     66.00        51           1   \n",
       "387                  Pocrí   8.27  -80.55     78.80        88          20   \n",
       "394                 Tiarei -17.53 -149.33     77.00        69          20   \n",
       "413             São Marcos -28.97  -51.07     66.00        64           0   \n",
       "480                 Palmer  42.16  -72.33     63.00        62           1   \n",
       "492          Saint Anthony  45.02  -93.22     68.00        77           1   \n",
       "\n",
       "     Wind Speed Country         Lat_Lon  \n",
       "7         13.85      PF  -23.12,-134.97  \n",
       "26         8.14      US     42.1,-79.24  \n",
       "29        16.26      PF  -16.48,-151.75  \n",
       "60         4.70      US    41.37,-73.41  \n",
       "77         4.94      CL    -25.4,-70.48  \n",
       "100        5.82      BR   -29.62,-54.18  \n",
       "133        3.78      CL   -35.33,-72.42  \n",
       "178       11.90      BR   -30.18,-50.21  \n",
       "184        9.17      US   37.61,-122.49  \n",
       "193       10.29      BR   -23.25,-50.98  \n",
       "194        6.78      MX   30.48,-115.95  \n",
       "197        9.17      US    40.66,-73.58  \n",
       "213        4.72      MX    17.96,-102.2  \n",
       "214        3.36      US   20.89,-156.47  \n",
       "229        4.70      US    37.1,-113.58  \n",
       "242        0.98      US   35.15,-114.57  \n",
       "248        3.36      BO    -14.83,-64.9  \n",
       "323        5.82      PF  -17.73,-149.15  \n",
       "344        5.82      US    41.14,-73.36  \n",
       "349        1.01      CA    43.75,-81.72  \n",
       "354        5.82      US    30.37,-88.56  \n",
       "355       13.87      US   42.56,-114.46  \n",
       "361        9.17      US    31.55,-110.3  \n",
       "369       10.29      US    41.71,-70.23  \n",
       "387        5.82      PA     8.27,-80.55  \n",
       "394        5.82      PF  -17.53,-149.33  \n",
       "413        8.99      BR   -28.97,-51.07  \n",
       "480        8.23      US    42.16,-72.33  \n",
       "492        5.82      US    45.02,-93.22  "
      ]
     },
     "execution_count": 22,
     "metadata": {},
     "output_type": "execute_result"
    }
   ],
   "source": [
    "# Filtering DataFrame to display only those cities with ideal weather conditions.\n",
    "perfect_weather_df = df[\n",
    "    (df[\"Max Temp\"] <= 80)\n",
    "    & (df[\"Max Temp\"] >= 60)\n",
    "    & (df[\"Wind Speed\"] <= 20)\n",
    "    & (df[\"Cloudiness\"] <= 30)\n",
    "    # I am adding this variable which is not part of the HW assignment. I do not like long flights, so I am keeping my flights all in the Western Hemisphere.\n",
    "    & ((df[\"Lon\"] <= -25) & (df[\"Lon\"] >= -160))\n",
    "]\n",
    "perfect_weather_df"
   ]
  },
  {
   "cell_type": "code",
   "execution_count": 6,
   "metadata": {},
   "outputs": [
    {
     "data": {
      "text/plain": [
       "29"
      ]
     },
     "execution_count": 6,
     "metadata": {},
     "output_type": "execute_result"
    }
   ],
   "source": [
    "perfect_weather_df[\"Lat_Lon\"].value_counts().sum()"
   ]
  },
  {
   "cell_type": "code",
   "execution_count": 7,
   "metadata": {},
   "outputs": [],
   "source": [
    "lat_lon_list = perfect_weather_df[\"Lat_Lon\"].tolist()"
   ]
  },
  {
   "cell_type": "code",
   "execution_count": 8,
   "metadata": {},
   "outputs": [],
   "source": [
    "# Creating the API request and testing it by creating a Json for a single city from the list I created above.\n",
    "hotels = requests.get(\n",
    "    \"https://maps.googleapis.com/maps/api/place/nearbysearch/json\",\n",
    "    params={\n",
    "        \"key\": g_key,\n",
    "        \"location\": lat_lon_list[17],\n",
    "        \"radius\": \"5000\",\n",
    "        \"type\": \"lodging\",\n",
    "    },\n",
    ").json()"
   ]
  },
  {
   "cell_type": "code",
   "execution_count": 9,
   "metadata": {},
   "outputs": [
    {
     "data": {
      "text/plain": [
       "{'html_attributions': [],\n",
       " 'results': [{'business_status': 'OPERATIONAL',\n",
       "   'geometry': {'location': {'lat': -17.7446636, 'lng': -149.160492},\n",
       "    'viewport': {'northeast': {'lat': -17.7434280697085,\n",
       "      'lng': -149.1591888197085},\n",
       "     'southwest': {'lat': -17.7461260302915, 'lng': -149.1618867802915}}},\n",
       "   'icon': 'https://maps.gstatic.com/mapfiles/place_api/icons/lodging-71.png',\n",
       "   'name': 'Pension Oaoa',\n",
       "   'photos': [{'height': 1440,\n",
       "     'html_attributions': ['<a href=\"https://maps.google.com/maps/contrib/100198529438043001778\">rose tuaira</a>'],\n",
       "     'photo_reference': 'CmRaAAAAfFipL0fQvoqijiL7uPoL3nxAUPH15D37fuD6tas1VP-rxmctEx6i3xZZY37hbAofl2c2p37oxhea0c45h8KnIjZsewhDg7ILGt0l3aKzecCSbRswiH-A7ZS6ajVmby3qEhAfNlVTwJt9GXrVcmhuwGkLGhSD0UqA5sWSV4MtgrvIQGudd_LvEw',\n",
       "     'width': 2560}],\n",
       "   'place_id': 'ChIJdf8QnG2pm3YRMkU5rhrhFa8',\n",
       "   'plus_code': {'compound_code': '7R4Q+4R Taiarapu-Ouest, French Polynesia',\n",
       "    'global_code': '53JG7R4Q+4R'},\n",
       "   'rating': 4.3,\n",
       "   'reference': 'ChIJdf8QnG2pm3YRMkU5rhrhFa8',\n",
       "   'scope': 'GOOGLE',\n",
       "   'types': ['lodging', 'point_of_interest', 'establishment'],\n",
       "   'user_ratings_total': 6,\n",
       "   'vicinity': ''}],\n",
       " 'status': 'OK'}"
      ]
     },
     "execution_count": 9,
     "metadata": {},
     "output_type": "execute_result"
    }
   ],
   "source": [
    "hotels"
   ]
  },
  {
   "cell_type": "code",
   "execution_count": 10,
   "metadata": {},
   "outputs": [],
   "source": [
    "# Function to extract data for the first hotel for each city.\n",
    "def extract_data(data):\n",
    "    data = data[\"results\"][0]\n",
    "    return {\n",
    "        \"Hotel Name\": data[\"name\"],\n",
    "        \"Lat\": data[\"geometry\"][\"location\"][\"lat\"],\n",
    "        \"Lon\": data[\"geometry\"][\"location\"][\"lng\"],\n",
    "    }"
   ]
  },
  {
   "cell_type": "code",
   "execution_count": 11,
   "metadata": {},
   "outputs": [
    {
     "name": "stdout",
     "output_type": "stream",
     "text": [
      "Beginning Data Retrieval\n",
      "----------------------------------------\n",
      "-23.12,-134.97\n",
      "42.1,-79.24\n",
      "-16.48,-151.75\n",
      "41.37,-73.41\n",
      "-25.4,-70.48\n",
      "-29.62,-54.18\n",
      "-35.33,-72.42\n",
      "-30.18,-50.21\n",
      "37.61,-122.49\n",
      "-23.25,-50.98\n",
      "30.48,-115.95\n",
      "40.66,-73.58\n",
      "17.96,-102.2\n",
      "20.89,-156.47\n",
      "37.1,-113.58\n",
      "35.15,-114.57\n",
      "-14.83,-64.9\n",
      "-17.73,-149.15\n",
      "41.14,-73.36\n",
      "43.75,-81.72\n",
      "30.37,-88.56\n",
      "42.56,-114.46\n",
      "31.55,-110.3\n",
      "41.71,-70.23\n",
      "8.27,-80.55\n",
      "-17.53,-149.33\n",
      "-28.97,-51.07\n",
      "42.16,-72.33\n",
      "45.02,-93.22\n",
      "----------------------------------------\n",
      "Data Retrieval Complete\n",
      "----------------------------------------\n"
     ]
    }
   ],
   "source": [
    "# Creating Blank List and iterating and printing latitude and longitude values to confirm what's values are being inserted in my params.\n",
    "hotel_results = []\n",
    "\n",
    "print(\"Beginning Data Retrieval\")\n",
    "print(\"----------------------------------------\")\n",
    "\n",
    "for lat_lon in lat_lon_list:\n",
    "    try:\n",
    "        print(lat_lon)\n",
    "        data = requests.get(\n",
    "            \"https://maps.googleapis.com/maps/api/place/nearbysearch/json\",\n",
    "            params={\n",
    "                \"key\": g_key,\n",
    "                \"location\": lat_lon,\n",
    "                \"radius\": \"5000\",\n",
    "                \"type\": \"lodging\",\n",
    "            },\n",
    "        ).json()\n",
    "        hotel_result = extract_data(data)\n",
    "        hotel_results.append(hotel_result)\n",
    "    except Exception as e:\n",
    "        print(e)\n",
    "        print(f\"{lat_lon} Not found. Skipping...\")\n",
    "        continue\n",
    "print(\"----------------------------------------\")\n",
    "print(\"Data Retrieval Complete\")\n",
    "print(\"----------------------------------------\")"
   ]
  },
  {
   "cell_type": "code",
   "execution_count": 12,
   "metadata": {},
   "outputs": [
    {
     "data": {
      "text/html": [
       "<div>\n",
       "<style scoped>\n",
       "    .dataframe tbody tr th:only-of-type {\n",
       "        vertical-align: middle;\n",
       "    }\n",
       "\n",
       "    .dataframe tbody tr th {\n",
       "        vertical-align: top;\n",
       "    }\n",
       "\n",
       "    .dataframe thead th {\n",
       "        text-align: right;\n",
       "    }\n",
       "</style>\n",
       "<table border=\"1\" class=\"dataframe\">\n",
       "  <thead>\n",
       "    <tr style=\"text-align: right;\">\n",
       "      <th></th>\n",
       "      <th>Hotel Name</th>\n",
       "      <th>Lat</th>\n",
       "      <th>Lon</th>\n",
       "    </tr>\n",
       "  </thead>\n",
       "  <tbody>\n",
       "    <tr>\n",
       "      <th>0</th>\n",
       "      <td>Pension Maro'i</td>\n",
       "      <td>-23.120620</td>\n",
       "      <td>-134.968753</td>\n",
       "    </tr>\n",
       "    <tr>\n",
       "      <th>1</th>\n",
       "      <td>Hampton Inn &amp; Suites Jamestown</td>\n",
       "      <td>42.118457</td>\n",
       "      <td>-79.242773</td>\n",
       "    </tr>\n",
       "    <tr>\n",
       "      <th>2</th>\n",
       "      <td>Bora-Bora Pearl Beach Resort &amp; Spa</td>\n",
       "      <td>-16.475941</td>\n",
       "      <td>-151.772479</td>\n",
       "    </tr>\n",
       "    <tr>\n",
       "      <th>3</th>\n",
       "      <td>Courtyard by Marriott Danbury</td>\n",
       "      <td>41.411371</td>\n",
       "      <td>-73.415265</td>\n",
       "    </tr>\n",
       "    <tr>\n",
       "      <th>4</th>\n",
       "      <td>Residencial Karime</td>\n",
       "      <td>-25.408999</td>\n",
       "      <td>-70.484308</td>\n",
       "    </tr>\n",
       "    <tr>\n",
       "      <th>5</th>\n",
       "      <td>Sítio Hotel e Eventos</td>\n",
       "      <td>-29.637853</td>\n",
       "      <td>-54.185756</td>\n",
       "    </tr>\n",
       "    <tr>\n",
       "      <th>6</th>\n",
       "      <td>Hotel Boutique Las Azucenas</td>\n",
       "      <td>-35.333263</td>\n",
       "      <td>-72.418461</td>\n",
       "    </tr>\n",
       "    <tr>\n",
       "      <th>7</th>\n",
       "      <td>Hotel Castelo</td>\n",
       "      <td>-30.177881</td>\n",
       "      <td>-50.203501</td>\n",
       "    </tr>\n",
       "    <tr>\n",
       "      <th>8</th>\n",
       "      <td>Pacifica Lighthouse, Trademark Collection by W...</td>\n",
       "      <td>37.609665</td>\n",
       "      <td>-122.496375</td>\n",
       "    </tr>\n",
       "    <tr>\n",
       "      <th>9</th>\n",
       "      <td>Chácara Cris e Dui</td>\n",
       "      <td>-23.246971</td>\n",
       "      <td>-50.983784</td>\n",
       "    </tr>\n",
       "    <tr>\n",
       "      <th>10</th>\n",
       "      <td>Old Mill Hotel</td>\n",
       "      <td>30.485077</td>\n",
       "      <td>-115.977232</td>\n",
       "    </tr>\n",
       "    <tr>\n",
       "      <th>11</th>\n",
       "      <td>The Freeport Inn and Marina</td>\n",
       "      <td>40.644230</td>\n",
       "      <td>-73.574836</td>\n",
       "    </tr>\n",
       "    <tr>\n",
       "      <th>12</th>\n",
       "      <td>Collection O Hotel Quinta Antigua</td>\n",
       "      <td>17.961765</td>\n",
       "      <td>-102.196434</td>\n",
       "    </tr>\n",
       "    <tr>\n",
       "      <th>13</th>\n",
       "      <td>Maui Seaside Hotel</td>\n",
       "      <td>20.890898</td>\n",
       "      <td>-156.470059</td>\n",
       "    </tr>\n",
       "    <tr>\n",
       "      <th>14</th>\n",
       "      <td>Best Western Plus Abbey Inn</td>\n",
       "      <td>37.089025</td>\n",
       "      <td>-113.584267</td>\n",
       "    </tr>\n",
       "    <tr>\n",
       "      <th>15</th>\n",
       "      <td>Golden Nugget Laughlin Hotel &amp; Casino</td>\n",
       "      <td>35.154564</td>\n",
       "      <td>-114.572948</td>\n",
       "    </tr>\n",
       "    <tr>\n",
       "      <th>16</th>\n",
       "      <td>Hotel Piesta</td>\n",
       "      <td>-14.834444</td>\n",
       "      <td>-64.901667</td>\n",
       "    </tr>\n",
       "    <tr>\n",
       "      <th>17</th>\n",
       "      <td>Pension Oaoa</td>\n",
       "      <td>-17.744664</td>\n",
       "      <td>-149.160492</td>\n",
       "    </tr>\n",
       "    <tr>\n",
       "      <th>18</th>\n",
       "      <td>The Westport Inn</td>\n",
       "      <td>41.138973</td>\n",
       "      <td>-73.308895</td>\n",
       "    </tr>\n",
       "    <tr>\n",
       "      <th>19</th>\n",
       "      <td>Harmony Inn</td>\n",
       "      <td>43.734921</td>\n",
       "      <td>-81.706702</td>\n",
       "    </tr>\n",
       "    <tr>\n",
       "      <th>20</th>\n",
       "      <td>Regency Inn</td>\n",
       "      <td>30.372352</td>\n",
       "      <td>-88.532710</td>\n",
       "    </tr>\n",
       "    <tr>\n",
       "      <th>21</th>\n",
       "      <td>Holiday Inn Express &amp; Suites Twin Falls</td>\n",
       "      <td>42.589821</td>\n",
       "      <td>-114.464494</td>\n",
       "    </tr>\n",
       "    <tr>\n",
       "      <th>22</th>\n",
       "      <td>Holiday Inn Express Sierra Vista</td>\n",
       "      <td>31.534835</td>\n",
       "      <td>-110.259348</td>\n",
       "    </tr>\n",
       "    <tr>\n",
       "      <th>23</th>\n",
       "      <td>The Inn At Cape Cod</td>\n",
       "      <td>41.703287</td>\n",
       "      <td>-70.245715</td>\n",
       "    </tr>\n",
       "    <tr>\n",
       "      <th>24</th>\n",
       "      <td>Residencial D Cache</td>\n",
       "      <td>8.254846</td>\n",
       "      <td>-80.539137</td>\n",
       "    </tr>\n",
       "    <tr>\n",
       "      <th>25</th>\n",
       "      <td>Le Rocher de Tahiti</td>\n",
       "      <td>-17.539562</td>\n",
       "      <td>-149.366494</td>\n",
       "    </tr>\n",
       "    <tr>\n",
       "      <th>26</th>\n",
       "      <td>Hotel São Marcos</td>\n",
       "      <td>-28.975183</td>\n",
       "      <td>-51.065998</td>\n",
       "    </tr>\n",
       "    <tr>\n",
       "      <th>27</th>\n",
       "      <td>Wedgewood Motel</td>\n",
       "      <td>42.148391</td>\n",
       "      <td>-72.305276</td>\n",
       "    </tr>\n",
       "    <tr>\n",
       "      <th>28</th>\n",
       "      <td>Holiday Inn Express Roseville-St. Paul</td>\n",
       "      <td>45.022670</td>\n",
       "      <td>-93.193242</td>\n",
       "    </tr>\n",
       "  </tbody>\n",
       "</table>\n",
       "</div>"
      ],
      "text/plain": [
       "                                           Hotel Name        Lat         Lon\n",
       "0                                      Pension Maro'i -23.120620 -134.968753\n",
       "1                      Hampton Inn & Suites Jamestown  42.118457  -79.242773\n",
       "2                  Bora-Bora Pearl Beach Resort & Spa -16.475941 -151.772479\n",
       "3                       Courtyard by Marriott Danbury  41.411371  -73.415265\n",
       "4                                  Residencial Karime -25.408999  -70.484308\n",
       "5                               Sítio Hotel e Eventos -29.637853  -54.185756\n",
       "6                         Hotel Boutique Las Azucenas -35.333263  -72.418461\n",
       "7                                       Hotel Castelo -30.177881  -50.203501\n",
       "8   Pacifica Lighthouse, Trademark Collection by W...  37.609665 -122.496375\n",
       "9                                  Chácara Cris e Dui -23.246971  -50.983784\n",
       "10                                     Old Mill Hotel  30.485077 -115.977232\n",
       "11                        The Freeport Inn and Marina  40.644230  -73.574836\n",
       "12                  Collection O Hotel Quinta Antigua  17.961765 -102.196434\n",
       "13                                 Maui Seaside Hotel  20.890898 -156.470059\n",
       "14                        Best Western Plus Abbey Inn  37.089025 -113.584267\n",
       "15              Golden Nugget Laughlin Hotel & Casino  35.154564 -114.572948\n",
       "16                                       Hotel Piesta -14.834444  -64.901667\n",
       "17                                       Pension Oaoa -17.744664 -149.160492\n",
       "18                                   The Westport Inn  41.138973  -73.308895\n",
       "19                                        Harmony Inn  43.734921  -81.706702\n",
       "20                                        Regency Inn  30.372352  -88.532710\n",
       "21            Holiday Inn Express & Suites Twin Falls  42.589821 -114.464494\n",
       "22                   Holiday Inn Express Sierra Vista  31.534835 -110.259348\n",
       "23                                The Inn At Cape Cod  41.703287  -70.245715\n",
       "24                                Residencial D Cache   8.254846  -80.539137\n",
       "25                                Le Rocher de Tahiti -17.539562 -149.366494\n",
       "26                                   Hotel São Marcos -28.975183  -51.065998\n",
       "27                                    Wedgewood Motel  42.148391  -72.305276\n",
       "28             Holiday Inn Express Roseville-St. Paul  45.022670  -93.193242"
      ]
     },
     "execution_count": 12,
     "metadata": {},
     "output_type": "execute_result"
    }
   ],
   "source": [
    "# Converting returned dictionaries to a DataFrame\n",
    "hotel_results_df = pd.DataFrame.from_dict(hotel_results)\n",
    "hotel_results_df"
   ]
  },
  {
   "cell_type": "code",
   "execution_count": 50,
   "metadata": {},
   "outputs": [
    {
     "data": {
      "text/html": [
       "<div>\n",
       "<style scoped>\n",
       "    .dataframe tbody tr th:only-of-type {\n",
       "        vertical-align: middle;\n",
       "    }\n",
       "\n",
       "    .dataframe tbody tr th {\n",
       "        vertical-align: top;\n",
       "    }\n",
       "\n",
       "    .dataframe thead th {\n",
       "        text-align: right;\n",
       "    }\n",
       "</style>\n",
       "<table border=\"1\" class=\"dataframe\">\n",
       "  <thead>\n",
       "    <tr style=\"text-align: right;\">\n",
       "      <th></th>\n",
       "      <th>Hotel Name</th>\n",
       "      <th>Lat</th>\n",
       "      <th>Lon</th>\n",
       "    </tr>\n",
       "  </thead>\n",
       "  <tbody>\n",
       "    <tr>\n",
       "      <th>0</th>\n",
       "      <td>Pension Maro'i</td>\n",
       "      <td>-23.1</td>\n",
       "      <td>-135.0</td>\n",
       "    </tr>\n",
       "    <tr>\n",
       "      <th>1</th>\n",
       "      <td>Hampton Inn &amp; Suites Jamestown</td>\n",
       "      <td>42.1</td>\n",
       "      <td>-79.2</td>\n",
       "    </tr>\n",
       "  </tbody>\n",
       "</table>\n",
       "</div>"
      ],
      "text/plain": [
       "                       Hotel Name   Lat    Lon\n",
       "0                  Pension Maro'i -23.1 -135.0\n",
       "1  Hampton Inn & Suites Jamestown  42.1  -79.2"
      ]
     },
     "execution_count": 50,
     "metadata": {},
     "output_type": "execute_result"
    }
   ],
   "source": [
    "# Rounding decimals for latitude and longitude so I can use them to merge the hotel DataFrame with the perfect weather DataFrame.\n",
    "hotel_results_round_df = hotel_results_df.round(decimals=1)\n",
    "hotel_results_round_df.head(2)"
   ]
  },
  {
   "cell_type": "code",
   "execution_count": 67,
   "metadata": {},
   "outputs": [],
   "source": [
    "perfect_weather_round_df = perfect_weather_df.round(decimals=1)\n",
    "perfect_weather_round_df.drop(columns=[\"Lat_Lon\"], inplace=True)"
   ]
  },
  {
   "cell_type": "code",
   "execution_count": 68,
   "metadata": {},
   "outputs": [
    {
     "data": {
      "text/html": [
       "<div>\n",
       "<style scoped>\n",
       "    .dataframe tbody tr th:only-of-type {\n",
       "        vertical-align: middle;\n",
       "    }\n",
       "\n",
       "    .dataframe tbody tr th {\n",
       "        vertical-align: top;\n",
       "    }\n",
       "\n",
       "    .dataframe thead th {\n",
       "        text-align: right;\n",
       "    }\n",
       "</style>\n",
       "<table border=\"1\" class=\"dataframe\">\n",
       "  <thead>\n",
       "    <tr style=\"text-align: right;\">\n",
       "      <th></th>\n",
       "      <th>Hotel Name</th>\n",
       "      <th>Lat</th>\n",
       "      <th>Lon_x</th>\n",
       "      <th>Lat_Lon</th>\n",
       "      <th>City</th>\n",
       "      <th>Lon_y</th>\n",
       "      <th>Max Temp</th>\n",
       "      <th>Humidity</th>\n",
       "      <th>Cloudiness</th>\n",
       "      <th>Wind Speed</th>\n",
       "      <th>Country</th>\n",
       "    </tr>\n",
       "  </thead>\n",
       "  <tbody>\n",
       "    <tr>\n",
       "      <th>0</th>\n",
       "      <td>Pension Maro'i</td>\n",
       "      <td>-23.1</td>\n",
       "      <td>-135.0</td>\n",
       "      <td>-23.1, -135.0</td>\n",
       "      <td>Rikitea</td>\n",
       "      <td>-135.0</td>\n",
       "      <td>71.9</td>\n",
       "      <td>73.0</td>\n",
       "      <td>1.0</td>\n",
       "      <td>13.8</td>\n",
       "      <td>PF</td>\n",
       "    </tr>\n",
       "    <tr>\n",
       "      <th>1</th>\n",
       "      <td>Hampton Inn &amp; Suites Jamestown</td>\n",
       "      <td>42.1</td>\n",
       "      <td>-79.2</td>\n",
       "      <td>42.1, -79.2</td>\n",
       "      <td>Jamestown</td>\n",
       "      <td>-79.2</td>\n",
       "      <td>60.0</td>\n",
       "      <td>81.0</td>\n",
       "      <td>1.0</td>\n",
       "      <td>8.1</td>\n",
       "      <td>US</td>\n",
       "    </tr>\n",
       "    <tr>\n",
       "      <th>2</th>\n",
       "      <td>Bora-Bora Pearl Beach Resort &amp; Spa</td>\n",
       "      <td>-16.5</td>\n",
       "      <td>-151.8</td>\n",
       "      <td>-16.5, -151.8</td>\n",
       "      <td>Faanui</td>\n",
       "      <td>-151.8</td>\n",
       "      <td>78.8</td>\n",
       "      <td>79.0</td>\n",
       "      <td>4.0</td>\n",
       "      <td>16.3</td>\n",
       "      <td>PF</td>\n",
       "    </tr>\n",
       "    <tr>\n",
       "      <th>3</th>\n",
       "      <td>Courtyard by Marriott Danbury</td>\n",
       "      <td>41.4</td>\n",
       "      <td>-73.4</td>\n",
       "      <td>41.4, -73.4</td>\n",
       "      <td>Bethel</td>\n",
       "      <td>-73.4</td>\n",
       "      <td>60.0</td>\n",
       "      <td>67.0</td>\n",
       "      <td>1.0</td>\n",
       "      <td>4.7</td>\n",
       "      <td>US</td>\n",
       "    </tr>\n",
       "    <tr>\n",
       "      <th>4</th>\n",
       "      <td>Residencial Karime</td>\n",
       "      <td>-25.4</td>\n",
       "      <td>-70.5</td>\n",
       "      <td>-25.4, -70.5</td>\n",
       "      <td>Taltal</td>\n",
       "      <td>-70.5</td>\n",
       "      <td>62.2</td>\n",
       "      <td>61.0</td>\n",
       "      <td>26.0</td>\n",
       "      <td>4.9</td>\n",
       "      <td>CL</td>\n",
       "    </tr>\n",
       "    <tr>\n",
       "      <th>5</th>\n",
       "      <td>Sítio Hotel e Eventos</td>\n",
       "      <td>-29.6</td>\n",
       "      <td>-54.2</td>\n",
       "      <td>-29.6, -54.2</td>\n",
       "      <td>São Pedro do Sul</td>\n",
       "      <td>-54.2</td>\n",
       "      <td>62.6</td>\n",
       "      <td>72.0</td>\n",
       "      <td>0.0</td>\n",
       "      <td>5.8</td>\n",
       "      <td>BR</td>\n",
       "    </tr>\n",
       "    <tr>\n",
       "      <th>6</th>\n",
       "      <td>Hotel Boutique Las Azucenas</td>\n",
       "      <td>-35.3</td>\n",
       "      <td>-72.4</td>\n",
       "      <td>-35.3, -72.4</td>\n",
       "      <td>Constitución</td>\n",
       "      <td>-72.4</td>\n",
       "      <td>60.7</td>\n",
       "      <td>55.0</td>\n",
       "      <td>0.0</td>\n",
       "      <td>3.8</td>\n",
       "      <td>CL</td>\n",
       "    </tr>\n",
       "    <tr>\n",
       "      <th>7</th>\n",
       "      <td>Hotel Castelo</td>\n",
       "      <td>-30.2</td>\n",
       "      <td>-50.2</td>\n",
       "      <td>-30.2, -50.2</td>\n",
       "      <td>Cidreira</td>\n",
       "      <td>-50.2</td>\n",
       "      <td>65.5</td>\n",
       "      <td>64.0</td>\n",
       "      <td>0.0</td>\n",
       "      <td>11.9</td>\n",
       "      <td>BR</td>\n",
       "    </tr>\n",
       "    <tr>\n",
       "      <th>8</th>\n",
       "      <td>Pacifica Lighthouse, Trademark Collection by W...</td>\n",
       "      <td>37.6</td>\n",
       "      <td>-122.5</td>\n",
       "      <td>37.6, -122.5</td>\n",
       "      <td>Pacifica</td>\n",
       "      <td>-122.5</td>\n",
       "      <td>60.8</td>\n",
       "      <td>72.0</td>\n",
       "      <td>1.0</td>\n",
       "      <td>9.2</td>\n",
       "      <td>US</td>\n",
       "    </tr>\n",
       "    <tr>\n",
       "      <th>9</th>\n",
       "      <td>Chácara Cris e Dui</td>\n",
       "      <td>-23.2</td>\n",
       "      <td>-51.0</td>\n",
       "      <td>-23.2, -51.0</td>\n",
       "      <td>Jataizinho</td>\n",
       "      <td>-51.0</td>\n",
       "      <td>73.4</td>\n",
       "      <td>56.0</td>\n",
       "      <td>1.0</td>\n",
       "      <td>10.3</td>\n",
       "      <td>BR</td>\n",
       "    </tr>\n",
       "    <tr>\n",
       "      <th>10</th>\n",
       "      <td>Old Mill Hotel</td>\n",
       "      <td>30.5</td>\n",
       "      <td>-116.0</td>\n",
       "      <td>30.5, -116.0</td>\n",
       "      <td>San Quintín</td>\n",
       "      <td>-116.0</td>\n",
       "      <td>70.1</td>\n",
       "      <td>72.0</td>\n",
       "      <td>0.0</td>\n",
       "      <td>6.8</td>\n",
       "      <td>MX</td>\n",
       "    </tr>\n",
       "    <tr>\n",
       "      <th>11</th>\n",
       "      <td>The Freeport Inn and Marina</td>\n",
       "      <td>40.6</td>\n",
       "      <td>-73.6</td>\n",
       "      <td>40.6, -73.6</td>\n",
       "      <td>NaN</td>\n",
       "      <td>NaN</td>\n",
       "      <td>NaN</td>\n",
       "      <td>NaN</td>\n",
       "      <td>NaN</td>\n",
       "      <td>NaN</td>\n",
       "      <td>NaN</td>\n",
       "    </tr>\n",
       "    <tr>\n",
       "      <th>12</th>\n",
       "      <td>Collection O Hotel Quinta Antigua</td>\n",
       "      <td>18.0</td>\n",
       "      <td>-102.2</td>\n",
       "      <td>18.0, -102.2</td>\n",
       "      <td>Lázaro Cárdenas</td>\n",
       "      <td>-102.2</td>\n",
       "      <td>79.1</td>\n",
       "      <td>82.0</td>\n",
       "      <td>0.0</td>\n",
       "      <td>4.7</td>\n",
       "      <td>MX</td>\n",
       "    </tr>\n",
       "    <tr>\n",
       "      <th>13</th>\n",
       "      <td>Maui Seaside Hotel</td>\n",
       "      <td>20.9</td>\n",
       "      <td>-156.5</td>\n",
       "      <td>20.9, -156.5</td>\n",
       "      <td>Kahului</td>\n",
       "      <td>-156.5</td>\n",
       "      <td>74.0</td>\n",
       "      <td>69.0</td>\n",
       "      <td>20.0</td>\n",
       "      <td>3.4</td>\n",
       "      <td>US</td>\n",
       "    </tr>\n",
       "    <tr>\n",
       "      <th>14</th>\n",
       "      <td>Best Western Plus Abbey Inn</td>\n",
       "      <td>37.1</td>\n",
       "      <td>-113.6</td>\n",
       "      <td>37.1, -113.6</td>\n",
       "      <td>Saint George</td>\n",
       "      <td>-113.6</td>\n",
       "      <td>66.0</td>\n",
       "      <td>34.0</td>\n",
       "      <td>1.0</td>\n",
       "      <td>4.7</td>\n",
       "      <td>US</td>\n",
       "    </tr>\n",
       "    <tr>\n",
       "      <th>15</th>\n",
       "      <td>Golden Nugget Laughlin Hotel &amp; Casino</td>\n",
       "      <td>35.2</td>\n",
       "      <td>-114.6</td>\n",
       "      <td>35.2, -114.6</td>\n",
       "      <td>Bullhead City</td>\n",
       "      <td>-114.6</td>\n",
       "      <td>74.0</td>\n",
       "      <td>35.0</td>\n",
       "      <td>0.0</td>\n",
       "      <td>1.0</td>\n",
       "      <td>US</td>\n",
       "    </tr>\n",
       "    <tr>\n",
       "      <th>16</th>\n",
       "      <td>Hotel Piesta</td>\n",
       "      <td>-14.8</td>\n",
       "      <td>-64.9</td>\n",
       "      <td>-14.8, -64.9</td>\n",
       "      <td>La Santisima Trinidad</td>\n",
       "      <td>-64.9</td>\n",
       "      <td>75.2</td>\n",
       "      <td>64.0</td>\n",
       "      <td>0.0</td>\n",
       "      <td>3.4</td>\n",
       "      <td>BO</td>\n",
       "    </tr>\n",
       "    <tr>\n",
       "      <th>17</th>\n",
       "      <td>Pension Oaoa</td>\n",
       "      <td>-17.7</td>\n",
       "      <td>-149.2</td>\n",
       "      <td>-17.7, -149.2</td>\n",
       "      <td>Tautira</td>\n",
       "      <td>-149.2</td>\n",
       "      <td>77.0</td>\n",
       "      <td>69.0</td>\n",
       "      <td>20.0</td>\n",
       "      <td>5.8</td>\n",
       "      <td>PF</td>\n",
       "    </tr>\n",
       "    <tr>\n",
       "      <th>18</th>\n",
       "      <td>The Westport Inn</td>\n",
       "      <td>41.1</td>\n",
       "      <td>-73.3</td>\n",
       "      <td>41.1, -73.3</td>\n",
       "      <td>Westport</td>\n",
       "      <td>-73.4</td>\n",
       "      <td>67.0</td>\n",
       "      <td>59.0</td>\n",
       "      <td>1.0</td>\n",
       "      <td>5.8</td>\n",
       "      <td>US</td>\n",
       "    </tr>\n",
       "    <tr>\n",
       "      <th>19</th>\n",
       "      <td>Harmony Inn</td>\n",
       "      <td>43.7</td>\n",
       "      <td>-81.7</td>\n",
       "      <td>43.7, -81.7</td>\n",
       "      <td>NaN</td>\n",
       "      <td>NaN</td>\n",
       "      <td>NaN</td>\n",
       "      <td>NaN</td>\n",
       "      <td>NaN</td>\n",
       "      <td>NaN</td>\n",
       "      <td>NaN</td>\n",
       "    </tr>\n",
       "    <tr>\n",
       "      <th>20</th>\n",
       "      <td>Regency Inn</td>\n",
       "      <td>30.4</td>\n",
       "      <td>-88.5</td>\n",
       "      <td>30.4, -88.5</td>\n",
       "      <td>Pascagoula</td>\n",
       "      <td>-88.6</td>\n",
       "      <td>76.0</td>\n",
       "      <td>78.0</td>\n",
       "      <td>20.0</td>\n",
       "      <td>5.8</td>\n",
       "      <td>US</td>\n",
       "    </tr>\n",
       "    <tr>\n",
       "      <th>21</th>\n",
       "      <td>Holiday Inn Express &amp; Suites Twin Falls</td>\n",
       "      <td>42.6</td>\n",
       "      <td>-114.5</td>\n",
       "      <td>42.6, -114.5</td>\n",
       "      <td>Twin Falls</td>\n",
       "      <td>-114.5</td>\n",
       "      <td>64.0</td>\n",
       "      <td>27.0</td>\n",
       "      <td>1.0</td>\n",
       "      <td>13.9</td>\n",
       "      <td>US</td>\n",
       "    </tr>\n",
       "    <tr>\n",
       "      <th>22</th>\n",
       "      <td>Holiday Inn Express Sierra Vista</td>\n",
       "      <td>31.5</td>\n",
       "      <td>-110.3</td>\n",
       "      <td>31.5, -110.3</td>\n",
       "      <td>NaN</td>\n",
       "      <td>NaN</td>\n",
       "      <td>NaN</td>\n",
       "      <td>NaN</td>\n",
       "      <td>NaN</td>\n",
       "      <td>NaN</td>\n",
       "      <td>NaN</td>\n",
       "    </tr>\n",
       "    <tr>\n",
       "      <th>23</th>\n",
       "      <td>The Inn At Cape Cod</td>\n",
       "      <td>41.7</td>\n",
       "      <td>-70.2</td>\n",
       "      <td>41.7, -70.2</td>\n",
       "      <td>Yarmouth</td>\n",
       "      <td>-70.2</td>\n",
       "      <td>66.0</td>\n",
       "      <td>51.0</td>\n",
       "      <td>1.0</td>\n",
       "      <td>10.3</td>\n",
       "      <td>US</td>\n",
       "    </tr>\n",
       "    <tr>\n",
       "      <th>24</th>\n",
       "      <td>Residencial D Cache</td>\n",
       "      <td>8.3</td>\n",
       "      <td>-80.5</td>\n",
       "      <td>8.3, -80.5</td>\n",
       "      <td>Pocrí</td>\n",
       "      <td>-80.6</td>\n",
       "      <td>78.8</td>\n",
       "      <td>88.0</td>\n",
       "      <td>20.0</td>\n",
       "      <td>5.8</td>\n",
       "      <td>PA</td>\n",
       "    </tr>\n",
       "    <tr>\n",
       "      <th>25</th>\n",
       "      <td>Le Rocher de Tahiti</td>\n",
       "      <td>-17.5</td>\n",
       "      <td>-149.4</td>\n",
       "      <td>-17.5, -149.4</td>\n",
       "      <td>Tiarei</td>\n",
       "      <td>-149.3</td>\n",
       "      <td>77.0</td>\n",
       "      <td>69.0</td>\n",
       "      <td>20.0</td>\n",
       "      <td>5.8</td>\n",
       "      <td>PF</td>\n",
       "    </tr>\n",
       "    <tr>\n",
       "      <th>26</th>\n",
       "      <td>Hotel São Marcos</td>\n",
       "      <td>-29.0</td>\n",
       "      <td>-51.1</td>\n",
       "      <td>-29.0, -51.1</td>\n",
       "      <td>São Marcos</td>\n",
       "      <td>-51.1</td>\n",
       "      <td>66.0</td>\n",
       "      <td>64.0</td>\n",
       "      <td>0.0</td>\n",
       "      <td>9.0</td>\n",
       "      <td>BR</td>\n",
       "    </tr>\n",
       "    <tr>\n",
       "      <th>27</th>\n",
       "      <td>Wedgewood Motel</td>\n",
       "      <td>42.1</td>\n",
       "      <td>-72.3</td>\n",
       "      <td>42.1, -72.3</td>\n",
       "      <td>Jamestown</td>\n",
       "      <td>-79.2</td>\n",
       "      <td>60.0</td>\n",
       "      <td>81.0</td>\n",
       "      <td>1.0</td>\n",
       "      <td>8.1</td>\n",
       "      <td>US</td>\n",
       "    </tr>\n",
       "    <tr>\n",
       "      <th>28</th>\n",
       "      <td>Holiday Inn Express Roseville-St. Paul</td>\n",
       "      <td>45.0</td>\n",
       "      <td>-93.2</td>\n",
       "      <td>45.0, -93.2</td>\n",
       "      <td>Saint Anthony</td>\n",
       "      <td>-93.2</td>\n",
       "      <td>68.0</td>\n",
       "      <td>77.0</td>\n",
       "      <td>1.0</td>\n",
       "      <td>5.8</td>\n",
       "      <td>US</td>\n",
       "    </tr>\n",
       "  </tbody>\n",
       "</table>\n",
       "</div>"
      ],
      "text/plain": [
       "                                           Hotel Name   Lat  Lon_x  \\\n",
       "0                                      Pension Maro'i -23.1 -135.0   \n",
       "1                      Hampton Inn & Suites Jamestown  42.1  -79.2   \n",
       "2                  Bora-Bora Pearl Beach Resort & Spa -16.5 -151.8   \n",
       "3                       Courtyard by Marriott Danbury  41.4  -73.4   \n",
       "4                                  Residencial Karime -25.4  -70.5   \n",
       "5                               Sítio Hotel e Eventos -29.6  -54.2   \n",
       "6                         Hotel Boutique Las Azucenas -35.3  -72.4   \n",
       "7                                       Hotel Castelo -30.2  -50.2   \n",
       "8   Pacifica Lighthouse, Trademark Collection by W...  37.6 -122.5   \n",
       "9                                  Chácara Cris e Dui -23.2  -51.0   \n",
       "10                                     Old Mill Hotel  30.5 -116.0   \n",
       "11                        The Freeport Inn and Marina  40.6  -73.6   \n",
       "12                  Collection O Hotel Quinta Antigua  18.0 -102.2   \n",
       "13                                 Maui Seaside Hotel  20.9 -156.5   \n",
       "14                        Best Western Plus Abbey Inn  37.1 -113.6   \n",
       "15              Golden Nugget Laughlin Hotel & Casino  35.2 -114.6   \n",
       "16                                       Hotel Piesta -14.8  -64.9   \n",
       "17                                       Pension Oaoa -17.7 -149.2   \n",
       "18                                   The Westport Inn  41.1  -73.3   \n",
       "19                                        Harmony Inn  43.7  -81.7   \n",
       "20                                        Regency Inn  30.4  -88.5   \n",
       "21            Holiday Inn Express & Suites Twin Falls  42.6 -114.5   \n",
       "22                   Holiday Inn Express Sierra Vista  31.5 -110.3   \n",
       "23                                The Inn At Cape Cod  41.7  -70.2   \n",
       "24                                Residencial D Cache   8.3  -80.5   \n",
       "25                                Le Rocher de Tahiti -17.5 -149.4   \n",
       "26                                   Hotel São Marcos -29.0  -51.1   \n",
       "27                                    Wedgewood Motel  42.1  -72.3   \n",
       "28             Holiday Inn Express Roseville-St. Paul  45.0  -93.2   \n",
       "\n",
       "          Lat_Lon                   City  Lon_y  Max Temp  Humidity  \\\n",
       "0   -23.1, -135.0                Rikitea -135.0      71.9      73.0   \n",
       "1     42.1, -79.2              Jamestown  -79.2      60.0      81.0   \n",
       "2   -16.5, -151.8                 Faanui -151.8      78.8      79.0   \n",
       "3     41.4, -73.4                 Bethel  -73.4      60.0      67.0   \n",
       "4    -25.4, -70.5                 Taltal  -70.5      62.2      61.0   \n",
       "5    -29.6, -54.2       São Pedro do Sul  -54.2      62.6      72.0   \n",
       "6    -35.3, -72.4           Constitución  -72.4      60.7      55.0   \n",
       "7    -30.2, -50.2               Cidreira  -50.2      65.5      64.0   \n",
       "8    37.6, -122.5               Pacifica -122.5      60.8      72.0   \n",
       "9    -23.2, -51.0             Jataizinho  -51.0      73.4      56.0   \n",
       "10   30.5, -116.0            San Quintín -116.0      70.1      72.0   \n",
       "11    40.6, -73.6                    NaN    NaN       NaN       NaN   \n",
       "12   18.0, -102.2        Lázaro Cárdenas -102.2      79.1      82.0   \n",
       "13   20.9, -156.5                Kahului -156.5      74.0      69.0   \n",
       "14   37.1, -113.6           Saint George -113.6      66.0      34.0   \n",
       "15   35.2, -114.6          Bullhead City -114.6      74.0      35.0   \n",
       "16   -14.8, -64.9  La Santisima Trinidad  -64.9      75.2      64.0   \n",
       "17  -17.7, -149.2                Tautira -149.2      77.0      69.0   \n",
       "18    41.1, -73.3               Westport  -73.4      67.0      59.0   \n",
       "19    43.7, -81.7                    NaN    NaN       NaN       NaN   \n",
       "20    30.4, -88.5             Pascagoula  -88.6      76.0      78.0   \n",
       "21   42.6, -114.5             Twin Falls -114.5      64.0      27.0   \n",
       "22   31.5, -110.3                    NaN    NaN       NaN       NaN   \n",
       "23    41.7, -70.2               Yarmouth  -70.2      66.0      51.0   \n",
       "24     8.3, -80.5                  Pocrí  -80.6      78.8      88.0   \n",
       "25  -17.5, -149.4                 Tiarei -149.3      77.0      69.0   \n",
       "26   -29.0, -51.1             São Marcos  -51.1      66.0      64.0   \n",
       "27    42.1, -72.3              Jamestown  -79.2      60.0      81.0   \n",
       "28    45.0, -93.2          Saint Anthony  -93.2      68.0      77.0   \n",
       "\n",
       "    Cloudiness  Wind Speed Country  \n",
       "0          1.0        13.8      PF  \n",
       "1          1.0         8.1      US  \n",
       "2          4.0        16.3      PF  \n",
       "3          1.0         4.7      US  \n",
       "4         26.0         4.9      CL  \n",
       "5          0.0         5.8      BR  \n",
       "6          0.0         3.8      CL  \n",
       "7          0.0        11.9      BR  \n",
       "8          1.0         9.2      US  \n",
       "9          1.0        10.3      BR  \n",
       "10         0.0         6.8      MX  \n",
       "11         NaN         NaN     NaN  \n",
       "12         0.0         4.7      MX  \n",
       "13        20.0         3.4      US  \n",
       "14         1.0         4.7      US  \n",
       "15         0.0         1.0      US  \n",
       "16         0.0         3.4      BO  \n",
       "17        20.0         5.8      PF  \n",
       "18         1.0         5.8      US  \n",
       "19         NaN         NaN     NaN  \n",
       "20        20.0         5.8      US  \n",
       "21         1.0        13.9      US  \n",
       "22         NaN         NaN     NaN  \n",
       "23         1.0        10.3      US  \n",
       "24        20.0         5.8      PA  \n",
       "25        20.0         5.8      PF  \n",
       "26         0.0         9.0      BR  \n",
       "27         1.0         8.1      US  \n",
       "28         1.0         5.8      US  "
      ]
     },
     "execution_count": 68,
     "metadata": {},
     "output_type": "execute_result"
    }
   ],
   "source": [
    "map_df = pd.merge(\n",
    "    hotel_results_round_df, perfect_weather_round_df, how=\"left\", on=\"Lat\"\n",
    ")\n",
    "map_df"
   ]
  },
  {
   "cell_type": "code",
   "execution_count": null,
   "metadata": {},
   "outputs": [],
   "source": []
  },
  {
   "cell_type": "code",
   "execution_count": 19,
   "metadata": {},
   "outputs": [],
   "source": [
    "# Setting MapBox token.\n",
    "px.set_mapbox_access_token(mapbox_token)"
   ]
  },
  {
   "cell_type": "code",
   "execution_count": 69,
   "metadata": {},
   "outputs": [],
   "source": [
    "# Generating scatter map.\n",
    "fig = px.scatter_mapbox(\n",
    "    map_df,\n",
    "    lat=\"Lat\",\n",
    "    lon=\"Lon_x\",\n",
    "    color=\"Humidity\",\n",
    "    title=\"Perfect Weather Vaction Spots w/ Hotels as of 9/25/2020\",\n",
    "    hover_data=[\"Hotel Name\", \"City\", \"Country\"],\n",
    "    height=850,\n",
    "    width=1000,\n",
    ")"
   ]
  },
  {
   "cell_type": "code",
   "execution_count": 70,
   "metadata": {},
   "outputs": [
    {
     "data": {
      "application/vnd.plotly.v1+json": {
       "config": {
        "plotlyServerURL": "https://plot.ly"
       },
       "data": [
        {
         "customdata": [
          [
           "Pension Maro'i",
           "Rikitea",
           "PF"
          ],
          [
           "Hampton Inn & Suites Jamestown",
           "Jamestown",
           "US"
          ],
          [
           "Bora-Bora Pearl Beach Resort & Spa",
           "Faanui",
           "PF"
          ],
          [
           "Courtyard by Marriott Danbury",
           "Bethel",
           "US"
          ],
          [
           "Residencial Karime",
           "Taltal",
           "CL"
          ],
          [
           "Sítio Hotel e Eventos",
           "São Pedro do Sul",
           "BR"
          ],
          [
           "Hotel Boutique Las Azucenas",
           "Constitución",
           "CL"
          ],
          [
           "Hotel Castelo",
           "Cidreira",
           "BR"
          ],
          [
           "Pacifica Lighthouse, Trademark Collection by Wyndham",
           "Pacifica",
           "US"
          ],
          [
           "Chácara Cris e Dui",
           "Jataizinho",
           "BR"
          ],
          [
           "Old Mill Hotel",
           "San Quintín",
           "MX"
          ],
          [
           "The Freeport Inn and Marina",
           null,
           null
          ],
          [
           "Collection O Hotel Quinta Antigua",
           "Lázaro Cárdenas",
           "MX"
          ],
          [
           "Maui Seaside Hotel",
           "Kahului",
           "US"
          ],
          [
           "Best Western Plus Abbey Inn",
           "Saint George",
           "US"
          ],
          [
           "Golden Nugget Laughlin Hotel & Casino",
           "Bullhead City",
           "US"
          ],
          [
           "Hotel Piesta",
           "La Santisima Trinidad",
           "BO"
          ],
          [
           "Pension Oaoa",
           "Tautira",
           "PF"
          ],
          [
           "The Westport Inn",
           "Westport",
           "US"
          ],
          [
           "Harmony Inn",
           null,
           null
          ],
          [
           "Regency Inn",
           "Pascagoula",
           "US"
          ],
          [
           "Holiday Inn Express & Suites Twin Falls",
           "Twin Falls",
           "US"
          ],
          [
           "Holiday Inn Express Sierra Vista",
           null,
           null
          ],
          [
           "The Inn At Cape Cod",
           "Yarmouth",
           "US"
          ],
          [
           "Residencial D Cache",
           "Pocrí",
           "PA"
          ],
          [
           "Le Rocher de Tahiti",
           "Tiarei",
           "PF"
          ],
          [
           "Hotel São Marcos",
           "São Marcos",
           "BR"
          ],
          [
           "Wedgewood Motel",
           "Jamestown",
           "US"
          ],
          [
           "Holiday Inn Express Roseville-St. Paul",
           "Saint Anthony",
           "US"
          ]
         ],
         "hovertemplate": "Lat=%{lat}<br>Lon_x=%{lon}<br>Hotel Name=%{customdata[0]}<br>City=%{customdata[1]}<br>Country=%{customdata[2]}<br>Humidity=%{marker.color}<extra></extra>",
         "lat": [
          -23.1,
          42.1,
          -16.5,
          41.4,
          -25.4,
          -29.6,
          -35.3,
          -30.2,
          37.6,
          -23.2,
          30.5,
          40.6,
          18,
          20.9,
          37.1,
          35.2,
          -14.8,
          -17.7,
          41.1,
          43.7,
          30.4,
          42.6,
          31.5,
          41.7,
          8.3,
          -17.5,
          -29,
          42.1,
          45
         ],
         "legendgroup": "",
         "lon": [
          -135,
          -79.2,
          -151.8,
          -73.4,
          -70.5,
          -54.2,
          -72.4,
          -50.2,
          -122.5,
          -51,
          -116,
          -73.6,
          -102.2,
          -156.5,
          -113.6,
          -114.6,
          -64.9,
          -149.2,
          -73.3,
          -81.7,
          -88.5,
          -114.5,
          -110.3,
          -70.2,
          -80.5,
          -149.4,
          -51.1,
          -72.3,
          -93.2
         ],
         "marker": {
          "color": [
           73,
           81,
           79,
           67,
           61,
           72,
           55,
           64,
           72,
           56,
           72,
           null,
           82,
           69,
           34,
           35,
           64,
           69,
           59,
           null,
           78,
           27,
           null,
           51,
           88,
           69,
           64,
           81,
           77
          ],
          "coloraxis": "coloraxis"
         },
         "mode": "markers",
         "name": "",
         "showlegend": false,
         "subplot": "mapbox",
         "type": "scattermapbox"
        }
       ],
       "layout": {
        "coloraxis": {
         "colorbar": {
          "title": {
           "text": "Humidity"
          }
         },
         "colorscale": [
          [
           0,
           "#0d0887"
          ],
          [
           0.1111111111111111,
           "#46039f"
          ],
          [
           0.2222222222222222,
           "#7201a8"
          ],
          [
           0.3333333333333333,
           "#9c179e"
          ],
          [
           0.4444444444444444,
           "#bd3786"
          ],
          [
           0.5555555555555556,
           "#d8576b"
          ],
          [
           0.6666666666666666,
           "#ed7953"
          ],
          [
           0.7777777777777778,
           "#fb9f3a"
          ],
          [
           0.8888888888888888,
           "#fdca26"
          ],
          [
           1,
           "#f0f921"
          ]
         ]
        },
        "height": 850,
        "legend": {
         "tracegroupgap": 0
        },
        "mapbox": {
         "accesstoken": "pk.eyJ1Ijoic2x5c3N5IiwiYSI6ImNrZjl3MGl6bDBwd2Eyd3Jxc3lkcnpoZmcifQ.e7I6-TJ6eJx2yXOvgeKZLQ",
         "bearing": 0,
         "center": {
          "lat": -4.435687341131938,
          "lon": -88.21349623879286
         },
         "domain": {
          "x": [
           0,
           1
          ],
          "y": [
           0,
           1
          ]
         },
         "pitch": 0,
         "zoom": 1.1838805739224534
        },
        "template": {
         "data": {
          "bar": [
           {
            "error_x": {
             "color": "#2a3f5f"
            },
            "error_y": {
             "color": "#2a3f5f"
            },
            "marker": {
             "line": {
              "color": "#E5ECF6",
              "width": 0.5
             }
            },
            "type": "bar"
           }
          ],
          "barpolar": [
           {
            "marker": {
             "line": {
              "color": "#E5ECF6",
              "width": 0.5
             }
            },
            "type": "barpolar"
           }
          ],
          "carpet": [
           {
            "aaxis": {
             "endlinecolor": "#2a3f5f",
             "gridcolor": "white",
             "linecolor": "white",
             "minorgridcolor": "white",
             "startlinecolor": "#2a3f5f"
            },
            "baxis": {
             "endlinecolor": "#2a3f5f",
             "gridcolor": "white",
             "linecolor": "white",
             "minorgridcolor": "white",
             "startlinecolor": "#2a3f5f"
            },
            "type": "carpet"
           }
          ],
          "choropleth": [
           {
            "colorbar": {
             "outlinewidth": 0,
             "ticks": ""
            },
            "type": "choropleth"
           }
          ],
          "contour": [
           {
            "colorbar": {
             "outlinewidth": 0,
             "ticks": ""
            },
            "colorscale": [
             [
              0,
              "#0d0887"
             ],
             [
              0.1111111111111111,
              "#46039f"
             ],
             [
              0.2222222222222222,
              "#7201a8"
             ],
             [
              0.3333333333333333,
              "#9c179e"
             ],
             [
              0.4444444444444444,
              "#bd3786"
             ],
             [
              0.5555555555555556,
              "#d8576b"
             ],
             [
              0.6666666666666666,
              "#ed7953"
             ],
             [
              0.7777777777777778,
              "#fb9f3a"
             ],
             [
              0.8888888888888888,
              "#fdca26"
             ],
             [
              1,
              "#f0f921"
             ]
            ],
            "type": "contour"
           }
          ],
          "contourcarpet": [
           {
            "colorbar": {
             "outlinewidth": 0,
             "ticks": ""
            },
            "type": "contourcarpet"
           }
          ],
          "heatmap": [
           {
            "colorbar": {
             "outlinewidth": 0,
             "ticks": ""
            },
            "colorscale": [
             [
              0,
              "#0d0887"
             ],
             [
              0.1111111111111111,
              "#46039f"
             ],
             [
              0.2222222222222222,
              "#7201a8"
             ],
             [
              0.3333333333333333,
              "#9c179e"
             ],
             [
              0.4444444444444444,
              "#bd3786"
             ],
             [
              0.5555555555555556,
              "#d8576b"
             ],
             [
              0.6666666666666666,
              "#ed7953"
             ],
             [
              0.7777777777777778,
              "#fb9f3a"
             ],
             [
              0.8888888888888888,
              "#fdca26"
             ],
             [
              1,
              "#f0f921"
             ]
            ],
            "type": "heatmap"
           }
          ],
          "heatmapgl": [
           {
            "colorbar": {
             "outlinewidth": 0,
             "ticks": ""
            },
            "colorscale": [
             [
              0,
              "#0d0887"
             ],
             [
              0.1111111111111111,
              "#46039f"
             ],
             [
              0.2222222222222222,
              "#7201a8"
             ],
             [
              0.3333333333333333,
              "#9c179e"
             ],
             [
              0.4444444444444444,
              "#bd3786"
             ],
             [
              0.5555555555555556,
              "#d8576b"
             ],
             [
              0.6666666666666666,
              "#ed7953"
             ],
             [
              0.7777777777777778,
              "#fb9f3a"
             ],
             [
              0.8888888888888888,
              "#fdca26"
             ],
             [
              1,
              "#f0f921"
             ]
            ],
            "type": "heatmapgl"
           }
          ],
          "histogram": [
           {
            "marker": {
             "colorbar": {
              "outlinewidth": 0,
              "ticks": ""
             }
            },
            "type": "histogram"
           }
          ],
          "histogram2d": [
           {
            "colorbar": {
             "outlinewidth": 0,
             "ticks": ""
            },
            "colorscale": [
             [
              0,
              "#0d0887"
             ],
             [
              0.1111111111111111,
              "#46039f"
             ],
             [
              0.2222222222222222,
              "#7201a8"
             ],
             [
              0.3333333333333333,
              "#9c179e"
             ],
             [
              0.4444444444444444,
              "#bd3786"
             ],
             [
              0.5555555555555556,
              "#d8576b"
             ],
             [
              0.6666666666666666,
              "#ed7953"
             ],
             [
              0.7777777777777778,
              "#fb9f3a"
             ],
             [
              0.8888888888888888,
              "#fdca26"
             ],
             [
              1,
              "#f0f921"
             ]
            ],
            "type": "histogram2d"
           }
          ],
          "histogram2dcontour": [
           {
            "colorbar": {
             "outlinewidth": 0,
             "ticks": ""
            },
            "colorscale": [
             [
              0,
              "#0d0887"
             ],
             [
              0.1111111111111111,
              "#46039f"
             ],
             [
              0.2222222222222222,
              "#7201a8"
             ],
             [
              0.3333333333333333,
              "#9c179e"
             ],
             [
              0.4444444444444444,
              "#bd3786"
             ],
             [
              0.5555555555555556,
              "#d8576b"
             ],
             [
              0.6666666666666666,
              "#ed7953"
             ],
             [
              0.7777777777777778,
              "#fb9f3a"
             ],
             [
              0.8888888888888888,
              "#fdca26"
             ],
             [
              1,
              "#f0f921"
             ]
            ],
            "type": "histogram2dcontour"
           }
          ],
          "mesh3d": [
           {
            "colorbar": {
             "outlinewidth": 0,
             "ticks": ""
            },
            "type": "mesh3d"
           }
          ],
          "parcoords": [
           {
            "line": {
             "colorbar": {
              "outlinewidth": 0,
              "ticks": ""
             }
            },
            "type": "parcoords"
           }
          ],
          "pie": [
           {
            "automargin": true,
            "type": "pie"
           }
          ],
          "scatter": [
           {
            "marker": {
             "colorbar": {
              "outlinewidth": 0,
              "ticks": ""
             }
            },
            "type": "scatter"
           }
          ],
          "scatter3d": [
           {
            "line": {
             "colorbar": {
              "outlinewidth": 0,
              "ticks": ""
             }
            },
            "marker": {
             "colorbar": {
              "outlinewidth": 0,
              "ticks": ""
             }
            },
            "type": "scatter3d"
           }
          ],
          "scattercarpet": [
           {
            "marker": {
             "colorbar": {
              "outlinewidth": 0,
              "ticks": ""
             }
            },
            "type": "scattercarpet"
           }
          ],
          "scattergeo": [
           {
            "marker": {
             "colorbar": {
              "outlinewidth": 0,
              "ticks": ""
             }
            },
            "type": "scattergeo"
           }
          ],
          "scattergl": [
           {
            "marker": {
             "colorbar": {
              "outlinewidth": 0,
              "ticks": ""
             }
            },
            "type": "scattergl"
           }
          ],
          "scattermapbox": [
           {
            "marker": {
             "colorbar": {
              "outlinewidth": 0,
              "ticks": ""
             }
            },
            "type": "scattermapbox"
           }
          ],
          "scatterpolar": [
           {
            "marker": {
             "colorbar": {
              "outlinewidth": 0,
              "ticks": ""
             }
            },
            "type": "scatterpolar"
           }
          ],
          "scatterpolargl": [
           {
            "marker": {
             "colorbar": {
              "outlinewidth": 0,
              "ticks": ""
             }
            },
            "type": "scatterpolargl"
           }
          ],
          "scatterternary": [
           {
            "marker": {
             "colorbar": {
              "outlinewidth": 0,
              "ticks": ""
             }
            },
            "type": "scatterternary"
           }
          ],
          "surface": [
           {
            "colorbar": {
             "outlinewidth": 0,
             "ticks": ""
            },
            "colorscale": [
             [
              0,
              "#0d0887"
             ],
             [
              0.1111111111111111,
              "#46039f"
             ],
             [
              0.2222222222222222,
              "#7201a8"
             ],
             [
              0.3333333333333333,
              "#9c179e"
             ],
             [
              0.4444444444444444,
              "#bd3786"
             ],
             [
              0.5555555555555556,
              "#d8576b"
             ],
             [
              0.6666666666666666,
              "#ed7953"
             ],
             [
              0.7777777777777778,
              "#fb9f3a"
             ],
             [
              0.8888888888888888,
              "#fdca26"
             ],
             [
              1,
              "#f0f921"
             ]
            ],
            "type": "surface"
           }
          ],
          "table": [
           {
            "cells": {
             "fill": {
              "color": "#EBF0F8"
             },
             "line": {
              "color": "white"
             }
            },
            "header": {
             "fill": {
              "color": "#C8D4E3"
             },
             "line": {
              "color": "white"
             }
            },
            "type": "table"
           }
          ]
         },
         "layout": {
          "annotationdefaults": {
           "arrowcolor": "#2a3f5f",
           "arrowhead": 0,
           "arrowwidth": 1
          },
          "coloraxis": {
           "colorbar": {
            "outlinewidth": 0,
            "ticks": ""
           }
          },
          "colorscale": {
           "diverging": [
            [
             0,
             "#8e0152"
            ],
            [
             0.1,
             "#c51b7d"
            ],
            [
             0.2,
             "#de77ae"
            ],
            [
             0.3,
             "#f1b6da"
            ],
            [
             0.4,
             "#fde0ef"
            ],
            [
             0.5,
             "#f7f7f7"
            ],
            [
             0.6,
             "#e6f5d0"
            ],
            [
             0.7,
             "#b8e186"
            ],
            [
             0.8,
             "#7fbc41"
            ],
            [
             0.9,
             "#4d9221"
            ],
            [
             1,
             "#276419"
            ]
           ],
           "sequential": [
            [
             0,
             "#0d0887"
            ],
            [
             0.1111111111111111,
             "#46039f"
            ],
            [
             0.2222222222222222,
             "#7201a8"
            ],
            [
             0.3333333333333333,
             "#9c179e"
            ],
            [
             0.4444444444444444,
             "#bd3786"
            ],
            [
             0.5555555555555556,
             "#d8576b"
            ],
            [
             0.6666666666666666,
             "#ed7953"
            ],
            [
             0.7777777777777778,
             "#fb9f3a"
            ],
            [
             0.8888888888888888,
             "#fdca26"
            ],
            [
             1,
             "#f0f921"
            ]
           ],
           "sequentialminus": [
            [
             0,
             "#0d0887"
            ],
            [
             0.1111111111111111,
             "#46039f"
            ],
            [
             0.2222222222222222,
             "#7201a8"
            ],
            [
             0.3333333333333333,
             "#9c179e"
            ],
            [
             0.4444444444444444,
             "#bd3786"
            ],
            [
             0.5555555555555556,
             "#d8576b"
            ],
            [
             0.6666666666666666,
             "#ed7953"
            ],
            [
             0.7777777777777778,
             "#fb9f3a"
            ],
            [
             0.8888888888888888,
             "#fdca26"
            ],
            [
             1,
             "#f0f921"
            ]
           ]
          },
          "colorway": [
           "#636efa",
           "#EF553B",
           "#00cc96",
           "#ab63fa",
           "#FFA15A",
           "#19d3f3",
           "#FF6692",
           "#B6E880",
           "#FF97FF",
           "#FECB52"
          ],
          "font": {
           "color": "#2a3f5f"
          },
          "geo": {
           "bgcolor": "white",
           "lakecolor": "white",
           "landcolor": "#E5ECF6",
           "showlakes": true,
           "showland": true,
           "subunitcolor": "white"
          },
          "hoverlabel": {
           "align": "left"
          },
          "hovermode": "closest",
          "mapbox": {
           "style": "light"
          },
          "paper_bgcolor": "white",
          "plot_bgcolor": "#E5ECF6",
          "polar": {
           "angularaxis": {
            "gridcolor": "white",
            "linecolor": "white",
            "ticks": ""
           },
           "bgcolor": "#E5ECF6",
           "radialaxis": {
            "gridcolor": "white",
            "linecolor": "white",
            "ticks": ""
           }
          },
          "scene": {
           "xaxis": {
            "backgroundcolor": "#E5ECF6",
            "gridcolor": "white",
            "gridwidth": 2,
            "linecolor": "white",
            "showbackground": true,
            "ticks": "",
            "zerolinecolor": "white"
           },
           "yaxis": {
            "backgroundcolor": "#E5ECF6",
            "gridcolor": "white",
            "gridwidth": 2,
            "linecolor": "white",
            "showbackground": true,
            "ticks": "",
            "zerolinecolor": "white"
           },
           "zaxis": {
            "backgroundcolor": "#E5ECF6",
            "gridcolor": "white",
            "gridwidth": 2,
            "linecolor": "white",
            "showbackground": true,
            "ticks": "",
            "zerolinecolor": "white"
           }
          },
          "shapedefaults": {
           "line": {
            "color": "#2a3f5f"
           }
          },
          "ternary": {
           "aaxis": {
            "gridcolor": "white",
            "linecolor": "white",
            "ticks": ""
           },
           "baxis": {
            "gridcolor": "white",
            "linecolor": "white",
            "ticks": ""
           },
           "bgcolor": "#E5ECF6",
           "caxis": {
            "gridcolor": "white",
            "linecolor": "white",
            "ticks": ""
           }
          },
          "title": {
           "x": 0.05
          },
          "xaxis": {
           "automargin": true,
           "gridcolor": "white",
           "linecolor": "white",
           "ticks": "",
           "title": {
            "standoff": 15
           },
           "zerolinecolor": "white",
           "zerolinewidth": 2
          },
          "yaxis": {
           "automargin": true,
           "gridcolor": "white",
           "linecolor": "white",
           "ticks": "",
           "title": {
            "standoff": 15
           },
           "zerolinecolor": "white",
           "zerolinewidth": 2
          }
         }
        },
        "title": {
         "text": "Perfect Weather Vaction Spots w/ Hotels as of 9/25/2020"
        },
        "width": 1000
       }
      },
      "image/png": "[encoded data removed]",
      "text/html": [
       "<div>                            <div id=\"c04db275-c353-4f96-be8d-3d8d568fa50d\" class=\"plotly-graph-div\" style=\"height:850px; width:1000px;\"></div>            <script type=\"text/javascript\">                require([\"plotly\"], function(Plotly) {                    window.PLOTLYENV=window.PLOTLYENV || {};                                    if (document.getElementById(\"c04db275-c353-4f96-be8d-3d8d568fa50d\")) {                    Plotly.newPlot(                        \"c04db275-c353-4f96-be8d-3d8d568fa50d\",                        [{\"customdata\": [[\"Pension Maro'i\", \"Rikitea\", \"PF\"], [\"Hampton Inn & Suites Jamestown\", \"Jamestown\", \"US\"], [\"Bora-Bora Pearl Beach Resort & Spa\", \"Faanui\", \"PF\"], [\"Courtyard by Marriott Danbury\", \"Bethel\", \"US\"], [\"Residencial Karime\", \"Taltal\", \"CL\"], [\"S\\u00edtio Hotel e Eventos\", \"S\\u00e3o Pedro do Sul\", \"BR\"], [\"Hotel Boutique Las Azucenas\", \"Constituci\\u00f3n\", \"CL\"], [\"Hotel Castelo\", \"Cidreira\", \"BR\"], [\"Pacifica Lighthouse, Trademark Collection by Wyndham\", \"Pacifica\", \"US\"], [\"Ch\\u00e1cara Cris e Dui\", \"Jataizinho\", \"BR\"], [\"Old Mill Hotel\", \"San Quint\\u00edn\", \"MX\"], [\"The Freeport Inn and Marina\", null, null], [\"Collection O Hotel Quinta Antigua\", \"L\\u00e1zaro C\\u00e1rdenas\", \"MX\"], [\"Maui Seaside Hotel\", \"Kahului\", \"US\"], [\"Best Western Plus Abbey Inn\", \"Saint George\", \"US\"], [\"Golden Nugget Laughlin Hotel & Casino\", \"Bullhead City\", \"US\"], [\"Hotel Piesta\", \"La Santisima Trinidad\", \"BO\"], [\"Pension Oaoa\", \"Tautira\", \"PF\"], [\"The Westport Inn\", \"Westport\", \"US\"], [\"Harmony Inn\", null, null], [\"Regency Inn\", \"Pascagoula\", \"US\"], [\"Holiday Inn Express & Suites Twin Falls\", \"Twin Falls\", \"US\"], [\"Holiday Inn Express Sierra Vista\", null, null], [\"The Inn At Cape Cod\", \"Yarmouth\", \"US\"], [\"Residencial D Cache\", \"Pocr\\u00ed\", \"PA\"], [\"Le Rocher de Tahiti\", \"Tiarei\", \"PF\"], [\"Hotel S\\u00e3o Marcos\", \"S\\u00e3o Marcos\", \"BR\"], [\"Wedgewood Motel\", \"Jamestown\", \"US\"], [\"Holiday Inn Express Roseville-St. Paul\", \"Saint Anthony\", \"US\"]], \"hovertemplate\": \"Lat=%{lat}<br>Lon_x=%{lon}<br>Hotel Name=%{customdata[0]}<br>City=%{customdata[1]}<br>Country=%{customdata[2]}<br>Humidity=%{marker.color}<extra></extra>\", \"lat\": [-23.1, 42.1, -16.5, 41.4, -25.4, -29.6, -35.3, -30.2, 37.6, -23.2, 30.5, 40.6, 18.0, 20.9, 37.1, 35.2, -14.8, -17.7, 41.1, 43.7, 30.4, 42.6, 31.5, 41.7, 8.3, -17.5, -29.0, 42.1, 45.0], \"legendgroup\": \"\", \"lon\": [-135.0, -79.2, -151.8, -73.4, -70.5, -54.2, -72.4, -50.2, -122.5, -51.0, -116.0, -73.6, -102.2, -156.5, -113.6, -114.6, -64.9, -149.2, -73.3, -81.7, -88.5, -114.5, -110.3, -70.2, -80.5, -149.4, -51.1, -72.3, -93.2], \"marker\": {\"color\": [73.0, 81.0, 79.0, 67.0, 61.0, 72.0, 55.0, 64.0, 72.0, 56.0, 72.0, null, 82.0, 69.0, 34.0, 35.0, 64.0, 69.0, 59.0, null, 78.0, 27.0, null, 51.0, 88.0, 69.0, 64.0, 81.0, 77.0], \"coloraxis\": \"coloraxis\"}, \"mode\": \"markers\", \"name\": \"\", \"showlegend\": false, \"subplot\": \"mapbox\", \"type\": \"scattermapbox\"}],                        {\"coloraxis\": {\"colorbar\": {\"title\": {\"text\": \"Humidity\"}}, \"colorscale\": [[0.0, \"#0d0887\"], [0.1111111111111111, \"#46039f\"], [0.2222222222222222, \"#7201a8\"], [0.3333333333333333, \"#9c179e\"], [0.4444444444444444, \"#bd3786\"], [0.5555555555555556, \"#d8576b\"], [0.6666666666666666, \"#ed7953\"], [0.7777777777777778, \"#fb9f3a\"], [0.8888888888888888, \"#fdca26\"], [1.0, \"#f0f921\"]]}, \"height\": 850, \"legend\": {\"tracegroupgap\": 0}, \"mapbox\": {\"accesstoken\": \"pk.eyJ1Ijoic2x5c3N5IiwiYSI6ImNrZjl3MGl6bDBwd2Eyd3Jxc3lkcnpoZmcifQ.e7I6-TJ6eJx2yXOvgeKZLQ\", \"center\": {\"lat\": 12.67241379310345, \"lon\": -94.33793103448276}, \"domain\": {\"x\": [0.0, 1.0], \"y\": [0.0, 1.0]}, \"zoom\": 8}, \"template\": {\"data\": {\"bar\": [{\"error_x\": {\"color\": \"#2a3f5f\"}, \"error_y\": {\"color\": \"#2a3f5f\"}, \"marker\": {\"line\": {\"color\": \"#E5ECF6\", \"width\": 0.5}}, \"type\": \"bar\"}], \"barpolar\": [{\"marker\": {\"line\": {\"color\": \"#E5ECF6\", \"width\": 0.5}}, \"type\": \"barpolar\"}], \"carpet\": [{\"aaxis\": {\"endlinecolor\": \"#2a3f5f\", \"gridcolor\": \"white\", \"linecolor\": \"white\", \"minorgridcolor\": \"white\", \"startlinecolor\": \"#2a3f5f\"}, \"baxis\": {\"endlinecolor\": \"#2a3f5f\", \"gridcolor\": \"white\", \"linecolor\": \"white\", \"minorgridcolor\": \"white\", \"startlinecolor\": \"#2a3f5f\"}, \"type\": \"carpet\"}], \"choropleth\": [{\"colorbar\": {\"outlinewidth\": 0, \"ticks\": \"\"}, \"type\": \"choropleth\"}], \"contour\": [{\"colorbar\": {\"outlinewidth\": 0, \"ticks\": \"\"}, \"colorscale\": [[0.0, \"#0d0887\"], [0.1111111111111111, \"#46039f\"], [0.2222222222222222, \"#7201a8\"], [0.3333333333333333, \"#9c179e\"], [0.4444444444444444, \"#bd3786\"], [0.5555555555555556, \"#d8576b\"], [0.6666666666666666, \"#ed7953\"], [0.7777777777777778, \"#fb9f3a\"], [0.8888888888888888, \"#fdca26\"], [1.0, \"#f0f921\"]], \"type\": \"contour\"}], \"contourcarpet\": [{\"colorbar\": {\"outlinewidth\": 0, \"ticks\": \"\"}, \"type\": \"contourcarpet\"}], \"heatmap\": [{\"colorbar\": {\"outlinewidth\": 0, \"ticks\": \"\"}, \"colorscale\": [[0.0, \"#0d0887\"], [0.1111111111111111, \"#46039f\"], [0.2222222222222222, \"#7201a8\"], [0.3333333333333333, \"#9c179e\"], [0.4444444444444444, \"#bd3786\"], [0.5555555555555556, \"#d8576b\"], [0.6666666666666666, \"#ed7953\"], [0.7777777777777778, \"#fb9f3a\"], [0.8888888888888888, \"#fdca26\"], [1.0, \"#f0f921\"]], \"type\": \"heatmap\"}], \"heatmapgl\": [{\"colorbar\": {\"outlinewidth\": 0, \"ticks\": \"\"}, \"colorscale\": [[0.0, \"#0d0887\"], [0.1111111111111111, \"#46039f\"], [0.2222222222222222, \"#7201a8\"], [0.3333333333333333, \"#9c179e\"], [0.4444444444444444, \"#bd3786\"], [0.5555555555555556, \"#d8576b\"], [0.6666666666666666, \"#ed7953\"], [0.7777777777777778, \"#fb9f3a\"], [0.8888888888888888, \"#fdca26\"], [1.0, \"#f0f921\"]], \"type\": \"heatmapgl\"}], \"histogram\": [{\"marker\": {\"colorbar\": {\"outlinewidth\": 0, \"ticks\": \"\"}}, \"type\": \"histogram\"}], \"histogram2d\": [{\"colorbar\": {\"outlinewidth\": 0, \"ticks\": \"\"}, \"colorscale\": [[0.0, \"#0d0887\"], [0.1111111111111111, \"#46039f\"], [0.2222222222222222, \"#7201a8\"], [0.3333333333333333, \"#9c179e\"], [0.4444444444444444, \"#bd3786\"], [0.5555555555555556, \"#d8576b\"], [0.6666666666666666, \"#ed7953\"], [0.7777777777777778, \"#fb9f3a\"], [0.8888888888888888, \"#fdca26\"], [1.0, \"#f0f921\"]], \"type\": \"histogram2d\"}], \"histogram2dcontour\": [{\"colorbar\": {\"outlinewidth\": 0, \"ticks\": \"\"}, \"colorscale\": [[0.0, \"#0d0887\"], [0.1111111111111111, \"#46039f\"], [0.2222222222222222, \"#7201a8\"], [0.3333333333333333, \"#9c179e\"], [0.4444444444444444, \"#bd3786\"], [0.5555555555555556, \"#d8576b\"], [0.6666666666666666, \"#ed7953\"], [0.7777777777777778, \"#fb9f3a\"], [0.8888888888888888, \"#fdca26\"], [1.0, \"#f0f921\"]], \"type\": \"histogram2dcontour\"}], \"mesh3d\": [{\"colorbar\": {\"outlinewidth\": 0, \"ticks\": \"\"}, \"type\": \"mesh3d\"}], \"parcoords\": [{\"line\": {\"colorbar\": {\"outlinewidth\": 0, \"ticks\": \"\"}}, \"type\": \"parcoords\"}], \"pie\": [{\"automargin\": true, \"type\": \"pie\"}], \"scatter\": [{\"marker\": {\"colorbar\": {\"outlinewidth\": 0, \"ticks\": \"\"}}, \"type\": \"scatter\"}], \"scatter3d\": [{\"line\": {\"colorbar\": {\"outlinewidth\": 0, \"ticks\": \"\"}}, \"marker\": {\"colorbar\": {\"outlinewidth\": 0, \"ticks\": \"\"}}, \"type\": \"scatter3d\"}], \"scattercarpet\": [{\"marker\": {\"colorbar\": {\"outlinewidth\": 0, \"ticks\": \"\"}}, \"type\": \"scattercarpet\"}], \"scattergeo\": [{\"marker\": {\"colorbar\": {\"outlinewidth\": 0, \"ticks\": \"\"}}, \"type\": \"scattergeo\"}], \"scattergl\": [{\"marker\": {\"colorbar\": {\"outlinewidth\": 0, \"ticks\": \"\"}}, \"type\": \"scattergl\"}], \"scattermapbox\": [{\"marker\": {\"colorbar\": {\"outlinewidth\": 0, \"ticks\": \"\"}}, \"type\": \"scattermapbox\"}], \"scatterpolar\": [{\"marker\": {\"colorbar\": {\"outlinewidth\": 0, \"ticks\": \"\"}}, \"type\": \"scatterpolar\"}], \"scatterpolargl\": [{\"marker\": {\"colorbar\": {\"outlinewidth\": 0, \"ticks\": \"\"}}, \"type\": \"scatterpolargl\"}], \"scatterternary\": [{\"marker\": {\"colorbar\": {\"outlinewidth\": 0, \"ticks\": \"\"}}, \"type\": \"scatterternary\"}], \"surface\": [{\"colorbar\": {\"outlinewidth\": 0, \"ticks\": \"\"}, \"colorscale\": [[0.0, \"#0d0887\"], [0.1111111111111111, \"#46039f\"], [0.2222222222222222, \"#7201a8\"], [0.3333333333333333, \"#9c179e\"], [0.4444444444444444, \"#bd3786\"], [0.5555555555555556, \"#d8576b\"], [0.6666666666666666, \"#ed7953\"], [0.7777777777777778, \"#fb9f3a\"], [0.8888888888888888, \"#fdca26\"], [1.0, \"#f0f921\"]], \"type\": \"surface\"}], \"table\": [{\"cells\": {\"fill\": {\"color\": \"#EBF0F8\"}, \"line\": {\"color\": \"white\"}}, \"header\": {\"fill\": {\"color\": \"#C8D4E3\"}, \"line\": {\"color\": \"white\"}}, \"type\": \"table\"}]}, \"layout\": {\"annotationdefaults\": {\"arrowcolor\": \"#2a3f5f\", \"arrowhead\": 0, \"arrowwidth\": 1}, \"coloraxis\": {\"colorbar\": {\"outlinewidth\": 0, \"ticks\": \"\"}}, \"colorscale\": {\"diverging\": [[0, \"#8e0152\"], [0.1, \"#c51b7d\"], [0.2, \"#de77ae\"], [0.3, \"#f1b6da\"], [0.4, \"#fde0ef\"], [0.5, \"#f7f7f7\"], [0.6, \"#e6f5d0\"], [0.7, \"#b8e186\"], [0.8, \"#7fbc41\"], [0.9, \"#4d9221\"], [1, \"#276419\"]], \"sequential\": [[0.0, \"#0d0887\"], [0.1111111111111111, \"#46039f\"], [0.2222222222222222, \"#7201a8\"], [0.3333333333333333, \"#9c179e\"], [0.4444444444444444, \"#bd3786\"], [0.5555555555555556, \"#d8576b\"], [0.6666666666666666, \"#ed7953\"], [0.7777777777777778, \"#fb9f3a\"], [0.8888888888888888, \"#fdca26\"], [1.0, \"#f0f921\"]], \"sequentialminus\": [[0.0, \"#0d0887\"], [0.1111111111111111, \"#46039f\"], [0.2222222222222222, \"#7201a8\"], [0.3333333333333333, \"#9c179e\"], [0.4444444444444444, \"#bd3786\"], [0.5555555555555556, \"#d8576b\"], [0.6666666666666666, \"#ed7953\"], [0.7777777777777778, \"#fb9f3a\"], [0.8888888888888888, \"#fdca26\"], [1.0, \"#f0f921\"]]}, \"colorway\": [\"#636efa\", \"#EF553B\", \"#00cc96\", \"#ab63fa\", \"#FFA15A\", \"#19d3f3\", \"#FF6692\", \"#B6E880\", \"#FF97FF\", \"#FECB52\"], \"font\": {\"color\": \"#2a3f5f\"}, \"geo\": {\"bgcolor\": \"white\", \"lakecolor\": \"white\", \"landcolor\": \"#E5ECF6\", \"showlakes\": true, \"showland\": true, \"subunitcolor\": \"white\"}, \"hoverlabel\": {\"align\": \"left\"}, \"hovermode\": \"closest\", \"mapbox\": {\"style\": \"light\"}, \"paper_bgcolor\": \"white\", \"plot_bgcolor\": \"#E5ECF6\", \"polar\": {\"angularaxis\": {\"gridcolor\": \"white\", \"linecolor\": \"white\", \"ticks\": \"\"}, \"bgcolor\": \"#E5ECF6\", \"radialaxis\": {\"gridcolor\": \"white\", \"linecolor\": \"white\", \"ticks\": \"\"}}, \"scene\": {\"xaxis\": {\"backgroundcolor\": \"#E5ECF6\", \"gridcolor\": \"white\", \"gridwidth\": 2, \"linecolor\": \"white\", \"showbackground\": true, \"ticks\": \"\", \"zerolinecolor\": \"white\"}, \"yaxis\": {\"backgroundcolor\": \"#E5ECF6\", \"gridcolor\": \"white\", \"gridwidth\": 2, \"linecolor\": \"white\", \"showbackground\": true, \"ticks\": \"\", \"zerolinecolor\": \"white\"}, \"zaxis\": {\"backgroundcolor\": \"#E5ECF6\", \"gridcolor\": \"white\", \"gridwidth\": 2, \"linecolor\": \"white\", \"showbackground\": true, \"ticks\": \"\", \"zerolinecolor\": \"white\"}}, \"shapedefaults\": {\"line\": {\"color\": \"#2a3f5f\"}}, \"ternary\": {\"aaxis\": {\"gridcolor\": \"white\", \"linecolor\": \"white\", \"ticks\": \"\"}, \"baxis\": {\"gridcolor\": \"white\", \"linecolor\": \"white\", \"ticks\": \"\"}, \"bgcolor\": \"#E5ECF6\", \"caxis\": {\"gridcolor\": \"white\", \"linecolor\": \"white\", \"ticks\": \"\"}}, \"title\": {\"x\": 0.05}, \"xaxis\": {\"automargin\": true, \"gridcolor\": \"white\", \"linecolor\": \"white\", \"ticks\": \"\", \"title\": {\"standoff\": 15}, \"zerolinecolor\": \"white\", \"zerolinewidth\": 2}, \"yaxis\": {\"automargin\": true, \"gridcolor\": \"white\", \"linecolor\": \"white\", \"ticks\": \"\", \"title\": {\"standoff\": 15}, \"zerolinecolor\": \"white\", \"zerolinewidth\": 2}}}, \"title\": {\"text\": \"Perfect Weather Vaction Spots w/ Hotels as of 9/25/2020\"}, \"width\": 1000},                        {\"responsive\": true}                    ).then(function(){\n",
       "                            \n",
       "var gd = document.getElementById('c04db275-c353-4f96-be8d-3d8d568fa50d');\n",
       "var x = new MutationObserver(function (mutations, observer) {{\n",
       "        var display = window.getComputedStyle(gd).display;\n",
       "        if (!display || display === 'none') {{\n",
       "            console.log([gd, 'removed!']);\n",
       "            Plotly.purge(gd);\n",
       "            observer.disconnect();\n",
       "        }}\n",
       "}});\n",
       "\n",
       "// Listen for the removal of the full notebook cells\n",
       "var notebookContainer = gd.closest('#notebook-container');\n",
       "if (notebookContainer) {{\n",
       "    x.observe(notebookContainer, {childList: true});\n",
       "}}\n",
       "\n",
       "// Listen for the clearing of the current output cell\n",
       "var outputEl = gd.closest('.output');\n",
       "if (outputEl) {{\n",
       "    x.observe(outputEl, {childList: true});\n",
       "}}\n",
       "\n",
       "                        })                };                });            </script>        </div>"
      ]
     },
     "metadata": {},
     "output_type": "display_data"
    }
   ],
   "source": [
    "fig.show()"
   ]
  },
  {
   "cell_type": "code",
   "execution_count": null,
   "metadata": {},
   "outputs": [],
   "source": []
  }
 ],
 "metadata": {
  "environment": {
   "name": "common-cpu.m54",
   "type": "gcloud",
   "uri": "gcr.io/deeplearning-platform-release/base-cpu:m54"
  },
  "kernelspec": {
   "display_name": "Python 3",
   "language": "python",
   "name": "python3"
  },
  "language_info": {
   "codemirror_mode": {
    "name": "ipython",
    "version": 3
   },
   "file_extension": ".py",
   "mimetype": "text/x-python",
   "name": "python",
   "nbconvert_exporter": "python",
   "pygments_lexer": "ipython3",
   "version": "3.7.8"
  }
 },
 "nbformat": 4,
 "nbformat_minor": 4
}
