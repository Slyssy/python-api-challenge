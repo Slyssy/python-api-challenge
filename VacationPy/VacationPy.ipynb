{
 "cells": [
  {
   "cell_type": "code",
   "execution_count": 1,
   "metadata": {},
   "outputs": [],
   "source": [
    "%load_ext lab_black\n",
    "import pandas as pd\n",
    "import json\n",
    "import requests\n",
    "import numpy as np\n",
    "\n",
    "from config import g_key\n",
    "from config import mapbox_token\n",
    "\n",
    "import plotly.express as px"
   ]
  },
  {
   "cell_type": "markdown",
   "metadata": {},
   "source": [
    "# Part II : VacationPy\n",
    "----\n"
   ]
  },
  {
   "cell_type": "code",
   "execution_count": 2,
   "metadata": {},
   "outputs": [
    {
     "data": {
      "text/html": [
       "<div>\n",
       "<style scoped>\n",
       "    .dataframe tbody tr th:only-of-type {\n",
       "        vertical-align: middle;\n",
       "    }\n",
       "\n",
       "    .dataframe tbody tr th {\n",
       "        vertical-align: top;\n",
       "    }\n",
       "\n",
       "    .dataframe thead th {\n",
       "        text-align: right;\n",
       "    }\n",
       "</style>\n",
       "<table border=\"1\" class=\"dataframe\">\n",
       "  <thead>\n",
       "    <tr style=\"text-align: right;\">\n",
       "      <th></th>\n",
       "      <th>Unnamed: 0</th>\n",
       "      <th>City</th>\n",
       "      <th>Lat</th>\n",
       "      <th>Lon</th>\n",
       "      <th>Max Temp</th>\n",
       "      <th>Humidity</th>\n",
       "      <th>Cloudiness</th>\n",
       "      <th>Wind Speed</th>\n",
       "      <th>Country</th>\n",
       "      <th>Date</th>\n",
       "    </tr>\n",
       "  </thead>\n",
       "  <tbody>\n",
       "    <tr>\n",
       "      <th>0</th>\n",
       "      <td>0</td>\n",
       "      <td>Bambous Virieux</td>\n",
       "      <td>-20.34</td>\n",
       "      <td>57.76</td>\n",
       "      <td>75.2</td>\n",
       "      <td>60</td>\n",
       "      <td>40</td>\n",
       "      <td>6.93</td>\n",
       "      <td>MU</td>\n",
       "      <td>1600869990</td>\n",
       "    </tr>\n",
       "    <tr>\n",
       "      <th>1</th>\n",
       "      <td>1</td>\n",
       "      <td>Barrow</td>\n",
       "      <td>71.29</td>\n",
       "      <td>-156.79</td>\n",
       "      <td>30.2</td>\n",
       "      <td>68</td>\n",
       "      <td>90</td>\n",
       "      <td>6.93</td>\n",
       "      <td>US</td>\n",
       "      <td>1600869902</td>\n",
       "    </tr>\n",
       "  </tbody>\n",
       "</table>\n",
       "</div>"
      ],
      "text/plain": [
       "   Unnamed: 0             City    Lat     Lon  Max Temp  Humidity  Cloudiness  \\\n",
       "0           0  Bambous Virieux -20.34   57.76      75.2        60          40   \n",
       "1           1           Barrow  71.29 -156.79      30.2        68          90   \n",
       "\n",
       "   Wind Speed Country        Date  \n",
       "0        6.93      MU  1600869990  \n",
       "1        6.93      US  1600869902  "
      ]
     },
     "execution_count": 2,
     "metadata": {},
     "output_type": "execute_result"
    }
   ],
   "source": [
    "city_data_to_load = \"Resources/city_result.csv\"\n",
    "\n",
    "city_data = pd.read_csv(city_data_to_load)\n",
    "df = city_data\n",
    "df.head(2)"
   ]
  },
  {
   "cell_type": "code",
   "execution_count": 22,
   "metadata": {},
   "outputs": [
    {
     "data": {
      "text/html": [
       "<div>\n",
       "<style scoped>\n",
       "    .dataframe tbody tr th:only-of-type {\n",
       "        vertical-align: middle;\n",
       "    }\n",
       "\n",
       "    .dataframe tbody tr th {\n",
       "        vertical-align: top;\n",
       "    }\n",
       "\n",
       "    .dataframe thead th {\n",
       "        text-align: right;\n",
       "    }\n",
       "</style>\n",
       "<table border=\"1\" class=\"dataframe\">\n",
       "  <thead>\n",
       "    <tr style=\"text-align: right;\">\n",
       "      <th></th>\n",
       "      <th>City</th>\n",
       "      <th>Lat</th>\n",
       "      <th>Lon</th>\n",
       "      <th>Max Temp</th>\n",
       "      <th>Humidity</th>\n",
       "      <th>Cloudiness</th>\n",
       "      <th>Wind Speed</th>\n",
       "      <th>Country</th>\n",
       "      <th>Lat_Lon</th>\n",
       "    </tr>\n",
       "  </thead>\n",
       "  <tbody>\n",
       "    <tr>\n",
       "      <th>0</th>\n",
       "      <td>Bambous Virieux</td>\n",
       "      <td>-20.34</td>\n",
       "      <td>57.76</td>\n",
       "      <td>75.2</td>\n",
       "      <td>60</td>\n",
       "      <td>40</td>\n",
       "      <td>6.93</td>\n",
       "      <td>MU</td>\n",
       "      <td>-20.34,57.76</td>\n",
       "    </tr>\n",
       "    <tr>\n",
       "      <th>1</th>\n",
       "      <td>Barrow</td>\n",
       "      <td>71.29</td>\n",
       "      <td>-156.79</td>\n",
       "      <td>30.2</td>\n",
       "      <td>68</td>\n",
       "      <td>90</td>\n",
       "      <td>6.93</td>\n",
       "      <td>US</td>\n",
       "      <td>71.29,-156.79</td>\n",
       "    </tr>\n",
       "  </tbody>\n",
       "</table>\n",
       "</div>"
      ],
      "text/plain": [
       "              City    Lat     Lon  Max Temp  Humidity  Cloudiness  Wind Speed  \\\n",
       "0  Bambous Virieux -20.34   57.76      75.2        60          40        6.93   \n",
       "1           Barrow  71.29 -156.79      30.2        68          90        6.93   \n",
       "\n",
       "  Country        Lat_Lon  \n",
       "0      MU   -20.34,57.76  \n",
       "1      US  71.29,-156.79  "
      ]
     },
     "execution_count": 22,
     "metadata": {},
     "output_type": "execute_result"
    }
   ],
   "source": [
    "# Adding a new column to the DataFrame that will house the Lat and Lon together as a string.\n",
    "\n",
    "df[\"Lat_Lon\"] = df[\"Lat\"].astype(str) + \",\" + df[\"Lon\"].astype(str)\n",
    "df.head(2)"
   ]
  },
  {
   "cell_type": "code",
   "execution_count": 4,
   "metadata": {},
   "outputs": [],
   "source": [
    "# Dropping unnecessary columns.\n",
    "df.drop(columns=[\"Unnamed: 0\", \"Date\"], inplace=True)"
   ]
  },
  {
   "cell_type": "code",
   "execution_count": 21,
   "metadata": {},
   "outputs": [
    {
     "data": {
      "text/html": [
       "<div>\n",
       "<style scoped>\n",
       "    .dataframe tbody tr th:only-of-type {\n",
       "        vertical-align: middle;\n",
       "    }\n",
       "\n",
       "    .dataframe tbody tr th {\n",
       "        vertical-align: top;\n",
       "    }\n",
       "\n",
       "    .dataframe thead th {\n",
       "        text-align: right;\n",
       "    }\n",
       "</style>\n",
       "<table border=\"1\" class=\"dataframe\">\n",
       "  <thead>\n",
       "    <tr style=\"text-align: right;\">\n",
       "      <th></th>\n",
       "      <th>City</th>\n",
       "      <th>Lat</th>\n",
       "      <th>Lon</th>\n",
       "      <th>Max Temp</th>\n",
       "      <th>Humidity</th>\n",
       "      <th>Cloudiness</th>\n",
       "      <th>Wind Speed</th>\n",
       "      <th>Country</th>\n",
       "      <th>Lat_Lon</th>\n",
       "    </tr>\n",
       "  </thead>\n",
       "  <tbody>\n",
       "    <tr>\n",
       "      <th>7</th>\n",
       "      <td>Rikitea</td>\n",
       "      <td>-23.12</td>\n",
       "      <td>-134.97</td>\n",
       "      <td>71.92</td>\n",
       "      <td>73</td>\n",
       "      <td>1</td>\n",
       "      <td>13.85</td>\n",
       "      <td>PF</td>\n",
       "      <td>-23.12,-134.97</td>\n",
       "    </tr>\n",
       "    <tr>\n",
       "      <th>8</th>\n",
       "      <td>Aksu</td>\n",
       "      <td>41.12</td>\n",
       "      <td>80.26</td>\n",
       "      <td>70.07</td>\n",
       "      <td>25</td>\n",
       "      <td>0</td>\n",
       "      <td>3.09</td>\n",
       "      <td>CN</td>\n",
       "      <td>41.12,80.26</td>\n",
       "    </tr>\n",
       "  </tbody>\n",
       "</table>\n",
       "</div>"
      ],
      "text/plain": [
       "      City    Lat     Lon  Max Temp  Humidity  Cloudiness  Wind Speed Country  \\\n",
       "7  Rikitea -23.12 -134.97     71.92        73           1       13.85      PF   \n",
       "8     Aksu  41.12   80.26     70.07        25           0        3.09      CN   \n",
       "\n",
       "          Lat_Lon  \n",
       "7  -23.12,-134.97  \n",
       "8     41.12,80.26  "
      ]
     },
     "execution_count": 21,
     "metadata": {},
     "output_type": "execute_result"
    }
   ],
   "source": [
    "# Filtering DataFrame to display only those cities with ideal weather conditions.\n",
    "perfect_weather_df = df[\n",
    "    (df[\"Max Temp\"] <= 80)\n",
    "    & (df[\"Max Temp\"] >= 60)\n",
    "    & (df[\"Wind Speed\"] <= 20)\n",
    "    & (df[\"Cloudiness\"] <= 30)\n",
    "]\n",
    "perfect_weather_df.head(2)"
   ]
  },
  {
   "cell_type": "code",
   "execution_count": 6,
   "metadata": {},
   "outputs": [
    {
     "data": {
      "text/plain": [
       "85"
      ]
     },
     "execution_count": 6,
     "metadata": {},
     "output_type": "execute_result"
    }
   ],
   "source": [
    "perfect_weather_df[\"Lat_Lon\"].value_counts().sum()"
   ]
  },
  {
   "cell_type": "code",
   "execution_count": 7,
   "metadata": {},
   "outputs": [],
   "source": [
    "lat_lon_list = perfect_weather_df[\"Lat_Lon\"].tolist()"
   ]
  },
  {
   "cell_type": "code",
   "execution_count": 23,
   "metadata": {},
   "outputs": [],
   "source": [
    "# Creating the API request and testing it by creating a Json for a single city from the list I created above.\n",
    "hotels = requests.get(\n",
    "    \"https://maps.googleapis.com/maps/api/place/nearbysearch/json\",\n",
    "    params={\n",
    "        \"key\": g_key,\n",
    "        \"location\": lat_lon_list[17],\n",
    "        \"radius\": \"5000\",\n",
    "        \"type\": \"lodging\",\n",
    "    },\n",
    ").json()"
   ]
  },
  {
   "cell_type": "code",
   "execution_count": 9,
   "metadata": {},
   "outputs": [
    {
     "data": {
      "text/plain": [
       "{'html_attributions': [],\n",
       " 'results': [{'business_status': 'OPERATIONAL',\n",
       "   'geometry': {'location': {'lat': 41.4113711, 'lng': -73.4152646},\n",
       "    'viewport': {'northeast': {'lat': 41.4126229802915,\n",
       "      'lng': -73.4140460697085},\n",
       "     'southwest': {'lat': 41.4099250197085, 'lng': -73.41674403029151}}},\n",
       "   'icon': 'https://maps.gstatic.com/mapfiles/place_api/icons/lodging-71.png',\n",
       "   'name': 'Courtyard by Marriott Danbury',\n",
       "   'opening_hours': {'open_now': True},\n",
       "   'photos': [{'height': 4000,\n",
       "     'html_attributions': ['<a href=\"https://maps.google.com/maps/contrib/105731878337185886845\">Courtyard by Marriott Danbury</a>'],\n",
       "     'photo_reference': 'CmRaAAAAVu4fpouw54sQJy0VPA9W1Vjztirk5KTM3WqOGXjBKBpuFE-yanzZQ1t-CiEy5PGqC-xUHYLSglQJ3SGQEgbYLehO_NmmargCh6TjZ5SHpvBdpBDknq8W1SV8zyV0MFRXEhCVKqJSx7FsAdmZgBzLhdXQGhTT_DwTd2tLTTaoTc5ElikhZJT8TA',\n",
       "     'width': 5993}],\n",
       "   'place_id': 'ChIJFUu_ndf-54kRPT9YW753kqA',\n",
       "   'plus_code': {'compound_code': 'CH6M+GV Danbury, CT, USA',\n",
       "    'global_code': '87H8CH6M+GV'},\n",
       "   'rating': 4.4,\n",
       "   'reference': 'ChIJFUu_ndf-54kRPT9YW753kqA',\n",
       "   'scope': 'GOOGLE',\n",
       "   'types': ['lodging', 'point_of_interest', 'establishment'],\n",
       "   'user_ratings_total': 336,\n",
       "   'vicinity': '3 Eagle Road, Danbury'},\n",
       "  {'business_status': 'OPERATIONAL',\n",
       "   'geometry': {'location': {'lat': 41.4097479, 'lng': -73.415831},\n",
       "    'viewport': {'northeast': {'lat': 41.4110945302915,\n",
       "      'lng': -73.4143362197085},\n",
       "     'southwest': {'lat': 41.4083965697085, 'lng': -73.41703418029151}}},\n",
       "   'icon': 'https://maps.gstatic.com/mapfiles/place_api/icons/lodging-71.png',\n",
       "   'name': 'Holiday Inn Danbury-Bethel @ I-84',\n",
       "   'opening_hours': {'open_now': True},\n",
       "   'photos': [{'height': 2160,\n",
       "     'html_attributions': ['<a href=\"https://maps.google.com/maps/contrib/105854464504416582100\">Holiday Inn Danbury-Bethel @ I-84</a>'],\n",
       "     'photo_reference': 'CmRaAAAAw66p0WR_mhvg0xI9Z7m0T84zeBT1nKW3xmZAaF1ebwkDXY035WwrH4jdvZ-dCuVy6darK2GRvJ6ppt6_m3msGPgGAHg6m6Ie2LmHcAP3lxRGaD-uK79nhjgr9YMwEp5kEhDYVGwtmXIHvl4YuFnO8x5qGhTkG0Vna_vYbKr2cabmN25UuhHWfQ',\n",
       "     'width': 3840}],\n",
       "   'place_id': 'ChIJUc--Qdj-54kR5wgnxneBwh8',\n",
       "   'plus_code': {'compound_code': 'CH5M+VM Danbury, CT, USA',\n",
       "    'global_code': '87H8CH5M+VM'},\n",
       "   'rating': 4.1,\n",
       "   'reference': 'ChIJUc--Qdj-54kR5wgnxneBwh8',\n",
       "   'scope': 'GOOGLE',\n",
       "   'types': ['lodging', 'point_of_interest', 'establishment'],\n",
       "   'user_ratings_total': 317,\n",
       "   'vicinity': '80 Newtown Road, Danbury'},\n",
       "  {'business_status': 'OPERATIONAL',\n",
       "   'geometry': {'location': {'lat': 41.4096498, 'lng': -73.4112932},\n",
       "    'viewport': {'northeast': {'lat': 41.41104043029149,\n",
       "      'lng': -73.4100603197085},\n",
       "     'southwest': {'lat': 41.4083424697085, 'lng': -73.41275828029151}}},\n",
       "   'icon': 'https://maps.gstatic.com/mapfiles/place_api/icons/lodging-71.png',\n",
       "   'name': 'Hampton Inn Danbury',\n",
       "   'opening_hours': {'open_now': True},\n",
       "   'photos': [{'height': 1500,\n",
       "     'html_attributions': ['<a href=\"https://maps.google.com/maps/contrib/107276219111381777146\">Hampton Inn Danbury</a>'],\n",
       "     'photo_reference': 'CmRaAAAAmKmL5kfJqSyilFaDHILM7bbWnlowcqOymb2hFhgrn9TOs7wIEhP1RA_hS0rih9giZRZdIYR6ptZ9ytkJ9VWWFUnlCfSUiPO3iHRBGjFXPbOiZw5RXaRSO8M50zyhFv6oEhDCOovjHB7_AZzsQ1BveO8HGhR3fojjGwv6PSjsR1O-6VxjsgAKGQ',\n",
       "     'width': 2682}],\n",
       "   'place_id': 'ChIJE8DMO9f-54kRdLyxfOeuLoo',\n",
       "   'plus_code': {'compound_code': 'CH5Q+VF Danbury, CT, USA',\n",
       "    'global_code': '87H8CH5Q+VF'},\n",
       "   'rating': 4.4,\n",
       "   'reference': 'ChIJE8DMO9f-54kRdLyxfOeuLoo',\n",
       "   'scope': 'GOOGLE',\n",
       "   'types': ['lodging', 'point_of_interest', 'establishment'],\n",
       "   'user_ratings_total': 414,\n",
       "   'vicinity': '81 Newtown Road, Danbury'},\n",
       "  {'business_status': 'OPERATIONAL',\n",
       "   'geometry': {'location': {'lat': 41.40303639999999, 'lng': -73.4187082},\n",
       "    'viewport': {'northeast': {'lat': 41.4043482302915,\n",
       "      'lng': -73.41728476970849},\n",
       "     'southwest': {'lat': 41.4016502697085, 'lng': -73.41998273029151}}},\n",
       "   'icon': 'https://maps.gstatic.com/mapfiles/place_api/icons/civic_building-71.png',\n",
       "   'name': 'Danbury City Forestry Department',\n",
       "   'place_id': 'ChIJd4WpfCH_54kRNZln8pK87wM',\n",
       "   'plus_code': {'compound_code': 'CH3J+6G Danbury, CT, USA',\n",
       "    'global_code': '87H8CH3J+6G'},\n",
       "   'rating': 2.2,\n",
       "   'reference': 'ChIJd4WpfCH_54kRNZln8pK87wM',\n",
       "   'scope': 'GOOGLE',\n",
       "   'types': ['campground',\n",
       "    'local_government_office',\n",
       "    'lodging',\n",
       "    'park',\n",
       "    'point_of_interest',\n",
       "    'establishment'],\n",
       "   'user_ratings_total': 6,\n",
       "   'vicinity': '53 Newtown Road, Danbury'},\n",
       "  {'business_status': 'OPERATIONAL',\n",
       "   'geometry': {'location': {'lat': 41.4026667, 'lng': -73.44149999999999},\n",
       "    'viewport': {'northeast': {'lat': 41.4039830802915,\n",
       "      'lng': -73.44021891970849},\n",
       "     'southwest': {'lat': 41.4012851197085, 'lng': -73.44291688029149}}},\n",
       "   'icon': 'https://maps.gstatic.com/mapfiles/place_api/icons/lodging-71.png',\n",
       "   'name': 'New England Masonry and paving',\n",
       "   'opening_hours': {'open_now': True},\n",
       "   'photos': [{'height': 3240,\n",
       "     'html_attributions': ['<a href=\"https://maps.google.com/maps/contrib/108038884940398938917\">Jose Alvarez</a>'],\n",
       "     'photo_reference': 'CmRaAAAA6-x_tF7TEui8I50z0zkBkYUsnfnTWrm1AG7Lv72FR2BIDpT1MCZlWhqVFP9EOMQfUvTlnIMLIvfUO4bsO_5xWTVs9IQ53do6lcldij-Hjuu_8GHQqlqqcGZFbdQY1TWGEhAAy-KUP1Y99tldhi4pZdOzGhRwHOY72GGhyOIwGly3Or_M6Vou5A',\n",
       "     'width': 4320}],\n",
       "   'place_id': 'ChIJYXywUhX_54kRGhfqNvALiFI',\n",
       "   'plus_code': {'compound_code': 'CH35+3C Danbury, CT, USA',\n",
       "    'global_code': '87H8CH35+3C'},\n",
       "   'reference': 'ChIJYXywUhX_54kRGhfqNvALiFI',\n",
       "   'scope': 'GOOGLE',\n",
       "   'types': ['lodging',\n",
       "    'general_contractor',\n",
       "    'point_of_interest',\n",
       "    'establishment'],\n",
       "   'vicinity': '41 Locust Avenue # 2, Danbury'},\n",
       "  {'business_status': 'OPERATIONAL',\n",
       "   'geometry': {'location': {'lat': 41.39602739999999,\n",
       "     'lng': -73.45290829999999},\n",
       "    'viewport': {'northeast': {'lat': 41.39730548029149,\n",
       "      'lng': -73.4516018697085},\n",
       "     'southwest': {'lat': 41.39460751970849, 'lng': -73.4542998302915}}},\n",
       "   'icon': 'https://maps.gstatic.com/mapfiles/place_api/icons/lodging-71.png',\n",
       "   'name': 'Candlewood Point',\n",
       "   'place_id': 'ChIJG7e982__54kRZsTyhy5EAyc',\n",
       "   'plus_code': {'compound_code': '9GWW+CR Danbury, CT, USA',\n",
       "    'global_code': '87H89GWW+CR'},\n",
       "   'reference': 'ChIJG7e982__54kRZsTyhy5EAyc',\n",
       "   'scope': 'GOOGLE',\n",
       "   'types': ['lodging', 'point_of_interest', 'establishment'],\n",
       "   'vicinity': '2 Ives Street, Danbury'},\n",
       "  {'business_status': 'OPERATIONAL',\n",
       "   'geometry': {'location': {'lat': 41.3989006, 'lng': -73.4499448},\n",
       "    'viewport': {'northeast': {'lat': 41.4002921302915,\n",
       "      'lng': -73.4484929197085},\n",
       "     'southwest': {'lat': 41.3975941697085, 'lng': -73.4511908802915}}},\n",
       "   'icon': 'https://maps.gstatic.com/mapfiles/place_api/icons/generic_business-71.png',\n",
       "   'name': 'Mediterranean Beauty Studio',\n",
       "   'opening_hours': {'open_now': True},\n",
       "   'photos': [{'height': 540,\n",
       "     'html_attributions': ['<a href=\"https://maps.google.com/maps/contrib/117149482268222118823\">Mediterranean Beauty Studio</a>'],\n",
       "     'photo_reference': 'CmRaAAAAX0cP_A45_Tx48lcRDrsGi_SrUaJ-FG_7RU7yxXEKMWgPzsXqPiC2vtP9stj2xBd75GZMseAuaPgWHFTE14ipqhPBoZ4wa6Iip1v2fczL45wacxIkKDkcl8LAvgxLkYV9EhARLi5nG1O9K4D5jW-Ml8M5GhQWaW07Eg9vdqBFJEdflqjpD52Q-A',\n",
       "     'width': 960}],\n",
       "   'place_id': 'ChIJY-OT0G7_54kRvDwPJV5-1Yo',\n",
       "   'plus_code': {'compound_code': '9HX2+H2 Danbury, CT, USA',\n",
       "    'global_code': '87H89HX2+H2'},\n",
       "   'rating': 5,\n",
       "   'reference': 'ChIJY-OT0G7_54kRvDwPJV5-1Yo',\n",
       "   'scope': 'GOOGLE',\n",
       "   'types': ['beauty_salon',\n",
       "    'hair_care',\n",
       "    'spa',\n",
       "    'lodging',\n",
       "    'point_of_interest',\n",
       "    'establishment'],\n",
       "   'user_ratings_total': 3,\n",
       "   'vicinity': '2 Granville Avenue, Danbury'},\n",
       "  {'business_status': 'OPERATIONAL',\n",
       "   'geometry': {'location': {'lat': 41.4115073, 'lng': -73.4152489},\n",
       "    'viewport': {'northeast': {'lat': 41.4129242802915,\n",
       "      'lng': -73.4138073697085},\n",
       "     'southwest': {'lat': 41.4102263197085, 'lng': -73.4165053302915}}},\n",
       "   'icon': 'https://maps.gstatic.com/mapfiles/place_api/icons/lodging-71.png',\n",
       "   'name': 'Marriott Hotel in Danbury Connecticut',\n",
       "   'photos': [{'height': 4096,\n",
       "     'html_attributions': ['<a href=\"https://maps.google.com/maps/contrib/110520062363418588127\">Edward Pirraglia</a>'],\n",
       "     'photo_reference': 'CmRaAAAAZMUmmeaWENe60cDlmD4wz-_NdZJ_Aiqrkfv8-3UlviqS6OYoCUJy0BaSVQkzK7N52YLzrY_zXNNh2TuO9pJ_XZzmhWf1UqChx4nBDlopk6nzdQDoK0DmDKtzfoXeBJPZEhCI87A5IjSAy6dif9DBnLUjGhQnA2bgUIWinyl7sC3km2JYDaxFPw',\n",
       "     'width': 3072}],\n",
       "   'place_id': 'ChIJVVVV_D6qwokRu7qhzmfFjTM',\n",
       "   'plus_code': {'compound_code': 'CH6M+JW Danbury, CT, USA',\n",
       "    'global_code': '87H8CH6M+JW'},\n",
       "   'rating': 4.5,\n",
       "   'reference': 'ChIJVVVV_D6qwokRu7qhzmfFjTM',\n",
       "   'scope': 'GOOGLE',\n",
       "   'types': ['lodging', 'point_of_interest', 'establishment'],\n",
       "   'user_ratings_total': 33,\n",
       "   'vicinity': '3 Eagle Road, Danbury'},\n",
       "  {'business_status': 'OPERATIONAL',\n",
       "   'geometry': {'location': {'lat': 41.3727425, 'lng': -73.396096},\n",
       "    'viewport': {'northeast': {'lat': 41.3741097802915,\n",
       "      'lng': -73.39464776970848},\n",
       "     'southwest': {'lat': 41.3714118197085, 'lng': -73.3973457302915}}},\n",
       "   'icon': 'https://maps.gstatic.com/mapfiles/place_api/icons/lodging-71.png',\n",
       "   'name': 'Ibrahim Haddad',\n",
       "   'place_id': 'ChIJt7ePDkX_54kRBwicY8B4AL8',\n",
       "   'plus_code': {'compound_code': '9JF3+3H Bethel, CT, USA',\n",
       "    'global_code': '87H89JF3+3H'},\n",
       "   'reference': 'ChIJt7ePDkX_54kRBwicY8B4AL8',\n",
       "   'scope': 'GOOGLE',\n",
       "   'types': ['lodging', 'point_of_interest', 'establishment'],\n",
       "   'vicinity': 'Bethel'},\n",
       "  {'business_status': 'OPERATIONAL',\n",
       "   'geometry': {'location': {'lat': 41.3591556, 'lng': -73.4230195},\n",
       "    'viewport': {'northeast': {'lat': 41.3604789302915,\n",
       "      'lng': -73.4215346197085},\n",
       "     'southwest': {'lat': 41.3577809697085, 'lng': -73.4242325802915}}},\n",
       "   'icon': 'https://maps.gstatic.com/mapfiles/place_api/icons/lodging-71.png',\n",
       "   'name': 'HQ Pack Connecticut',\n",
       "   'place_id': 'ChIJSaJbg3X_54kRJ0jyQs_ApN0',\n",
       "   'plus_code': {'compound_code': '9H5G+MQ Bethel, CT, USA',\n",
       "    'global_code': '87H89H5G+MQ'},\n",
       "   'reference': 'ChIJSaJbg3X_54kRJ0jyQs_ApN0',\n",
       "   'scope': 'GOOGLE',\n",
       "   'types': ['lodging', 'point_of_interest', 'establishment'],\n",
       "   'vicinity': '7 Francis J Clarke Circle, Bethel'},\n",
       "  {'business_status': 'OPERATIONAL',\n",
       "   'geometry': {'location': {'lat': 41.3840571, 'lng': -73.42080709999999},\n",
       "    'viewport': {'northeast': {'lat': 41.3854237802915,\n",
       "      'lng': -73.41939771970848},\n",
       "     'southwest': {'lat': 41.3827258197085, 'lng': -73.4220956802915}}},\n",
       "   'icon': 'https://maps.gstatic.com/mapfiles/place_api/icons/lodging-71.png',\n",
       "   'name': 'Fellowship Center',\n",
       "   'place_id': 'ChIJDyamue7_54kRR1wbMfyS5h0',\n",
       "   'plus_code': {'compound_code': '9HMH+JM Bethel, CT, USA',\n",
       "    'global_code': '87H89HMH+JM'},\n",
       "   'reference': 'ChIJDyamue7_54kRR1wbMfyS5h0',\n",
       "   'scope': 'GOOGLE',\n",
       "   'types': ['lodging', 'point_of_interest', 'establishment'],\n",
       "   'vicinity': '15 Great Pasture Road, Bethel'},\n",
       "  {'business_status': 'OPERATIONAL',\n",
       "   'geometry': {'location': {'lat': 41.3944309, 'lng': -73.4360239},\n",
       "    'viewport': {'northeast': {'lat': 41.3959284802915,\n",
       "      'lng': -73.43451691970849},\n",
       "     'southwest': {'lat': 41.3932305197085, 'lng': -73.43721488029149}}},\n",
       "   'icon': 'https://maps.gstatic.com/mapfiles/place_api/icons/lodging-71.png',\n",
       "   'name': 'Barbershop',\n",
       "   'place_id': 'ChIJrWjCytj_54kRWyItrlf3HcU',\n",
       "   'plus_code': {'compound_code': '9HV7+QH Danbury, CT, USA',\n",
       "    'global_code': '87H89HV7+QH'},\n",
       "   'reference': 'ChIJrWjCytj_54kRWyItrlf3HcU',\n",
       "   'scope': 'GOOGLE',\n",
       "   'types': ['lodging', 'point_of_interest', 'establishment'],\n",
       "   'vicinity': '225 Wildman Street, Danbury'},\n",
       "  {'business_status': 'OPERATIONAL',\n",
       "   'geometry': {'location': {'lat': 41.40048830000001,\n",
       "     'lng': -73.44291609999999},\n",
       "    'viewport': {'northeast': {'lat': 41.4018562302915,\n",
       "      'lng': -73.4416546697085},\n",
       "     'southwest': {'lat': 41.3991582697085, 'lng': -73.4443526302915}}},\n",
       "   'icon': 'https://maps.gstatic.com/mapfiles/place_api/icons/lodging-71.png',\n",
       "   'name': 'Newbury Hall',\n",
       "   'place_id': 'ChIJFQ5EfDD_54kRaY-0iIl14e4',\n",
       "   'plus_code': {'compound_code': 'CH24+5R Danbury, CT, USA',\n",
       "    'global_code': '87H8CH24+5R'},\n",
       "   'reference': 'ChIJFQ5EfDD_54kRaY-0iIl14e4',\n",
       "   'scope': 'GOOGLE',\n",
       "   'types': ['lodging', 'point_of_interest', 'establishment'],\n",
       "   'vicinity': '9 Roberts Avenue, Danbury'},\n",
       "  {'business_status': 'OPERATIONAL',\n",
       "   'geometry': {'location': {'lat': 41.394817, 'lng': -73.4540111},\n",
       "    'viewport': {'northeast': {'lat': 41.3961722802915,\n",
       "      'lng': -73.45265146970848},\n",
       "     'southwest': {'lat': 41.3934743197085, 'lng': -73.45534943029149}}},\n",
       "   'icon': 'https://maps.gstatic.com/mapfiles/place_api/icons/lodging-71.png',\n",
       "   'name': 'Park inn hotel',\n",
       "   'place_id': 'ChIJ59M-ZRn_54kRUdZlbkUn89o',\n",
       "   'plus_code': {'compound_code': '9GVW+W9 Danbury, CT, USA',\n",
       "    'global_code': '87H89GVW+W9'},\n",
       "   'reference': 'ChIJ59M-ZRn_54kRUdZlbkUn89o',\n",
       "   'scope': 'GOOGLE',\n",
       "   'types': ['lodging', 'point_of_interest', 'establishment'],\n",
       "   'vicinity': '034 I14, #164, Danbury'},\n",
       "  {'business_status': 'OPERATIONAL',\n",
       "   'geometry': {'location': {'lat': 41.394817, 'lng': -73.4540111},\n",
       "    'viewport': {'northeast': {'lat': 41.3961722802915,\n",
       "      'lng': -73.45265146970848},\n",
       "     'southwest': {'lat': 41.3934743197085, 'lng': -73.45534943029149}}},\n",
       "   'icon': 'https://maps.gstatic.com/mapfiles/place_api/icons/lodging-71.png',\n",
       "   'name': 'Providence Ri',\n",
       "   'place_id': 'ChIJYYpsrnr_54kRzvhLkSNsrP8',\n",
       "   'plus_code': {'compound_code': '9GVW+W9 Danbury, CT, USA',\n",
       "    'global_code': '87H89GVW+W9'},\n",
       "   'rating': 5,\n",
       "   'reference': 'ChIJYYpsrnr_54kRzvhLkSNsrP8',\n",
       "   'scope': 'GOOGLE',\n",
       "   'types': ['lodging', 'point_of_interest', 'establishment'],\n",
       "   'user_ratings_total': 1,\n",
       "   'vicinity': 'Danbury'},\n",
       "  {'business_status': 'OPERATIONAL',\n",
       "   'geometry': {'location': {'lat': 41.3940725, 'lng': -73.4566864},\n",
       "    'viewport': {'northeast': {'lat': 41.3953653302915,\n",
       "      'lng': -73.45544611970848},\n",
       "     'southwest': {'lat': 41.3926673697085, 'lng': -73.4581440802915}}},\n",
       "   'icon': 'https://maps.gstatic.com/mapfiles/place_api/icons/lodging-71.png',\n",
       "   'name': 'Geovany ordoñez',\n",
       "   'place_id': 'ChIJ6-BczVL_54kRk8vL-yxNVxQ',\n",
       "   'plus_code': {'compound_code': '9GVV+J8 Danbury, CT, USA',\n",
       "    'global_code': '87H89GVV+J8'},\n",
       "   'reference': 'ChIJ6-BczVL_54kRk8vL-yxNVxQ',\n",
       "   'scope': 'GOOGLE',\n",
       "   'types': ['lodging', 'point_of_interest', 'establishment'],\n",
       "   'vicinity': '27 Montgomery Street, Danbury'}],\n",
       " 'status': 'OK'}"
      ]
     },
     "execution_count": 9,
     "metadata": {},
     "output_type": "execute_result"
    }
   ],
   "source": [
    "hotels"
   ]
  },
  {
   "cell_type": "code",
   "execution_count": 26,
   "metadata": {},
   "outputs": [],
   "source": [
    "# Function to extract data for the first hotel for each city.\n",
    "def extract_data(data):\n",
    "    data = data[\"results\"][0]\n",
    "    return {\n",
    "        \"Hotel Name\": data[\"name\"],\n",
    "        \"Lat\": data[\"geometry\"][\"location\"][\"lat\"],\n",
    "        \"Lon\": data[\"geometry\"][\"location\"][\"lng\"],\n",
    "    }"
   ]
  },
  {
   "cell_type": "code",
   "execution_count": 27,
   "metadata": {},
   "outputs": [
    {
     "name": "stdout",
     "output_type": "stream",
     "text": [
      "-23.12,-134.97\n",
      "41.12,80.26\n",
      "57.97,33.25\n",
      "42.1,-79.24\n",
      "-34.42,19.23\n",
      "-16.48,-151.75\n",
      "43.48,-8.24\n",
      "46.87,42.06\n",
      "-33.93,18.42\n",
      "-15.2,12.15\n",
      "-21.2,-175.2\n",
      "-25.24,130.99\n",
      "-19.55,169.27\n",
      "-33.65,115.33\n",
      "-33.02,27.91\n",
      "-34.53,20.04\n",
      "-8.93,125.41\n",
      "41.37,-73.41\n",
      "47.38,28.82\n",
      "-26.65,15.16\n",
      "-25.4,-70.48\n",
      "28.66,-17.92\n",
      "-31.4,26.36\n",
      "-29.62,-54.18\n",
      "59.7,30.79\n",
      "-33.59,26.89\n",
      "-32.55,115.7\n",
      "-35.33,-72.42\n",
      "-33.01,17.94\n",
      "9.3,13.4\n",
      "-28.55,16.43\n",
      "-28.78,32.04\n",
      "54.17,17.49\n",
      "-30.18,-50.21\n",
      "37.61,-122.49\n",
      "-23.25,-50.98\n",
      "30.48,-115.95\n",
      "40.66,-73.58\n",
      "56.89,21.19\n",
      "17.96,-102.2\n",
      "20.89,-156.47\n",
      "42.91,73.27\n",
      "59.78,30.82\n",
      "37.1,-113.58\n",
      "-22.96,14.51\n",
      "28.12,-16.73\n",
      "35.15,-114.57\n",
      "44.51,50.26\n",
      "-14.83,-64.9\n",
      "26.59,127.98\n",
      "-6.6,147.87\n",
      "47.57,26.2\n",
      "-34.0,24.73\n",
      "-25.86,26.9\n",
      "-19.84,34.84\n",
      "-20.28,44.28\n",
      "-33.92,25.57\n",
      "-13.85,136.42\n",
      "-17.73,-149.15\n",
      "41.14,-73.36\n",
      "43.75,-81.72\n",
      "45.32,55.2\n",
      "30.37,-88.56\n",
      "42.56,-114.46\n",
      "31.55,-110.3\n",
      "41.71,-70.23\n",
      "32.68,109.02\n",
      "-20.74,116.85\n",
      "54.08,21.38\n",
      "-20.73,139.5\n",
      "8.27,-80.55\n",
      "-17.53,-149.33\n",
      "31.26,117.28\n",
      "-28.97,-51.07\n",
      "10.93,108.1\n",
      "50.93,8.4\n",
      "-20.23,164.02\n",
      "55.15,26.17\n",
      "55.53,35.61\n",
      "list index out of range\n",
      "55.53,35.61 Not found. Skipping...\n",
      "-14.55,48.73\n",
      "list index out of range\n",
      "-14.55,48.73 Not found. Skipping...\n",
      "-20.01,57.66\n",
      "42.16,-72.33\n",
      "45.02,-93.22\n",
      "46.43,26.4\n",
      "46.33,34.75\n",
      "list index out of range\n",
      "46.33,34.75 Not found. Skipping...\n"
     ]
    }
   ],
   "source": [
    "# Iterating and printing latitude and longitude values to confirm what's values are being inserted in my params.\n",
    "hotel_results = []\n",
    "for lat_lon in lat_lon_list:\n",
    "    try:\n",
    "        print(lat_lon)\n",
    "        data = requests.get(\n",
    "            \"https://maps.googleapis.com/maps/api/place/nearbysearch/json\",\n",
    "            params={\n",
    "                \"key\": g_key,\n",
    "                \"location\": lat_lon,\n",
    "                \"radius\": \"5000\",\n",
    "                \"type\": \"lodging\",\n",
    "            },\n",
    "        ).json()\n",
    "        hotel_result = extract_data(data)\n",
    "        hotel_results.append(hotel_result)\n",
    "    except Exception as e:\n",
    "        print(e)\n",
    "        print(f\"{lat_lon} Not found. Skipping...\")\n",
    "        pass"
   ]
  },
  {
   "cell_type": "code",
   "execution_count": 12,
   "metadata": {},
   "outputs": [
    {
     "data": {
      "text/plain": [
       "[{'Hotel Name': \"Pension Maro'i\", 'Lat': -23.1206197, 'Lon': -134.9687529},\n",
       " {'Hotel Name': 'Pudong Holiday Hotel',\n",
       "  'Lat': 41.14176,\n",
       "  'Lon': 80.29139599999999},\n",
       " {'Hotel Name': 'Valdayskiye Zori, Gostinichno-Restorannyy Kompleks',\n",
       "  'Lat': 57.97428599999999,\n",
       "  'Lon': 33.268093},\n",
       " {'Hotel Name': 'Hampton Inn & Suites Jamestown',\n",
       "  'Lat': 42.1184574,\n",
       "  'Lon': -79.2427728},\n",
       " {'Hotel Name': 'Misty Waves Boutique Hotel',\n",
       "  'Lat': -34.4213898,\n",
       "  'Lon': 19.2366413},\n",
       " {'Hotel Name': 'Bora-Bora Pearl Beach Resort & Spa',\n",
       "  'Lat': -16.4759407,\n",
       "  'Lon': -151.7724793},\n",
       " {'Hotel Name': 'Carrís Almirante', 'Lat': 43.486307, 'Lon': -8.2302042},\n",
       " {'Hotel Name': 'ТеТ-А-ТеТ', 'Lat': 46.8537973, 'Lon': 42.0573134},\n",
       " {'Hotel Name': 'Southern Sun Waterfront Cape Town',\n",
       "  'Lat': -33.9157633,\n",
       "  'Lon': 18.4234956},\n",
       " {'Hotel Name': 'Hotel Chik Chik Namibe',\n",
       "  'Lat': -15.1978317,\n",
       "  'Lon': 12.1575544},\n",
       " {'Hotel Name': 'Keleti Beach Resort',\n",
       "  'Lat': -21.2036689,\n",
       "  'Lon': -175.2324594},\n",
       " {'Hotel Name': 'Desert Gardens Hotel - Ayers Rock Resort',\n",
       "  'Lat': -25.243725,\n",
       "  'Lon': 130.984807},\n",
       " {'Hotel Name': 'Volcano Sea View Tree House',\n",
       "  'Lat': -19.530853,\n",
       "  'Lon': 169.270485},\n",
       " {'Hotel Name': 'Observatory Guest House',\n",
       "  'Lat': -33.64639289999999,\n",
       "  'Lon': 115.3486762},\n",
       " {'Hotel Name': 'Tu Casa', 'Lat': -32.9851587, 'Lon': 27.9235698},\n",
       " {'Hotel Name': 'Bredasdorp Country Manor', 'Lat': -34.53299, 'Lon': 20.03592},\n",
       " {'Hotel Name': 'Juvinal Martin', 'Lat': -8.930576, 'Lon': 125.396797},\n",
       " {'Hotel Name': 'Courtyard by Marriott Danbury',\n",
       "  'Lat': 41.4113711,\n",
       "  'Lon': -73.4152646},\n",
       " {'Hotel Name': 'Chateau Vartely', 'Lat': 47.3805455, 'Lon': 28.8337308},\n",
       " {'Hotel Name': 'LÜDERITZ NEST HOTEL', 'Lat': -26.652957, 'Lon': 15.14962},\n",
       " {'Hotel Name': 'Residencial Karime', 'Lat': -25.4089989, 'Lon': -70.484308},\n",
       " {'Hotel Name': 'Valle Aridane', 'Lat': 28.6582187, 'Lon': -17.9160201},\n",
       " {'Hotel Name': 'Nadirashaleeta B&B', 'Lat': -31.394866, 'Lon': 26.357381},\n",
       " {'Hotel Name': 'Sítio Hotel e Eventos',\n",
       "  'Lat': -29.637853,\n",
       "  'Lon': -54.18575599999999},\n",
       " {'Hotel Name': 'Tourist House - Sablino',\n",
       "  'Lat': 59.6602585,\n",
       "  'Lon': 30.7785203},\n",
       " {'Hotel Name': 'The Halyards Hotel',\n",
       "  'Lat': -33.5943286,\n",
       "  'Lon': 26.89324779999999},\n",
       " {'Hotel Name': 'Atrium Hotel Mandurah',\n",
       "  'Lat': -32.5249794,\n",
       "  'Lon': 115.7214209},\n",
       " {'Hotel Name': 'Hotel Boutique Las Azucenas',\n",
       "  'Lat': -35.3332632,\n",
       "  'Lon': -72.41846120000001},\n",
       " {'Hotel Name': 'Blue Bay Lodge', 'Lat': -32.995413, 'Lon': 17.97314},\n",
       " {'Hotel Name': \"Hotel De L'Amitie\", 'Lat': 9.299999999999999, 'Lon': 13.4},\n",
       " {'Hotel Name': \"The Fisherman's Cove\", 'Lat': -28.5502354, 'Lon': 16.4315705},\n",
       " {'Hotel Name': 'BON Hotel Waterfront Richards Bay',\n",
       "  'Lat': -28.7932974,\n",
       "  'Lon': 32.0807935},\n",
       " {'Hotel Name': 'Centrum UŁAN SPA',\n",
       "  'Lat': 54.16997500000001,\n",
       "  'Lon': 17.479568},\n",
       " {'Hotel Name': 'Hotel Castelo',\n",
       "  'Lat': -30.17788070000001,\n",
       "  'Lon': -50.20350059999999},\n",
       " {'Hotel Name': 'Pacifica Lighthouse, Trademark Collection by Wyndham',\n",
       "  'Lat': 37.6096647,\n",
       "  'Lon': -122.4963748},\n",
       " {'Hotel Name': 'Chácara Cris e Dui', 'Lat': -23.2469714, 'Lon': -50.9837842},\n",
       " {'Hotel Name': 'Old Mill Hotel', 'Lat': 30.485077, 'Lon': -115.9772322},\n",
       " {'Hotel Name': 'The Freeport Inn and Marina',\n",
       "  'Lat': 40.64423,\n",
       "  'Lon': -73.57483599999999},\n",
       " {'Hotel Name': 'Hotel \"Vēju paradīze\"', 'Lat': 56.890956, 'Lon': 21.186017},\n",
       " {'Hotel Name': 'Collection O Hotel Quinta Antigua',\n",
       "  'Lat': 17.9617653,\n",
       "  'Lon': -102.196434},\n",
       " {'Hotel Name': 'Maui Seaside Hotel', 'Lat': 20.8908978, 'Lon': -156.470059},\n",
       " {'Hotel Name': 'Sanatorium Ak-Niet', 'Lat': 42.8904022, 'Lon': 73.258177},\n",
       " {'Hotel Name': 'Baza otdikha Petrushinsky Khutor',\n",
       "  'Lat': 59.7895164,\n",
       "  'Lon': 30.8444079},\n",
       " {'Hotel Name': 'Best Western Plus Abbey Inn',\n",
       "  'Lat': 37.0890245,\n",
       "  'Lon': -113.5842669},\n",
       " {'Hotel Name': 'Oyster Box Guesthouse', 'Lat': -22.962563, 'Lon': 14.485966},\n",
       " {'Hotel Name': 'Gran Tacande Wellness & Relax Costa Adeje',\n",
       "  'Lat': 28.09189379999999,\n",
       "  'Lon': -16.7398868},\n",
       " {'Hotel Name': 'Golden Nugget Laughlin Hotel & Casino',\n",
       "  'Lat': 35.1545638,\n",
       "  'Lon': -114.5729482},\n",
       " {'Hotel Name': 'Oasis hotel Bautino', 'Lat': 44.539193, 'Lon': 50.2535791},\n",
       " {'Hotel Name': 'Hotel Piesta', 'Lat': -14.8344444, 'Lon': -64.90166669999999},\n",
       " {'Hotel Name': 'Hotel Yugaf Inn Okinawa',\n",
       "  'Lat': 26.5934393,\n",
       "  'Lon': 127.96508},\n",
       " {'Hotel Name': 'Cossam Guest House', 'Lat': -6.6086562, 'Lon': 147.855357},\n",
       " {'Hotel Name': 'Iaz Moara carp', 'Lat': 47.5488558, 'Lon': 26.248133},\n",
       " {'Hotel Name': 'Oyster Bay House Rental',\n",
       "  'Lat': -34.002718,\n",
       "  'Lon': 24.743974},\n",
       " {'Hotel Name': 'Klub Kranskuil', 'Lat': -25.834652, 'Lon': 26.88032189999999},\n",
       " {'Hotel Name': 'Beira Terrace Hotel', 'Lat': -19.8282649, 'Lon': 34.8325481},\n",
       " {'Hotel Name': 'La Case Bambou', 'Lat': -20.2979423, 'Lon': 44.2694266},\n",
       " {'Hotel Name': '39 On Nile Guest House', 'Lat': -33.94615, 'Lon': 25.57875},\n",
       " {'Hotel Name': 'Groote Eylandt Lodge', 'Lat': -13.841225, 'Lon': 136.40949},\n",
       " {'Hotel Name': 'Pension Oaoa', 'Lat': -17.7446636, 'Lon': -149.160492},\n",
       " {'Hotel Name': 'The Westport Inn',\n",
       "  'Lat': 41.1389728,\n",
       "  'Lon': -73.30889499999999},\n",
       " {'Hotel Name': 'Harmony Inn', 'Lat': 43.7349211, 'Lon': -81.70670229999999},\n",
       " {'Hotel Name': 'NUR', 'Lat': 45.3209809, 'Lon': 55.1923608},\n",
       " {'Hotel Name': 'Regency Inn', 'Lat': 30.372352, 'Lon': -88.5327102},\n",
       " {'Hotel Name': 'Holiday Inn Express & Suites Twin Falls',\n",
       "  'Lat': 42.589821,\n",
       "  'Lon': -114.464494},\n",
       " {'Hotel Name': 'Holiday Inn Express Sierra Vista',\n",
       "  'Lat': 31.5348346,\n",
       "  'Lon': -110.2593476},\n",
       " {'Hotel Name': 'The Inn At Cape Cod', 'Lat': 41.7032867, 'Lon': -70.2457146},\n",
       " {'Hotel Name': '安琪酒店', 'Lat': 32.68484969999999, 'Lon': 109.0198655},\n",
       " {'Hotel Name': 'ibis Styles Karratha',\n",
       "  'Lat': -20.7322255,\n",
       "  'Lon': 116.8467438},\n",
       " {'Hotel Name': 'KOCH', 'Lat': 54.0811389, 'Lon': 21.3821472},\n",
       " {'Hotel Name': 'ibis Styles Mt Isa Verona',\n",
       "  'Lat': -20.72614009999999,\n",
       "  'Lon': 139.4928025},\n",
       " {'Hotel Name': 'Residencial D Cache', 'Lat': 8.2548459, 'Lon': -80.5391372},\n",
       " {'Hotel Name': 'Le Rocher de Tahiti',\n",
       "  'Lat': -17.5395619,\n",
       "  'Lon': -149.3664944},\n",
       " {'Hotel Name': 'GreenTree Inn Hefei Lujiang County Jinjie 1 Express Hotel',\n",
       "  'Lat': 31.2514109,\n",
       "  'Lon': 117.3044103},\n",
       " {'Hotel Name': 'Hotel São Marcos',\n",
       "  'Lat': -28.97518299999999,\n",
       "  'Lon': -51.0659979},\n",
       " {'Hotel Name': 'Hotel Saigon-PT', 'Lat': 10.9310258, 'Lon': 108.1089925},\n",
       " {'Hotel Name': 'Hotel Lahnblick', 'Lat': 50.93027780000001, 'Lon': 8.4119444},\n",
       " {'Hotel Name': 'Gîte kajeon', 'Lat': -20.2317711, 'Lon': 164.0230586},\n",
       " {'Hotel Name': 'ŠVIESA, svečių namai, UAB LAZDYNO RIEŠUTAS',\n",
       "  'Lat': 55.13267829999999,\n",
       "  'Lon': 26.1593166},\n",
       " {'Hotel Name': 'Veranda Paul et Virginie Hotel & Spa',\n",
       "  'Lat': -20.0065691,\n",
       "  'Lon': 57.66807650000001},\n",
       " {'Hotel Name': 'Wedgewood Motel',\n",
       "  'Lat': 42.14839129999999,\n",
       "  'Lon': -72.3052757},\n",
       " {'Hotel Name': 'Holiday Inn Express Roseville-St. Paul',\n",
       "  'Lat': 45.02267,\n",
       "  'Lon': -93.193242},\n",
       " {'Hotel Name': 'Casa Mika Ciobanus', 'Lat': 46.4432429, 'Lon': 26.3405867}]"
      ]
     },
     "execution_count": 12,
     "metadata": {},
     "output_type": "execute_result"
    }
   ],
   "source": [
    "hotel_results"
   ]
  },
  {
   "cell_type": "code",
   "execution_count": 35,
   "metadata": {},
   "outputs": [
    {
     "data": {
      "text/html": [
       "<div>\n",
       "<style scoped>\n",
       "    .dataframe tbody tr th:only-of-type {\n",
       "        vertical-align: middle;\n",
       "    }\n",
       "\n",
       "    .dataframe tbody tr th {\n",
       "        vertical-align: top;\n",
       "    }\n",
       "\n",
       "    .dataframe thead th {\n",
       "        text-align: right;\n",
       "    }\n",
       "</style>\n",
       "<table border=\"1\" class=\"dataframe\">\n",
       "  <thead>\n",
       "    <tr style=\"text-align: right;\">\n",
       "      <th></th>\n",
       "      <th>Hotel Name</th>\n",
       "      <th>Lat</th>\n",
       "      <th>Lon</th>\n",
       "    </tr>\n",
       "  </thead>\n",
       "  <tbody>\n",
       "    <tr>\n",
       "      <th>0</th>\n",
       "      <td>Pension Maro'i</td>\n",
       "      <td>-23.120620</td>\n",
       "      <td>-134.968753</td>\n",
       "    </tr>\n",
       "    <tr>\n",
       "      <th>1</th>\n",
       "      <td>Pudong Holiday Hotel</td>\n",
       "      <td>41.141760</td>\n",
       "      <td>80.291396</td>\n",
       "    </tr>\n",
       "    <tr>\n",
       "      <th>2</th>\n",
       "      <td>Valdayskiye Zori, Gostinichno-Restorannyy Komp...</td>\n",
       "      <td>57.974286</td>\n",
       "      <td>33.268093</td>\n",
       "    </tr>\n",
       "    <tr>\n",
       "      <th>3</th>\n",
       "      <td>Hampton Inn &amp; Suites Jamestown</td>\n",
       "      <td>42.118457</td>\n",
       "      <td>-79.242773</td>\n",
       "    </tr>\n",
       "    <tr>\n",
       "      <th>4</th>\n",
       "      <td>Misty Waves Boutique Hotel</td>\n",
       "      <td>-34.421390</td>\n",
       "      <td>19.236641</td>\n",
       "    </tr>\n",
       "    <tr>\n",
       "      <th>...</th>\n",
       "      <td>...</td>\n",
       "      <td>...</td>\n",
       "      <td>...</td>\n",
       "    </tr>\n",
       "    <tr>\n",
       "      <th>77</th>\n",
       "      <td>ŠVIESA, svečių namai, UAB LAZDYNO RIEŠUTAS</td>\n",
       "      <td>55.132678</td>\n",
       "      <td>26.159317</td>\n",
       "    </tr>\n",
       "    <tr>\n",
       "      <th>78</th>\n",
       "      <td>Veranda Paul et Virginie Hotel &amp; Spa</td>\n",
       "      <td>-20.006569</td>\n",
       "      <td>57.668077</td>\n",
       "    </tr>\n",
       "    <tr>\n",
       "      <th>79</th>\n",
       "      <td>Wedgewood Motel</td>\n",
       "      <td>42.148391</td>\n",
       "      <td>-72.305276</td>\n",
       "    </tr>\n",
       "    <tr>\n",
       "      <th>80</th>\n",
       "      <td>Holiday Inn Express Roseville-St. Paul</td>\n",
       "      <td>45.022670</td>\n",
       "      <td>-93.193242</td>\n",
       "    </tr>\n",
       "    <tr>\n",
       "      <th>81</th>\n",
       "      <td>Casa Mika Ciobanus</td>\n",
       "      <td>46.443243</td>\n",
       "      <td>26.340587</td>\n",
       "    </tr>\n",
       "  </tbody>\n",
       "</table>\n",
       "<p>82 rows × 3 columns</p>\n",
       "</div>"
      ],
      "text/plain": [
       "                                           Hotel Name        Lat         Lon\n",
       "0                                      Pension Maro'i -23.120620 -134.968753\n",
       "1                                Pudong Holiday Hotel  41.141760   80.291396\n",
       "2   Valdayskiye Zori, Gostinichno-Restorannyy Komp...  57.974286   33.268093\n",
       "3                      Hampton Inn & Suites Jamestown  42.118457  -79.242773\n",
       "4                          Misty Waves Boutique Hotel -34.421390   19.236641\n",
       "..                                                ...        ...         ...\n",
       "77         ŠVIESA, svečių namai, UAB LAZDYNO RIEŠUTAS  55.132678   26.159317\n",
       "78               Veranda Paul et Virginie Hotel & Spa -20.006569   57.668077\n",
       "79                                    Wedgewood Motel  42.148391  -72.305276\n",
       "80             Holiday Inn Express Roseville-St. Paul  45.022670  -93.193242\n",
       "81                                 Casa Mika Ciobanus  46.443243   26.340587\n",
       "\n",
       "[82 rows x 3 columns]"
      ]
     },
     "execution_count": 35,
     "metadata": {},
     "output_type": "execute_result"
    }
   ],
   "source": [
    "# Converting returned dictionaries to a DataFrame\n",
    "hotel_results_df = pd.DataFrame.from_dict(hotel_results)\n",
    "hotel_results_df"
   ]
  },
  {
   "cell_type": "code",
   "execution_count": 28,
   "metadata": {},
   "outputs": [
    {
     "data": {
      "text/html": [
       "<div>\n",
       "<style scoped>\n",
       "    .dataframe tbody tr th:only-of-type {\n",
       "        vertical-align: middle;\n",
       "    }\n",
       "\n",
       "    .dataframe tbody tr th {\n",
       "        vertical-align: top;\n",
       "    }\n",
       "\n",
       "    .dataframe thead th {\n",
       "        text-align: right;\n",
       "    }\n",
       "</style>\n",
       "<table border=\"1\" class=\"dataframe\">\n",
       "  <thead>\n",
       "    <tr style=\"text-align: right;\">\n",
       "      <th></th>\n",
       "      <th>Hotel Name</th>\n",
       "      <th>Lat</th>\n",
       "      <th>Lon</th>\n",
       "    </tr>\n",
       "  </thead>\n",
       "  <tbody>\n",
       "    <tr>\n",
       "      <th>0</th>\n",
       "      <td>Pension Maro'i</td>\n",
       "      <td>-23.1</td>\n",
       "      <td>-135.0</td>\n",
       "    </tr>\n",
       "    <tr>\n",
       "      <th>1</th>\n",
       "      <td>Pudong Holiday Hotel</td>\n",
       "      <td>41.1</td>\n",
       "      <td>80.3</td>\n",
       "    </tr>\n",
       "  </tbody>\n",
       "</table>\n",
       "</div>"
      ],
      "text/plain": [
       "             Hotel Name   Lat    Lon\n",
       "0        Pension Maro'i -23.1 -135.0\n",
       "1  Pudong Holiday Hotel  41.1   80.3"
      ]
     },
     "execution_count": 28,
     "metadata": {},
     "output_type": "execute_result"
    }
   ],
   "source": [
    "# Rounding decimals for latitude and longitude so I can use them to merge the hotel DataFrame with the perfect weather DataFrame.\n",
    "hotel_results_round_df = hotel_results_df.round(decimals=1)\n",
    "hotel_results_round_df.head(2)"
   ]
  },
  {
   "cell_type": "code",
   "execution_count": 30,
   "metadata": {},
   "outputs": [
    {
     "data": {
      "text/html": [
       "<div>\n",
       "<style scoped>\n",
       "    .dataframe tbody tr th:only-of-type {\n",
       "        vertical-align: middle;\n",
       "    }\n",
       "\n",
       "    .dataframe tbody tr th {\n",
       "        vertical-align: top;\n",
       "    }\n",
       "\n",
       "    .dataframe thead th {\n",
       "        text-align: right;\n",
       "    }\n",
       "</style>\n",
       "<table border=\"1\" class=\"dataframe\">\n",
       "  <thead>\n",
       "    <tr style=\"text-align: right;\">\n",
       "      <th></th>\n",
       "      <th>City</th>\n",
       "      <th>Lat</th>\n",
       "      <th>Lon</th>\n",
       "      <th>Max Temp</th>\n",
       "      <th>Humidity</th>\n",
       "      <th>Cloudiness</th>\n",
       "      <th>Wind Speed</th>\n",
       "      <th>Country</th>\n",
       "    </tr>\n",
       "  </thead>\n",
       "  <tbody>\n",
       "    <tr>\n",
       "      <th>7</th>\n",
       "      <td>Rikitea</td>\n",
       "      <td>-23.1</td>\n",
       "      <td>-135.0</td>\n",
       "      <td>71.9</td>\n",
       "      <td>73</td>\n",
       "      <td>1</td>\n",
       "      <td>13.8</td>\n",
       "      <td>PF</td>\n",
       "    </tr>\n",
       "    <tr>\n",
       "      <th>8</th>\n",
       "      <td>Aksu</td>\n",
       "      <td>41.1</td>\n",
       "      <td>80.3</td>\n",
       "      <td>70.1</td>\n",
       "      <td>25</td>\n",
       "      <td>0</td>\n",
       "      <td>3.1</td>\n",
       "      <td>CN</td>\n",
       "    </tr>\n",
       "  </tbody>\n",
       "</table>\n",
       "</div>"
      ],
      "text/plain": [
       "      City   Lat    Lon  Max Temp  Humidity  Cloudiness  Wind Speed Country\n",
       "7  Rikitea -23.1 -135.0      71.9        73           1        13.8      PF\n",
       "8     Aksu  41.1   80.3      70.1        25           0         3.1      CN"
      ]
     },
     "execution_count": 30,
     "metadata": {},
     "output_type": "execute_result"
    }
   ],
   "source": [
    "perfect_weather_round_df = perfect_weather_df.round(decimals=1)\n",
    "perfect_weather_round_df.drop(columns=[\"Lat_Lon\"], inplace=True)\n",
    "perfect_weather_round_df.head(2)"
   ]
  },
  {
   "cell_type": "code",
   "execution_count": 31,
   "metadata": {},
   "outputs": [
    {
     "data": {
      "text/html": [
       "<div>\n",
       "<style scoped>\n",
       "    .dataframe tbody tr th:only-of-type {\n",
       "        vertical-align: middle;\n",
       "    }\n",
       "\n",
       "    .dataframe tbody tr th {\n",
       "        vertical-align: top;\n",
       "    }\n",
       "\n",
       "    .dataframe thead th {\n",
       "        text-align: right;\n",
       "    }\n",
       "</style>\n",
       "<table border=\"1\" class=\"dataframe\">\n",
       "  <thead>\n",
       "    <tr style=\"text-align: right;\">\n",
       "      <th></th>\n",
       "      <th>Hotel Name</th>\n",
       "      <th>Lat_x</th>\n",
       "      <th>Lon</th>\n",
       "      <th>City</th>\n",
       "      <th>Lat_y</th>\n",
       "      <th>Max Temp</th>\n",
       "      <th>Humidity</th>\n",
       "      <th>Cloudiness</th>\n",
       "      <th>Wind Speed</th>\n",
       "      <th>Country</th>\n",
       "    </tr>\n",
       "  </thead>\n",
       "  <tbody>\n",
       "    <tr>\n",
       "      <th>0</th>\n",
       "      <td>Pension Maro'i</td>\n",
       "      <td>-23.1</td>\n",
       "      <td>-135.0</td>\n",
       "      <td>Rikitea</td>\n",
       "      <td>-23.1</td>\n",
       "      <td>71.9</td>\n",
       "      <td>73</td>\n",
       "      <td>1</td>\n",
       "      <td>13.8</td>\n",
       "      <td>PF</td>\n",
       "    </tr>\n",
       "    <tr>\n",
       "      <th>1</th>\n",
       "      <td>Pudong Holiday Hotel</td>\n",
       "      <td>41.1</td>\n",
       "      <td>80.3</td>\n",
       "      <td>Aksu</td>\n",
       "      <td>41.1</td>\n",
       "      <td>70.1</td>\n",
       "      <td>25</td>\n",
       "      <td>0</td>\n",
       "      <td>3.1</td>\n",
       "      <td>CN</td>\n",
       "    </tr>\n",
       "    <tr>\n",
       "      <th>2</th>\n",
       "      <td>Hampton Inn &amp; Suites Jamestown</td>\n",
       "      <td>42.1</td>\n",
       "      <td>-79.2</td>\n",
       "      <td>Jamestown</td>\n",
       "      <td>42.1</td>\n",
       "      <td>60.0</td>\n",
       "      <td>81</td>\n",
       "      <td>1</td>\n",
       "      <td>8.1</td>\n",
       "      <td>US</td>\n",
       "    </tr>\n",
       "    <tr>\n",
       "      <th>3</th>\n",
       "      <td>Misty Waves Boutique Hotel</td>\n",
       "      <td>-34.4</td>\n",
       "      <td>19.2</td>\n",
       "      <td>Hermanus</td>\n",
       "      <td>-34.4</td>\n",
       "      <td>67.0</td>\n",
       "      <td>70</td>\n",
       "      <td>0</td>\n",
       "      <td>6.0</td>\n",
       "      <td>ZA</td>\n",
       "    </tr>\n",
       "    <tr>\n",
       "      <th>4</th>\n",
       "      <td>Bora-Bora Pearl Beach Resort &amp; Spa</td>\n",
       "      <td>-16.5</td>\n",
       "      <td>-151.8</td>\n",
       "      <td>Faanui</td>\n",
       "      <td>-16.5</td>\n",
       "      <td>78.8</td>\n",
       "      <td>79</td>\n",
       "      <td>4</td>\n",
       "      <td>16.3</td>\n",
       "      <td>PF</td>\n",
       "    </tr>\n",
       "    <tr>\n",
       "      <th>...</th>\n",
       "      <td>...</td>\n",
       "      <td>...</td>\n",
       "      <td>...</td>\n",
       "      <td>...</td>\n",
       "      <td>...</td>\n",
       "      <td>...</td>\n",
       "      <td>...</td>\n",
       "      <td>...</td>\n",
       "      <td>...</td>\n",
       "      <td>...</td>\n",
       "    </tr>\n",
       "    <tr>\n",
       "      <th>77</th>\n",
       "      <td>Hotel Lahnblick</td>\n",
       "      <td>50.9</td>\n",
       "      <td>8.4</td>\n",
       "      <td>Bad Laasphe</td>\n",
       "      <td>50.9</td>\n",
       "      <td>72.0</td>\n",
       "      <td>42</td>\n",
       "      <td>0</td>\n",
       "      <td>15.0</td>\n",
       "      <td>DE</td>\n",
       "    </tr>\n",
       "    <tr>\n",
       "      <th>78</th>\n",
       "      <td>Gîte kajeon</td>\n",
       "      <td>-20.2</td>\n",
       "      <td>164.0</td>\n",
       "      <td>Poum</td>\n",
       "      <td>-20.2</td>\n",
       "      <td>72.3</td>\n",
       "      <td>77</td>\n",
       "      <td>10</td>\n",
       "      <td>8.6</td>\n",
       "      <td>NC</td>\n",
       "    </tr>\n",
       "    <tr>\n",
       "      <th>79</th>\n",
       "      <td>Veranda Paul et Virginie Hotel &amp; Spa</td>\n",
       "      <td>-20.0</td>\n",
       "      <td>57.7</td>\n",
       "      <td>Grand Gaube</td>\n",
       "      <td>-20.0</td>\n",
       "      <td>73.0</td>\n",
       "      <td>66</td>\n",
       "      <td>0</td>\n",
       "      <td>7.0</td>\n",
       "      <td>MU</td>\n",
       "    </tr>\n",
       "    <tr>\n",
       "      <th>80</th>\n",
       "      <td>Wedgewood Motel</td>\n",
       "      <td>42.1</td>\n",
       "      <td>-72.3</td>\n",
       "      <td>Palmer</td>\n",
       "      <td>42.2</td>\n",
       "      <td>63.0</td>\n",
       "      <td>62</td>\n",
       "      <td>1</td>\n",
       "      <td>8.2</td>\n",
       "      <td>US</td>\n",
       "    </tr>\n",
       "    <tr>\n",
       "      <th>81</th>\n",
       "      <td>Holiday Inn Express Roseville-St. Paul</td>\n",
       "      <td>45.0</td>\n",
       "      <td>-93.2</td>\n",
       "      <td>Saint Anthony</td>\n",
       "      <td>45.0</td>\n",
       "      <td>68.0</td>\n",
       "      <td>77</td>\n",
       "      <td>1</td>\n",
       "      <td>5.8</td>\n",
       "      <td>US</td>\n",
       "    </tr>\n",
       "  </tbody>\n",
       "</table>\n",
       "<p>82 rows × 10 columns</p>\n",
       "</div>"
      ],
      "text/plain": [
       "                                Hotel Name  Lat_x    Lon           City  \\\n",
       "0                           Pension Maro'i  -23.1 -135.0        Rikitea   \n",
       "1                     Pudong Holiday Hotel   41.1   80.3           Aksu   \n",
       "2           Hampton Inn & Suites Jamestown   42.1  -79.2      Jamestown   \n",
       "3               Misty Waves Boutique Hotel  -34.4   19.2       Hermanus   \n",
       "4       Bora-Bora Pearl Beach Resort & Spa  -16.5 -151.8         Faanui   \n",
       "..                                     ...    ...    ...            ...   \n",
       "77                         Hotel Lahnblick   50.9    8.4    Bad Laasphe   \n",
       "78                             Gîte kajeon  -20.2  164.0           Poum   \n",
       "79    Veranda Paul et Virginie Hotel & Spa  -20.0   57.7    Grand Gaube   \n",
       "80                         Wedgewood Motel   42.1  -72.3         Palmer   \n",
       "81  Holiday Inn Express Roseville-St. Paul   45.0  -93.2  Saint Anthony   \n",
       "\n",
       "    Lat_y  Max Temp  Humidity  Cloudiness  Wind Speed Country  \n",
       "0   -23.1      71.9        73           1        13.8      PF  \n",
       "1    41.1      70.1        25           0         3.1      CN  \n",
       "2    42.1      60.0        81           1         8.1      US  \n",
       "3   -34.4      67.0        70           0         6.0      ZA  \n",
       "4   -16.5      78.8        79           4        16.3      PF  \n",
       "..    ...       ...       ...         ...         ...     ...  \n",
       "77   50.9      72.0        42           0        15.0      DE  \n",
       "78  -20.2      72.3        77          10         8.6      NC  \n",
       "79  -20.0      73.0        66           0         7.0      MU  \n",
       "80   42.2      63.0        62           1         8.2      US  \n",
       "81   45.0      68.0        77           1         5.8      US  \n",
       "\n",
       "[82 rows x 10 columns]"
      ]
     },
     "execution_count": 31,
     "metadata": {},
     "output_type": "execute_result"
    }
   ],
   "source": [
    "map_df = pd.merge(hotel_results_round_df, perfect_weather_round_df, on=\"Lon\")\n",
    "map_df"
   ]
  },
  {
   "cell_type": "code",
   "execution_count": 32,
   "metadata": {},
   "outputs": [],
   "source": [
    "# Setting MapBox token.\n",
    "px.set_mapbox_access_token(mapbox_token)"
   ]
  },
  {
   "cell_type": "code",
   "execution_count": 33,
   "metadata": {},
   "outputs": [],
   "source": [
    "# Generating scatter map.\n",
    "fig = px.scatter_mapbox(\n",
    "    map_df,\n",
    "    lat=\"Lat_x\",\n",
    "    lon=\"Lon\",\n",
    "    color=\"Humidity\",\n",
    "    hover_data=[\"Hotel Name\", \"City\", \"Country\"],\n",
    ")"
   ]
  },
  {
   "cell_type": "code",
   "execution_count": 34,
   "metadata": {},
   "outputs": [
    {
     "data": {
      "application/vnd.plotly.v1+json": {
       "config": {
        "plotlyServerURL": "https://plot.ly"
       },
       "data": [
        {
         "customdata": [
          [
           "Pension Maro'i",
           "Rikitea",
           "PF"
          ],
          [
           "Pudong Holiday Hotel",
           "Aksu",
           "CN"
          ],
          [
           "Hampton Inn & Suites Jamestown",
           "Jamestown",
           "US"
          ],
          [
           "Misty Waves Boutique Hotel",
           "Hermanus",
           "ZA"
          ],
          [
           "Bora-Bora Pearl Beach Resort & Spa",
           "Faanui",
           "PF"
          ],
          [
           "Carrís Almirante",
           "Ferrol",
           "ES"
          ],
          [
           "ТеТ-А-ТеТ",
           "Orlovskiy",
           "RU"
          ],
          [
           "Southern Sun Waterfront Cape Town",
           "Cape Town",
           "ZA"
          ],
          [
           "Hotel Chik Chik Namibe",
           "Mossamedes",
           "AO"
          ],
          [
           "Keleti Beach Resort",
           "Vaini",
           "TO"
          ],
          [
           "Desert Gardens Hotel - Ayers Rock Resort",
           "Yulara",
           "AU"
          ],
          [
           "Volcano Sea View Tree House",
           "Isangel",
           "VU"
          ],
          [
           "Observatory Guest House",
           "Busselton",
           "AU"
          ],
          [
           "Tu Casa",
           "East London",
           "ZA"
          ],
          [
           "Bredasdorp Country Manor",
           "Bredasdorp",
           "ZA"
          ],
          [
           "Juvinal Martin",
           "Airai",
           "TL"
          ],
          [
           "Courtyard by Marriott Danbury",
           "Bethel",
           "US"
          ],
          [
           "Courtyard by Marriott Danbury",
           "Westport",
           "US"
          ],
          [
           "Chateau Vartely",
           "Orhei",
           "MD"
          ],
          [
           "Residencial Karime",
           "Taltal",
           "CL"
          ],
          [
           "Valle Aridane",
           "Los Llanos de Aridane",
           "ES"
          ],
          [
           "Nadirashaleeta B&B",
           "Molteno",
           "ZA"
          ],
          [
           "Nadirashaleeta B&B",
           "Asău",
           "RO"
          ],
          [
           "Sítio Hotel e Eventos",
           "São Pedro do Sul",
           "BR"
          ],
          [
           "Tourist House - Sablino",
           "Nikolskoye",
           "RU"
          ],
          [
           "Tourist House - Sablino",
           "Otradnoye",
           "RU"
          ],
          [
           "Baza otdikha Petrushinsky Khutor",
           "Nikolskoye",
           "RU"
          ],
          [
           "Baza otdikha Petrushinsky Khutor",
           "Otradnoye",
           "RU"
          ],
          [
           "The Halyards Hotel",
           "Port Alfred",
           "ZA"
          ],
          [
           "The Halyards Hotel",
           "Koster",
           "ZA"
          ],
          [
           "Klub Kranskuil",
           "Port Alfred",
           "ZA"
          ],
          [
           "Klub Kranskuil",
           "Koster",
           "ZA"
          ],
          [
           "Atrium Hotel Mandurah",
           "Mandurah",
           "AU"
          ],
          [
           "Hotel Boutique Las Azucenas",
           "Constitución",
           "CL"
          ],
          [
           "Hotel De L'Amitie",
           "Garoua",
           "CM"
          ],
          [
           "The Fisherman's Cove",
           "Oranjemund",
           null
          ],
          [
           "Centrum UŁAN SPA",
           "Bytów",
           "PL"
          ],
          [
           "Hotel Castelo",
           "Cidreira",
           "BR"
          ],
          [
           "Pacifica Lighthouse, Trademark Collection by Wyndham",
           "Pacifica",
           "US"
          ],
          [
           "Chácara Cris e Dui",
           "Jataizinho",
           "BR"
          ],
          [
           "Old Mill Hotel",
           "San Quintín",
           "MX"
          ],
          [
           "The Freeport Inn and Marina",
           "Freeport",
           "US"
          ],
          [
           "Hotel \"Vēju paradīze\"",
           "Pāvilosta",
           "LV"
          ],
          [
           "Collection O Hotel Quinta Antigua",
           "Lázaro Cárdenas",
           "MX"
          ],
          [
           "Maui Seaside Hotel",
           "Kahului",
           "US"
          ],
          [
           "Sanatorium Ak-Niet",
           "Oytal",
           "KZ"
          ],
          [
           "Best Western Plus Abbey Inn",
           "Saint George",
           "US"
          ],
          [
           "Oyster Box Guesthouse",
           "Walvis Bay",
           null
          ],
          [
           "Gran Tacande Wellness & Relax Costa Adeje",
           "Adeje",
           "ES"
          ],
          [
           "Golden Nugget Laughlin Hotel & Casino",
           "Bullhead City",
           "US"
          ],
          [
           "Oasis hotel Bautino",
           "Fort-Shevchenko",
           "KZ"
          ],
          [
           "Hotel Piesta",
           "La Santisima Trinidad",
           "BO"
          ],
          [
           "Hotel Yugaf Inn Okinawa",
           "Nago",
           "JP"
          ],
          [
           "Cossam Guest House",
           "Finschhafen",
           "PG"
          ],
          [
           "Iaz Moara carp",
           "Liteni",
           "RO"
          ],
          [
           "Iaz Moara carp",
           "Švenčionys",
           "LT"
          ],
          [
           "ŠVIESA, svečių namai, UAB LAZDYNO RIEŠUTAS",
           "Liteni",
           "RO"
          ],
          [
           "ŠVIESA, svečių namai, UAB LAZDYNO RIEŠUTAS",
           "Švenčionys",
           "LT"
          ],
          [
           "Oyster Bay House Rental",
           "Kruisfontein",
           "ZA"
          ],
          [
           "Beira Terrace Hotel",
           "Beira",
           "MZ"
          ],
          [
           "Beira Terrace Hotel",
           "Partyzany",
           "UA"
          ],
          [
           "La Case Bambou",
           "Morondava",
           "MG"
          ],
          [
           "39 On Nile Guest House",
           "Port Elizabeth",
           "ZA"
          ],
          [
           "Groote Eylandt Lodge",
           "Alyangula",
           "AU"
          ],
          [
           "Pension Oaoa",
           "Tautira",
           "PF"
          ],
          [
           "Harmony Inn",
           "Goderich",
           "CA"
          ],
          [
           "NUR",
           "Beyneu",
           "KZ"
          ],
          [
           "Holiday Inn Express & Suites Twin Falls",
           "Twin Falls",
           "US"
          ],
          [
           "Holiday Inn Express Sierra Vista",
           "Sierra Vista",
           "US"
          ],
          [
           "The Inn At Cape Cod",
           "Yarmouth",
           "US"
          ],
          [
           "安琪酒店",
           "Ankang",
           "CN"
          ],
          [
           "ibis Styles Karratha",
           "Karratha",
           "AU"
          ],
          [
           "KOCH",
           "Kętrzyn",
           "PL"
          ],
          [
           "ibis Styles Mt Isa Verona",
           "Mount Isa",
           "AU"
          ],
          [
           "GreenTree Inn Hefei Lujiang County Jinjie 1 Express Hotel",
           "Lujiang",
           "CN"
          ],
          [
           "Hotel São Marcos",
           "São Marcos",
           "BR"
          ],
          [
           "Hotel Saigon-PT",
           "Phan Thiet",
           "VN"
          ],
          [
           "Hotel Lahnblick",
           "Bad Laasphe",
           "DE"
          ],
          [
           "Gîte kajeon",
           "Poum",
           "NC"
          ],
          [
           "Veranda Paul et Virginie Hotel & Spa",
           "Grand Gaube",
           "MU"
          ],
          [
           "Wedgewood Motel",
           "Palmer",
           "US"
          ],
          [
           "Holiday Inn Express Roseville-St. Paul",
           "Saint Anthony",
           "US"
          ]
         ],
         "hovertemplate": "Lat_x=%{lat}<br>Lon=%{lon}<br>Hotel Name=%{customdata[0]}<br>City=%{customdata[1]}<br>Country=%{customdata[2]}<br>Humidity=%{marker.color}<extra></extra>",
         "lat": [
          -23.1,
          41.1,
          42.1,
          -34.4,
          -16.5,
          43.5,
          46.9,
          -33.9,
          -15.2,
          -21.2,
          -25.2,
          -19.5,
          -33.6,
          -33,
          -34.5,
          -8.9,
          41.4,
          41.4,
          47.4,
          -25.4,
          28.7,
          -31.4,
          -31.4,
          -29.6,
          59.7,
          59.7,
          59.8,
          59.8,
          -33.6,
          -33.6,
          -25.8,
          -25.8,
          -32.5,
          -35.3,
          9.3,
          -28.6,
          54.2,
          -30.2,
          37.6,
          -23.2,
          30.5,
          40.6,
          56.9,
          18,
          20.9,
          42.9,
          37.1,
          -23,
          28.1,
          35.2,
          44.5,
          -14.8,
          26.6,
          -6.6,
          47.5,
          47.5,
          55.1,
          55.1,
          -34,
          -19.8,
          -19.8,
          -20.3,
          -33.9,
          -13.8,
          -17.7,
          43.7,
          45.3,
          42.6,
          31.5,
          41.7,
          32.7,
          -20.7,
          54.1,
          -20.7,
          31.3,
          -29,
          10.9,
          50.9,
          -20.2,
          -20,
          42.1,
          45
         ],
         "legendgroup": "",
         "lon": [
          -135,
          80.3,
          -79.2,
          19.2,
          -151.8,
          -8.2,
          42.1,
          18.4,
          12.2,
          -175.2,
          131,
          169.3,
          115.3,
          27.9,
          20,
          125.4,
          -73.4,
          -73.4,
          28.8,
          -70.5,
          -17.9,
          26.4,
          26.4,
          -54.2,
          30.8,
          30.8,
          30.8,
          30.8,
          26.9,
          26.9,
          26.9,
          26.9,
          115.7,
          -72.4,
          13.4,
          16.4,
          17.5,
          -50.2,
          -122.5,
          -51,
          -116,
          -73.6,
          21.2,
          -102.2,
          -156.5,
          73.3,
          -113.6,
          14.5,
          -16.7,
          -114.6,
          50.3,
          -64.9,
          128,
          147.9,
          26.2,
          26.2,
          26.2,
          26.2,
          24.7,
          34.8,
          34.8,
          44.3,
          25.6,
          136.4,
          -149.2,
          -81.7,
          55.2,
          -114.5,
          -110.3,
          -70.2,
          109,
          116.8,
          21.4,
          139.5,
          117.3,
          -51.1,
          108.1,
          8.4,
          164,
          57.7,
          -72.3,
          -93.2
         ],
         "marker": {
          "color": [
           73,
           25,
           81,
           70,
           79,
           64,
           24,
           68,
           71,
           88,
           19,
           82,
           49,
           64,
           56,
           66,
           67,
           59,
           22,
           61,
           74,
           20,
           52,
           72,
           56,
           68,
           56,
           68,
           57,
           25,
           57,
           25,
           70,
           55,
           88,
           31,
           44,
           64,
           72,
           56,
           72,
           55,
           64,
           82,
           69,
           35,
           34,
           67,
           78,
           35,
           34,
           64,
           94,
           76,
           38,
           61,
           38,
           61,
           48,
           57,
           47,
           69,
           37,
           83,
           69,
           74,
           24,
           27,
           43,
           51,
           47,
           58,
           49,
           23,
           83,
           64,
           82,
           42,
           77,
           66,
           62,
           77
          ],
          "coloraxis": "coloraxis"
         },
         "mode": "markers",
         "name": "",
         "showlegend": false,
         "subplot": "mapbox",
         "type": "scattermapbox"
        }
       ],
       "layout": {
        "autosize": true,
        "coloraxis": {
         "colorbar": {
          "title": {
           "text": "Humidity"
          }
         },
         "colorscale": [
          [
           0,
           "#0d0887"
          ],
          [
           0.1111111111111111,
           "#46039f"
          ],
          [
           0.2222222222222222,
           "#7201a8"
          ],
          [
           0.3333333333333333,
           "#9c179e"
          ],
          [
           0.4444444444444444,
           "#bd3786"
          ],
          [
           0.5555555555555556,
           "#d8576b"
          ],
          [
           0.6666666666666666,
           "#ed7953"
          ],
          [
           0.7777777777777778,
           "#fb9f3a"
          ],
          [
           0.8888888888888888,
           "#fdca26"
          ],
          [
           1,
           "#f0f921"
          ]
         ]
        },
        "legend": {
         "tracegroupgap": 0
        },
        "mapbox": {
         "accesstoken": "pk.eyJ1Ijoic2x5c3N5IiwiYSI6ImNrZjl3MGl6bDBwd2Eyd3Jxc3lkcnpoZmcifQ.e7I6-TJ6eJx2yXOvgeKZLQ",
         "bearing": 0,
         "center": {
          "lat": 13.534382796958383,
          "lon": -7.366509960030953
         },
         "domain": {
          "x": [
           0,
           1
          ],
          "y": [
           0,
           1
          ]
         },
         "pitch": 0,
         "zoom": 0.48151856601462395
        },
        "margin": {
         "t": 60
        },
        "template": {
         "data": {
          "bar": [
           {
            "error_x": {
             "color": "#2a3f5f"
            },
            "error_y": {
             "color": "#2a3f5f"
            },
            "marker": {
             "line": {
              "color": "#E5ECF6",
              "width": 0.5
             }
            },
            "type": "bar"
           }
          ],
          "barpolar": [
           {
            "marker": {
             "line": {
              "color": "#E5ECF6",
              "width": 0.5
             }
            },
            "type": "barpolar"
           }
          ],
          "carpet": [
           {
            "aaxis": {
             "endlinecolor": "#2a3f5f",
             "gridcolor": "white",
             "linecolor": "white",
             "minorgridcolor": "white",
             "startlinecolor": "#2a3f5f"
            },
            "baxis": {
             "endlinecolor": "#2a3f5f",
             "gridcolor": "white",
             "linecolor": "white",
             "minorgridcolor": "white",
             "startlinecolor": "#2a3f5f"
            },
            "type": "carpet"
           }
          ],
          "choropleth": [
           {
            "colorbar": {
             "outlinewidth": 0,
             "ticks": ""
            },
            "type": "choropleth"
           }
          ],
          "contour": [
           {
            "colorbar": {
             "outlinewidth": 0,
             "ticks": ""
            },
            "colorscale": [
             [
              0,
              "#0d0887"
             ],
             [
              0.1111111111111111,
              "#46039f"
             ],
             [
              0.2222222222222222,
              "#7201a8"
             ],
             [
              0.3333333333333333,
              "#9c179e"
             ],
             [
              0.4444444444444444,
              "#bd3786"
             ],
             [
              0.5555555555555556,
              "#d8576b"
             ],
             [
              0.6666666666666666,
              "#ed7953"
             ],
             [
              0.7777777777777778,
              "#fb9f3a"
             ],
             [
              0.8888888888888888,
              "#fdca26"
             ],
             [
              1,
              "#f0f921"
             ]
            ],
            "type": "contour"
           }
          ],
          "contourcarpet": [
           {
            "colorbar": {
             "outlinewidth": 0,
             "ticks": ""
            },
            "type": "contourcarpet"
           }
          ],
          "heatmap": [
           {
            "colorbar": {
             "outlinewidth": 0,
             "ticks": ""
            },
            "colorscale": [
             [
              0,
              "#0d0887"
             ],
             [
              0.1111111111111111,
              "#46039f"
             ],
             [
              0.2222222222222222,
              "#7201a8"
             ],
             [
              0.3333333333333333,
              "#9c179e"
             ],
             [
              0.4444444444444444,
              "#bd3786"
             ],
             [
              0.5555555555555556,
              "#d8576b"
             ],
             [
              0.6666666666666666,
              "#ed7953"
             ],
             [
              0.7777777777777778,
              "#fb9f3a"
             ],
             [
              0.8888888888888888,
              "#fdca26"
             ],
             [
              1,
              "#f0f921"
             ]
            ],
            "type": "heatmap"
           }
          ],
          "heatmapgl": [
           {
            "colorbar": {
             "outlinewidth": 0,
             "ticks": ""
            },
            "colorscale": [
             [
              0,
              "#0d0887"
             ],
             [
              0.1111111111111111,
              "#46039f"
             ],
             [
              0.2222222222222222,
              "#7201a8"
             ],
             [
              0.3333333333333333,
              "#9c179e"
             ],
             [
              0.4444444444444444,
              "#bd3786"
             ],
             [
              0.5555555555555556,
              "#d8576b"
             ],
             [
              0.6666666666666666,
              "#ed7953"
             ],
             [
              0.7777777777777778,
              "#fb9f3a"
             ],
             [
              0.8888888888888888,
              "#fdca26"
             ],
             [
              1,
              "#f0f921"
             ]
            ],
            "type": "heatmapgl"
           }
          ],
          "histogram": [
           {
            "marker": {
             "colorbar": {
              "outlinewidth": 0,
              "ticks": ""
             }
            },
            "type": "histogram"
           }
          ],
          "histogram2d": [
           {
            "colorbar": {
             "outlinewidth": 0,
             "ticks": ""
            },
            "colorscale": [
             [
              0,
              "#0d0887"
             ],
             [
              0.1111111111111111,
              "#46039f"
             ],
             [
              0.2222222222222222,
              "#7201a8"
             ],
             [
              0.3333333333333333,
              "#9c179e"
             ],
             [
              0.4444444444444444,
              "#bd3786"
             ],
             [
              0.5555555555555556,
              "#d8576b"
             ],
             [
              0.6666666666666666,
              "#ed7953"
             ],
             [
              0.7777777777777778,
              "#fb9f3a"
             ],
             [
              0.8888888888888888,
              "#fdca26"
             ],
             [
              1,
              "#f0f921"
             ]
            ],
            "type": "histogram2d"
           }
          ],
          "histogram2dcontour": [
           {
            "colorbar": {
             "outlinewidth": 0,
             "ticks": ""
            },
            "colorscale": [
             [
              0,
              "#0d0887"
             ],
             [
              0.1111111111111111,
              "#46039f"
             ],
             [
              0.2222222222222222,
              "#7201a8"
             ],
             [
              0.3333333333333333,
              "#9c179e"
             ],
             [
              0.4444444444444444,
              "#bd3786"
             ],
             [
              0.5555555555555556,
              "#d8576b"
             ],
             [
              0.6666666666666666,
              "#ed7953"
             ],
             [
              0.7777777777777778,
              "#fb9f3a"
             ],
             [
              0.8888888888888888,
              "#fdca26"
             ],
             [
              1,
              "#f0f921"
             ]
            ],
            "type": "histogram2dcontour"
           }
          ],
          "mesh3d": [
           {
            "colorbar": {
             "outlinewidth": 0,
             "ticks": ""
            },
            "type": "mesh3d"
           }
          ],
          "parcoords": [
           {
            "line": {
             "colorbar": {
              "outlinewidth": 0,
              "ticks": ""
             }
            },
            "type": "parcoords"
           }
          ],
          "pie": [
           {
            "automargin": true,
            "type": "pie"
           }
          ],
          "scatter": [
           {
            "marker": {
             "colorbar": {
              "outlinewidth": 0,
              "ticks": ""
             }
            },
            "type": "scatter"
           }
          ],
          "scatter3d": [
           {
            "line": {
             "colorbar": {
              "outlinewidth": 0,
              "ticks": ""
             }
            },
            "marker": {
             "colorbar": {
              "outlinewidth": 0,
              "ticks": ""
             }
            },
            "type": "scatter3d"
           }
          ],
          "scattercarpet": [
           {
            "marker": {
             "colorbar": {
              "outlinewidth": 0,
              "ticks": ""
             }
            },
            "type": "scattercarpet"
           }
          ],
          "scattergeo": [
           {
            "marker": {
             "colorbar": {
              "outlinewidth": 0,
              "ticks": ""
             }
            },
            "type": "scattergeo"
           }
          ],
          "scattergl": [
           {
            "marker": {
             "colorbar": {
              "outlinewidth": 0,
              "ticks": ""
             }
            },
            "type": "scattergl"
           }
          ],
          "scattermapbox": [
           {
            "marker": {
             "colorbar": {
              "outlinewidth": 0,
              "ticks": ""
             }
            },
            "type": "scattermapbox"
           }
          ],
          "scatterpolar": [
           {
            "marker": {
             "colorbar": {
              "outlinewidth": 0,
              "ticks": ""
             }
            },
            "type": "scatterpolar"
           }
          ],
          "scatterpolargl": [
           {
            "marker": {
             "colorbar": {
              "outlinewidth": 0,
              "ticks": ""
             }
            },
            "type": "scatterpolargl"
           }
          ],
          "scatterternary": [
           {
            "marker": {
             "colorbar": {
              "outlinewidth": 0,
              "ticks": ""
             }
            },
            "type": "scatterternary"
           }
          ],
          "surface": [
           {
            "colorbar": {
             "outlinewidth": 0,
             "ticks": ""
            },
            "colorscale": [
             [
              0,
              "#0d0887"
             ],
             [
              0.1111111111111111,
              "#46039f"
             ],
             [
              0.2222222222222222,
              "#7201a8"
             ],
             [
              0.3333333333333333,
              "#9c179e"
             ],
             [
              0.4444444444444444,
              "#bd3786"
             ],
             [
              0.5555555555555556,
              "#d8576b"
             ],
             [
              0.6666666666666666,
              "#ed7953"
             ],
             [
              0.7777777777777778,
              "#fb9f3a"
             ],
             [
              0.8888888888888888,
              "#fdca26"
             ],
             [
              1,
              "#f0f921"
             ]
            ],
            "type": "surface"
           }
          ],
          "table": [
           {
            "cells": {
             "fill": {
              "color": "#EBF0F8"
             },
             "line": {
              "color": "white"
             }
            },
            "header": {
             "fill": {
              "color": "#C8D4E3"
             },
             "line": {
              "color": "white"
             }
            },
            "type": "table"
           }
          ]
         },
         "layout": {
          "annotationdefaults": {
           "arrowcolor": "#2a3f5f",
           "arrowhead": 0,
           "arrowwidth": 1
          },
          "coloraxis": {
           "colorbar": {
            "outlinewidth": 0,
            "ticks": ""
           }
          },
          "colorscale": {
           "diverging": [
            [
             0,
             "#8e0152"
            ],
            [
             0.1,
             "#c51b7d"
            ],
            [
             0.2,
             "#de77ae"
            ],
            [
             0.3,
             "#f1b6da"
            ],
            [
             0.4,
             "#fde0ef"
            ],
            [
             0.5,
             "#f7f7f7"
            ],
            [
             0.6,
             "#e6f5d0"
            ],
            [
             0.7,
             "#b8e186"
            ],
            [
             0.8,
             "#7fbc41"
            ],
            [
             0.9,
             "#4d9221"
            ],
            [
             1,
             "#276419"
            ]
           ],
           "sequential": [
            [
             0,
             "#0d0887"
            ],
            [
             0.1111111111111111,
             "#46039f"
            ],
            [
             0.2222222222222222,
             "#7201a8"
            ],
            [
             0.3333333333333333,
             "#9c179e"
            ],
            [
             0.4444444444444444,
             "#bd3786"
            ],
            [
             0.5555555555555556,
             "#d8576b"
            ],
            [
             0.6666666666666666,
             "#ed7953"
            ],
            [
             0.7777777777777778,
             "#fb9f3a"
            ],
            [
             0.8888888888888888,
             "#fdca26"
            ],
            [
             1,
             "#f0f921"
            ]
           ],
           "sequentialminus": [
            [
             0,
             "#0d0887"
            ],
            [
             0.1111111111111111,
             "#46039f"
            ],
            [
             0.2222222222222222,
             "#7201a8"
            ],
            [
             0.3333333333333333,
             "#9c179e"
            ],
            [
             0.4444444444444444,
             "#bd3786"
            ],
            [
             0.5555555555555556,
             "#d8576b"
            ],
            [
             0.6666666666666666,
             "#ed7953"
            ],
            [
             0.7777777777777778,
             "#fb9f3a"
            ],
            [
             0.8888888888888888,
             "#fdca26"
            ],
            [
             1,
             "#f0f921"
            ]
           ]
          },
          "colorway": [
           "#636efa",
           "#EF553B",
           "#00cc96",
           "#ab63fa",
           "#FFA15A",
           "#19d3f3",
           "#FF6692",
           "#B6E880",
           "#FF97FF",
           "#FECB52"
          ],
          "font": {
           "color": "#2a3f5f"
          },
          "geo": {
           "bgcolor": "white",
           "lakecolor": "white",
           "landcolor": "#E5ECF6",
           "showlakes": true,
           "showland": true,
           "subunitcolor": "white"
          },
          "hoverlabel": {
           "align": "left"
          },
          "hovermode": "closest",
          "mapbox": {
           "style": "light"
          },
          "paper_bgcolor": "white",
          "plot_bgcolor": "#E5ECF6",
          "polar": {
           "angularaxis": {
            "gridcolor": "white",
            "linecolor": "white",
            "ticks": ""
           },
           "bgcolor": "#E5ECF6",
           "radialaxis": {
            "gridcolor": "white",
            "linecolor": "white",
            "ticks": ""
           }
          },
          "scene": {
           "xaxis": {
            "backgroundcolor": "#E5ECF6",
            "gridcolor": "white",
            "gridwidth": 2,
            "linecolor": "white",
            "showbackground": true,
            "ticks": "",
            "zerolinecolor": "white"
           },
           "yaxis": {
            "backgroundcolor": "#E5ECF6",
            "gridcolor": "white",
            "gridwidth": 2,
            "linecolor": "white",
            "showbackground": true,
            "ticks": "",
            "zerolinecolor": "white"
           },
           "zaxis": {
            "backgroundcolor": "#E5ECF6",
            "gridcolor": "white",
            "gridwidth": 2,
            "linecolor": "white",
            "showbackground": true,
            "ticks": "",
            "zerolinecolor": "white"
           }
          },
          "shapedefaults": {
           "line": {
            "color": "#2a3f5f"
           }
          },
          "ternary": {
           "aaxis": {
            "gridcolor": "white",
            "linecolor": "white",
            "ticks": ""
           },
           "baxis": {
            "gridcolor": "white",
            "linecolor": "white",
            "ticks": ""
           },
           "bgcolor": "#E5ECF6",
           "caxis": {
            "gridcolor": "white",
            "linecolor": "white",
            "ticks": ""
           }
          },
          "title": {
           "x": 0.05
          },
          "xaxis": {
           "automargin": true,
           "gridcolor": "white",
           "linecolor": "white",
           "ticks": "",
           "title": {
            "standoff": 15
           },
           "zerolinecolor": "white",
           "zerolinewidth": 2
          },
          "yaxis": {
           "automargin": true,
           "gridcolor": "white",
           "linecolor": "white",
           "ticks": "",
           "title": {
            "standoff": 15
           },
           "zerolinecolor": "white",
           "zerolinewidth": 2
          }
         }
        }
       }
      },
      "image/png": "[encoded data removed]",
      "text/html": [
       "<div>                            <div id=\"0594d4de-6316-4556-8d5d-1f5f2b72e433\" class=\"plotly-graph-div\" style=\"height:525px; width:100%;\"></div>            <script type=\"text/javascript\">                require([\"plotly\"], function(Plotly) {                    window.PLOTLYENV=window.PLOTLYENV || {};                                    if (document.getElementById(\"0594d4de-6316-4556-8d5d-1f5f2b72e433\")) {                    Plotly.newPlot(                        \"0594d4de-6316-4556-8d5d-1f5f2b72e433\",                        [{\"customdata\": [[\"Pension Maro'i\", \"Rikitea\", \"PF\"], [\"Pudong Holiday Hotel\", \"Aksu\", \"CN\"], [\"Hampton Inn & Suites Jamestown\", \"Jamestown\", \"US\"], [\"Misty Waves Boutique Hotel\", \"Hermanus\", \"ZA\"], [\"Bora-Bora Pearl Beach Resort & Spa\", \"Faanui\", \"PF\"], [\"Carr\\u00eds Almirante\", \"Ferrol\", \"ES\"], [\"\\u0422\\u0435\\u0422-\\u0410-\\u0422\\u0435\\u0422\", \"Orlovskiy\", \"RU\"], [\"Southern Sun Waterfront Cape Town\", \"Cape Town\", \"ZA\"], [\"Hotel Chik Chik Namibe\", \"Mossamedes\", \"AO\"], [\"Keleti Beach Resort\", \"Vaini\", \"TO\"], [\"Desert Gardens Hotel - Ayers Rock Resort\", \"Yulara\", \"AU\"], [\"Volcano Sea View Tree House\", \"Isangel\", \"VU\"], [\"Observatory Guest House\", \"Busselton\", \"AU\"], [\"Tu Casa\", \"East London\", \"ZA\"], [\"Bredasdorp Country Manor\", \"Bredasdorp\", \"ZA\"], [\"Juvinal Martin\", \"Airai\", \"TL\"], [\"Courtyard by Marriott Danbury\", \"Bethel\", \"US\"], [\"Courtyard by Marriott Danbury\", \"Westport\", \"US\"], [\"Chateau Vartely\", \"Orhei\", \"MD\"], [\"Residencial Karime\", \"Taltal\", \"CL\"], [\"Valle Aridane\", \"Los Llanos de Aridane\", \"ES\"], [\"Nadirashaleeta B&B\", \"Molteno\", \"ZA\"], [\"Nadirashaleeta B&B\", \"As\\u0103u\", \"RO\"], [\"S\\u00edtio Hotel e Eventos\", \"S\\u00e3o Pedro do Sul\", \"BR\"], [\"Tourist House - Sablino\", \"Nikolskoye\", \"RU\"], [\"Tourist House - Sablino\", \"Otradnoye\", \"RU\"], [\"Baza otdikha Petrushinsky Khutor\", \"Nikolskoye\", \"RU\"], [\"Baza otdikha Petrushinsky Khutor\", \"Otradnoye\", \"RU\"], [\"The Halyards Hotel\", \"Port Alfred\", \"ZA\"], [\"The Halyards Hotel\", \"Koster\", \"ZA\"], [\"Klub Kranskuil\", \"Port Alfred\", \"ZA\"], [\"Klub Kranskuil\", \"Koster\", \"ZA\"], [\"Atrium Hotel Mandurah\", \"Mandurah\", \"AU\"], [\"Hotel Boutique Las Azucenas\", \"Constituci\\u00f3n\", \"CL\"], [\"Hotel De L'Amitie\", \"Garoua\", \"CM\"], [\"The Fisherman's Cove\", \"Oranjemund\", null], [\"Centrum U\\u0141AN SPA\", \"Byt\\u00f3w\", \"PL\"], [\"Hotel Castelo\", \"Cidreira\", \"BR\"], [\"Pacifica Lighthouse, Trademark Collection by Wyndham\", \"Pacifica\", \"US\"], [\"Ch\\u00e1cara Cris e Dui\", \"Jataizinho\", \"BR\"], [\"Old Mill Hotel\", \"San Quint\\u00edn\", \"MX\"], [\"The Freeport Inn and Marina\", \"Freeport\", \"US\"], [\"Hotel \\\"V\\u0113ju parad\\u012bze\\\"\", \"P\\u0101vilosta\", \"LV\"], [\"Collection O Hotel Quinta Antigua\", \"L\\u00e1zaro C\\u00e1rdenas\", \"MX\"], [\"Maui Seaside Hotel\", \"Kahului\", \"US\"], [\"Sanatorium Ak-Niet\", \"Oytal\", \"KZ\"], [\"Best Western Plus Abbey Inn\", \"Saint George\", \"US\"], [\"Oyster Box Guesthouse\", \"Walvis Bay\", null], [\"Gran Tacande Wellness & Relax Costa Adeje\", \"Adeje\", \"ES\"], [\"Golden Nugget Laughlin Hotel & Casino\", \"Bullhead City\", \"US\"], [\"Oasis hotel Bautino\", \"Fort-Shevchenko\", \"KZ\"], [\"Hotel Piesta\", \"La Santisima Trinidad\", \"BO\"], [\"Hotel Yugaf Inn Okinawa\", \"Nago\", \"JP\"], [\"Cossam Guest House\", \"Finschhafen\", \"PG\"], [\"Iaz Moara carp\", \"Liteni\", \"RO\"], [\"Iaz Moara carp\", \"\\u0160ven\\u010dionys\", \"LT\"], [\"\\u0160VIESA, sve\\u010di\\u0173 namai, UAB LAZDYNO RIE\\u0160UTAS\", \"Liteni\", \"RO\"], [\"\\u0160VIESA, sve\\u010di\\u0173 namai, UAB LAZDYNO RIE\\u0160UTAS\", \"\\u0160ven\\u010dionys\", \"LT\"], [\"Oyster Bay House Rental\", \"Kruisfontein\", \"ZA\"], [\"Beira Terrace Hotel\", \"Beira\", \"MZ\"], [\"Beira Terrace Hotel\", \"Partyzany\", \"UA\"], [\"La Case Bambou\", \"Morondava\", \"MG\"], [\"39 On Nile Guest House\", \"Port Elizabeth\", \"ZA\"], [\"Groote Eylandt Lodge\", \"Alyangula\", \"AU\"], [\"Pension Oaoa\", \"Tautira\", \"PF\"], [\"Harmony Inn\", \"Goderich\", \"CA\"], [\"NUR\", \"Beyneu\", \"KZ\"], [\"Holiday Inn Express & Suites Twin Falls\", \"Twin Falls\", \"US\"], [\"Holiday Inn Express Sierra Vista\", \"Sierra Vista\", \"US\"], [\"The Inn At Cape Cod\", \"Yarmouth\", \"US\"], [\"\\u5b89\\u742a\\u9152\\u5e97\", \"Ankang\", \"CN\"], [\"ibis Styles Karratha\", \"Karratha\", \"AU\"], [\"KOCH\", \"K\\u0119trzyn\", \"PL\"], [\"ibis Styles Mt Isa Verona\", \"Mount Isa\", \"AU\"], [\"GreenTree Inn Hefei Lujiang County Jinjie 1 Express Hotel\", \"Lujiang\", \"CN\"], [\"Hotel S\\u00e3o Marcos\", \"S\\u00e3o Marcos\", \"BR\"], [\"Hotel Saigon-PT\", \"Phan Thiet\", \"VN\"], [\"Hotel Lahnblick\", \"Bad Laasphe\", \"DE\"], [\"G\\u00eete kajeon\", \"Poum\", \"NC\"], [\"Veranda Paul et Virginie Hotel & Spa\", \"Grand Gaube\", \"MU\"], [\"Wedgewood Motel\", \"Palmer\", \"US\"], [\"Holiday Inn Express Roseville-St. Paul\", \"Saint Anthony\", \"US\"]], \"hovertemplate\": \"Lat_x=%{lat}<br>Lon=%{lon}<br>Hotel Name=%{customdata[0]}<br>City=%{customdata[1]}<br>Country=%{customdata[2]}<br>Humidity=%{marker.color}<extra></extra>\", \"lat\": [-23.1, 41.1, 42.1, -34.4, -16.5, 43.5, 46.9, -33.9, -15.2, -21.2, -25.2, -19.5, -33.6, -33.0, -34.5, -8.9, 41.4, 41.4, 47.4, -25.4, 28.7, -31.4, -31.4, -29.6, 59.7, 59.7, 59.8, 59.8, -33.6, -33.6, -25.8, -25.8, -32.5, -35.3, 9.3, -28.6, 54.2, -30.2, 37.6, -23.2, 30.5, 40.6, 56.9, 18.0, 20.9, 42.9, 37.1, -23.0, 28.1, 35.2, 44.5, -14.8, 26.6, -6.6, 47.5, 47.5, 55.1, 55.1, -34.0, -19.8, -19.8, -20.3, -33.9, -13.8, -17.7, 43.7, 45.3, 42.6, 31.5, 41.7, 32.7, -20.7, 54.1, -20.7, 31.3, -29.0, 10.9, 50.9, -20.2, -20.0, 42.1, 45.0], \"legendgroup\": \"\", \"lon\": [-135.0, 80.3, -79.2, 19.2, -151.8, -8.2, 42.1, 18.4, 12.2, -175.2, 131.0, 169.3, 115.3, 27.9, 20.0, 125.4, -73.4, -73.4, 28.8, -70.5, -17.9, 26.4, 26.4, -54.2, 30.8, 30.8, 30.8, 30.8, 26.9, 26.9, 26.9, 26.9, 115.7, -72.4, 13.4, 16.4, 17.5, -50.2, -122.5, -51.0, -116.0, -73.6, 21.2, -102.2, -156.5, 73.3, -113.6, 14.5, -16.7, -114.6, 50.3, -64.9, 128.0, 147.9, 26.2, 26.2, 26.2, 26.2, 24.7, 34.8, 34.8, 44.3, 25.6, 136.4, -149.2, -81.7, 55.2, -114.5, -110.3, -70.2, 109.0, 116.8, 21.4, 139.5, 117.3, -51.1, 108.1, 8.4, 164.0, 57.7, -72.3, -93.2], \"marker\": {\"color\": [73, 25, 81, 70, 79, 64, 24, 68, 71, 88, 19, 82, 49, 64, 56, 66, 67, 59, 22, 61, 74, 20, 52, 72, 56, 68, 56, 68, 57, 25, 57, 25, 70, 55, 88, 31, 44, 64, 72, 56, 72, 55, 64, 82, 69, 35, 34, 67, 78, 35, 34, 64, 94, 76, 38, 61, 38, 61, 48, 57, 47, 69, 37, 83, 69, 74, 24, 27, 43, 51, 47, 58, 49, 23, 83, 64, 82, 42, 77, 66, 62, 77], \"coloraxis\": \"coloraxis\"}, \"mode\": \"markers\", \"name\": \"\", \"showlegend\": false, \"subplot\": \"mapbox\", \"type\": \"scattermapbox\"}],                        {\"coloraxis\": {\"colorbar\": {\"title\": {\"text\": \"Humidity\"}}, \"colorscale\": [[0.0, \"#0d0887\"], [0.1111111111111111, \"#46039f\"], [0.2222222222222222, \"#7201a8\"], [0.3333333333333333, \"#9c179e\"], [0.4444444444444444, \"#bd3786\"], [0.5555555555555556, \"#d8576b\"], [0.6666666666666666, \"#ed7953\"], [0.7777777777777778, \"#fb9f3a\"], [0.8888888888888888, \"#fdca26\"], [1.0, \"#f0f921\"]]}, \"legend\": {\"tracegroupgap\": 0}, \"mapbox\": {\"accesstoken\": \"pk.eyJ1Ijoic2x5c3N5IiwiYSI6ImNrZjl3MGl6bDBwd2Eyd3Jxc3lkcnpoZmcifQ.e7I6-TJ6eJx2yXOvgeKZLQ\", \"center\": {\"lat\": 8.917073170731705, \"lon\": 4.134146341463415}, \"domain\": {\"x\": [0.0, 1.0], \"y\": [0.0, 1.0]}, \"zoom\": 8}, \"margin\": {\"t\": 60}, \"template\": {\"data\": {\"bar\": [{\"error_x\": {\"color\": \"#2a3f5f\"}, \"error_y\": {\"color\": \"#2a3f5f\"}, \"marker\": {\"line\": {\"color\": \"#E5ECF6\", \"width\": 0.5}}, \"type\": \"bar\"}], \"barpolar\": [{\"marker\": {\"line\": {\"color\": \"#E5ECF6\", \"width\": 0.5}}, \"type\": \"barpolar\"}], \"carpet\": [{\"aaxis\": {\"endlinecolor\": \"#2a3f5f\", \"gridcolor\": \"white\", \"linecolor\": \"white\", \"minorgridcolor\": \"white\", \"startlinecolor\": \"#2a3f5f\"}, \"baxis\": {\"endlinecolor\": \"#2a3f5f\", \"gridcolor\": \"white\", \"linecolor\": \"white\", \"minorgridcolor\": \"white\", \"startlinecolor\": \"#2a3f5f\"}, \"type\": \"carpet\"}], \"choropleth\": [{\"colorbar\": {\"outlinewidth\": 0, \"ticks\": \"\"}, \"type\": \"choropleth\"}], \"contour\": [{\"colorbar\": {\"outlinewidth\": 0, \"ticks\": \"\"}, \"colorscale\": [[0.0, \"#0d0887\"], [0.1111111111111111, \"#46039f\"], [0.2222222222222222, \"#7201a8\"], [0.3333333333333333, \"#9c179e\"], [0.4444444444444444, \"#bd3786\"], [0.5555555555555556, \"#d8576b\"], [0.6666666666666666, \"#ed7953\"], [0.7777777777777778, \"#fb9f3a\"], [0.8888888888888888, \"#fdca26\"], [1.0, \"#f0f921\"]], \"type\": \"contour\"}], \"contourcarpet\": [{\"colorbar\": {\"outlinewidth\": 0, \"ticks\": \"\"}, \"type\": \"contourcarpet\"}], \"heatmap\": [{\"colorbar\": {\"outlinewidth\": 0, \"ticks\": \"\"}, \"colorscale\": [[0.0, \"#0d0887\"], [0.1111111111111111, \"#46039f\"], [0.2222222222222222, \"#7201a8\"], [0.3333333333333333, \"#9c179e\"], [0.4444444444444444, \"#bd3786\"], [0.5555555555555556, \"#d8576b\"], [0.6666666666666666, \"#ed7953\"], [0.7777777777777778, \"#fb9f3a\"], [0.8888888888888888, \"#fdca26\"], [1.0, \"#f0f921\"]], \"type\": \"heatmap\"}], \"heatmapgl\": [{\"colorbar\": {\"outlinewidth\": 0, \"ticks\": \"\"}, \"colorscale\": [[0.0, \"#0d0887\"], [0.1111111111111111, \"#46039f\"], [0.2222222222222222, \"#7201a8\"], [0.3333333333333333, \"#9c179e\"], [0.4444444444444444, \"#bd3786\"], [0.5555555555555556, \"#d8576b\"], [0.6666666666666666, \"#ed7953\"], [0.7777777777777778, \"#fb9f3a\"], [0.8888888888888888, \"#fdca26\"], [1.0, \"#f0f921\"]], \"type\": \"heatmapgl\"}], \"histogram\": [{\"marker\": {\"colorbar\": {\"outlinewidth\": 0, \"ticks\": \"\"}}, \"type\": \"histogram\"}], \"histogram2d\": [{\"colorbar\": {\"outlinewidth\": 0, \"ticks\": \"\"}, \"colorscale\": [[0.0, \"#0d0887\"], [0.1111111111111111, \"#46039f\"], [0.2222222222222222, \"#7201a8\"], [0.3333333333333333, \"#9c179e\"], [0.4444444444444444, \"#bd3786\"], [0.5555555555555556, \"#d8576b\"], [0.6666666666666666, \"#ed7953\"], [0.7777777777777778, \"#fb9f3a\"], [0.8888888888888888, \"#fdca26\"], [1.0, \"#f0f921\"]], \"type\": \"histogram2d\"}], \"histogram2dcontour\": [{\"colorbar\": {\"outlinewidth\": 0, \"ticks\": \"\"}, \"colorscale\": [[0.0, \"#0d0887\"], [0.1111111111111111, \"#46039f\"], [0.2222222222222222, \"#7201a8\"], [0.3333333333333333, \"#9c179e\"], [0.4444444444444444, \"#bd3786\"], [0.5555555555555556, \"#d8576b\"], [0.6666666666666666, \"#ed7953\"], [0.7777777777777778, \"#fb9f3a\"], [0.8888888888888888, \"#fdca26\"], [1.0, \"#f0f921\"]], \"type\": \"histogram2dcontour\"}], \"mesh3d\": [{\"colorbar\": {\"outlinewidth\": 0, \"ticks\": \"\"}, \"type\": \"mesh3d\"}], \"parcoords\": [{\"line\": {\"colorbar\": {\"outlinewidth\": 0, \"ticks\": \"\"}}, \"type\": \"parcoords\"}], \"pie\": [{\"automargin\": true, \"type\": \"pie\"}], \"scatter\": [{\"marker\": {\"colorbar\": {\"outlinewidth\": 0, \"ticks\": \"\"}}, \"type\": \"scatter\"}], \"scatter3d\": [{\"line\": {\"colorbar\": {\"outlinewidth\": 0, \"ticks\": \"\"}}, \"marker\": {\"colorbar\": {\"outlinewidth\": 0, \"ticks\": \"\"}}, \"type\": \"scatter3d\"}], \"scattercarpet\": [{\"marker\": {\"colorbar\": {\"outlinewidth\": 0, \"ticks\": \"\"}}, \"type\": \"scattercarpet\"}], \"scattergeo\": [{\"marker\": {\"colorbar\": {\"outlinewidth\": 0, \"ticks\": \"\"}}, \"type\": \"scattergeo\"}], \"scattergl\": [{\"marker\": {\"colorbar\": {\"outlinewidth\": 0, \"ticks\": \"\"}}, \"type\": \"scattergl\"}], \"scattermapbox\": [{\"marker\": {\"colorbar\": {\"outlinewidth\": 0, \"ticks\": \"\"}}, \"type\": \"scattermapbox\"}], \"scatterpolar\": [{\"marker\": {\"colorbar\": {\"outlinewidth\": 0, \"ticks\": \"\"}}, \"type\": \"scatterpolar\"}], \"scatterpolargl\": [{\"marker\": {\"colorbar\": {\"outlinewidth\": 0, \"ticks\": \"\"}}, \"type\": \"scatterpolargl\"}], \"scatterternary\": [{\"marker\": {\"colorbar\": {\"outlinewidth\": 0, \"ticks\": \"\"}}, \"type\": \"scatterternary\"}], \"surface\": [{\"colorbar\": {\"outlinewidth\": 0, \"ticks\": \"\"}, \"colorscale\": [[0.0, \"#0d0887\"], [0.1111111111111111, \"#46039f\"], [0.2222222222222222, \"#7201a8\"], [0.3333333333333333, \"#9c179e\"], [0.4444444444444444, \"#bd3786\"], [0.5555555555555556, \"#d8576b\"], [0.6666666666666666, \"#ed7953\"], [0.7777777777777778, \"#fb9f3a\"], [0.8888888888888888, \"#fdca26\"], [1.0, \"#f0f921\"]], \"type\": \"surface\"}], \"table\": [{\"cells\": {\"fill\": {\"color\": \"#EBF0F8\"}, \"line\": {\"color\": \"white\"}}, \"header\": {\"fill\": {\"color\": \"#C8D4E3\"}, \"line\": {\"color\": \"white\"}}, \"type\": \"table\"}]}, \"layout\": {\"annotationdefaults\": {\"arrowcolor\": \"#2a3f5f\", \"arrowhead\": 0, \"arrowwidth\": 1}, \"coloraxis\": {\"colorbar\": {\"outlinewidth\": 0, \"ticks\": \"\"}}, \"colorscale\": {\"diverging\": [[0, \"#8e0152\"], [0.1, \"#c51b7d\"], [0.2, \"#de77ae\"], [0.3, \"#f1b6da\"], [0.4, \"#fde0ef\"], [0.5, \"#f7f7f7\"], [0.6, \"#e6f5d0\"], [0.7, \"#b8e186\"], [0.8, \"#7fbc41\"], [0.9, \"#4d9221\"], [1, \"#276419\"]], \"sequential\": [[0.0, \"#0d0887\"], [0.1111111111111111, \"#46039f\"], [0.2222222222222222, \"#7201a8\"], [0.3333333333333333, \"#9c179e\"], [0.4444444444444444, \"#bd3786\"], [0.5555555555555556, \"#d8576b\"], [0.6666666666666666, \"#ed7953\"], [0.7777777777777778, \"#fb9f3a\"], [0.8888888888888888, \"#fdca26\"], [1.0, \"#f0f921\"]], \"sequentialminus\": [[0.0, \"#0d0887\"], [0.1111111111111111, \"#46039f\"], [0.2222222222222222, \"#7201a8\"], [0.3333333333333333, \"#9c179e\"], [0.4444444444444444, \"#bd3786\"], [0.5555555555555556, \"#d8576b\"], [0.6666666666666666, \"#ed7953\"], [0.7777777777777778, \"#fb9f3a\"], [0.8888888888888888, \"#fdca26\"], [1.0, \"#f0f921\"]]}, \"colorway\": [\"#636efa\", \"#EF553B\", \"#00cc96\", \"#ab63fa\", \"#FFA15A\", \"#19d3f3\", \"#FF6692\", \"#B6E880\", \"#FF97FF\", \"#FECB52\"], \"font\": {\"color\": \"#2a3f5f\"}, \"geo\": {\"bgcolor\": \"white\", \"lakecolor\": \"white\", \"landcolor\": \"#E5ECF6\", \"showlakes\": true, \"showland\": true, \"subunitcolor\": \"white\"}, \"hoverlabel\": {\"align\": \"left\"}, \"hovermode\": \"closest\", \"mapbox\": {\"style\": \"light\"}, \"paper_bgcolor\": \"white\", \"plot_bgcolor\": \"#E5ECF6\", \"polar\": {\"angularaxis\": {\"gridcolor\": \"white\", \"linecolor\": \"white\", \"ticks\": \"\"}, \"bgcolor\": \"#E5ECF6\", \"radialaxis\": {\"gridcolor\": \"white\", \"linecolor\": \"white\", \"ticks\": \"\"}}, \"scene\": {\"xaxis\": {\"backgroundcolor\": \"#E5ECF6\", \"gridcolor\": \"white\", \"gridwidth\": 2, \"linecolor\": \"white\", \"showbackground\": true, \"ticks\": \"\", \"zerolinecolor\": \"white\"}, \"yaxis\": {\"backgroundcolor\": \"#E5ECF6\", \"gridcolor\": \"white\", \"gridwidth\": 2, \"linecolor\": \"white\", \"showbackground\": true, \"ticks\": \"\", \"zerolinecolor\": \"white\"}, \"zaxis\": {\"backgroundcolor\": \"#E5ECF6\", \"gridcolor\": \"white\", \"gridwidth\": 2, \"linecolor\": \"white\", \"showbackground\": true, \"ticks\": \"\", \"zerolinecolor\": \"white\"}}, \"shapedefaults\": {\"line\": {\"color\": \"#2a3f5f\"}}, \"ternary\": {\"aaxis\": {\"gridcolor\": \"white\", \"linecolor\": \"white\", \"ticks\": \"\"}, \"baxis\": {\"gridcolor\": \"white\", \"linecolor\": \"white\", \"ticks\": \"\"}, \"bgcolor\": \"#E5ECF6\", \"caxis\": {\"gridcolor\": \"white\", \"linecolor\": \"white\", \"ticks\": \"\"}}, \"title\": {\"x\": 0.05}, \"xaxis\": {\"automargin\": true, \"gridcolor\": \"white\", \"linecolor\": \"white\", \"ticks\": \"\", \"title\": {\"standoff\": 15}, \"zerolinecolor\": \"white\", \"zerolinewidth\": 2}, \"yaxis\": {\"automargin\": true, \"gridcolor\": \"white\", \"linecolor\": \"white\", \"ticks\": \"\", \"title\": {\"standoff\": 15}, \"zerolinecolor\": \"white\", \"zerolinewidth\": 2}}}},                        {\"responsive\": true}                    ).then(function(){\n",
       "                            \n",
       "var gd = document.getElementById('0594d4de-6316-4556-8d5d-1f5f2b72e433');\n",
       "var x = new MutationObserver(function (mutations, observer) {{\n",
       "        var display = window.getComputedStyle(gd).display;\n",
       "        if (!display || display === 'none') {{\n",
       "            console.log([gd, 'removed!']);\n",
       "            Plotly.purge(gd);\n",
       "            observer.disconnect();\n",
       "        }}\n",
       "}});\n",
       "\n",
       "// Listen for the removal of the full notebook cells\n",
       "var notebookContainer = gd.closest('#notebook-container');\n",
       "if (notebookContainer) {{\n",
       "    x.observe(notebookContainer, {childList: true});\n",
       "}}\n",
       "\n",
       "// Listen for the clearing of the current output cell\n",
       "var outputEl = gd.closest('.output');\n",
       "if (outputEl) {{\n",
       "    x.observe(outputEl, {childList: true});\n",
       "}}\n",
       "\n",
       "                        })                };                });            </script>        </div>"
      ]
     },
     "metadata": {},
     "output_type": "display_data"
    }
   ],
   "source": [
    "fig.show()"
   ]
  },
  {
   "cell_type": "code",
   "execution_count": null,
   "metadata": {},
   "outputs": [],
   "source": []
  }
 ],
 "metadata": {
  "environment": {
   "name": "common-cpu.m54",
   "type": "gcloud",
   "uri": "gcr.io/deeplearning-platform-release/base-cpu:m54"
  },
  "kernelspec": {
   "display_name": "Python 3",
   "language": "python",
   "name": "python3"
  },
  "language_info": {
   "codemirror_mode": {
    "name": "ipython",
    "version": 3
   },
   "file_extension": ".py",
   "mimetype": "text/x-python",
   "name": "python",
   "nbconvert_exporter": "python",
   "pygments_lexer": "ipython3",
   "version": "3.7.8"
  }
 },
 "nbformat": 4,
 "nbformat_minor": 4
}
